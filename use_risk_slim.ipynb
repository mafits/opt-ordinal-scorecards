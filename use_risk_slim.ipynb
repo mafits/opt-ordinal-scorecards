{
 "cells": [
  {
   "cell_type": "code",
   "execution_count": 1,
   "id": "0040f891",
   "metadata": {},
   "outputs": [],
   "source": [
    "import pandas as pd\n",
    "from scorecard import Scorecard"
   ]
  },
  {
   "cell_type": "markdown",
   "id": "7a038ade",
   "metadata": {},
   "source": [
    "### aesthetic evaluation data (complete)"
   ]
  },
  {
   "cell_type": "code",
   "execution_count": 2,
   "id": "a0d93169",
   "metadata": {},
   "outputs": [],
   "source": [
    "# load data\n",
    "aesthetic_evaluation_data = pd.read_csv('datasets/aesthetic_evaluation_data.csv')\n",
    "\n",
    "aesthetic_evaluation_data = aesthetic_evaluation_data.drop(columns=['Image Filename','Author','Objective Evaluation', 'sX2L Value','sX2a Value','sX2b Value','sX2Lab Value','sEMDL Value','sEMDa Value','sEMDb Value','sEMDLab Value'])\n",
    "aesthetic_evaluation_X = aesthetic_evaluation_data.drop(columns='Subjective Evaluation')\n",
    "aesthetic_evaluation_y = aesthetic_evaluation_data['Subjective Evaluation']\n"
   ]
  },
  {
   "cell_type": "code",
   "execution_count": 3,
   "id": "9ebc8029",
   "metadata": {},
   "outputs": [
    {
     "name": "stdout",
     "output_type": "stream",
     "text": [
      "Number of observations: 1358\n",
      "Excellent: 308 (22.68%)\n",
      "Fair: 353 (25.99%)\n",
      "Good: 595 (43.81%)\n",
      "Poor: 102 (7.51%)\n"
     ]
    }
   ],
   "source": [
    "# number of observations\n",
    "num_observations = aesthetic_evaluation_data.shape[0]\n",
    "print(f'Number of observations: {num_observations}')  \n",
    "\n",
    "# distribution of target classes\n",
    "# distribution of target classes\n",
    "target_counts = aesthetic_evaluation_y.value_counts().sort_index()\n",
    "target_proportion = aesthetic_evaluation_y.value_counts(normalize=True).sort_index()\n",
    "for cls in target_counts.index:\n",
    "    count = target_counts[cls]\n",
    "    prop = target_proportion[cls] * 100\n",
    "    print(f\"{cls}: {count} ({prop:.2f}%)\")"
   ]
  },
  {
   "cell_type": "code",
   "execution_count": 4,
   "id": "838bd006",
   "metadata": {},
   "outputs": [
    {
     "name": "stdout",
     "output_type": "stream",
     "text": [
      "Categorical columns: []\n"
     ]
    }
   ],
   "source": [
    "# map target classes\n",
    "mapping = {1: 'Poor', 2: 'Fair', 3: 'Good', 4: 'Excellent'}\n",
    "\n",
    "# get categorical columns\n",
    "categorical_columns = aesthetic_evaluation_X.select_dtypes(include=['object']).columns.tolist()\n",
    "print(f'Categorical columns: {categorical_columns}')\n",
    "\n",
    "# encode categorical columns\n",
    "for col in categorical_columns:\n",
    "    aesthetic_evaluation_X[col] = aesthetic_evaluation_X[col].astype('category').cat.codes.astype('int')\n",
    "    print(f\"Column {col} encoded as: {aesthetic_evaluation_X[col].unique()}\")"
   ]
  },
  {
   "cell_type": "code",
   "execution_count": 5,
   "id": "45425239",
   "metadata": {},
   "outputs": [],
   "source": [
    "scorecard = Scorecard()\n",
    "data = scorecard.fit(aesthetic_evaluation_X, aesthetic_evaluation_y, categorical_columns,\n",
    "                thresholds_method='CAIM',\n",
    "                encoding_method='DIFF_CODING',\n",
    "                model_method='RiskSLIM',\n",
    "                params=None,\n",
    "                use_sbc=True,\n",
    "                K=4,\n",
    "                mapping=mapping,\n",
    "                file_name='aesthetic_caim_diffcod.csv'\n",
    "              )"
   ]
  },
  {
   "cell_type": "markdown",
   "id": "e1aa9c75",
   "metadata": {},
   "source": [
    "### aesthetic evaluation data (author: cmavioso)"
   ]
  },
  {
   "cell_type": "code",
   "execution_count": 6,
   "id": "fbc20e76",
   "metadata": {},
   "outputs": [
    {
     "name": "stdout",
     "output_type": "stream",
     "text": [
      "Unique authors: ['eduard.bonci' 'mariajoaocardoso' 'cmavioso']\n"
     ]
    }
   ],
   "source": [
    "aesthetic_evaluation_data = pd.read_csv('datasets/aesthetic_evaluation_data.csv')\n",
    "\n",
    "# get unique values for 'Author' column\n",
    "unique_authors = aesthetic_evaluation_data['Author'].unique()\n",
    "print(f'Unique authors: {unique_authors}')\n",
    "\n",
    "# get data from author = cmavioso\n",
    "aesthetic_evaluation_data_cmavioso = aesthetic_evaluation_data[aesthetic_evaluation_data['Author'] == 'cmavioso']\n",
    "aesthetic_evaluation_data_cmavioso_objective = aesthetic_evaluation_data_cmavioso['Objective Evaluation']\n",
    "aesthetic_evaluation_data_cmavioso = aesthetic_evaluation_data_cmavioso.drop(columns=['Image Filename','Author','Objective Evaluation', 'sX2L Value','sX2a Value','sX2b Value','sX2Lab Value','sEMDL Value','sEMDa Value','sEMDb Value','sEMDLab Value'])\n",
    "aesthetic_evaluation_data_cmavioso_X = aesthetic_evaluation_data_cmavioso.drop(columns='Subjective Evaluation')\n",
    "aesthetic_evaluation_data_cmavioso_y = aesthetic_evaluation_data_cmavioso['Subjective Evaluation']"
   ]
  },
  {
   "cell_type": "code",
   "execution_count": 7,
   "id": "dc8ca38f",
   "metadata": {},
   "outputs": [
    {
     "name": "stdout",
     "output_type": "stream",
     "text": [
      "Number of observations: 237\n",
      "Excellent: 81 (34.18%)\n",
      "Fair: 36 (15.19%)\n",
      "Good: 108 (45.57%)\n",
      "Poor: 12 (5.06%)\n"
     ]
    }
   ],
   "source": [
    "# number of observations\n",
    "num_observations = aesthetic_evaluation_data_cmavioso.shape[0]\n",
    "print(f'Number of observations: {num_observations}')\n",
    "\n",
    "# distribution of target classes\n",
    "target_counts = aesthetic_evaluation_data_cmavioso_y.value_counts().sort_index()\n",
    "target_proportion = aesthetic_evaluation_data_cmavioso_y.value_counts(normalize=True).sort_index()\n",
    "for cls in target_counts.index:\n",
    "    count = target_counts[cls]\n",
    "    prop = target_proportion[cls] * 100\n",
    "    print(f\"{cls}: {count} ({prop:.2f}%)\")"
   ]
  },
  {
   "cell_type": "code",
   "execution_count": 8,
   "id": "36c8fc72",
   "metadata": {},
   "outputs": [
    {
     "name": "stdout",
     "output_type": "stream",
     "text": [
      "Categorical columns: []\n"
     ]
    }
   ],
   "source": [
    "# map target classes\n",
    "mapping = {1: 'Poor', 2: 'Fair', 3: 'Good', 4: 'Excellent'}\n",
    "\n",
    "# number of target classes\n",
    "K = 4\n",
    "\n",
    "# get categorical columns\n",
    "categorical_columns = aesthetic_evaluation_data_cmavioso_X.select_dtypes(include=['object']).columns.tolist()\n",
    "print(f'Categorical columns: {categorical_columns}')\n",
    "\n",
    "# encode categorical columns\n",
    "for col in categorical_columns:\n",
    "    aesthetic_evaluation_data_cmavioso_X[col] = aesthetic_evaluation_data_cmavioso_X[col].astype('category').cat.codes.astype('int')\n",
    "    print(f\"Column {col} encoded as: {aesthetic_evaluation_data_cmavioso_X[col].unique()}\")"
   ]
  },
  {
   "cell_type": "code",
   "execution_count": 9,
   "id": "761ae893",
   "metadata": {},
   "outputs": [],
   "source": [
    "scorecard = Scorecard()\n",
    "data = scorecard.fit(aesthetic_evaluation_data_cmavioso_X, aesthetic_evaluation_data_cmavioso_y, categorical_columns,\n",
    "                    thresholds_method='CAIM',\n",
    "                    encoding_method='1_OUT_OF_K',\n",
    "                    model_method='RiskSLIM',\n",
    "                    params=None,\n",
    "                    use_sbc=True,\n",
    "                    K=K,\n",
    "                    mapping=mapping,\n",
    "                    file_name='aestheticcmavioso_caim_1ook.csv'\n",
    "                  )\n",
    "                    "
   ]
  },
  {
   "cell_type": "code",
   "execution_count": 10,
   "id": "9695cbc0",
   "metadata": {},
   "outputs": [],
   "source": [
    "# max_coefficient = 5 \n",
    "# max_L0_value = 6      -->   maximum model size\n",
    "\n",
    "'''\n",
    "+---------------------------------------------+-------------------+-----------+\n",
    "| Pr(Y = +1) = 1.0/(1.0 + exp(-(0 + score))   |                   |           |\n",
    "| =========================================== | ================= | ========= |\n",
    "| featpLBC Value-bin1                         |          4 points |   + ..... |\n",
    "| featUNR Value-bin2                          |          2 points |   + ..... |\n",
    "| featpLBC Value-bin2                         |          1 points |   + ..... |\n",
    "| featpBOD Value-bin3                         |         -3 points |   + ..... |\n",
    "| featpBCD Value-bin3                         |         -4 points |   + ..... |\n",
    "| featsbcol2-bin1                             |         -5 points |   + ..... |\n",
    "| =========================================== | ================= | ========= |\n",
    "| ADD POINTS FROM ROWS 1 to 6                 |             SCORE |   = ..... |\n",
    "+---------------------------------------------+-------------------+-----------+\n",
    "\n",
    "\n",
    " 'data_time': 0.018880605697631836,\n",
    " 'loss_value': 0.2988303722179304,\n",
    " 'nodes_processed': 14343,\n",
    " 'objective_value': 0.2988363722179304,\n",
    " 'optimality_gap': 0.028351716390566693,\n",
    " 'run_time': 30.00502920150757,\n",
    " 'solution': array([ 0.68304069,  0.        ,  0.        ,  0.        ,  0.        ,\n",
    "        0.        ,  0.        ,  0.        ,  0.        ,  0.        ,\n",
    "        0.        ,  0.        ,  2.36754109,  0.        ,  0.        ,\n",
    "        0.        ,  0.        ,  0.        ,  0.        ,  0.        ,\n",
    "        0.        ,  0.        ,  0.        ,  0.        ,  0.        ,\n",
    "        0.        ,  0.        ,  0.        ,  0.        ,  0.        ,\n",
    "        0.        ,  0.        ,  0.        ,  0.        ,  0.        ,\n",
    "        0.        ,  0.        ,  0.        ,  0.        ,  0.        ,\n",
    "        0.        ,  4.61457066,  1.9602908 ,  0.        ,  0.        ,\n",
    "        0.        ,  0.        ,  0.        ,  0.        ,  0.        ,\n",
    "        0.        ,  0.        ,  0.        ,  0.        ,  0.        ,\n",
    "        0.        ,  0.        ,  0.        , -4.62063371,  0.        ,\n",
    "        0.        ,  0.        ,  0.        ,  0.        ,  0.        ,\n",
    "        0.        ,  0.        ,  0.        , -3.64664994,  0.        ,\n",
    "        0.        ,  0.        ,  0.        ,  0.        ,  0.        ,\n",
    "        0.        ,  0.        ,  0.        ,  0.        ,  0.        ,\n",
    "        0.        ,  0.        ,  0.        ,  0.        ,  0.        ,\n",
    "        0.        ,  0.        ,  0.        ,  0.        ,  0.        ,\n",
    "        0.        ,  0.        ,  0.        ,  0.        ,  0.        ,\n",
    "        0.        ,  0.        ,  0.        ,  0.        ,  0.        ,\n",
    "        0.        ,  0.        ,  0.        ,  0.        ,  0.        ,\n",
    "        0.        ,  0.        ,  0.        ,  0.        ,  0.        ,\n",
    "        0.        ,  0.        , -5.        ])\n",
    "'''\n",
    "\n",
    "import numpy as np\n",
    "\n",
    "aesthetic_cmavioso_weights = {\n",
    "    'featpLBC Value-bin1': 4.61457066,\n",
    "    'featUNR Value-bin2': 1.9602908,\n",
    "    'featpLBC Value-bin2': 0.68304069,\n",
    "    'featpBOD Value-bin3': -4.62063371,\n",
    "    'featpBCD Value-bin3': -3.64664994,\n",
    "    'featsbcol2-bin1': -5.0\n",
    "}\n",
    "\n",
    "aesthetic_cmavioso_weights = (\n",
    "    pd.DataFrame(\n",
    "        list(aesthetic_cmavioso_weights.items()),\n",
    "        columns=['Feature', 'Weight']\n",
    "    )\n",
    ")\n",
    "\n",
    "def scorecard_table(X, weights, categorical, thresholds):\n",
    "    scorecard_rows = []\n",
    "    scorecard_table = pd.DataFrame(columns=['Feature', 'Bin', 'Points'])\n",
    "    \n",
    "    for col in X.columns:\n",
    "        # get the weights for the column\n",
    "        col_weights = weights[weights['Feature'].str.contains(col)]\n",
    "        print(col_weights)\n",
    "\n",
    "        \n",
    "        # get the bins for the column\n",
    "        bins = []\n",
    "        if col in categorical:\n",
    "            bins = thresholds[col]\n",
    "        else:\n",
    "            thresholds = thresholds[col]\n",
    "            num_bins = len(thresholds) + 1\n",
    "            for i in range(num_bins):\n",
    "                if i == 0:\n",
    "                    lower = -np.inf\n",
    "                    upper = thresholds[0]\n",
    "                elif i == num_bins - 1:\n",
    "                    lower = thresholds[-1]\n",
    "                    upper = np.inf\n",
    "                else:\n",
    "                    lower = thresholds[i - 1]\n",
    "                    upper = thresholds[i]\n",
    "                bins.append(f'bin{i+1}: {{{lower}, {upper}}}')\n",
    "                # take first bin\n",
    "            bins.remove(bins[0])\n",
    "        \n",
    "        # add rows to the scorecard - for each col name, for each bin\n",
    "        for i, bin in enumerate(bins):\n",
    "            points = col_weights['Weight'].iloc[i]\n",
    "            # get second part of bin name (e.g. bin1: {lower, upper} -> lower, upper)\n",
    "            bin_val = bin.split(': ')[1] if ': ' in bin else bin\n",
    "            bin_val = bin_val.replace('{', '[').replace('}', '[')\n",
    "            if points != 0.0:\n",
    "                scorecard_rows.append({'Feature': col, 'Bin': bin_val, 'Points': points})\n",
    "    \n",
    "    scorecard_table = pd.DataFrame(scorecard_rows, columns=['Feature', 'Bin', 'Points'])\n",
    "    print(scorecard_table)\n",
    "    return scorecard_table\n",
    "\n",
    "\n",
    "#scorecard_table = scorecard_table(aesthetic_evaluation_data_cmavioso_X, aesthetic_cmavioso_weights, categorical_columns, scorecard.thresholds())\n",
    "\n",
    "\n",
    "# given weights, do prediction in test set\n",
    "#test_X = scorecard.test_X\n",
    "#test_y = scorecard.test_y\n",
    "\n"
   ]
  },
  {
   "cell_type": "markdown",
   "id": "1e7be5b5",
   "metadata": {},
   "source": [
    "### aesthetic evaluation data (author: eduard.bonci)"
   ]
  },
  {
   "cell_type": "code",
   "execution_count": 11,
   "id": "f3b7d4f8",
   "metadata": {},
   "outputs": [
    {
     "name": "stdout",
     "output_type": "stream",
     "text": [
      "Unique authors: ['eduard.bonci' 'mariajoaocardoso' 'cmavioso']\n"
     ]
    }
   ],
   "source": [
    "aesthetic_evaluation_data = pd.read_csv('datasets/aesthetic_evaluation_data.csv')\n",
    "\n",
    "# get unique values for 'Author' column\n",
    "unique_authors = aesthetic_evaluation_data['Author'].unique()\n",
    "print(f'Unique authors: {unique_authors}')\n",
    "\n",
    "# get data from author = eduardbonci\n",
    "aesthetic_evaluation_data_eduardbonci = aesthetic_evaluation_data[aesthetic_evaluation_data['Author'] == 'eduard.bonci']\n",
    "aesthetic_evaluation_data_eduardbonci_objective = aesthetic_evaluation_data_eduardbonci['Objective Evaluation']\n",
    "aesthetic_evaluation_data_eduardbonci = aesthetic_evaluation_data_eduardbonci.drop(columns=['Image Filename','Author','Objective Evaluation', 'sX2L Value','sX2a Value','sX2b Value','sX2Lab Value','sEMDL Value','sEMDa Value','sEMDb Value','sEMDLab Value'])\n",
    "aesthetic_evaluation_data_eduardbonci_X = aesthetic_evaluation_data_eduardbonci.drop(columns='Subjective Evaluation')\n",
    "aesthetic_evaluation_data_eduardbonci_y = aesthetic_evaluation_data_eduardbonci['Subjective Evaluation']"
   ]
  },
  {
   "cell_type": "code",
   "execution_count": 12,
   "id": "92191198",
   "metadata": {},
   "outputs": [
    {
     "name": "stdout",
     "output_type": "stream",
     "text": [
      "Number of observations: 494\n",
      "Excellent: 106 (21.46%)\n",
      "Fair: 135 (27.33%)\n",
      "Good: 231 (46.76%)\n",
      "Poor: 22 (4.45%)\n"
     ]
    }
   ],
   "source": [
    "# number of observations\n",
    "num_observations = aesthetic_evaluation_data_eduardbonci_X.shape[0]\n",
    "print(f'Number of observations: {num_observations}')\n",
    "\n",
    "# distribution of target classes\n",
    "target_counts = aesthetic_evaluation_data_eduardbonci_y.value_counts().sort_index()\n",
    "target_proportion = aesthetic_evaluation_data_eduardbonci_y.value_counts(normalize=True).sort_index()\n",
    "for cls in target_counts.index:\n",
    "    count = target_counts[cls]\n",
    "    prop = target_proportion[cls] * 100\n",
    "    print(f\"{cls}: {count} ({prop:.2f}%)\")"
   ]
  },
  {
   "cell_type": "code",
   "execution_count": 13,
   "id": "11ba4320",
   "metadata": {},
   "outputs": [
    {
     "name": "stdout",
     "output_type": "stream",
     "text": [
      "Categorical columns: []\n"
     ]
    }
   ],
   "source": [
    "# map target classes\n",
    "mapping = {1: 'Poor', 2: 'Fair', 3: 'Good', 4: 'Excellent'}\n",
    "\n",
    "# number of target classes\n",
    "K = 4\n",
    "\n",
    "# get categorical columns\n",
    "categorical_columns = aesthetic_evaluation_data_eduardbonci_X.select_dtypes(include=['object']).columns.tolist()\n",
    "print(f'Categorical columns: {categorical_columns}')\n",
    "\n",
    "# encode categorical columns\n",
    "for col in categorical_columns:\n",
    "    aesthetic_evaluation_data_eduardbonci_X[col] = aesthetic_evaluation_data_eduardbonci_X[col].astype('category').cat.codes.astype('int')\n",
    "    print(f\"Column {col} encoded as: {aesthetic_evaluation_data_eduardbonci_X[col].unique()}\")"
   ]
  },
  {
   "cell_type": "code",
   "execution_count": 21,
   "id": "a9ba2be3",
   "metadata": {},
   "outputs": [],
   "source": [
    "scorecard = Scorecard()\n",
    "data = scorecard.fit(aesthetic_evaluation_data_eduardbonci_X, aesthetic_evaluation_data_eduardbonci_y, categorical_columns,\n",
    "                    thresholds_method='CAIM',\n",
    "                    encoding_method='1_OUT_OF_K',\n",
    "                    model_method='RiskSLIM',\n",
    "                    params=None,\n",
    "                    use_sbc=True,\n",
    "                    K=K,\n",
    "                    mapping=mapping,\n",
    "                    file_name='aestheticeduardbonci_caim_1ook.csv'\n",
    "                  )\n",
    "                    "
   ]
  },
  {
   "cell_type": "code",
   "execution_count": null,
   "id": "c327dd0e",
   "metadata": {},
   "outputs": [
    {
     "data": {
      "text/plain": [
       "' \\n\\n'"
      ]
     },
     "execution_count": 15,
     "metadata": {},
     "output_type": "execute_result"
    }
   ],
   "source": [
    "# max_coefficient = 3 \n",
    "# max_L0_value = 5      -->   maximum model size\n",
    "''' \n",
    "\n",
    "'''"
   ]
  },
  {
   "cell_type": "markdown",
   "id": "699e6748",
   "metadata": {},
   "source": [
    "### aesthetic evaluation data (author: mariajoaocardoso)"
   ]
  },
  {
   "cell_type": "code",
   "execution_count": 16,
   "id": "d2144217",
   "metadata": {},
   "outputs": [
    {
     "name": "stdout",
     "output_type": "stream",
     "text": [
      "Unique authors: ['eduard.bonci' 'mariajoaocardoso' 'cmavioso']\n"
     ]
    }
   ],
   "source": [
    "aesthetic_evaluation_data = pd.read_csv('datasets/aesthetic_evaluation_data.csv')\n",
    "\n",
    "# get unique values for 'Author' column\n",
    "unique_authors = aesthetic_evaluation_data['Author'].unique()\n",
    "print(f'Unique authors: {unique_authors}')\n",
    "\n",
    "# get data from author = mariajoaocardoso\n",
    "aesthetic_evaluation_data_mariajoaocardoso = aesthetic_evaluation_data[aesthetic_evaluation_data['Author'] == 'mariajoaocardoso']\n",
    "aesthetic_evaluation_data_mariajoaocardoso_objective = aesthetic_evaluation_data_mariajoaocardoso['Objective Evaluation']\n",
    "aesthetic_evaluation_data_mariajoaocardoso = aesthetic_evaluation_data_mariajoaocardoso.drop(columns=['Image Filename','Author','Objective Evaluation', 'sX2L Value','sX2a Value','sX2b Value','sX2Lab Value','sEMDL Value','sEMDa Value','sEMDb Value','sEMDLab Value'])\n",
    "aesthetic_evaluation_data_mariajoaocardoso_X = aesthetic_evaluation_data_mariajoaocardoso.drop(columns='Subjective Evaluation')\n",
    "aesthetic_evaluation_data_mariajoaocardoso_y = aesthetic_evaluation_data_mariajoaocardoso['Subjective Evaluation']"
   ]
  },
  {
   "cell_type": "code",
   "execution_count": 17,
   "id": "bd699d8f",
   "metadata": {},
   "outputs": [
    {
     "name": "stdout",
     "output_type": "stream",
     "text": [
      "Number of observations: 627\n",
      "Excellent: 121 (19.30%)\n",
      "Fair: 182 (29.03%)\n",
      "Good: 256 (40.83%)\n",
      "Poor: 68 (10.85%)\n"
     ]
    }
   ],
   "source": [
    "# number of observations\n",
    "num_observations = aesthetic_evaluation_data_mariajoaocardoso_X.shape[0]\n",
    "print(f'Number of observations: {num_observations}')\n",
    "\n",
    "# distribution of target classes\n",
    "target_counts = aesthetic_evaluation_data_mariajoaocardoso_y.value_counts().sort_index()\n",
    "target_proportion = aesthetic_evaluation_data_mariajoaocardoso_y.value_counts(normalize=True).sort_index()\n",
    "for cls in target_counts.index:\n",
    "    count = target_counts[cls]\n",
    "    prop = target_proportion[cls] * 100\n",
    "    print(f\"{cls}: {count} ({prop:.2f}%)\")"
   ]
  },
  {
   "cell_type": "code",
   "execution_count": 18,
   "id": "da21bad8",
   "metadata": {},
   "outputs": [
    {
     "name": "stdout",
     "output_type": "stream",
     "text": [
      "Categorical columns: []\n"
     ]
    }
   ],
   "source": [
    "# map target classes\n",
    "mapping = {1: 'Poor', 2: 'Fair', 3: 'Good', 4: 'Excellent'}\n",
    "\n",
    "# number of target classes\n",
    "K = 4\n",
    "\n",
    "# get categorical columns\n",
    "categorical_columns = aesthetic_evaluation_data_mariajoaocardoso_X.select_dtypes(include=['object']).columns.tolist()\n",
    "print(f'Categorical columns: {categorical_columns}')\n",
    "\n",
    "# encode categorical columns\n",
    "for col in categorical_columns:\n",
    "    aesthetic_evaluation_data_mariajoaocardoso_X[col] = aesthetic_evaluation_data_mariajoaocardoso_X[col].astype('category').cat.codes.astype('int')\n",
    "    print(f\"Column {col} encoded as: {aesthetic_evaluation_data_mariajoaocardoso_X[col].unique()}\")"
   ]
  },
  {
   "cell_type": "code",
   "execution_count": 19,
   "id": "7d1e4ab7",
   "metadata": {},
   "outputs": [],
   "source": [
    "scorecard = Scorecard()\n",
    "data = scorecard.fit(aesthetic_evaluation_data_mariajoaocardoso_X, aesthetic_evaluation_data_mariajoaocardoso_y, categorical_columns,\n",
    "                    thresholds_method='CAIM',\n",
    "                    encoding_method='1_OUT_OF_K',\n",
    "                    model_method='RiskSLIM',\n",
    "                    params=None,\n",
    "                    use_sbc=True,\n",
    "                    K=K,\n",
    "                    mapping=mapping,\n",
    "                    file_name='aestheticmariajoaocardoso_caim_1ook.csv'\n",
    "                  )\n",
    "                    "
   ]
  },
  {
   "cell_type": "code",
   "execution_count": 20,
   "id": "0f75529b",
   "metadata": {},
   "outputs": [
    {
     "data": {
      "text/plain": [
       "\" \\n+---------------------------------------------+-------------------+-----------+\\n| Pr(Y = +1) = 1.0/(1.0 + exp(-(0 + score))   |                   |           |\\n| =========================================== | ================= | ========= |\\n| featBCE Value-bin1                          |          3 points |   + ..... |\\n| featsbcol1-bin1                             |         -3 points |   + ..... |\\n| featpLBC Value-bin3                         |         -3 points |   + ..... |\\n| featpLBC Value-bin4                         |         -5 points |   + ..... |\\n| featsbcol2-bin1                             |         -5 points |   + ..... |\\n| =========================================== | ================= | ========= |\\n| ADD POINTS FROM ROWS 1 to 5                 |             SCORE |   = ..... |\\n+---------------------------------------------+-------------------+-----------+\\n\\n\\n'data_time': 0.011617183685302734,\\n'loss_value': 0.3881262201606254,\\n'nodes_processed': 3665,\\n'objective_value': 0.3881312201606254,\\n'optimality_gap': 9.314447838339656e-05,\\n'run_time': 8.304474115371704,\\n'solution': array([ 0.99422553,  0.        ,  0.        ,  0.        ,  0.        ,\\n    0.        ,  0.        ,  0.        ,  0.        ,  0.        ,\\n    0.        ,  0.        ,  0.        ,  0.        ,  0.        ,\\n    0.        ,  3.70749204,  0.        ,  0.        ,  0.        ,\\n    0.        ,  0.        ,  0.        ,  0.        ,  0.        ,\\n    0.        ,  0.        ,  0.        ,  0.        ,  0.        ,\\n    0.        ,  0.        ,  0.        ,  0.        ,  0.        ,\\n    0.        ,  0.        ,  0.        ,  0.        ,  0.        ,\\n    0.        ,  0.        ,  0.        , -3.32314661, -5.        ,\\n    0.        ,  0.        ,  0.        ,  0.        ,  0.        ,\\n    0.        ,  0.        ,  0.        ,  0.        ,  0.        ,\\n    0.        ,  0.        ,  0.        ,  0.        ,  0.        ,\\n    0.        ,  0.        ,  0.        ,  0.        ,  0.        ,\\n    0.        ,  0.        ,  0.        ,  0.        ,  0.        ,\\n    0.        ,  0.        ,  0.        ,  0.        ,  0.        ,\\n    0.        ,  0.        ,  0.        ,  0.        ,  0.        ,\\n    0.        ,  0.        ,  0.        ,  0.        ,  0.        ,\\n    0.        ,  0.        ,  0.        ,  0.        ,  0.        ,\\n    0.        ,  0.        ,  0.        ,  0.        ,  0.        ,\\n    0.        ,  0.        ,  0.        ,  0.        ,  0.        ,\\n    0.        ,  0.        ,  0.        ,  0.        ,  0.        ,\\n    0.        ,  0.        ,  0.        ,  0.        ,  0.        ,\\n    0.        , -3.05999037, -5.        ]),\\n\""
      ]
     },
     "execution_count": 20,
     "metadata": {},
     "output_type": "execute_result"
    }
   ],
   "source": [
    "# max_coefficient = 5 \n",
    "# max_L0_value = 5      -->   maximum model size\n",
    "''' \n",
    "+---------------------------------------------+-------------------+-----------+\n",
    "| Pr(Y = +1) = 1.0/(1.0 + exp(-(0 + score))   |                   |           |\n",
    "| =========================================== | ================= | ========= |\n",
    "| featBCE Value-bin1                          |          3 points |   + ..... |\n",
    "| featsbcol1-bin1                             |         -3 points |   + ..... |\n",
    "| featpLBC Value-bin3                         |         -3 points |   + ..... |\n",
    "| featpLBC Value-bin4                         |         -5 points |   + ..... |\n",
    "| featsbcol2-bin1                             |         -5 points |   + ..... |\n",
    "| =========================================== | ================= | ========= |\n",
    "| ADD POINTS FROM ROWS 1 to 5                 |             SCORE |   = ..... |\n",
    "+---------------------------------------------+-------------------+-----------+\n",
    "\n",
    "\n",
    "'data_time': 0.011617183685302734,\n",
    "'loss_value': 0.3881262201606254,\n",
    "'nodes_processed': 3665,\n",
    "'objective_value': 0.3881312201606254,\n",
    "'optimality_gap': 9.314447838339656e-05,\n",
    "'run_time': 8.304474115371704,\n",
    "'solution': array([ 0.99422553,  0.        ,  0.        ,  0.        ,  0.        ,\n",
    "    0.        ,  0.        ,  0.        ,  0.        ,  0.        ,\n",
    "    0.        ,  0.        ,  0.        ,  0.        ,  0.        ,\n",
    "    0.        ,  3.70749204,  0.        ,  0.        ,  0.        ,\n",
    "    0.        ,  0.        ,  0.        ,  0.        ,  0.        ,\n",
    "    0.        ,  0.        ,  0.        ,  0.        ,  0.        ,\n",
    "    0.        ,  0.        ,  0.        ,  0.        ,  0.        ,\n",
    "    0.        ,  0.        ,  0.        ,  0.        ,  0.        ,\n",
    "    0.        ,  0.        ,  0.        , -3.32314661, -5.        ,\n",
    "    0.        ,  0.        ,  0.        ,  0.        ,  0.        ,\n",
    "    0.        ,  0.        ,  0.        ,  0.        ,  0.        ,\n",
    "    0.        ,  0.        ,  0.        ,  0.        ,  0.        ,\n",
    "    0.        ,  0.        ,  0.        ,  0.        ,  0.        ,\n",
    "    0.        ,  0.        ,  0.        ,  0.        ,  0.        ,\n",
    "    0.        ,  0.        ,  0.        ,  0.        ,  0.        ,\n",
    "    0.        ,  0.        ,  0.        ,  0.        ,  0.        ,\n",
    "    0.        ,  0.        ,  0.        ,  0.        ,  0.        ,\n",
    "    0.        ,  0.        ,  0.        ,  0.        ,  0.        ,\n",
    "    0.        ,  0.        ,  0.        ,  0.        ,  0.        ,\n",
    "    0.        ,  0.        ,  0.        ,  0.        ,  0.        ,\n",
    "    0.        ,  0.        ,  0.        ,  0.        ,  0.        ,\n",
    "    0.        ,  0.        ,  0.        ,  0.        ,  0.        ,\n",
    "    0.        , -3.05999037, -5.        ]),\n",
    "'''"
   ]
  }
 ],
 "metadata": {
  "kernelspec": {
   "display_name": "Python 3",
   "language": "python",
   "name": "python3"
  },
  "language_info": {
   "codemirror_mode": {
    "name": "ipython",
    "version": 3
   },
   "file_extension": ".py",
   "mimetype": "text/x-python",
   "name": "python",
   "nbconvert_exporter": "python",
   "pygments_lexer": "ipython3",
   "version": "3.11.12"
  }
 },
 "nbformat": 4,
 "nbformat_minor": 5
}
