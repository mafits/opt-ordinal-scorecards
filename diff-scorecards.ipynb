{
 "cells": [
  {
   "cell_type": "markdown",
   "metadata": {},
   "source": [
    "### **Differential Scorecards**"
   ]
  },
  {
   "cell_type": "code",
   "execution_count": 56,
   "metadata": {},
   "outputs": [],
   "source": [
    "import numpy as np\n",
    "import pandas as pd\n",
    "import matplotlib.pyplot as plt\n",
    "\n",
    "# datasets\n",
    "from sklearn.datasets import load_iris\n",
    "from ucimlrepo import fetch_ucirepo \n",
    "from io import StringIO\n",
    "\n",
    "# discretization\n",
    "from libraries.caimcaim import CAIMD # https://github.com/airysen/caimcaim/blob/master/caimcaim/caimcaim.py\n",
    "\n",
    "# cv\n",
    "from sklearn.model_selection import KFold\n",
    "from sklearn.metrics import mean_squared_error\n",
    "\n",
    "# grid search\n",
    "from sklearn.model_selection import GridSearchCV\n",
    "\n",
    "# objective function\n",
    "from sklearn.linear_model import LinearRegression\n",
    "from sklearn.linear_model import LogisticRegression\n",
    "from sklearn.svm import SVC\n",
    "from libsvm.svmutil import *\n",
    "\n",
    "# regularization\n",
    "from sklearn.linear_model import Ridge\n",
    "from sklearn.linear_model import Lasso\n",
    "from sklearn.linear_model import ElasticNet"
   ]
  },
  {
   "cell_type": "markdown",
   "metadata": {},
   "source": [
    "##### datasets"
   ]
  },
  {
   "cell_type": "markdown",
   "metadata": {},
   "source": [
    "**iris**:"
   ]
  },
  {
   "cell_type": "code",
   "execution_count": 57,
   "metadata": {},
   "outputs": [
    {
     "name": "stdout",
     "output_type": "stream",
     "text": [
      "num observations:  0    150\n",
      "dtype: int64\n",
      "target distribution:  0\n",
      "0    50\n",
      "1    50\n",
      "2    50\n",
      "Name: count, dtype: int64\n"
     ]
    }
   ],
   "source": [
    "iris_data = load_iris()\n",
    "iris_X = pd.DataFrame(iris_data.data)\n",
    "iris_y = pd.DataFrame(iris_data.target)\n",
    "\n",
    "print(\"num observations: \", iris_y.count())\n",
    "print(\"target distribution: \", iris_y.value_counts())"
   ]
  },
  {
   "cell_type": "markdown",
   "metadata": {},
   "source": [
    "**adult**: predict whether annual income of an individual exceeds $50K/yr based on census data. "
   ]
  },
  {
   "cell_type": "code",
   "execution_count": 58,
   "metadata": {},
   "outputs": [
    {
     "name": "stdout",
     "output_type": "stream",
     "text": [
      "num observations:  income    32561\n",
      "dtype: int64\n",
      "target distribution:  income\n",
      "0.0       24720\n",
      "1.0        7841\n",
      "Name: count, dtype: int64\n"
     ]
    }
   ],
   "source": [
    "# fetch dataset \n",
    "adult_data = fetch_ucirepo(id=2) \n",
    "  \n",
    "# data (as pandas dataframes) \n",
    "adult_X = adult_data.data.features \n",
    "adult_y = adult_data.data.targets\n",
    "adult_y.loc[:,'income'] = adult_y['income'].map({'>50K': 1, '<=50K': 0})\n",
    "  \n",
    "# metadata \n",
    "# print(adult_data.metadata) \n",
    "  \n",
    "# variable information \n",
    "# print(adult_data.variables) \n",
    "\n",
    "print(\"num observations: \", adult_y.count())\n",
    "print(\"target distribution: \", adult_y.value_counts())"
   ]
  },
  {
   "cell_type": "markdown",
   "metadata": {},
   "source": [
    "**mammo**: discrimination of benign and malignant mammographic masses based on BI-RADS attributes and the patient's age."
   ]
  },
  {
   "cell_type": "code",
   "execution_count": 59,
   "metadata": {},
   "outputs": [
    {
     "name": "stdout",
     "output_type": "stream",
     "text": [
      "num rows with nulls:  162\n",
      "num observations:  830\n",
      "target distribution:  Severity\n",
      "0    427\n",
      "1    403\n",
      "Name: count, dtype: int64\n"
     ]
    }
   ],
   "source": [
    "# fetch dataset \n",
    "mammo_data = fetch_ucirepo(id=161) \n",
    "  \n",
    "# data (as pandas dataframes) \n",
    "mammo_X = mammo_data.data.features \n",
    "mammo_y = mammo_data.data.targets \n",
    "\n",
    "# drop rows with nulls\n",
    "mammo_combined = pd.concat([mammo_X, mammo_y], axis=1)\n",
    "print(\"num rows with nulls: \", mammo_combined.isnull().sum().sum())\n",
    "mammo_combined = mammo_combined.dropna()\n",
    "mammo_combined = mammo_combined.reset_index(drop=True)\n",
    "mammo_X = mammo_combined.iloc[:, :-1]\n",
    "mammo_y = mammo_combined.iloc[:, -1]\n",
    "\n",
    "\n",
    "# metadata \n",
    "# print(mammo_data.metadata) \n",
    "  \n",
    "# variable information \n",
    "# print(mammo_data.variables) \n",
    "\n",
    "print(\"num observations: \", mammo_y.count())\n",
    "print(\"target distribution: \", mammo_y.value_counts())"
   ]
  },
  {
   "cell_type": "markdown",
   "metadata": {},
   "source": [
    "**mushroom**: mushrooms described in terms of physical characteristics; classification: poisonous or edible"
   ]
  },
  {
   "cell_type": "code",
   "execution_count": 60,
   "metadata": {},
   "outputs": [
    {
     "name": "stdout",
     "output_type": "stream",
     "text": [
      "num observations:  poisonous    8124\n",
      "dtype: int64\n",
      "target distribution:  poisonous\n",
      "0            4208\n",
      "1            3916\n",
      "Name: count, dtype: int64\n"
     ]
    }
   ],
   "source": [
    "# fetch dataset \n",
    "mushroom_data = fetch_ucirepo(id=73) \n",
    "\n",
    "# data (as pandas dataframes) \n",
    "mushroom_X = mushroom_data.data.features \n",
    "mushroom_y = mushroom_data.data.targets \n",
    "mushroom_y.loc[:, 'poisonous'] = mushroom_y['poisonous'].map({'p': 1, 'e': 0})\n",
    "  \n",
    "# metadata \n",
    "# print(mushroom_data.metadata) \n",
    "  \n",
    "# variable information \n",
    "# print(mushroom_data.variables) \n",
    "\n",
    "print(\"num observations: \", mushroom_y.count())\n",
    "print(\"target distribution: \", mushroom_y.value_counts())"
   ]
  },
  {
   "cell_type": "markdown",
   "metadata": {},
   "source": [
    "**spambase**: classifying Email as Spam or Non-Spam"
   ]
  },
  {
   "cell_type": "code",
   "execution_count": 61,
   "metadata": {},
   "outputs": [
    {
     "name": "stdout",
     "output_type": "stream",
     "text": [
      "num observations:  Class    4601\n",
      "dtype: int64\n",
      "target distribution:  Class\n",
      "0        2788\n",
      "1        1813\n",
      "Name: count, dtype: int64\n"
     ]
    }
   ],
   "source": [
    "# fetch dataset \n",
    "spambase_data = fetch_ucirepo(id=94) \n",
    "  \n",
    "# data (as pandas dataframes) \n",
    "spambase_X = spambase_data.data.features \n",
    "spambase_y = spambase_data.data.targets \n",
    "  \n",
    "# metadata \n",
    "# print(spambase_data.metadata) \n",
    "  \n",
    "# variable information \n",
    "# print(spambase_data.variables) \n",
    "\n",
    "print(\"num observations: \", spambase_y.count())\n",
    "print(\"target distribution: \", spambase_y.value_counts())"
   ]
  },
  {
   "cell_type": "markdown",
   "metadata": {},
   "source": [
    "**telemarketing**: set of possible advertisements on Internet pages"
   ]
  },
  {
   "cell_type": "code",
   "execution_count": 62,
   "metadata": {},
   "outputs": [
    {
     "name": "stdout",
     "output_type": "stream",
     "text": [
      "num observations:  3278\n",
      "target distribution:  ad.\n",
      "0    2820\n",
      "1     458\n",
      "Name: count, dtype: int64\n"
     ]
    }
   ],
   "source": [
    "# load dataset from file. target is last column\n",
    "telemarketing_data = pd.read_csv('datasets/internet+advertisements/ad.data', dtype=str)\n",
    "telemarketing_X = telemarketing_data.iloc[:, :-1]\n",
    "telemarketing_y = telemarketing_data.iloc[:, -1]\n",
    "\n",
    "telemarketing_y = telemarketing_y.map({'nonad.': 0, 'ad.': 1})\n",
    "\n",
    "print(\"num observations: \", telemarketing_y.count())\n",
    "print(\"target distribution: \", telemarketing_y.value_counts())"
   ]
  },
  {
   "cell_type": "markdown",
   "metadata": {},
   "source": [
    "**sleep apnea**:"
   ]
  },
  {
   "cell_type": "code",
   "execution_count": 63,
   "metadata": {},
   "outputs": [],
   "source": [
    "sleep_apnea_data = pd.read_csv('datasets/bdsp_psg_master_20231101.csv')"
   ]
  },
  {
   "cell_type": "markdown",
   "metadata": {},
   "source": [
    "**appendicitis**: https://sci2s.ugr.es/keel/dataset.php?cod=183#sub2"
   ]
  },
  {
   "cell_type": "code",
   "execution_count": 64,
   "metadata": {},
   "outputs": [
    {
     "name": "stdout",
     "output_type": "stream",
     "text": [
      "num observations:  106\n",
      "target distribution:  Class\n",
      "0    85\n",
      "1    21\n",
      "Name: count, dtype: int64\n"
     ]
    }
   ],
   "source": [
    "with open('datasets/appendicitis.dat', \"r\") as file:\n",
    "    lines = file.readlines()\n",
    "\n",
    "data_start_ind = lines.index(\"@data\\n\") + 1\n",
    "app_data = lines[data_start_ind:]\n",
    "app_data = pd.read_csv(StringIO(\"\".join(app_data)), header=None)\n",
    "\n",
    "app_data.columns = [\"At1\", \"At2\", \"At3\", \"At4\", \"At5\", \"At6\", \"At7\", \"Class\"]\n",
    "\n",
    "app_X = app_data.iloc[:, :-1]\n",
    "app_y = app_data.iloc[:, -1]\n",
    "\n",
    "print(\"num observations: \", app_y.count())\n",
    "print(\"target distribution: \", app_y.value_counts())"
   ]
  },
  {
   "cell_type": "markdown",
   "metadata": {},
   "source": [
    "aesthetic evaluation"
   ]
  },
  {
   "cell_type": "code",
   "execution_count": 65,
   "metadata": {},
   "outputs": [
    {
     "data": {
      "text/html": [
       "<div>\n",
       "<style scoped>\n",
       "    .dataframe tbody tr th:only-of-type {\n",
       "        vertical-align: middle;\n",
       "    }\n",
       "\n",
       "    .dataframe tbody tr th {\n",
       "        vertical-align: top;\n",
       "    }\n",
       "\n",
       "    .dataframe thead th {\n",
       "        text-align: right;\n",
       "    }\n",
       "</style>\n",
       "<table border=\"1\" class=\"dataframe\">\n",
       "  <thead>\n",
       "    <tr style=\"text-align: right;\">\n",
       "      <th></th>\n",
       "      <th>Subjective Evaluation</th>\n",
       "      <th>BRA Value</th>\n",
       "      <th>LBC Value</th>\n",
       "      <th>UNR Value</th>\n",
       "      <th>BCE Value</th>\n",
       "      <th>BCD Value</th>\n",
       "      <th>BAD Value</th>\n",
       "      <th>BOD Value</th>\n",
       "      <th>pBRA Value</th>\n",
       "      <th>pLBC Value</th>\n",
       "      <th>...</th>\n",
       "      <th>cEMDb Value</th>\n",
       "      <th>cEMDLab Value</th>\n",
       "      <th>sX2L Value</th>\n",
       "      <th>sX2a Value</th>\n",
       "      <th>sX2b Value</th>\n",
       "      <th>sX2Lab Value</th>\n",
       "      <th>sEMDL Value</th>\n",
       "      <th>sEMDa Value</th>\n",
       "      <th>sEMDb Value</th>\n",
       "      <th>sEMDLab Value</th>\n",
       "    </tr>\n",
       "  </thead>\n",
       "  <tbody>\n",
       "    <tr>\n",
       "      <th>0</th>\n",
       "      <td>Good</td>\n",
       "      <td>1.149009</td>\n",
       "      <td>0.830915</td>\n",
       "      <td>0.107618</td>\n",
       "      <td>0.938534</td>\n",
       "      <td>1.934477</td>\n",
       "      <td>4.885198</td>\n",
       "      <td>17.296370</td>\n",
       "      <td>0.049401</td>\n",
       "      <td>0.033356</td>\n",
       "      <td>...</td>\n",
       "      <td>0.291363</td>\n",
       "      <td>0.210082</td>\n",
       "      <td>0.0</td>\n",
       "      <td>0.0</td>\n",
       "      <td>0.0</td>\n",
       "      <td>0.0</td>\n",
       "      <td>0.0</td>\n",
       "      <td>0.0</td>\n",
       "      <td>0.0</td>\n",
       "      <td>0.0</td>\n",
       "    </tr>\n",
       "    <tr>\n",
       "      <th>1</th>\n",
       "      <td>Good</td>\n",
       "      <td>2.368824</td>\n",
       "      <td>1.326447</td>\n",
       "      <td>1.599444</td>\n",
       "      <td>0.272997</td>\n",
       "      <td>0.035378</td>\n",
       "      <td>19.932998</td>\n",
       "      <td>68.761479</td>\n",
       "      <td>0.113919</td>\n",
       "      <td>0.058509</td>\n",
       "      <td>...</td>\n",
       "      <td>0.351693</td>\n",
       "      <td>0.105346</td>\n",
       "      <td>0.0</td>\n",
       "      <td>0.0</td>\n",
       "      <td>0.0</td>\n",
       "      <td>0.0</td>\n",
       "      <td>0.0</td>\n",
       "      <td>0.0</td>\n",
       "      <td>0.0</td>\n",
       "      <td>0.0</td>\n",
       "    </tr>\n",
       "    <tr>\n",
       "      <th>2</th>\n",
       "      <td>Good</td>\n",
       "      <td>1.409939</td>\n",
       "      <td>0.950935</td>\n",
       "      <td>0.278358</td>\n",
       "      <td>1.229293</td>\n",
       "      <td>2.221074</td>\n",
       "      <td>22.277770</td>\n",
       "      <td>38.323430</td>\n",
       "      <td>0.067231</td>\n",
       "      <td>0.038613</td>\n",
       "      <td>...</td>\n",
       "      <td>0.304185</td>\n",
       "      <td>0.049345</td>\n",
       "      <td>0.0</td>\n",
       "      <td>0.0</td>\n",
       "      <td>0.0</td>\n",
       "      <td>0.0</td>\n",
       "      <td>0.0</td>\n",
       "      <td>0.0</td>\n",
       "      <td>0.0</td>\n",
       "      <td>0.0</td>\n",
       "    </tr>\n",
       "    <tr>\n",
       "      <th>3</th>\n",
       "      <td>Good</td>\n",
       "      <td>2.059918</td>\n",
       "      <td>0.720926</td>\n",
       "      <td>1.786307</td>\n",
       "      <td>1.065381</td>\n",
       "      <td>1.995007</td>\n",
       "      <td>25.163410</td>\n",
       "      <td>31.631070</td>\n",
       "      <td>0.100705</td>\n",
       "      <td>0.032141</td>\n",
       "      <td>...</td>\n",
       "      <td>0.137693</td>\n",
       "      <td>0.031455</td>\n",
       "      <td>0.0</td>\n",
       "      <td>0.0</td>\n",
       "      <td>0.0</td>\n",
       "      <td>0.0</td>\n",
       "      <td>0.0</td>\n",
       "      <td>0.0</td>\n",
       "      <td>0.0</td>\n",
       "      <td>0.0</td>\n",
       "    </tr>\n",
       "    <tr>\n",
       "      <th>4</th>\n",
       "      <td>Good</td>\n",
       "      <td>2.452595</td>\n",
       "      <td>0.798596</td>\n",
       "      <td>1.868745</td>\n",
       "      <td>1.070148</td>\n",
       "      <td>1.218189</td>\n",
       "      <td>0.395585</td>\n",
       "      <td>31.426783</td>\n",
       "      <td>0.117249</td>\n",
       "      <td>0.035235</td>\n",
       "      <td>...</td>\n",
       "      <td>0.091768</td>\n",
       "      <td>0.030546</td>\n",
       "      <td>0.0</td>\n",
       "      <td>0.0</td>\n",
       "      <td>0.0</td>\n",
       "      <td>0.0</td>\n",
       "      <td>0.0</td>\n",
       "      <td>0.0</td>\n",
       "      <td>0.0</td>\n",
       "      <td>0.0</td>\n",
       "    </tr>\n",
       "  </tbody>\n",
       "</table>\n",
       "<p>5 rows × 31 columns</p>\n",
       "</div>"
      ],
      "text/plain": [
       "  Subjective Evaluation  BRA Value  LBC Value  UNR Value  BCE Value  \\\n",
       "0                  Good   1.149009   0.830915   0.107618   0.938534   \n",
       "1                  Good   2.368824   1.326447   1.599444   0.272997   \n",
       "2                  Good   1.409939   0.950935   0.278358   1.229293   \n",
       "3                  Good   2.059918   0.720926   1.786307   1.065381   \n",
       "4                  Good   2.452595   0.798596   1.868745   1.070148   \n",
       "\n",
       "   BCD Value  BAD Value  BOD Value  pBRA Value  pLBC Value  ...  cEMDb Value  \\\n",
       "0   1.934477   4.885198  17.296370    0.049401    0.033356  ...     0.291363   \n",
       "1   0.035378  19.932998  68.761479    0.113919    0.058509  ...     0.351693   \n",
       "2   2.221074  22.277770  38.323430    0.067231    0.038613  ...     0.304185   \n",
       "3   1.995007  25.163410  31.631070    0.100705    0.032141  ...     0.137693   \n",
       "4   1.218189   0.395585  31.426783    0.117249    0.035235  ...     0.091768   \n",
       "\n",
       "   cEMDLab Value  sX2L Value  sX2a Value  sX2b Value  sX2Lab Value  \\\n",
       "0       0.210082         0.0         0.0         0.0           0.0   \n",
       "1       0.105346         0.0         0.0         0.0           0.0   \n",
       "2       0.049345         0.0         0.0         0.0           0.0   \n",
       "3       0.031455         0.0         0.0         0.0           0.0   \n",
       "4       0.030546         0.0         0.0         0.0           0.0   \n",
       "\n",
       "   sEMDL Value  sEMDa Value  sEMDb Value  sEMDLab Value  \n",
       "0          0.0          0.0          0.0            0.0  \n",
       "1          0.0          0.0          0.0            0.0  \n",
       "2          0.0          0.0          0.0            0.0  \n",
       "3          0.0          0.0          0.0            0.0  \n",
       "4          0.0          0.0          0.0            0.0  \n",
       "\n",
       "[5 rows x 31 columns]"
      ]
     },
     "execution_count": 65,
     "metadata": {},
     "output_type": "execute_result"
    }
   ],
   "source": [
    "aesthetic_evaluation_data = pd.read_csv('datasets/aesthetic_evaluation_data.csv')\n",
    "aesthetic_evaluation_data = aesthetic_evaluation_data.drop(columns=['Image Filename','Author','Objective Evaluation'])\n",
    "aesthetic_evaluation_X = aesthetic_evaluation_data.drop(columns='Subjective Evaluation')\n",
    "aesthetic_evaluation_y = aesthetic_evaluation_data['Subjective Evaluation']\n",
    "\n",
    "aesthetic_evaluation_data.head()"
   ]
  },
  {
   "cell_type": "code",
   "execution_count": 66,
   "metadata": {},
   "outputs": [
    {
     "data": {
      "text/plain": [
       "sX2L Value       0.0\n",
       "sX2a Value       0.0\n",
       "sX2b Value       0.0\n",
       "sX2Lab Value     0.0\n",
       "sEMDL Value      0.0\n",
       "sEMDa Value      0.0\n",
       "sEMDb Value      0.0\n",
       "sEMDLab Value    0.0\n",
       "dtype: float64"
      ]
     },
     "execution_count": 66,
     "metadata": {},
     "output_type": "execute_result"
    }
   ],
   "source": [
    "a = aesthetic_evaluation_data[['sX2L Value','sX2a Value','sX2b Value','sX2Lab Value','sEMDL Value','sEMDa Value','sEMDb Value','sEMDLab Value']]\n",
    "a.sum()"
   ]
  },
  {
   "cell_type": "code",
   "execution_count": 67,
   "metadata": {},
   "outputs": [
    {
     "data": {
      "text/plain": [
       "Subjective Evaluation\n",
       "Good         595\n",
       "Fair         353\n",
       "Excellent    308\n",
       "Poor         102\n",
       "Name: count, dtype: int64"
      ]
     },
     "execution_count": 67,
     "metadata": {},
     "output_type": "execute_result"
    }
   ],
   "source": [
    "aesthetic_evaluation_y.value_counts()"
   ]
  },
  {
   "cell_type": "code",
   "execution_count": 68,
   "metadata": {},
   "outputs": [
    {
     "data": {
      "text/plain": [
       "Text(0.5, 1.0, 'Distribution of Subjective Evaluation')"
      ]
     },
     "execution_count": 68,
     "metadata": {},
     "output_type": "execute_result"
    },
    {
     "data": {
      "image/png": "[encoded data removed]",
      "text/plain": [
       "<Figure size 640x480 with 1 Axes>"
      ]
     },
     "metadata": {},
     "output_type": "display_data"
    }
   ],
   "source": [
    "aesthetic_evaluation_y.hist()\n",
    "plt.xlabel('Subjective Evaluation')\n",
    "plt.ylabel('Frequency')\n",
    "plt.title('Distribution of Subjective Evaluation')"
   ]
  },
  {
   "cell_type": "code",
   "execution_count": 69,
   "metadata": {},
   "outputs": [
    {
     "data": {
      "text/plain": [
       "Subjective Evaluation\n",
       "1    903\n",
       "0    455\n",
       "Name: count, dtype: int64"
      ]
     },
     "execution_count": 69,
     "metadata": {},
     "output_type": "execute_result"
    }
   ],
   "source": [
    "# create binary target from aesthetic evaluation, by joining good and excellent, and fair and poor\n",
    "aesthetic_evaluation_binary_y = aesthetic_evaluation_y.map({'Excellent': 1, 'Good': 1, 'Fair': 0, 'Poor': 0})\n",
    "\n",
    "# distribution\n",
    "aesthetic_evaluation_binary_y.value_counts()"
   ]
  },
  {
   "cell_type": "markdown",
   "metadata": {},
   "source": [
    "#### discretization thresholds"
   ]
  },
  {
   "cell_type": "markdown",
   "metadata": {},
   "source": [
    "CAIM"
   ]
  },
  {
   "cell_type": "code",
   "execution_count": 70,
   "metadata": {},
   "outputs": [],
   "source": [
    "# discretize using CAIM\n",
    "def discretize_caim_df(data, X, y):\n",
    "    caim = CAIMD()\n",
    "    X_disc_caim = caim.fit_transform(X, y) # fit() and transform()\n",
    "    \n",
    "    print(\"\\nCut-off points: \", caim.split_scheme)\n",
    "    print(\"Number of bins: \", end=\"\")\n",
    "    for i, (key, value) in enumerate(caim.split_scheme.items()):\n",
    "        if i == len(caim.split_scheme) - 1:\n",
    "            print(f\" {key}: {len(value)+1}\", end=\"\")\n",
    "        else:\n",
    "            print(f\" {key}: {len(value)+1}\", end=\",\")\n",
    "    print()\n",
    "    \n",
    "    X_disc_caim = pd.DataFrame(X_disc_caim, columns=X.columns).astype(int) # convert to pandas dataframe and int\n",
    "        \n",
    "    return X_disc_caim\n",
    "\n",
    "''' \n",
    "prints of fit() method: Categorical list_of_(indicies)_categorical_features\n",
    "    # feature_index  GLOBAL CAIM  best_caim_value \n",
    "in the returning dataframe:\\\n",
    "    - columns represent the original features\n",
    "    - rows represent each instance\n",
    "    - values are the bin number each instance belongs to (starting from 0)\n",
    "'''\n",
    "\n",
    "def discretize_caim(X, cols, y):\n",
    "    caim = CAIMD()\n",
    "    X_disc_caim = caim.fit_transform(X, y) # fit() and transform()\n",
    "    # get thresholds from caim.split_scheme (dict with column index : thresholds)\n",
    "    # transform all values to floats\n",
    "    # and keys with column indexes to column names\n",
    "    thresholds = {cols[i]: [float(val) for val in value] for i, (key, value) in enumerate(caim.split_scheme.items())}\n",
    "    return thresholds\n"
   ]
  },
  {
   "cell_type": "code",
   "execution_count": 71,
   "metadata": {},
   "outputs": [
    {
     "name": "stdout",
     "output_type": "stream",
     "text": [
      "Categorical []\n",
      "# 0  GLOBAL CAIM  41.18488372093023\n",
      "# 1  GLOBAL CAIM  39.99669148056245\n",
      "# 2  GLOBAL CAIM  41.745054945054946\n",
      "# 3  GLOBAL CAIM  35.090659340659336\n",
      "# 4  GLOBAL CAIM  37.25892316999395\n",
      "# 5  GLOBAL CAIM  38.4981684981685\n",
      "# 6  GLOBAL CAIM  41.83013879709187\n",
      "\n",
      "thresholds  {'At1': [0.0, 0.213, 2.0], 'At2': [0.0, 0.411, 2.0], 'At3': [0.0, 0.153, 2.0], 'At4': [0.0, 0.056, 2.0], 'At5': [0.0, 0.029, 2.0], 'At6': [0.0, 0.421, 2.0], 'At7': [0.0, 0.145, 2.0]}\n",
      "num of bins: \n",
      "  At1: 4\n",
      "  At2: 4\n",
      "  At3: 4\n",
      "  At4: 4\n",
      "  At5: 4\n",
      "  At6: 4\n",
      "  At7: 4\n"
     ]
    }
   ],
   "source": [
    "app_thresholds_caim = discretize_caim(app_X, app_X.columns, app_y)\n",
    "print(\"\\nthresholds \", app_thresholds_caim)\n",
    "\n",
    "print(\"num of bins: \")\n",
    "for i, (key, value) in enumerate(app_thresholds_caim.items()):\n",
    "        print(f\"  {key}: {len(value)+1}\")"
   ]
  },
  {
   "cell_type": "markdown",
   "metadata": {},
   "source": [
    "infinitesimal bins"
   ]
  },
  {
   "cell_type": "code",
   "execution_count": 72,
   "metadata": {},
   "outputs": [],
   "source": [
    "# discretize using infinitesimal bins:\n",
    "# thresholds are the points in between 2 consecutive values in the sorted list\n",
    "\n",
    "def discretize_infbins(X, cols):\n",
    "    infbins_thresholds = {}\n",
    "    for col in cols:\n",
    "        # sort unique values\n",
    "        sorted_col = np.unique(X[col])\n",
    "        # get thresholds\n",
    "        thresholds = (sorted_col[:-1] + sorted_col[1:]) / 2\n",
    "        infbins_thresholds[col] = thresholds.tolist()\n",
    "\n",
    "    return infbins_thresholds"
   ]
  },
  {
   "cell_type": "code",
   "execution_count": 73,
   "metadata": {},
   "outputs": [
    {
     "name": "stdout",
     "output_type": "stream",
     "text": [
      "thresholds  {'At1': [0.0135, 0.0425, 0.06, 0.0665, 0.07999999999999999, 0.0935, 0.1, 0.109, 0.118, 0.131, 0.16449999999999998, 0.189, 0.1955, 0.202, 0.2085, 0.2155, 0.22, 0.2265, 0.23349999999999999, 0.2535, 0.27749999999999997, 0.291, 0.3, 0.311, 0.3245, 0.33999999999999997, 0.3555, 0.362, 0.3665, 0.371, 0.3755, 0.3845, 0.3935, 0.398, 0.40449999999999997, 0.411, 0.4155, 0.42, 0.4245, 0.429, 0.4355, 0.4445, 0.451, 0.4555, 0.46, 0.4645, 0.469, 0.4755, 0.4845, 0.491, 0.4975, 0.5045, 0.509, 0.5135000000000001, 0.518, 0.522, 0.531, 0.547, 0.5645, 0.58, 0.589, 0.602, 0.6174999999999999, 0.6245, 0.6445000000000001, 0.671, 0.682, 0.7175, 0.7575000000000001, 0.771, 0.787, 0.8400000000000001, 0.942], 'At2': [0.0805, 0.16999999999999998, 0.1875, 0.20500000000000002, 0.223, 0.241, 0.259, 0.2945, 0.33899999999999997, 0.366, 0.393, 0.42, 0.4465, 0.473, 0.491, 0.509, 0.536, 0.5625, 0.58, 0.598, 0.616, 0.634, 0.652, 0.67, 0.6965, 0.723, 0.741, 0.759, 0.777, 0.795, 0.8125, 0.83, 0.848, 0.866, 0.884, 0.902, 0.92, 0.9375, 0.955, 0.982], 'At3': [0.011, 0.0335, 0.0475, 0.053500000000000006, 0.0665, 0.08149999999999999, 0.096, 0.107, 0.11, 0.1125, 0.1185, 0.1275, 0.14250000000000002, 0.1535, 0.1555, 0.16449999999999998, 0.1775, 0.195, 0.2105, 0.218, 0.23149999999999998, 0.2495, 0.2585, 0.2675, 0.278, 0.2845, 0.2895, 0.2985, 0.3145, 0.325, 0.331, 0.336, 0.3435, 0.3505, 0.356, 0.3625, 0.368, 0.382, 0.3975, 0.403, 0.405, 0.40700000000000003, 0.4115, 0.4195, 0.426, 0.431, 0.4355, 0.4425, 0.452, 0.461, 0.4665, 0.4675, 0.46950000000000003, 0.472, 0.4735, 0.477, 0.481, 0.4835, 0.4855, 0.488, 0.4905, 0.4995, 0.5085, 0.514, 0.521, 0.527, 0.536, 0.5425, 0.545, 0.5465, 0.5475000000000001, 0.5485, 0.55, 0.5535000000000001, 0.56, 0.5665, 0.5714999999999999, 0.582, 0.5985, 0.613, 0.6245, 0.6325000000000001, 0.6375, 0.647, 0.658, 0.666, 0.6905, 0.713, 0.742, 0.779, 0.793, 0.8075, 0.8725, 0.9635], 'At4': [0.007, 0.021, 0.035, 0.049, 0.0625, 0.07600000000000001, 0.09, 0.10400000000000001, 0.118, 0.132, 0.14600000000000002, 0.16, 0.174, 0.1875, 0.201, 0.22199999999999998, 0.243, 0.257, 0.271, 0.28500000000000003, 0.299, 0.3125, 0.326, 0.33999999999999997, 0.354, 0.375, 0.4235, 0.472, 0.5, 0.521, 0.542, 0.5695, 0.59, 0.604, 0.618, 0.6665, 0.715, 0.861], 'At5': [0.004, 0.0095, 0.0135, 0.0165, 0.0195, 0.023, 0.0245, 0.027000000000000003, 0.03, 0.0315, 0.0325, 0.037500000000000006, 0.043, 0.0455, 0.0475, 0.0505, 0.0535, 0.055, 0.0565, 0.0575, 0.062, 0.0685, 0.0725, 0.075, 0.077, 0.079, 0.081, 0.08449999999999999, 0.088, 0.0905, 0.094, 0.0965, 0.0995, 0.103, 0.1045, 0.1055, 0.1065, 0.1095, 0.1125, 0.11699999999999999, 0.1225, 0.125, 0.132, 0.1385, 0.1395, 0.14150000000000001, 0.144, 0.1475, 0.1505, 0.1515, 0.153, 0.1545, 0.1565, 0.16, 0.16799999999999998, 0.176, 0.18, 0.1855, 0.1905, 0.194, 0.203, 0.212, 0.2185, 0.2255, 0.231, 0.237, 0.245, 0.2505, 0.255, 0.276, 0.297, 0.3035, 0.308, 0.3175, 0.3315, 0.3395, 0.35250000000000004, 0.365, 0.379, 0.4105, 0.4575, 0.496, 0.5125, 0.5409999999999999, 0.583, 0.6475, 0.738, 0.892], 'At6': [0.0645, 0.131, 0.14100000000000001, 0.1585, 0.1725, 0.1785, 0.2, 0.222, 0.2485, 0.2975, 0.3395, 0.3615, 0.389, 0.4165, 0.4255, 0.439, 0.47550000000000003, 0.5045, 0.509, 0.52, 0.5325, 0.5465, 0.565, 0.575, 0.5874999999999999, 0.611, 0.6295, 0.6375, 0.64, 0.6455, 0.652, 0.6575, 0.664, 0.6685000000000001, 0.672, 0.6795, 0.686, 0.6915, 0.697, 0.704, 0.712, 0.715, 0.7215, 0.7284999999999999, 0.734, 0.7395, 0.742, 0.744, 0.746, 0.748, 0.7505, 0.753, 0.755, 0.757, 0.7615000000000001, 0.766, 0.7725, 0.779, 0.7835000000000001, 0.7895000000000001, 0.795, 0.8015000000000001, 0.807, 0.8125, 0.817, 0.819, 0.8234999999999999, 0.828, 0.8305, 0.833, 0.835, 0.8394999999999999, 0.844, 0.847, 0.85, 0.8525, 0.855, 0.859, 0.868, 0.875, 0.877, 0.88, 0.889, 0.9035, 0.9125000000000001, 0.917, 0.921, 0.9245000000000001, 0.929, 0.9345, 0.947, 0.978], 'At7': [0.008, 0.0165, 0.0245, 0.0375, 0.046, 0.054, 0.0595, 0.07250000000000001, 0.08549999999999999, 0.088, 0.094, 0.1015, 0.1075, 0.11449999999999999, 0.1195, 0.1325, 0.1475, 0.152, 0.16549999999999998, 0.1815, 0.196, 0.2065, 0.2105, 0.215, 0.218, 0.22849999999999998, 0.239, 0.2435, 0.249, 0.2575, 0.2685, 0.275, 0.277, 0.29000000000000004, 0.303, 0.3085, 0.3155, 0.3185, 0.3195, 0.329, 0.34, 0.34299999999999997, 0.347, 0.3515, 0.365, 0.3805, 0.386, 0.3905, 0.3935, 0.395, 0.3975, 0.4025, 0.40900000000000003, 0.4135, 0.417, 0.4235, 0.432, 0.4365, 0.4375, 0.439, 0.4405, 0.4415, 0.4425, 0.4435, 0.4455, 0.4495, 0.454, 0.4585, 0.4615, 0.463, 0.47250000000000003, 0.482, 0.4845, 0.4865, 0.4895, 0.4935, 0.4975, 0.503, 0.5065, 0.5125, 0.524, 0.5315000000000001, 0.5455000000000001, 0.5660000000000001, 0.5774999999999999, 0.586, 0.596, 0.6045, 0.612, 0.617, 0.6185, 0.65, 0.6855, 0.695, 0.731, 0.7825, 0.8200000000000001, 0.9185]}\n",
      "num of bins: \n",
      "  At1: 74\n",
      "  At2: 41\n",
      "  At3: 95\n",
      "  At4: 39\n",
      "  At5: 89\n",
      "  At6: 93\n",
      "  At7: 99\n"
     ]
    }
   ],
   "source": [
    "app_thresholds_infbins = discretize_infbins(app_X, app_X.columns)\n",
    "print(\"thresholds \", app_thresholds_infbins)\n",
    "print(\"num of bins: \")\n",
    "for i, (key, value) in enumerate(app_thresholds_infbins.items()):\n",
    "        print(f\"  {key}: {len(value)+1}\")"
   ]
  },
  {
   "cell_type": "markdown",
   "metadata": {},
   "source": [
    "#### discretized version"
   ]
  },
  {
   "cell_type": "markdown",
   "metadata": {},
   "source": [
    "num of columns in the new df = (num thresholds + 1) * num features = num bins * num features\n",
    "\n",
    "2 methods\n",
    "- 1 out of k: 1 if the value is in the bin, 0 otherwise\n",
    "- differential coding: 1 from bin 1 until bin where the value is in, 0 otherwise"
   ]
  },
  {
   "cell_type": "code",
   "execution_count": 74,
   "metadata": {},
   "outputs": [],
   "source": [
    "def get_bins(thresholds, values):\n",
    "    bins = np.digitize(values, thresholds)\n",
    "    return bins\n",
    "    # list of bin number for each row\n",
    "\n",
    "\n",
    "def disc_1_out_of_k(X, cols, thresholds):\n",
    "    disc_df = []\n",
    "    for col in cols:\n",
    "        bins = get_bins(thresholds[col], X[col]) # gets bin number of each row\n",
    "        bins_df = pd.get_dummies(bins, prefix=f'feat{col}-bin', prefix_sep='').astype(int) # one hot encoding\n",
    "        #for i in range(1, len(thresholds[col]) + 1):\n",
    "        #    if f'feat{col}-bin_{i}' not in bins_df.columns:\n",
    "        #        bins_df[f'feat{col}-bin{i}'] = 0\n",
    "        bins_df = bins_df.drop(columns=f'feat{col}-bin0', errors='ignore')\n",
    "        disc_df.append(bins_df)    \n",
    "    return pd.concat(disc_df, axis=1)\n",
    "\n",
    "\n",
    "def disc_diff_coding(X, cols, thresholds):\n",
    "    bin_dfs = []\n",
    "    for col in cols:\n",
    "        bins = get_bins(thresholds[col], X[col]) # gets bin number of each row\n",
    "        num_bins = len(thresholds[col]) + 1\n",
    "        bin_df = pd.DataFrame(0, index=X.index, columns=[f'feat{col}-bin{i}' for i in range(1, num_bins)])\n",
    "        for i in range(1, num_bins):\n",
    "            bin_df[f'feat{col}-bin{i}'] = (bins >= i).astype(int)\n",
    "        bin_dfs.append(bin_df)\n",
    "    return pd.concat(bin_dfs, axis=1)\n"
   ]
  },
  {
   "cell_type": "code",
   "execution_count": 75,
   "metadata": {},
   "outputs": [
    {
     "data": {
      "text/html": [
       "<div>\n",
       "<style scoped>\n",
       "    .dataframe tbody tr th:only-of-type {\n",
       "        vertical-align: middle;\n",
       "    }\n",
       "\n",
       "    .dataframe tbody tr th {\n",
       "        vertical-align: top;\n",
       "    }\n",
       "\n",
       "    .dataframe thead th {\n",
       "        text-align: right;\n",
       "    }\n",
       "</style>\n",
       "<table border=\"1\" class=\"dataframe\">\n",
       "  <thead>\n",
       "    <tr style=\"text-align: right;\">\n",
       "      <th></th>\n",
       "      <th>featAt1-bin1</th>\n",
       "      <th>featAt1-bin2</th>\n",
       "      <th>featAt2-bin1</th>\n",
       "      <th>featAt2-bin2</th>\n",
       "      <th>featAt3-bin1</th>\n",
       "      <th>featAt3-bin2</th>\n",
       "      <th>featAt4-bin1</th>\n",
       "      <th>featAt4-bin2</th>\n",
       "      <th>featAt5-bin1</th>\n",
       "      <th>featAt5-bin2</th>\n",
       "      <th>featAt6-bin1</th>\n",
       "      <th>featAt6-bin2</th>\n",
       "      <th>featAt7-bin1</th>\n",
       "      <th>featAt7-bin2</th>\n",
       "    </tr>\n",
       "  </thead>\n",
       "  <tbody>\n",
       "    <tr>\n",
       "      <th>0</th>\n",
       "      <td>0</td>\n",
       "      <td>1</td>\n",
       "      <td>0</td>\n",
       "      <td>1</td>\n",
       "      <td>0</td>\n",
       "      <td>1</td>\n",
       "      <td>1</td>\n",
       "      <td>0</td>\n",
       "      <td>1</td>\n",
       "      <td>0</td>\n",
       "      <td>0</td>\n",
       "      <td>1</td>\n",
       "      <td>0</td>\n",
       "      <td>1</td>\n",
       "    </tr>\n",
       "    <tr>\n",
       "      <th>1</th>\n",
       "      <td>0</td>\n",
       "      <td>1</td>\n",
       "      <td>0</td>\n",
       "      <td>1</td>\n",
       "      <td>0</td>\n",
       "      <td>1</td>\n",
       "      <td>0</td>\n",
       "      <td>1</td>\n",
       "      <td>0</td>\n",
       "      <td>1</td>\n",
       "      <td>0</td>\n",
       "      <td>1</td>\n",
       "      <td>0</td>\n",
       "      <td>1</td>\n",
       "    </tr>\n",
       "    <tr>\n",
       "      <th>2</th>\n",
       "      <td>1</td>\n",
       "      <td>0</td>\n",
       "      <td>0</td>\n",
       "      <td>1</td>\n",
       "      <td>1</td>\n",
       "      <td>0</td>\n",
       "      <td>0</td>\n",
       "      <td>1</td>\n",
       "      <td>1</td>\n",
       "      <td>0</td>\n",
       "      <td>0</td>\n",
       "      <td>1</td>\n",
       "      <td>1</td>\n",
       "      <td>0</td>\n",
       "    </tr>\n",
       "    <tr>\n",
       "      <th>3</th>\n",
       "      <td>1</td>\n",
       "      <td>0</td>\n",
       "      <td>1</td>\n",
       "      <td>0</td>\n",
       "      <td>1</td>\n",
       "      <td>0</td>\n",
       "      <td>0</td>\n",
       "      <td>1</td>\n",
       "      <td>0</td>\n",
       "      <td>1</td>\n",
       "      <td>1</td>\n",
       "      <td>0</td>\n",
       "      <td>1</td>\n",
       "      <td>0</td>\n",
       "    </tr>\n",
       "    <tr>\n",
       "      <th>4</th>\n",
       "      <td>0</td>\n",
       "      <td>1</td>\n",
       "      <td>0</td>\n",
       "      <td>1</td>\n",
       "      <td>0</td>\n",
       "      <td>1</td>\n",
       "      <td>0</td>\n",
       "      <td>1</td>\n",
       "      <td>0</td>\n",
       "      <td>1</td>\n",
       "      <td>0</td>\n",
       "      <td>1</td>\n",
       "      <td>0</td>\n",
       "      <td>1</td>\n",
       "    </tr>\n",
       "  </tbody>\n",
       "</table>\n",
       "</div>"
      ],
      "text/plain": [
       "   featAt1-bin1  featAt1-bin2  featAt2-bin1  featAt2-bin2  featAt3-bin1  \\\n",
       "0             0             1             0             1             0   \n",
       "1             0             1             0             1             0   \n",
       "2             1             0             0             1             1   \n",
       "3             1             0             1             0             1   \n",
       "4             0             1             0             1             0   \n",
       "\n",
       "   featAt3-bin2  featAt4-bin1  featAt4-bin2  featAt5-bin1  featAt5-bin2  \\\n",
       "0             1             1             0             1             0   \n",
       "1             1             0             1             0             1   \n",
       "2             0             0             1             1             0   \n",
       "3             0             0             1             0             1   \n",
       "4             1             0             1             0             1   \n",
       "\n",
       "   featAt6-bin1  featAt6-bin2  featAt7-bin1  featAt7-bin2  \n",
       "0             0             1             0             1  \n",
       "1             0             1             0             1  \n",
       "2             0             1             1             0  \n",
       "3             1             0             1             0  \n",
       "4             0             1             0             1  "
      ]
     },
     "execution_count": 75,
     "metadata": {},
     "output_type": "execute_result"
    }
   ],
   "source": [
    "app_X_disc_caim_1outofk = disc_1_out_of_k(app_X, app_X.columns, app_thresholds_caim)\n",
    "disc_app_X = app_X_disc_caim_1outofk\n",
    "app_X_disc_caim_1outofk.head()"
   ]
  },
  {
   "cell_type": "code",
   "execution_count": 76,
   "metadata": {},
   "outputs": [
    {
     "data": {
      "text/html": [
       "<div>\n",
       "<style scoped>\n",
       "    .dataframe tbody tr th:only-of-type {\n",
       "        vertical-align: middle;\n",
       "    }\n",
       "\n",
       "    .dataframe tbody tr th {\n",
       "        vertical-align: top;\n",
       "    }\n",
       "\n",
       "    .dataframe thead th {\n",
       "        text-align: right;\n",
       "    }\n",
       "</style>\n",
       "<table border=\"1\" class=\"dataframe\">\n",
       "  <thead>\n",
       "    <tr style=\"text-align: right;\">\n",
       "      <th></th>\n",
       "      <th>featAt1-bin1</th>\n",
       "      <th>featAt1-bin2</th>\n",
       "      <th>featAt1-bin3</th>\n",
       "      <th>featAt2-bin1</th>\n",
       "      <th>featAt2-bin2</th>\n",
       "      <th>featAt2-bin3</th>\n",
       "      <th>featAt3-bin1</th>\n",
       "      <th>featAt3-bin2</th>\n",
       "      <th>featAt3-bin3</th>\n",
       "      <th>featAt4-bin1</th>\n",
       "      <th>...</th>\n",
       "      <th>featAt4-bin3</th>\n",
       "      <th>featAt5-bin1</th>\n",
       "      <th>featAt5-bin2</th>\n",
       "      <th>featAt5-bin3</th>\n",
       "      <th>featAt6-bin1</th>\n",
       "      <th>featAt6-bin2</th>\n",
       "      <th>featAt6-bin3</th>\n",
       "      <th>featAt7-bin1</th>\n",
       "      <th>featAt7-bin2</th>\n",
       "      <th>featAt7-bin3</th>\n",
       "    </tr>\n",
       "  </thead>\n",
       "  <tbody>\n",
       "    <tr>\n",
       "      <th>0</th>\n",
       "      <td>1</td>\n",
       "      <td>1</td>\n",
       "      <td>0</td>\n",
       "      <td>1</td>\n",
       "      <td>1</td>\n",
       "      <td>0</td>\n",
       "      <td>1</td>\n",
       "      <td>1</td>\n",
       "      <td>0</td>\n",
       "      <td>1</td>\n",
       "      <td>...</td>\n",
       "      <td>0</td>\n",
       "      <td>1</td>\n",
       "      <td>0</td>\n",
       "      <td>0</td>\n",
       "      <td>1</td>\n",
       "      <td>1</td>\n",
       "      <td>0</td>\n",
       "      <td>1</td>\n",
       "      <td>1</td>\n",
       "      <td>0</td>\n",
       "    </tr>\n",
       "    <tr>\n",
       "      <th>1</th>\n",
       "      <td>1</td>\n",
       "      <td>1</td>\n",
       "      <td>0</td>\n",
       "      <td>1</td>\n",
       "      <td>1</td>\n",
       "      <td>0</td>\n",
       "      <td>1</td>\n",
       "      <td>1</td>\n",
       "      <td>0</td>\n",
       "      <td>1</td>\n",
       "      <td>...</td>\n",
       "      <td>0</td>\n",
       "      <td>1</td>\n",
       "      <td>1</td>\n",
       "      <td>0</td>\n",
       "      <td>1</td>\n",
       "      <td>1</td>\n",
       "      <td>0</td>\n",
       "      <td>1</td>\n",
       "      <td>1</td>\n",
       "      <td>0</td>\n",
       "    </tr>\n",
       "    <tr>\n",
       "      <th>2</th>\n",
       "      <td>1</td>\n",
       "      <td>0</td>\n",
       "      <td>0</td>\n",
       "      <td>1</td>\n",
       "      <td>1</td>\n",
       "      <td>0</td>\n",
       "      <td>1</td>\n",
       "      <td>0</td>\n",
       "      <td>0</td>\n",
       "      <td>1</td>\n",
       "      <td>...</td>\n",
       "      <td>0</td>\n",
       "      <td>1</td>\n",
       "      <td>0</td>\n",
       "      <td>0</td>\n",
       "      <td>1</td>\n",
       "      <td>1</td>\n",
       "      <td>0</td>\n",
       "      <td>1</td>\n",
       "      <td>0</td>\n",
       "      <td>0</td>\n",
       "    </tr>\n",
       "    <tr>\n",
       "      <th>3</th>\n",
       "      <td>1</td>\n",
       "      <td>0</td>\n",
       "      <td>0</td>\n",
       "      <td>1</td>\n",
       "      <td>0</td>\n",
       "      <td>0</td>\n",
       "      <td>1</td>\n",
       "      <td>0</td>\n",
       "      <td>0</td>\n",
       "      <td>1</td>\n",
       "      <td>...</td>\n",
       "      <td>0</td>\n",
       "      <td>1</td>\n",
       "      <td>1</td>\n",
       "      <td>0</td>\n",
       "      <td>1</td>\n",
       "      <td>0</td>\n",
       "      <td>0</td>\n",
       "      <td>1</td>\n",
       "      <td>0</td>\n",
       "      <td>0</td>\n",
       "    </tr>\n",
       "    <tr>\n",
       "      <th>4</th>\n",
       "      <td>1</td>\n",
       "      <td>1</td>\n",
       "      <td>0</td>\n",
       "      <td>1</td>\n",
       "      <td>1</td>\n",
       "      <td>0</td>\n",
       "      <td>1</td>\n",
       "      <td>1</td>\n",
       "      <td>0</td>\n",
       "      <td>1</td>\n",
       "      <td>...</td>\n",
       "      <td>0</td>\n",
       "      <td>1</td>\n",
       "      <td>1</td>\n",
       "      <td>0</td>\n",
       "      <td>1</td>\n",
       "      <td>1</td>\n",
       "      <td>0</td>\n",
       "      <td>1</td>\n",
       "      <td>1</td>\n",
       "      <td>0</td>\n",
       "    </tr>\n",
       "  </tbody>\n",
       "</table>\n",
       "<p>5 rows × 21 columns</p>\n",
       "</div>"
      ],
      "text/plain": [
       "   featAt1-bin1  featAt1-bin2  featAt1-bin3  featAt2-bin1  featAt2-bin2  \\\n",
       "0             1             1             0             1             1   \n",
       "1             1             1             0             1             1   \n",
       "2             1             0             0             1             1   \n",
       "3             1             0             0             1             0   \n",
       "4             1             1             0             1             1   \n",
       "\n",
       "   featAt2-bin3  featAt3-bin1  featAt3-bin2  featAt3-bin3  featAt4-bin1  ...  \\\n",
       "0             0             1             1             0             1  ...   \n",
       "1             0             1             1             0             1  ...   \n",
       "2             0             1             0             0             1  ...   \n",
       "3             0             1             0             0             1  ...   \n",
       "4             0             1             1             0             1  ...   \n",
       "\n",
       "   featAt4-bin3  featAt5-bin1  featAt5-bin2  featAt5-bin3  featAt6-bin1  \\\n",
       "0             0             1             0             0             1   \n",
       "1             0             1             1             0             1   \n",
       "2             0             1             0             0             1   \n",
       "3             0             1             1             0             1   \n",
       "4             0             1             1             0             1   \n",
       "\n",
       "   featAt6-bin2  featAt6-bin3  featAt7-bin1  featAt7-bin2  featAt7-bin3  \n",
       "0             1             0             1             1             0  \n",
       "1             1             0             1             1             0  \n",
       "2             1             0             1             0             0  \n",
       "3             0             0             1             0             0  \n",
       "4             1             0             1             1             0  \n",
       "\n",
       "[5 rows x 21 columns]"
      ]
     },
     "execution_count": 76,
     "metadata": {},
     "output_type": "execute_result"
    }
   ],
   "source": [
    "app_X_disc_caim_diffcod = disc_diff_coding(app_X, app_X.columns, app_thresholds_caim)\n",
    "app_X_disc_caim_diffcod.head()"
   ]
  },
  {
   "cell_type": "code",
   "execution_count": 77,
   "metadata": {},
   "outputs": [
    {
     "data": {
      "text/html": [
       "<div>\n",
       "<style scoped>\n",
       "    .dataframe tbody tr th:only-of-type {\n",
       "        vertical-align: middle;\n",
       "    }\n",
       "\n",
       "    .dataframe tbody tr th {\n",
       "        vertical-align: top;\n",
       "    }\n",
       "\n",
       "    .dataframe thead th {\n",
       "        text-align: right;\n",
       "    }\n",
       "</style>\n",
       "<table border=\"1\" class=\"dataframe\">\n",
       "  <thead>\n",
       "    <tr style=\"text-align: right;\">\n",
       "      <th></th>\n",
       "      <th>featAt1-bin1</th>\n",
       "      <th>featAt1-bin2</th>\n",
       "      <th>featAt1-bin3</th>\n",
       "      <th>featAt1-bin4</th>\n",
       "      <th>featAt1-bin5</th>\n",
       "      <th>featAt1-bin6</th>\n",
       "      <th>featAt1-bin7</th>\n",
       "      <th>featAt1-bin8</th>\n",
       "      <th>featAt1-bin9</th>\n",
       "      <th>featAt1-bin10</th>\n",
       "      <th>...</th>\n",
       "      <th>featAt7-bin89</th>\n",
       "      <th>featAt7-bin90</th>\n",
       "      <th>featAt7-bin91</th>\n",
       "      <th>featAt7-bin92</th>\n",
       "      <th>featAt7-bin93</th>\n",
       "      <th>featAt7-bin94</th>\n",
       "      <th>featAt7-bin95</th>\n",
       "      <th>featAt7-bin96</th>\n",
       "      <th>featAt7-bin97</th>\n",
       "      <th>featAt7-bin98</th>\n",
       "    </tr>\n",
       "  </thead>\n",
       "  <tbody>\n",
       "    <tr>\n",
       "      <th>0</th>\n",
       "      <td>0</td>\n",
       "      <td>0</td>\n",
       "      <td>0</td>\n",
       "      <td>0</td>\n",
       "      <td>0</td>\n",
       "      <td>0</td>\n",
       "      <td>0</td>\n",
       "      <td>0</td>\n",
       "      <td>0</td>\n",
       "      <td>0</td>\n",
       "      <td>...</td>\n",
       "      <td>0</td>\n",
       "      <td>0</td>\n",
       "      <td>0</td>\n",
       "      <td>0</td>\n",
       "      <td>0</td>\n",
       "      <td>0</td>\n",
       "      <td>0</td>\n",
       "      <td>0</td>\n",
       "      <td>0</td>\n",
       "      <td>0</td>\n",
       "    </tr>\n",
       "    <tr>\n",
       "      <th>1</th>\n",
       "      <td>0</td>\n",
       "      <td>0</td>\n",
       "      <td>0</td>\n",
       "      <td>0</td>\n",
       "      <td>0</td>\n",
       "      <td>0</td>\n",
       "      <td>0</td>\n",
       "      <td>0</td>\n",
       "      <td>0</td>\n",
       "      <td>0</td>\n",
       "      <td>...</td>\n",
       "      <td>0</td>\n",
       "      <td>0</td>\n",
       "      <td>0</td>\n",
       "      <td>0</td>\n",
       "      <td>0</td>\n",
       "      <td>0</td>\n",
       "      <td>0</td>\n",
       "      <td>0</td>\n",
       "      <td>0</td>\n",
       "      <td>0</td>\n",
       "    </tr>\n",
       "    <tr>\n",
       "      <th>2</th>\n",
       "      <td>0</td>\n",
       "      <td>0</td>\n",
       "      <td>0</td>\n",
       "      <td>0</td>\n",
       "      <td>0</td>\n",
       "      <td>0</td>\n",
       "      <td>1</td>\n",
       "      <td>0</td>\n",
       "      <td>0</td>\n",
       "      <td>0</td>\n",
       "      <td>...</td>\n",
       "      <td>0</td>\n",
       "      <td>0</td>\n",
       "      <td>0</td>\n",
       "      <td>0</td>\n",
       "      <td>0</td>\n",
       "      <td>0</td>\n",
       "      <td>0</td>\n",
       "      <td>0</td>\n",
       "      <td>0</td>\n",
       "      <td>0</td>\n",
       "    </tr>\n",
       "    <tr>\n",
       "      <th>3</th>\n",
       "      <td>0</td>\n",
       "      <td>0</td>\n",
       "      <td>0</td>\n",
       "      <td>0</td>\n",
       "      <td>0</td>\n",
       "      <td>0</td>\n",
       "      <td>0</td>\n",
       "      <td>0</td>\n",
       "      <td>0</td>\n",
       "      <td>0</td>\n",
       "      <td>...</td>\n",
       "      <td>0</td>\n",
       "      <td>0</td>\n",
       "      <td>0</td>\n",
       "      <td>0</td>\n",
       "      <td>0</td>\n",
       "      <td>0</td>\n",
       "      <td>0</td>\n",
       "      <td>0</td>\n",
       "      <td>0</td>\n",
       "      <td>0</td>\n",
       "    </tr>\n",
       "    <tr>\n",
       "      <th>4</th>\n",
       "      <td>0</td>\n",
       "      <td>0</td>\n",
       "      <td>0</td>\n",
       "      <td>0</td>\n",
       "      <td>0</td>\n",
       "      <td>0</td>\n",
       "      <td>0</td>\n",
       "      <td>0</td>\n",
       "      <td>0</td>\n",
       "      <td>0</td>\n",
       "      <td>...</td>\n",
       "      <td>0</td>\n",
       "      <td>0</td>\n",
       "      <td>0</td>\n",
       "      <td>0</td>\n",
       "      <td>0</td>\n",
       "      <td>0</td>\n",
       "      <td>0</td>\n",
       "      <td>0</td>\n",
       "      <td>0</td>\n",
       "      <td>0</td>\n",
       "    </tr>\n",
       "  </tbody>\n",
       "</table>\n",
       "<p>5 rows × 523 columns</p>\n",
       "</div>"
      ],
      "text/plain": [
       "   featAt1-bin1  featAt1-bin2  featAt1-bin3  featAt1-bin4  featAt1-bin5  \\\n",
       "0             0             0             0             0             0   \n",
       "1             0             0             0             0             0   \n",
       "2             0             0             0             0             0   \n",
       "3             0             0             0             0             0   \n",
       "4             0             0             0             0             0   \n",
       "\n",
       "   featAt1-bin6  featAt1-bin7  featAt1-bin8  featAt1-bin9  featAt1-bin10  ...  \\\n",
       "0             0             0             0             0              0  ...   \n",
       "1             0             0             0             0              0  ...   \n",
       "2             0             1             0             0              0  ...   \n",
       "3             0             0             0             0              0  ...   \n",
       "4             0             0             0             0              0  ...   \n",
       "\n",
       "   featAt7-bin89  featAt7-bin90  featAt7-bin91  featAt7-bin92  featAt7-bin93  \\\n",
       "0              0              0              0              0              0   \n",
       "1              0              0              0              0              0   \n",
       "2              0              0              0              0              0   \n",
       "3              0              0              0              0              0   \n",
       "4              0              0              0              0              0   \n",
       "\n",
       "   featAt7-bin94  featAt7-bin95  featAt7-bin96  featAt7-bin97  featAt7-bin98  \n",
       "0              0              0              0              0              0  \n",
       "1              0              0              0              0              0  \n",
       "2              0              0              0              0              0  \n",
       "3              0              0              0              0              0  \n",
       "4              0              0              0              0              0  \n",
       "\n",
       "[5 rows x 523 columns]"
      ]
     },
     "execution_count": 77,
     "metadata": {},
     "output_type": "execute_result"
    }
   ],
   "source": [
    "app_X_disc_infbins_1outofk = disc_1_out_of_k(app_X, app_X.columns, app_thresholds_infbins)\n",
    "app_X_disc_infbins_1outofk.head()"
   ]
  },
  {
   "cell_type": "code",
   "execution_count": 78,
   "metadata": {},
   "outputs": [
    {
     "data": {
      "text/html": [
       "<div>\n",
       "<style scoped>\n",
       "    .dataframe tbody tr th:only-of-type {\n",
       "        vertical-align: middle;\n",
       "    }\n",
       "\n",
       "    .dataframe tbody tr th {\n",
       "        vertical-align: top;\n",
       "    }\n",
       "\n",
       "    .dataframe thead th {\n",
       "        text-align: right;\n",
       "    }\n",
       "</style>\n",
       "<table border=\"1\" class=\"dataframe\">\n",
       "  <thead>\n",
       "    <tr style=\"text-align: right;\">\n",
       "      <th></th>\n",
       "      <th>featAt1-bin1</th>\n",
       "      <th>featAt1-bin2</th>\n",
       "      <th>featAt1-bin3</th>\n",
       "      <th>featAt1-bin4</th>\n",
       "      <th>featAt1-bin5</th>\n",
       "      <th>featAt1-bin6</th>\n",
       "      <th>featAt1-bin7</th>\n",
       "      <th>featAt1-bin8</th>\n",
       "      <th>featAt1-bin9</th>\n",
       "      <th>featAt1-bin10</th>\n",
       "      <th>...</th>\n",
       "      <th>featAt7-bin89</th>\n",
       "      <th>featAt7-bin90</th>\n",
       "      <th>featAt7-bin91</th>\n",
       "      <th>featAt7-bin92</th>\n",
       "      <th>featAt7-bin93</th>\n",
       "      <th>featAt7-bin94</th>\n",
       "      <th>featAt7-bin95</th>\n",
       "      <th>featAt7-bin96</th>\n",
       "      <th>featAt7-bin97</th>\n",
       "      <th>featAt7-bin98</th>\n",
       "    </tr>\n",
       "  </thead>\n",
       "  <tbody>\n",
       "    <tr>\n",
       "      <th>0</th>\n",
       "      <td>1</td>\n",
       "      <td>1</td>\n",
       "      <td>1</td>\n",
       "      <td>1</td>\n",
       "      <td>1</td>\n",
       "      <td>1</td>\n",
       "      <td>1</td>\n",
       "      <td>1</td>\n",
       "      <td>1</td>\n",
       "      <td>1</td>\n",
       "      <td>...</td>\n",
       "      <td>0</td>\n",
       "      <td>0</td>\n",
       "      <td>0</td>\n",
       "      <td>0</td>\n",
       "      <td>0</td>\n",
       "      <td>0</td>\n",
       "      <td>0</td>\n",
       "      <td>0</td>\n",
       "      <td>0</td>\n",
       "      <td>0</td>\n",
       "    </tr>\n",
       "    <tr>\n",
       "      <th>1</th>\n",
       "      <td>1</td>\n",
       "      <td>1</td>\n",
       "      <td>1</td>\n",
       "      <td>1</td>\n",
       "      <td>1</td>\n",
       "      <td>1</td>\n",
       "      <td>1</td>\n",
       "      <td>1</td>\n",
       "      <td>1</td>\n",
       "      <td>1</td>\n",
       "      <td>...</td>\n",
       "      <td>0</td>\n",
       "      <td>0</td>\n",
       "      <td>0</td>\n",
       "      <td>0</td>\n",
       "      <td>0</td>\n",
       "      <td>0</td>\n",
       "      <td>0</td>\n",
       "      <td>0</td>\n",
       "      <td>0</td>\n",
       "      <td>0</td>\n",
       "    </tr>\n",
       "    <tr>\n",
       "      <th>2</th>\n",
       "      <td>1</td>\n",
       "      <td>1</td>\n",
       "      <td>1</td>\n",
       "      <td>1</td>\n",
       "      <td>1</td>\n",
       "      <td>1</td>\n",
       "      <td>1</td>\n",
       "      <td>0</td>\n",
       "      <td>0</td>\n",
       "      <td>0</td>\n",
       "      <td>...</td>\n",
       "      <td>0</td>\n",
       "      <td>0</td>\n",
       "      <td>0</td>\n",
       "      <td>0</td>\n",
       "      <td>0</td>\n",
       "      <td>0</td>\n",
       "      <td>0</td>\n",
       "      <td>0</td>\n",
       "      <td>0</td>\n",
       "      <td>0</td>\n",
       "    </tr>\n",
       "    <tr>\n",
       "      <th>3</th>\n",
       "      <td>1</td>\n",
       "      <td>1</td>\n",
       "      <td>1</td>\n",
       "      <td>1</td>\n",
       "      <td>1</td>\n",
       "      <td>1</td>\n",
       "      <td>1</td>\n",
       "      <td>1</td>\n",
       "      <td>1</td>\n",
       "      <td>1</td>\n",
       "      <td>...</td>\n",
       "      <td>0</td>\n",
       "      <td>0</td>\n",
       "      <td>0</td>\n",
       "      <td>0</td>\n",
       "      <td>0</td>\n",
       "      <td>0</td>\n",
       "      <td>0</td>\n",
       "      <td>0</td>\n",
       "      <td>0</td>\n",
       "      <td>0</td>\n",
       "    </tr>\n",
       "    <tr>\n",
       "      <th>4</th>\n",
       "      <td>1</td>\n",
       "      <td>1</td>\n",
       "      <td>1</td>\n",
       "      <td>1</td>\n",
       "      <td>1</td>\n",
       "      <td>1</td>\n",
       "      <td>1</td>\n",
       "      <td>1</td>\n",
       "      <td>1</td>\n",
       "      <td>1</td>\n",
       "      <td>...</td>\n",
       "      <td>0</td>\n",
       "      <td>0</td>\n",
       "      <td>0</td>\n",
       "      <td>0</td>\n",
       "      <td>0</td>\n",
       "      <td>0</td>\n",
       "      <td>0</td>\n",
       "      <td>0</td>\n",
       "      <td>0</td>\n",
       "      <td>0</td>\n",
       "    </tr>\n",
       "  </tbody>\n",
       "</table>\n",
       "<p>5 rows × 523 columns</p>\n",
       "</div>"
      ],
      "text/plain": [
       "   featAt1-bin1  featAt1-bin2  featAt1-bin3  featAt1-bin4  featAt1-bin5  \\\n",
       "0             1             1             1             1             1   \n",
       "1             1             1             1             1             1   \n",
       "2             1             1             1             1             1   \n",
       "3             1             1             1             1             1   \n",
       "4             1             1             1             1             1   \n",
       "\n",
       "   featAt1-bin6  featAt1-bin7  featAt1-bin8  featAt1-bin9  featAt1-bin10  ...  \\\n",
       "0             1             1             1             1              1  ...   \n",
       "1             1             1             1             1              1  ...   \n",
       "2             1             1             0             0              0  ...   \n",
       "3             1             1             1             1              1  ...   \n",
       "4             1             1             1             1              1  ...   \n",
       "\n",
       "   featAt7-bin89  featAt7-bin90  featAt7-bin91  featAt7-bin92  featAt7-bin93  \\\n",
       "0              0              0              0              0              0   \n",
       "1              0              0              0              0              0   \n",
       "2              0              0              0              0              0   \n",
       "3              0              0              0              0              0   \n",
       "4              0              0              0              0              0   \n",
       "\n",
       "   featAt7-bin94  featAt7-bin95  featAt7-bin96  featAt7-bin97  featAt7-bin98  \n",
       "0              0              0              0              0              0  \n",
       "1              0              0              0              0              0  \n",
       "2              0              0              0              0              0  \n",
       "3              0              0              0              0              0  \n",
       "4              0              0              0              0              0  \n",
       "\n",
       "[5 rows x 523 columns]"
      ]
     },
     "execution_count": 78,
     "metadata": {},
     "output_type": "execute_result"
    }
   ],
   "source": [
    "app_X_disc_infbins_diffcod = disc_diff_coding(app_X, app_X.columns, app_thresholds_infbins)\n",
    "app_X_disc_infbins_diffcod.head()"
   ]
  },
  {
   "cell_type": "markdown",
   "metadata": {},
   "source": [
    "#### 10 fold CV"
   ]
  },
  {
   "cell_type": "code",
   "execution_count": 79,
   "metadata": {},
   "outputs": [],
   "source": [
    "def cross_val_score(model, X, y, n_splits=10):\n",
    "    kf = KFold(n_splits=n_splits)\n",
    "    scores = []\n",
    "    for train_index, test_index in kf.split(X):\n",
    "        X_train, X_test = X.iloc[train_index], X.iloc[test_index]\n",
    "        y_train, y_test = y.iloc[train_index], y.iloc[test_index]\n",
    "        model.fit(X_train, y_train)\n",
    "        y_pred = model.predict(X_test)\n",
    "        scores.append(mean_squared_error(y_test, y_pred))\n",
    "    return np.mean(scores)"
   ]
  },
  {
   "cell_type": "markdown",
   "metadata": {},
   "source": [
    "#### regularization"
   ]
  },
  {
   "cell_type": "code",
   "execution_count": 80,
   "metadata": {},
   "outputs": [],
   "source": [
    "alpha = [0.01, 0.1, 0.4, 0.6, 0.9, 0.99]\n",
    "ridge = Ridge()\n",
    "lasso = Lasso()\n",
    "elastic_net = ElasticNet()\n",
    "\n",
    "param_grid = {'alpha': alpha}\n",
    "\n",
    "def grid_search(model, X, y, param_grid, cv=10):\n",
    "    grid_search = GridSearchCV(estimator=model, param_grid=param_grid, cv=cv)\n",
    "    grid_search.fit(X, y)\n",
    "    return grid_search"
   ]
  },
  {
   "cell_type": "markdown",
   "metadata": {},
   "source": [
    "#### objective function"
   ]
  },
  {
   "cell_type": "code",
   "execution_count": 81,
   "metadata": {},
   "outputs": [],
   "source": [
    "def get_weights(model, disc_X, y):\n",
    "    model.fit(disc_X, y)\n",
    "    weights = model.coef_[0]\n",
    "    feature_names = disc_X.columns\n",
    "    weights_df = pd.DataFrame({'Feature': feature_names, 'Weight': weights})\n",
    "    return weights_df"
   ]
  },
  {
   "cell_type": "code",
   "execution_count": 82,
   "metadata": {},
   "outputs": [
    {
     "name": "stdout",
     "output_type": "stream",
     "text": [
      "RSS weights:\n",
      "          Feature    Weight\n",
      "0   featAt1-bin1  0.333609\n",
      "1   featAt1-bin2  0.333609\n",
      "2   featAt2-bin1  0.333609\n",
      "3   featAt2-bin2  0.333609\n",
      "4   featAt3-bin1  0.333609\n",
      "5   featAt3-bin2  0.333609\n",
      "6   featAt4-bin1  0.333609\n",
      "7   featAt4-bin2  0.333609\n",
      "8   featAt5-bin1  0.333609\n",
      "9   featAt5-bin2  0.333609\n",
      "10  featAt6-bin1  0.333609\n",
      "11  featAt6-bin2  0.333609\n",
      "12  featAt7-bin1  0.333609\n",
      "13  featAt7-bin2  0.333609\n"
     ]
    },
    {
     "data": {
      "image/png": "[encoded data removed]",
      "text/plain": [
       "<Figure size 640x480 with 1 Axes>"
      ]
     },
     "metadata": {},
     "output_type": "display_data"
    }
   ],
   "source": [
    "# RSS\n",
    "def rss(X, y):\n",
    "    # linear_regression = LinearRegression()\n",
    "    linear_regression = Lasso()\n",
    "    param_grid = {'alpha': alpha}\n",
    "    grid_search_rss = grid_search(linear_regression, X, y, param_grid)\n",
    "    best_model_rss = grid_search_rss.best_estimator_\n",
    "    weights_rss = get_weights(best_model_rss, X, y)\n",
    "    print(\"RSS weights:\\n\", weights_rss)\n",
    "\n",
    "    # plot\n",
    "    plt.figure()\n",
    "    plt.bar(weights_rss['Feature'], weights_rss['Weight'])\n",
    "    plt.xticks(rotation=90)\n",
    "    plt.title('RSS weights')\n",
    "    plt.show()\n",
    "\n",
    "    return weights_rss\n",
    "\n",
    "app_weights_rss = rss(disc_app_X, app_y)"
   ]
  },
  {
   "cell_type": "code",
   "execution_count": 83,
   "metadata": {},
   "outputs": [
    {
     "name": "stdout",
     "output_type": "stream",
     "text": [
      "ML weights:\n",
      "          Feature    Weight\n",
      "0   featAt1-bin1  1.158823\n",
      "1   featAt1-bin2 -0.647181\n",
      "2   featAt2-bin1  0.000000\n",
      "3   featAt2-bin2 -0.569439\n",
      "4   featAt3-bin1  0.000000\n",
      "5   featAt3-bin2  0.000000\n",
      "6   featAt4-bin1  0.694935\n",
      "7   featAt4-bin2 -0.375589\n",
      "8   featAt5-bin1  0.000000\n",
      "9   featAt5-bin2  0.000000\n",
      "10  featAt6-bin1  0.214641\n",
      "11  featAt6-bin2 -0.190936\n",
      "12  featAt7-bin1  0.000000\n",
      "13  featAt7-bin2 -0.645837\n"
     ]
    },
    {
     "data": {
      "image/png": "[encoded data removed]",
      "text/plain": [
       "<Figure size 640x480 with 1 Axes>"
      ]
     },
     "metadata": {},
     "output_type": "display_data"
    }
   ],
   "source": [
    "# maximum likelihood (GLM with binomial response and logit link function)\n",
    "def max_likelihood(X, y):\n",
    "    logistic = LogisticRegression()\n",
    "    logistic.solver = 'liblinear'\n",
    "    logistic.penalty = 'l1'\n",
    "    weights_ml = get_weights(logistic, X, y)\n",
    "    print(\"ML weights:\\n\", weights_ml)\n",
    "\n",
    "    # plot\n",
    "    plt.figure()\n",
    "    plt.bar(weights_ml['Feature'], weights_ml['Weight'])\n",
    "    plt.xticks(rotation=90)\n",
    "    plt.title('ML weights')\n",
    "    plt.show()\n",
    "\n",
    "    return weights_ml\n",
    "\n",
    "app_weights_ml = max_likelihood(disc_app_X, app_y)"
   ]
  },
  {
   "cell_type": "code",
   "execution_count": 84,
   "metadata": {},
   "outputs": [
    {
     "name": "stdout",
     "output_type": "stream",
     "text": [
      "SVM weights:\n",
      "          Feature        Weight\n",
      "0   featAt1-bin1  2.343750e-01\n",
      "1   featAt1-bin2 -2.343750e-01\n",
      "2   featAt2-bin1  1.718750e-01\n",
      "3   featAt2-bin2 -1.718750e-01\n",
      "4   featAt3-bin1  2.343750e-01\n",
      "5   featAt3-bin2 -2.343750e-01\n",
      "6   featAt4-bin1 -1.387779e-17\n",
      "7   featAt4-bin2  0.000000e+00\n",
      "8   featAt5-bin1  1.562500e-02\n",
      "9   featAt5-bin2 -1.562500e-02\n",
      "10  featAt6-bin1  1.093750e-01\n",
      "11  featAt6-bin2 -1.093750e-01\n",
      "12  featAt7-bin1  2.343750e-01\n",
      "13  featAt7-bin2 -2.343750e-01\n"
     ]
    },
    {
     "data": {
      "image/png": "[encoded data removed]",
      "text/plain": [
       "<Figure size 640x480 with 1 Axes>"
      ]
     },
     "metadata": {},
     "output_type": "display_data"
    }
   ],
   "source": [
    "# margin maximization (linear SVM)\n",
    "def margin_max(X, y):\n",
    "    param_grid = {\n",
    "        'C': [2**i for i in range(-10, 11)]\n",
    "    }\n",
    "    svm = SVC(kernel='linear')\n",
    "    #svm = svm_problem(app_y, disc_app_X)\n",
    "    grid_search_svm = grid_search(svm, X, y, param_grid)\n",
    "    best_model_svm = grid_search_svm.best_estimator_\n",
    "    weights_svm = get_weights(best_model_svm, X, y)\n",
    "    print(\"SVM weights:\\n\", weights_svm)\n",
    "\n",
    "    # plot\n",
    "    plt.figure()\n",
    "    plt.bar(weights_svm['Feature'], weights_svm['Weight'])\n",
    "    plt.xticks(rotation=90)\n",
    "    plt.title('SVM weights')\n",
    "    plt.show()\n",
    "\n",
    "    return weights_svm\n",
    "\n",
    "app_weights_svm = margin_max(disc_app_X, app_y)"
   ]
  },
  {
   "cell_type": "code",
   "execution_count": null,
   "metadata": {},
   "outputs": [
    {
     "name": "stdout",
     "output_type": "stream",
     "text": [
      "ML weights:\n",
      "            Feature  Weight\n",
      "0     featAt1-bin1     0.0\n",
      "1     featAt1-bin2     0.0\n",
      "2     featAt1-bin3     0.0\n",
      "3     featAt1-bin4     0.0\n",
      "4     featAt1-bin5     0.0\n",
      "..             ...     ...\n",
      "518  featAt7-bin94     0.0\n",
      "519  featAt7-bin95     0.0\n",
      "520  featAt7-bin96     0.0\n",
      "521  featAt7-bin97     0.0\n",
      "522  featAt7-bin98     0.0\n",
      "\n",
      "[523 rows x 2 columns]\n"
     ]
    },
    {
     "data": {
      "image/png": "[encoded data removed]",
      "text/plain": [
       "<Figure size 640x480 with 1 Axes>"
      ]
     },
     "metadata": {},
     "output_type": "display_data"
    },
    {
     "name": "stdout",
     "output_type": "stream",
     "text": [
      "           Feature    Weight\n",
      "15   featAt1-bin16 -0.590234\n",
      "31   featAt1-bin32 -0.545168\n",
      "32   featAt1-bin33 -0.234905\n",
      "73    featAt2-bin1  0.736718\n",
      "103  featAt2-bin31 -0.865523\n",
      "116   featAt3-bin4  0.142589\n",
      "126  featAt3-bin14 -0.209652\n",
      "133  featAt3-bin21 -1.074671\n",
      "208   featAt4-bin2  0.050012\n",
      "230  featAt4-bin24 -0.275787\n",
      "239  featAt4-bin33 -0.428005\n",
      "280  featAt5-bin36 -1.253183\n",
      "333   featAt6-bin1  0.654141\n",
      "369  featAt6-bin37  0.874167\n",
      "386  featAt6-bin54 -1.371113\n",
      "439  featAt7-bin15 -0.447987\n",
      "441  featAt7-bin17 -0.159190\n",
      "466  featAt7-bin42  0.118083\n",
      "469  featAt7-bin45 -0.640341\n"
     ]
    },
    {
     "data": {
      "image/png": "[encoded data removed]",
      "text/plain": [
       "<Figure size 640x480 with 1 Axes>"
      ]
     },
     "metadata": {},
     "output_type": "display_data"
    }
   ],
   "source": [
    "# supersparse linear classification model\n",
    "disc_app_X = app_X_disc_infbins_diffcod\n",
    "app_weights_ml = max_likelihood(disc_app_X, app_y)\n",
    "\n",
    "# get the weights that are not 0\n",
    "app_weights = app_weights_ml[app_weights_ml['Weight'] != 0]\n",
    "print(app_weights)\n",
    "plt.figure()\n",
    "plt.bar(app_weights['Feature'], app_weights['Weight'])\n",
    "plt.xticks(rotation=90)\n",
    "plt.title('ML infinitesimal bins diff coding weights')\n",
    "plt.show()"
   ]
  },
  {
   "cell_type": "code",
   "execution_count": 91,
   "metadata": {},
   "outputs": [
    {
     "name": "stdout",
     "output_type": "stream",
     "text": [
      "SVM weights:\n",
      "            Feature    Weight\n",
      "0     featAt1-bin1 -0.003196\n",
      "1     featAt1-bin2  0.000710\n",
      "2     featAt1-bin3 -0.003196\n",
      "3     featAt1-bin4  0.000710\n",
      "4     featAt1-bin5 -0.000992\n",
      "..             ...       ...\n",
      "518  featAt7-bin94  0.003906\n",
      "519  featAt7-bin95  0.003906\n",
      "520  featAt7-bin96  0.003906\n",
      "521  featAt7-bin97  0.003906\n",
      "522  featAt7-bin98  0.003906\n",
      "\n",
      "[523 rows x 2 columns]\n"
     ]
    },
    {
     "data": {
      "image/png": "[encoded data removed]",
      "text/plain": [
       "<Figure size 640x480 with 1 Axes>"
      ]
     },
     "metadata": {},
     "output_type": "display_data"
    },
    {
     "name": "stdout",
     "output_type": "stream",
     "text": [
      "           Feature    Weight\n",
      "0     featAt1-bin1 -0.003196\n",
      "1     featAt1-bin2  0.000710\n",
      "2     featAt1-bin3 -0.003196\n",
      "3     featAt1-bin4  0.000710\n",
      "4     featAt1-bin5 -0.000992\n",
      "..             ...       ...\n",
      "518  featAt7-bin94  0.003906\n",
      "519  featAt7-bin95  0.003906\n",
      "520  featAt7-bin96  0.003906\n",
      "521  featAt7-bin97  0.003906\n",
      "522  featAt7-bin98  0.003906\n",
      "\n",
      "[510 rows x 2 columns]\n"
     ]
    },
    {
     "data": {
      "image/png": "[encoded data removed]",
      "text/plain": [
       "<Figure size 640x480 with 1 Axes>"
      ]
     },
     "metadata": {},
     "output_type": "display_data"
    }
   ],
   "source": [
    "app_weights_mm = margin_max(disc_app_X, app_y)\n",
    "\n",
    "# get the weights that are not 0\n",
    "app_weights = app_weights_mm[app_weights_mm['Weight'] != 0]\n",
    "print(app_weights)\n",
    "plt.figure()\n",
    "plt.bar(app_weights['Feature'], app_weights['Weight'])\n",
    "plt.xticks(rotation=90)\n",
    "plt.title('MM infinitesimal bins diff coding weights')\n",
    "plt.show()"
   ]
  },
  {
   "cell_type": "markdown",
   "metadata": {},
   "source": [
    "#### SBC (single binary classifier) reduction"
   ]
  },
  {
   "cell_type": "code",
   "execution_count": null,
   "metadata": {},
   "outputs": [],
   "source": []
  }
 ],
 "metadata": {
  "kernelspec": {
   "display_name": "Python 3",
   "language": "python",
   "name": "python3"
  },
  "language_info": {
   "codemirror_mode": {
    "name": "ipython",
    "version": 3
   },
   "file_extension": ".py",
   "mimetype": "text/x-python",
   "name": "python",
   "nbconvert_exporter": "python",
   "pygments_lexer": "ipython3",
   "version": "3.11.0"
  }
 },
 "nbformat": 4,
 "nbformat_minor": 2
}
