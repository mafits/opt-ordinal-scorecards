{
 "cells": [
  {
   "cell_type": "markdown",
   "id": "273d5ef2",
   "metadata": {},
   "source": [
    "## encoding (1 out of k and differential coding)"
   ]
  },
  {
   "cell_type": "code",
   "execution_count": 32,
   "id": "2dd595ba",
   "metadata": {},
   "outputs": [],
   "source": [
    "import numpy as np\n",
    "import pandas as pd"
   ]
  },
  {
   "cell_type": "code",
   "execution_count": 33,
   "id": "7584c652",
   "metadata": {},
   "outputs": [],
   "source": [
    "binary_X = np.array([[1, 2], [3, 4], [5, 6], [7, 8]])\n",
    "binary_X = pd.DataFrame(binary_X)\n",
    "binary_X.columns = ['col1', 'col2']\n",
    "\n",
    "binary_categorical = []\n",
    "\n",
    "binary_thresholds = {\n",
    "    'col1': [1.0, 5.0, 7.0],\n",
    "    'col2': [2.0, 6.0, 8.0]\n",
    "}"
   ]
  },
  {
   "cell_type": "code",
   "execution_count": 34,
   "id": "0f947c26",
   "metadata": {},
   "outputs": [],
   "source": [
    "binary_categorical_X = np.array([[1, 'a'], [3, 'b'], [5, 'c'], [7, 'a']])\n",
    "binary_categorical_X = pd.DataFrame(binary_categorical_X)\n",
    "binary_categorical_X.columns = ['col1', 'col2']\n",
    "\n",
    "binary_categorical_categorical = ['col2']\n",
    "\n",
    "binary_categorical_thresholds = {\n",
    "    'col1': [2.0, 6.0, 8.0],\n",
    "    'col2': ['a', 'b', 'c']\n",
    "}"
   ]
  },
  {
   "cell_type": "code",
   "execution_count": 35,
   "id": "29904b41",
   "metadata": {},
   "outputs": [],
   "source": [
    "ordinal_X = [[1, 2, 0], [1,2,1], [1,2,2], \n",
    "             [3,4, 0], [3,4,1], [3,4,2], \n",
    "             [5,6,0], [5,6,1], [5,6,2],\n",
    "            [7,8,0], [7,8,1], [7,8,2]]\n",
    "ordinal_X = pd.DataFrame(ordinal_X)\n",
    "ordinal_X.columns = ['col1', 'col2', 'col3']\n",
    "\n",
    "ordinal_categorical = []\n",
    "\n",
    "ordinal_thresholds = {\n",
    "    'col1': [1.0, 3.0, 7.0],\n",
    "    'col2': [2.0, 4.0, 8.0],\n",
    "    'col3': [0.0, 1.0, 2.0]\n",
    "}"
   ]
  },
  {
   "cell_type": "markdown",
   "id": "722ec991",
   "metadata": {},
   "source": [
    "##### 1 out of K"
   ]
  },
  {
   "cell_type": "code",
   "execution_count": 63,
   "id": "53b51783",
   "metadata": {},
   "outputs": [],
   "source": [
    "def disc_1_out_of_k(X, categorical, thresholds):\n",
    "    X_disc = []\n",
    "    \n",
    "    # for each column in X, create a one-hot encoding of the bins\n",
    "    for col in X.columns:\n",
    "        if col in categorical:\n",
    "            print(f\"Processing categorical column: {col}\")\n",
    "            bin = pd.Categorical(X[col], categories=thresholds[col], ordered=True).codes\n",
    "            print(\"bin: \", bin)\n",
    "            num_bins = len(thresholds[col])\n",
    "            \n",
    "        else:\n",
    "            print(f\"Processing numerical column: {col}\")\n",
    "            # make values in X[col] floats\n",
    "            X[col] = X[col].astype(float)\n",
    "            bin = np.digitize(X[col], thresholds[col]) # gets bin number of each row\n",
    "            print(\"bin: \", bin)\n",
    "            num_bins = len(thresholds[col]) + 1 \n",
    "        bins_df = pd.get_dummies(bin, prefix=f'feat{col}-bin', prefix_sep='').astype(int) # one hot encoding\n",
    "        \n",
    "        # add missing columns (if some bins are not present in the data)\n",
    "        missing_cols = []\n",
    "        for i in range(1, num_bins):\n",
    "            col_name = f'feat{col}-bin{i}'\n",
    "            if col_name not in bins_df.columns:\n",
    "                missing_cols.append(pd.Series(0, index=bins_df.index, name=col_name))\n",
    "        if missing_cols:\n",
    "            bins_df = pd.concat([bins_df] + missing_cols, axis=1)\n",
    "        \n",
    "        # remove first column (bin0)\n",
    "        bins_df = bins_df.drop(columns=f'feat{col}-bin0', errors='ignore')\n",
    "        \n",
    "        bins_df = bins_df.reindex(sorted(bins_df.columns), axis=1)\n",
    "        \n",
    "        # add bins of the column to the list\n",
    "        X_disc.append(bins_df)\n",
    "    \n",
    "    X_disc = pd.concat(X_disc, axis=1)\n",
    "    \n",
    "    # show encoded version of X\n",
    "    print(\"X_disc shape: \", X_disc.shape)\n",
    "    print(\"X_disc columns: \", X_disc.columns)\n",
    "    print(\"X_disc: \", X_disc)\n",
    "    \n",
    "    return X_disc"
   ]
  },
  {
   "cell_type": "code",
   "execution_count": null,
   "id": "27eb360c",
   "metadata": {},
   "outputs": [
    {
     "name": "stdout",
     "output_type": "stream",
     "text": [
      "Processing numerical column: col1\n",
      "bin:  [1 1 2 3]\n",
      "Processing numerical column: col2\n",
      "bin:  [1 1 2 3]\n",
      "X_disc shape:  (4, 6)\n",
      "X_disc columns:  Index(['featcol1-bin1', 'featcol1-bin2', 'featcol1-bin3', 'featcol2-bin1',\n",
      "       'featcol2-bin2', 'featcol2-bin3'],\n",
      "      dtype='object')\n",
      "X_disc:     featcol1-bin1  featcol1-bin2  featcol1-bin3  featcol2-bin1  featcol2-bin2  \\\n",
      "0              1              0              0              1              0   \n",
      "1              1              0              0              1              0   \n",
      "2              0              1              0              0              1   \n",
      "3              0              0              1              0              0   \n",
      "\n",
      "   featcol2-bin3  \n",
      "0              0  \n",
      "1              0  \n",
      "2              0  \n",
      "3              1  \n"
     ]
    }
   ],
   "source": [
    "binary_X_1ook = disc_1_out_of_k(binary_X, binary_categorical, binary_thresholds)"
   ]
  },
  {
   "cell_type": "code",
   "execution_count": null,
   "id": "af9d92dd",
   "metadata": {},
   "outputs": [
    {
     "name": "stdout",
     "output_type": "stream",
     "text": [
      "Processing numerical column: col1\n",
      "bin:  [0 1 1 2]\n",
      "Processing categorical column: col2\n",
      "bin:  [0 1 2 0]\n",
      "X_disc shape:  (4, 5)\n",
      "X_disc columns:  Index(['featcol1-bin1', 'featcol1-bin2', 'featcol1-bin3', 'featcol2-bin1',\n",
      "       'featcol2-bin2'],\n",
      "      dtype='object')\n",
      "X_disc:     featcol1-bin1  featcol1-bin2  featcol1-bin3  featcol2-bin1  featcol2-bin2\n",
      "0              0              0              0              0              0\n",
      "1              1              0              0              1              0\n",
      "2              1              0              0              0              1\n",
      "3              0              1              0              0              0\n"
     ]
    }
   ],
   "source": [
    "binary_categorical_X_1ook = disc_1_out_of_k(binary_categorical_X, binary_categorical_categorical, binary_categorical_thresholds)"
   ]
  },
  {
   "cell_type": "code",
   "execution_count": null,
   "id": "6f082423",
   "metadata": {},
   "outputs": [
    {
     "name": "stdout",
     "output_type": "stream",
     "text": [
      "Processing numerical column: col1\n",
      "bin:  [1 1 1 2 2 2 2 2 2 3 3 3]\n",
      "Processing numerical column: col2\n",
      "bin:  [1 1 1 2 2 2 2 2 2 3 3 3]\n",
      "Processing numerical column: col3\n",
      "bin:  [1 2 3 1 2 3 1 2 3 1 2 3]\n",
      "X_disc shape:  (12, 9)\n",
      "X_disc columns:  Index(['featcol1-bin1', 'featcol1-bin2', 'featcol1-bin3', 'featcol2-bin1',\n",
      "       'featcol2-bin2', 'featcol2-bin3', 'featcol3-bin1', 'featcol3-bin2',\n",
      "       'featcol3-bin3'],\n",
      "      dtype='object')\n",
      "X_disc:      featcol1-bin1  featcol1-bin2  featcol1-bin3  featcol2-bin1  featcol2-bin2  \\\n",
      "0               1              0              0              1              0   \n",
      "1               1              0              0              1              0   \n",
      "2               1              0              0              1              0   \n",
      "3               0              1              0              0              1   \n",
      "4               0              1              0              0              1   \n",
      "5               0              1              0              0              1   \n",
      "6               0              1              0              0              1   \n",
      "7               0              1              0              0              1   \n",
      "8               0              1              0              0              1   \n",
      "9               0              0              1              0              0   \n",
      "10              0              0              1              0              0   \n",
      "11              0              0              1              0              0   \n",
      "\n",
      "    featcol2-bin3  featcol3-bin1  featcol3-bin2  featcol3-bin3  \n",
      "0               0              1              0              0  \n",
      "1               0              0              1              0  \n",
      "2               0              0              0              1  \n",
      "3               0              1              0              0  \n",
      "4               0              0              1              0  \n",
      "5               0              0              0              1  \n",
      "6               0              1              0              0  \n",
      "7               0              0              1              0  \n",
      "8               0              0              0              1  \n",
      "9               1              1              0              0  \n",
      "10              1              0              1              0  \n",
      "11              1              0              0              1  \n"
     ]
    }
   ],
   "source": [
    "ordinal_X_1ook = disc_1_out_of_k(ordinal_X, ordinal_categorical, ordinal_thresholds)"
   ]
  },
  {
   "cell_type": "markdown",
   "id": "26661a0a",
   "metadata": {},
   "source": [
    "##### differential coding"
   ]
  },
  {
   "cell_type": "code",
   "execution_count": 73,
   "id": "daea58b7",
   "metadata": {},
   "outputs": [],
   "source": [
    "def disc_diff_coding(X, categorical, thresholds):\n",
    "    X_disc = []\n",
    "    for col in X.columns:\n",
    "        if col in categorical:\n",
    "            print(f\"Processing categorical column: {col}\")\n",
    "            # Convert categorical column to codes\n",
    "            bin = pd.Categorical(X[col], categories=thresholds[col], ordered=True).codes\n",
    "            print(\"bin: \", bin)\n",
    "            num_bins = len(thresholds[col])\n",
    "        else:\n",
    "            print(f\"Processing numerical column: {col}\")\n",
    "            # Ensure values in X[col] are floats\n",
    "            X[col] = X[col].astype(float)\n",
    "            bin = np.digitize(X[col], thresholds[col])\n",
    "            print(\"bin: \", bin)\n",
    "            # Get bin numbers for each row\n",
    "            num_bins = len(thresholds[col]) + 1\n",
    "            \n",
    "        bin_df = pd.DataFrame(0, index=X.index, columns=[f'feat{col}-bin{i}' for i in range(1, num_bins)])\n",
    "        for i in range(1, num_bins):\n",
    "            bin_df[f'feat{col}-bin{i}'] = (bin >= i).astype(int)\n",
    "        \n",
    "        X_disc.append(bin_df)\n",
    "\n",
    "    X_disc = pd.concat(X_disc, axis=1)\n",
    "    print(\"X_disc shape: \", X_disc.shape)\n",
    "    print(\"X_disc columns: \", X_disc.columns)\n",
    "    print(\"X_disc: \", X_disc)\n",
    "    return X_disc"
   ]
  },
  {
   "cell_type": "code",
   "execution_count": 74,
   "id": "2e972f5d",
   "metadata": {},
   "outputs": [
    {
     "name": "stdout",
     "output_type": "stream",
     "text": [
      "Processing numerical column: col1\n",
      "bin:  [1 1 2 3]\n",
      "Processing numerical column: col2\n",
      "bin:  [1 1 2 3]\n",
      "X_disc shape:  (4, 6)\n",
      "X_disc columns:  Index(['featcol1-bin1', 'featcol1-bin2', 'featcol1-bin3', 'featcol2-bin1',\n",
      "       'featcol2-bin2', 'featcol2-bin3'],\n",
      "      dtype='object')\n",
      "X_disc:     featcol1-bin1  featcol1-bin2  featcol1-bin3  featcol2-bin1  featcol2-bin2  \\\n",
      "0              1              0              0              1              0   \n",
      "1              1              0              0              1              0   \n",
      "2              1              1              0              1              1   \n",
      "3              1              1              1              1              1   \n",
      "\n",
      "   featcol2-bin3  \n",
      "0              0  \n",
      "1              0  \n",
      "2              0  \n",
      "3              1  \n"
     ]
    }
   ],
   "source": [
    "binary_X_diffcoding = disc_diff_coding(binary_X, binary_categorical, binary_thresholds)"
   ]
  },
  {
   "cell_type": "code",
   "execution_count": 75,
   "id": "40a101a5",
   "metadata": {},
   "outputs": [
    {
     "name": "stdout",
     "output_type": "stream",
     "text": [
      "Processing numerical column: col1\n",
      "bin:  [0 1 1 2]\n",
      "Processing categorical column: col2\n",
      "bin:  [0 1 2 0]\n",
      "X_disc shape:  (4, 5)\n",
      "X_disc columns:  Index(['featcol1-bin1', 'featcol1-bin2', 'featcol1-bin3', 'featcol2-bin1',\n",
      "       'featcol2-bin2'],\n",
      "      dtype='object')\n",
      "X_disc:     featcol1-bin1  featcol1-bin2  featcol1-bin3  featcol2-bin1  featcol2-bin2\n",
      "0              0              0              0              0              0\n",
      "1              1              0              0              1              0\n",
      "2              1              0              0              1              1\n",
      "3              1              1              0              0              0\n"
     ]
    }
   ],
   "source": [
    "binary_categorical_X_diffcoding = disc_diff_coding(binary_categorical_X, binary_categorical_categorical, binary_categorical_thresholds)"
   ]
  },
  {
   "cell_type": "code",
   "execution_count": 76,
   "id": "153b7242",
   "metadata": {},
   "outputs": [
    {
     "name": "stdout",
     "output_type": "stream",
     "text": [
      "Processing numerical column: col1\n",
      "bin:  [1 1 1 2 2 2 2 2 2 3 3 3]\n",
      "Processing numerical column: col2\n",
      "bin:  [1 1 1 2 2 2 2 2 2 3 3 3]\n",
      "Processing numerical column: col3\n",
      "bin:  [1 2 3 1 2 3 1 2 3 1 2 3]\n",
      "X_disc shape:  (12, 9)\n",
      "X_disc columns:  Index(['featcol1-bin1', 'featcol1-bin2', 'featcol1-bin3', 'featcol2-bin1',\n",
      "       'featcol2-bin2', 'featcol2-bin3', 'featcol3-bin1', 'featcol3-bin2',\n",
      "       'featcol3-bin3'],\n",
      "      dtype='object')\n",
      "X_disc:      featcol1-bin1  featcol1-bin2  featcol1-bin3  featcol2-bin1  featcol2-bin2  \\\n",
      "0               1              0              0              1              0   \n",
      "1               1              0              0              1              0   \n",
      "2               1              0              0              1              0   \n",
      "3               1              1              0              1              1   \n",
      "4               1              1              0              1              1   \n",
      "5               1              1              0              1              1   \n",
      "6               1              1              0              1              1   \n",
      "7               1              1              0              1              1   \n",
      "8               1              1              0              1              1   \n",
      "9               1              1              1              1              1   \n",
      "10              1              1              1              1              1   \n",
      "11              1              1              1              1              1   \n",
      "\n",
      "    featcol2-bin3  featcol3-bin1  featcol3-bin2  featcol3-bin3  \n",
      "0               0              1              0              0  \n",
      "1               0              1              1              0  \n",
      "2               0              1              1              1  \n",
      "3               0              1              0              0  \n",
      "4               0              1              1              0  \n",
      "5               0              1              1              1  \n",
      "6               0              1              0              0  \n",
      "7               0              1              1              0  \n",
      "8               0              1              1              1  \n",
      "9               1              1              0              0  \n",
      "10              1              1              1              0  \n",
      "11              1              1              1              1  \n"
     ]
    }
   ],
   "source": [
    "ordinal_X_diffcoding = disc_diff_coding(ordinal_X, ordinal_categorical, ordinal_thresholds)"
   ]
  }
 ],
 "metadata": {
  "kernelspec": {
   "display_name": "Python 3",
   "language": "python",
   "name": "python3"
  },
  "language_info": {
   "codemirror_mode": {
    "name": "ipython",
    "version": 3
   },
   "file_extension": ".py",
   "mimetype": "text/x-python",
   "name": "python",
   "nbconvert_exporter": "python",
   "pygments_lexer": "ipython3",
   "version": "3.11.12"
  }
 },
 "nbformat": 4,
 "nbformat_minor": 5
}
