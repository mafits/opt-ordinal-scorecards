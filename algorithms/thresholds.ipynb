{
 "cells": [
  {
   "cell_type": "markdown",
   "id": "ab720da3",
   "metadata": {},
   "source": [
    "## discretization thresholds (CAIM and Infinitesimal Bins)"
   ]
  },
  {
   "cell_type": "code",
   "execution_count": 1,
   "id": "31474a02",
   "metadata": {},
   "outputs": [],
   "source": [
    "from libraries.caimcaim import CAIMD\n",
    "import numpy as np\n",
    "import pandas as pd"
   ]
  },
  {
   "cell_type": "code",
   "execution_count": 2,
   "id": "765d5863",
   "metadata": {},
   "outputs": [],
   "source": [
    "binary_X = np.array([[1, 2], [3, 4], [5, 6], [7, 8]])\n",
    "binary_X = pd.DataFrame(binary_X)\n",
    "binary_X.columns = ['col1', 'col2']\n",
    "\n",
    "binary_y = np.array([0,1,0,1])\n",
    "binary_y = pd.Series(binary_y)\n",
    "\n",
    "binary_categorical = []"
   ]
  },
  {
   "cell_type": "code",
   "execution_count": 3,
   "id": "36d63ee4",
   "metadata": {},
   "outputs": [],
   "source": [
    "binary_categorical_X = np.array([[1, 'a'], [3, 'b'], [5, 'c'], [7, 'a']])\n",
    "binary_categorical_X = pd.DataFrame(binary_categorical_X)\n",
    "binary_categorical_X.columns = ['col1', 'col2']\n",
    "\n",
    "binary_categorical_y = np.array([0, 1, 0, 1])\n",
    "binary_categorical_y = pd.Series(binary_categorical_y)\n",
    "\n",
    "binary_categorical_categorical = ['col2']"
   ]
  },
  {
   "cell_type": "code",
   "execution_count": 4,
   "id": "8a75b8ac",
   "metadata": {},
   "outputs": [],
   "source": [
    "ordinal_X = [[1, 2, 0], [1,2,1], [1,2,2], \n",
    "             [3,4, 0], [3,4,1], [3,4,2], \n",
    "             [5,6,0], [5,6,1], [5,6,2],\n",
    "            [7,8,0], [7,8,1], [7,8,2]]\n",
    "ordinal_X = pd.DataFrame(ordinal_X)\n",
    "ordinal_X.columns = ['col1', 'col2', 'col3']\n",
    "\n",
    "ordinal_y = np.array([0,0,0,\n",
    "                      1,0,0,\n",
    "                      1,1,0,\n",
    "                      1,1,1])\n",
    "ordinal_y = pd.Series(ordinal_y)\n",
    "ordinal_y.name = 'binary_label'\n",
    "\n",
    "ordinal_categorical = []"
   ]
  },
  {
   "cell_type": "markdown",
   "id": "3232363b",
   "metadata": {},
   "source": [
    "##### CAIM"
   ]
  },
  {
   "cell_type": "code",
   "execution_count": 5,
   "id": "0c0a5a2b",
   "metadata": {},
   "outputs": [],
   "source": [
    "def discretize_caim(X, y, categorical, use_sbc=False):\n",
    "    index_categorical = [X.columns.get_loc(col) for col in categorical]\n",
    "    caim = CAIMD(list(categorical))\n",
    "    \n",
    "    # remove sbc_column\n",
    "    X_aux = X.copy()\n",
    "    if use_sbc:\n",
    "        sbc_column = X.columns[-1]\n",
    "        # remove sbc_column from X_aux\n",
    "        X_aux = X_aux.drop(columns=[sbc_column])\n",
    "\n",
    "    # get thresholds\n",
    "    caim.fit_transform(X_aux, y) # fit() and transform()\n",
    "    \n",
    "    # get thresholds from caim.split_scheme (dict with column index : thresholds)\n",
    "    # transform all values to floats\n",
    "    # and keys with column indexes to column names \n",
    "    index_non_categorical = [i for i in range(X_aux.shape[1]) if i not in index_categorical]\n",
    "    thresholds = {X_aux.columns[index_non_categorical[i]]: [float(val) for val in values] for i, (key, values) in enumerate(caim.split_scheme.items())}\n",
    "    \n",
    "    # for categorical features\n",
    "    # sort the unique values and make thresholds be the values in between each pair of consecutive values\n",
    "    for i, col in enumerate(categorical):\n",
    "        thresholds[col] = np.unique(X[col].astype(str))\n",
    "        thresholds[col] = list(thresholds[col])\n",
    "        \n",
    "    # do thresholds for sbc_column (= the values of the column)\n",
    "    if use_sbc:\n",
    "        thresholds[sbc_column] = {float(val) for val in X[sbc_column]}\n",
    "        thresholds[sbc_column] = list(thresholds[sbc_column])\n",
    "    \n",
    "    # print thresholds\n",
    "    print(\"\\nthresholds \", thresholds)\n",
    "    print(\"num of bins: \")\n",
    "    for i, (key, value) in enumerate(thresholds.items()):\n",
    "        if i in index_categorical:\n",
    "            print(f\"  {key}: {len(value)}\")\n",
    "        else:\n",
    "            # +1 because the number of bins is the number of thresholds + 1\n",
    "            # e.g. if thresholds are [2, 4, 6], then there are 4 bins: (-inf, 2), [2, 4), [4, 6), [6, inf)\n",
    "            print(f\"  {key}: {len(value)+1}\")\n",
    "        \n",
    "    return thresholds"
   ]
  },
  {
   "cell_type": "code",
   "execution_count": 6,
   "id": "17baa931",
   "metadata": {},
   "outputs": [
    {
     "name": "stdout",
     "output_type": "stream",
     "text": [
      "# 0  GLOBAL CAIM  1.1666666666666665\n",
      "# 1  GLOBAL CAIM  1.1666666666666665\n",
      "\n",
      "thresholds  {'col1': [1.0, 5.0, 7.0], 'col2': [2.0, 6.0, 8.0]}\n",
      "num of bins: \n",
      "  col1: 4\n",
      "  col2: 4\n"
     ]
    }
   ],
   "source": [
    "binary_thresholds_caim = discretize_caim(binary_X, binary_y, binary_categorical)"
   ]
  },
  {
   "cell_type": "code",
   "execution_count": 7,
   "id": "a022044f",
   "metadata": {},
   "outputs": [
    {
     "name": "stdout",
     "output_type": "stream",
     "text": [
      "# 0  GLOBAL CAIM  1.1666666666666665\n",
      "\n",
      "thresholds  {'col1': [1.0, 5.0, 7.0], 'col2': ['a', 'b', 'c']}\n",
      "num of bins: \n",
      "  col1: 4\n",
      "  col2: 3\n"
     ]
    }
   ],
   "source": [
    "binary_categorical_thresholds_caim = discretize_caim(binary_categorical_X, binary_categorical_y, binary_categorical_categorical)"
   ]
  },
  {
   "cell_type": "code",
   "execution_count": 8,
   "id": "a3f7080a",
   "metadata": {},
   "outputs": [
    {
     "name": "stdout",
     "output_type": "stream",
     "text": [
      "# 0  GLOBAL CAIM  4.166666666666667\n",
      "# 1  GLOBAL CAIM  4.166666666666667\n",
      "\n",
      "thresholds  {'col1': [1.0, 3.0, 7.0], 'col2': [2.0, 4.0, 8.0], 'col3': [0.0, 1.0, 2.0]}\n",
      "num of bins: \n",
      "  col1: 4\n",
      "  col2: 4\n",
      "  col3: 4\n"
     ]
    }
   ],
   "source": [
    "ordinal_thresholds_caim = discretize_caim(ordinal_X, ordinal_y, ordinal_categorical, use_sbc=True)"
   ]
  },
  {
   "cell_type": "markdown",
   "id": "8500bb00",
   "metadata": {},
   "source": [
    "##### infinitesimal bins"
   ]
  },
  {
   "cell_type": "code",
   "execution_count": 9,
   "id": "d1241205",
   "metadata": {},
   "outputs": [],
   "source": [
    "# thresholds are the points in between 2 consecutive values in the sorted list\n",
    "def discretize_infbins(X, categorical):\n",
    "    thresholds = {}\n",
    "    for col in X.columns:\n",
    "        if col in categorical:\n",
    "            thresholds[col] = np.unique(X[col].astype(str))\n",
    "            thresholds[col] = list(thresholds[col])\n",
    "        else:\n",
    "            sorted_col = np.unique(X[col])\n",
    "            sorted_col = sorted_col.astype(float)\n",
    "            col_thresholds = (sorted_col[:-1] + sorted_col[1:]) / 2\n",
    "            thresholds[col] = col_thresholds.tolist()\n",
    "    \n",
    "    print(\"\\nthresholds \", thresholds)\n",
    "    print(\"num of bins: \")\n",
    "    for key, value in thresholds.items():\n",
    "        if key in categorical:\n",
    "            print(f\"  {key}: {len(value)}\")\n",
    "        else:\n",
    "            print(f\"  {key}: {len(value)+1}\")\n",
    "\n",
    "    return thresholds"
   ]
  },
  {
   "cell_type": "code",
   "execution_count": 10,
   "id": "7de505a5",
   "metadata": {},
   "outputs": [
    {
     "name": "stdout",
     "output_type": "stream",
     "text": [
      "\n",
      "thresholds  {'col1': [2.0, 4.0, 6.0], 'col2': [3.0, 5.0, 7.0]}\n",
      "num of bins: \n",
      "  col1: 4\n",
      "  col2: 4\n"
     ]
    }
   ],
   "source": [
    "binary_thresholds_infbins = discretize_infbins(binary_X, binary_categorical)"
   ]
  },
  {
   "cell_type": "code",
   "execution_count": 11,
   "id": "e3a4b5aa",
   "metadata": {},
   "outputs": [
    {
     "name": "stdout",
     "output_type": "stream",
     "text": [
      "\n",
      "thresholds  {'col1': [2.0, 4.0, 6.0], 'col2': ['a', 'b', 'c']}\n",
      "num of bins: \n",
      "  col1: 4\n",
      "  col2: 3\n"
     ]
    }
   ],
   "source": [
    "binary_categorical_thresholds_infbins = discretize_infbins(binary_categorical_X, binary_categorical_categorical)"
   ]
  },
  {
   "cell_type": "code",
   "execution_count": 12,
   "id": "70709985",
   "metadata": {},
   "outputs": [
    {
     "name": "stdout",
     "output_type": "stream",
     "text": [
      "\n",
      "thresholds  {'col1': [2.0, 4.0, 6.0], 'col2': [3.0, 5.0, 7.0], 'col3': [0.5, 1.5]}\n",
      "num of bins: \n",
      "  col1: 4\n",
      "  col2: 4\n",
      "  col3: 3\n"
     ]
    }
   ],
   "source": [
    "ordinal_thresholds_infbins = discretize_infbins(ordinal_X, ordinal_categorical)"
   ]
  }
 ],
 "metadata": {
  "kernelspec": {
   "display_name": "Python 3",
   "language": "python",
   "name": "python3"
  },
  "language_info": {
   "codemirror_mode": {
    "name": "ipython",
    "version": 3
   },
   "file_extension": ".py",
   "mimetype": "text/x-python",
   "name": "python",
   "nbconvert_exporter": "python",
   "pygments_lexer": "ipython3",
   "version": "3.11.12"
  }
 },
 "nbformat": 4,
 "nbformat_minor": 5
}
