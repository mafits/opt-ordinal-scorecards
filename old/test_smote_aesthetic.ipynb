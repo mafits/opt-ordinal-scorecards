{
 "cells": [
  {
   "cell_type": "code",
   "execution_count": 1,
   "id": "257e26b2",
   "metadata": {},
   "outputs": [],
   "source": [
    "import pandas as pd\n",
    "from matplotlib import pyplot as plt\n",
    "import numpy as np\n",
    "from scorecard import Scorecard\n",
    "import time\n",
    "from ucimlrepo import fetch_ucirepo \n",
    "\n",
    "from sklearn.metrics import accuracy_score"
   ]
  },
  {
   "cell_type": "markdown",
   "id": "5e26c6bf",
   "metadata": {},
   "source": [
    "## aesthetic evaluation dataset"
   ]
  },
  {
   "cell_type": "markdown",
   "id": "9d265cca",
   "metadata": {},
   "source": [
    "#### load dataset"
   ]
  },
  {
   "cell_type": "code",
   "execution_count": 2,
   "id": "499545c3",
   "metadata": {},
   "outputs": [
    {
     "data": {
      "text/html": [
       "<div>\n",
       "<style scoped>\n",
       "    .dataframe tbody tr th:only-of-type {\n",
       "        vertical-align: middle;\n",
       "    }\n",
       "\n",
       "    .dataframe tbody tr th {\n",
       "        vertical-align: top;\n",
       "    }\n",
       "\n",
       "    .dataframe thead th {\n",
       "        text-align: right;\n",
       "    }\n",
       "</style>\n",
       "<table border=\"1\" class=\"dataframe\">\n",
       "  <thead>\n",
       "    <tr style=\"text-align: right;\">\n",
       "      <th></th>\n",
       "      <th>Subjective Evaluation</th>\n",
       "      <th>BRA Value</th>\n",
       "      <th>LBC Value</th>\n",
       "      <th>UNR Value</th>\n",
       "      <th>BCE Value</th>\n",
       "      <th>BCD Value</th>\n",
       "      <th>BAD Value</th>\n",
       "      <th>BOD Value</th>\n",
       "      <th>pBRA Value</th>\n",
       "      <th>pLBC Value</th>\n",
       "      <th>...</th>\n",
       "      <th>pBAD Value</th>\n",
       "      <th>pBOD Value</th>\n",
       "      <th>cX2L Value</th>\n",
       "      <th>cX2a Value</th>\n",
       "      <th>cX2b Value</th>\n",
       "      <th>cX2Lab Value</th>\n",
       "      <th>cEMDL Value</th>\n",
       "      <th>cEMDa Value</th>\n",
       "      <th>cEMDb Value</th>\n",
       "      <th>cEMDLab Value</th>\n",
       "    </tr>\n",
       "  </thead>\n",
       "  <tbody>\n",
       "    <tr>\n",
       "      <th>0</th>\n",
       "      <td>Good</td>\n",
       "      <td>1.149009</td>\n",
       "      <td>0.830915</td>\n",
       "      <td>0.107618</td>\n",
       "      <td>0.938534</td>\n",
       "      <td>1.934477</td>\n",
       "      <td>4.885198</td>\n",
       "      <td>17.296370</td>\n",
       "      <td>0.049401</td>\n",
       "      <td>0.033356</td>\n",
       "      <td>...</td>\n",
       "      <td>0.029188</td>\n",
       "      <td>0.103340</td>\n",
       "      <td>0.097502</td>\n",
       "      <td>0.009506</td>\n",
       "      <td>0.217169</td>\n",
       "      <td>0.100670</td>\n",
       "      <td>1.503086</td>\n",
       "      <td>0.030362</td>\n",
       "      <td>0.291363</td>\n",
       "      <td>0.210082</td>\n",
       "    </tr>\n",
       "    <tr>\n",
       "      <th>1</th>\n",
       "      <td>Good</td>\n",
       "      <td>2.368824</td>\n",
       "      <td>1.326447</td>\n",
       "      <td>1.599444</td>\n",
       "      <td>0.272997</td>\n",
       "      <td>0.035378</td>\n",
       "      <td>19.932998</td>\n",
       "      <td>68.761479</td>\n",
       "      <td>0.113919</td>\n",
       "      <td>0.058509</td>\n",
       "      <td>...</td>\n",
       "      <td>0.117875</td>\n",
       "      <td>0.406627</td>\n",
       "      <td>0.305692</td>\n",
       "      <td>0.159653</td>\n",
       "      <td>0.193317</td>\n",
       "      <td>0.061736</td>\n",
       "      <td>1.248600</td>\n",
       "      <td>0.206529</td>\n",
       "      <td>0.351693</td>\n",
       "      <td>0.105346</td>\n",
       "    </tr>\n",
       "    <tr>\n",
       "      <th>2</th>\n",
       "      <td>Good</td>\n",
       "      <td>1.409939</td>\n",
       "      <td>0.950935</td>\n",
       "      <td>0.278358</td>\n",
       "      <td>1.229293</td>\n",
       "      <td>2.221074</td>\n",
       "      <td>22.277770</td>\n",
       "      <td>38.323430</td>\n",
       "      <td>0.067231</td>\n",
       "      <td>0.038613</td>\n",
       "      <td>...</td>\n",
       "      <td>0.120132</td>\n",
       "      <td>0.206658</td>\n",
       "      <td>0.109386</td>\n",
       "      <td>0.024217</td>\n",
       "      <td>0.280625</td>\n",
       "      <td>0.012974</td>\n",
       "      <td>0.545858</td>\n",
       "      <td>0.075520</td>\n",
       "      <td>0.304185</td>\n",
       "      <td>0.049345</td>\n",
       "    </tr>\n",
       "    <tr>\n",
       "      <th>3</th>\n",
       "      <td>Good</td>\n",
       "      <td>2.059918</td>\n",
       "      <td>0.720926</td>\n",
       "      <td>1.786307</td>\n",
       "      <td>1.065381</td>\n",
       "      <td>1.995007</td>\n",
       "      <td>25.163410</td>\n",
       "      <td>31.631070</td>\n",
       "      <td>0.100705</td>\n",
       "      <td>0.032141</td>\n",
       "      <td>...</td>\n",
       "      <td>0.156030</td>\n",
       "      <td>0.196133</td>\n",
       "      <td>0.038581</td>\n",
       "      <td>0.032267</td>\n",
       "      <td>0.026153</td>\n",
       "      <td>0.010779</td>\n",
       "      <td>0.334111</td>\n",
       "      <td>0.105626</td>\n",
       "      <td>0.137693</td>\n",
       "      <td>0.031455</td>\n",
       "    </tr>\n",
       "    <tr>\n",
       "      <th>4</th>\n",
       "      <td>Good</td>\n",
       "      <td>2.452595</td>\n",
       "      <td>0.798596</td>\n",
       "      <td>1.868745</td>\n",
       "      <td>1.070148</td>\n",
       "      <td>1.218189</td>\n",
       "      <td>0.395585</td>\n",
       "      <td>31.426783</td>\n",
       "      <td>0.117249</td>\n",
       "      <td>0.035235</td>\n",
       "      <td>...</td>\n",
       "      <td>0.002820</td>\n",
       "      <td>0.224062</td>\n",
       "      <td>0.021259</td>\n",
       "      <td>0.027071</td>\n",
       "      <td>0.029206</td>\n",
       "      <td>0.006495</td>\n",
       "      <td>0.165401</td>\n",
       "      <td>0.081549</td>\n",
       "      <td>0.091768</td>\n",
       "      <td>0.030546</td>\n",
       "    </tr>\n",
       "  </tbody>\n",
       "</table>\n",
       "<p>5 rows × 23 columns</p>\n",
       "</div>"
      ],
      "text/plain": [
       "  Subjective Evaluation  BRA Value  LBC Value  UNR Value  BCE Value  \\\n",
       "0                  Good   1.149009   0.830915   0.107618   0.938534   \n",
       "1                  Good   2.368824   1.326447   1.599444   0.272997   \n",
       "2                  Good   1.409939   0.950935   0.278358   1.229293   \n",
       "3                  Good   2.059918   0.720926   1.786307   1.065381   \n",
       "4                  Good   2.452595   0.798596   1.868745   1.070148   \n",
       "\n",
       "   BCD Value  BAD Value  BOD Value  pBRA Value  pLBC Value  ...  pBAD Value  \\\n",
       "0   1.934477   4.885198  17.296370    0.049401    0.033356  ...    0.029188   \n",
       "1   0.035378  19.932998  68.761479    0.113919    0.058509  ...    0.117875   \n",
       "2   2.221074  22.277770  38.323430    0.067231    0.038613  ...    0.120132   \n",
       "3   1.995007  25.163410  31.631070    0.100705    0.032141  ...    0.156030   \n",
       "4   1.218189   0.395585  31.426783    0.117249    0.035235  ...    0.002820   \n",
       "\n",
       "   pBOD Value  cX2L Value  cX2a Value  cX2b Value  cX2Lab Value  cEMDL Value  \\\n",
       "0    0.103340    0.097502    0.009506    0.217169      0.100670     1.503086   \n",
       "1    0.406627    0.305692    0.159653    0.193317      0.061736     1.248600   \n",
       "2    0.206658    0.109386    0.024217    0.280625      0.012974     0.545858   \n",
       "3    0.196133    0.038581    0.032267    0.026153      0.010779     0.334111   \n",
       "4    0.224062    0.021259    0.027071    0.029206      0.006495     0.165401   \n",
       "\n",
       "   cEMDa Value  cEMDb Value  cEMDLab Value  \n",
       "0     0.030362     0.291363       0.210082  \n",
       "1     0.206529     0.351693       0.105346  \n",
       "2     0.075520     0.304185       0.049345  \n",
       "3     0.105626     0.137693       0.031455  \n",
       "4     0.081549     0.091768       0.030546  \n",
       "\n",
       "[5 rows x 23 columns]"
      ]
     },
     "execution_count": 2,
     "metadata": {},
     "output_type": "execute_result"
    }
   ],
   "source": [
    "aesthetic_evaluation_data = pd.read_csv('datasets/aesthetic_evaluation_data.csv')\n",
    "aesthetic_evaluation_objective = aesthetic_evaluation_data['Objective Evaluation']\n",
    "\n",
    "# get data from author = eduard.bonci\n",
    "aesthetic_evaluation_data_eduard = aesthetic_evaluation_data[aesthetic_evaluation_data['Author'] == 'eduard.bonci']\n",
    "aesthetic_evaluation_data_eduard_objective = aesthetic_evaluation_data_eduard['Objective Evaluation']\n",
    "aesthetic_evaluation_data_eduard = aesthetic_evaluation_data_eduard.drop(columns=['Image Filename','Author','Objective Evaluation', 'sX2L Value','sX2a Value','sX2b Value','sX2Lab Value','sEMDL Value','sEMDa Value','sEMDb Value','sEMDLab Value'])\n",
    "aesthetic_evaluation_data_eduard_X = aesthetic_evaluation_data_eduard.drop(columns='Subjective Evaluation')\n",
    "aesthetic_evaluation_data_eduard_y = aesthetic_evaluation_data_eduard['Subjective Evaluation']\n",
    "\n",
    "# get data from author = cmavioso\n",
    "aesthetic_evaluation_data_cmavioso = aesthetic_evaluation_data[aesthetic_evaluation_data['Author'] == 'cmavioso']\n",
    "aesthetic_evaluation_data_cmavioso_objective = aesthetic_evaluation_data_cmavioso['Objective Evaluation']\n",
    "aesthetic_evaluation_data_cmavioso = aesthetic_evaluation_data_cmavioso.drop(columns=['Image Filename','Author','Objective Evaluation', 'sX2L Value','sX2a Value','sX2b Value','sX2Lab Value','sEMDL Value','sEMDa Value','sEMDb Value','sEMDLab Value'])\n",
    "aesthetic_evaluation_data_cmavioso_X = aesthetic_evaluation_data_cmavioso.drop(columns='Subjective Evaluation')\n",
    "aesthetic_evaluation_data_cmavioso_y = aesthetic_evaluation_data_cmavioso['Subjective Evaluation']\n",
    "\n",
    "# get data from author = mariajoaocardoso\n",
    "aesthetic_evaluation_data_mariajoaocardoso = aesthetic_evaluation_data[aesthetic_evaluation_data['Author'] == 'mariajoaocardoso']\n",
    "aesthetic_evaluation_data_mariajoaocardoso_objective = aesthetic_evaluation_data_mariajoaocardoso['Objective Evaluation']\n",
    "aesthetic_evaluation_data_mariajoaocardoso = aesthetic_evaluation_data_mariajoaocardoso.drop(columns=['Image Filename','Author','Objective Evaluation', 'sX2L Value','sX2a Value','sX2b Value','sX2Lab Value','sEMDL Value','sEMDa Value','sEMDb Value','sEMDLab Value'])\n",
    "aesthetic_evaluation_data_mariajoaocardoso_X = aesthetic_evaluation_data_mariajoaocardoso.drop(columns='Subjective Evaluation')\n",
    "aesthetic_evaluation_data_mariajoaocardoso_y = aesthetic_evaluation_data_mariajoaocardoso['Subjective Evaluation']\n",
    "\n",
    "# get all data\n",
    "aesthetic_evaluation_data = aesthetic_evaluation_data.drop(columns=['Image Filename','Author','Objective Evaluation', 'sX2L Value','sX2a Value','sX2b Value','sX2Lab Value','sEMDL Value','sEMDa Value','sEMDb Value','sEMDLab Value'])\n",
    "aesthetic_evaluation_X = aesthetic_evaluation_data.drop(columns='Subjective Evaluation')\n",
    "aesthetic_evaluation_y = aesthetic_evaluation_data['Subjective Evaluation']\n",
    "\n",
    "aesthetic_evaluation_data.head()"
   ]
  },
  {
   "cell_type": "code",
   "execution_count": 3,
   "id": "d6ac7c3a",
   "metadata": {},
   "outputs": [
    {
     "name": "stdout",
     "output_type": "stream",
     "text": [
      "Number of observations: 1358\n",
      "Number of features: 23\n",
      "Number of observations for eduard.bonci: 494\n",
      "Number of observations for cmavioso: 237\n",
      "Number of observations for mariajoaocardoso: 627\n"
     ]
    }
   ],
   "source": [
    "# number of observations\n",
    "print(f\"Number of observations: {len(aesthetic_evaluation_data)}\")\n",
    "\n",
    "# number of features\n",
    "print(f\"Number of features: {len(aesthetic_evaluation_data.columns)}\")\n",
    "\n",
    "# num of of obs for eduard.bonci\n",
    "print(f\"Number of observations for eduard.bonci: {len(aesthetic_evaluation_data_eduard)}\")\n",
    "\n",
    "# num of of obs for cmavioso\n",
    "print(f\"Number of observations for cmavioso: {len(aesthetic_evaluation_data_cmavioso)}\")\n",
    "\n",
    "# num of of obs for mariajoaocardoso\n",
    "print(f\"Number of observations for mariajoaocardoso: {len(aesthetic_evaluation_data_mariajoaocardoso)}\")"
   ]
  },
  {
   "cell_type": "code",
   "execution_count": 4,
   "id": "17776ff9",
   "metadata": {},
   "outputs": [
    {
     "name": "stdout",
     "output_type": "stream",
     "text": [
      "Subjective Evaluation\n",
      "Good         595\n",
      "Fair         353\n",
      "Excellent    308\n",
      "Poor         102\n",
      "Name: count, dtype: int64\n",
      "\n",
      "eduard.bonci target variable distribution:   Subjective Evaluation\n",
      "Good         231\n",
      "Fair         135\n",
      "Excellent    106\n",
      "Poor          22\n",
      "Name: count, dtype: int64\n",
      "\n",
      "cmavioso target variable distribution:   Subjective Evaluation\n",
      "Good         108\n",
      "Excellent     81\n",
      "Fair          36\n",
      "Poor          12\n",
      "Name: count, dtype: int64\n",
      "\n",
      "mariajoaocardoso target variable distribution:   Subjective Evaluation\n",
      "Good         256\n",
      "Fair         182\n",
      "Excellent    121\n",
      "Poor          68\n",
      "Name: count, dtype: int64\n"
     ]
    }
   ],
   "source": [
    "# distribution of the target variable\n",
    "print(aesthetic_evaluation_y.value_counts())\n",
    "\n",
    "# for eduard.bonci\n",
    "print(\"\\neduard.bonci target variable distribution:  \", aesthetic_evaluation_data_eduard_y.value_counts())\n",
    "\n",
    "# for cmavioso\n",
    "print(\"\\ncmavioso target variable distribution:  \", aesthetic_evaluation_data_cmavioso_y.value_counts())\n",
    "\n",
    "# for mariajoaocardoso\n",
    "print(\"\\nmariajoaocardoso target variable distribution:  \", aesthetic_evaluation_data_mariajoaocardoso_y.value_counts())"
   ]
  },
  {
   "cell_type": "code",
   "execution_count": 5,
   "id": "550dde14",
   "metadata": {},
   "outputs": [
    {
     "data": {
      "text/plain": [
       "Subjective Evaluation\n",
       "Good         0.438144\n",
       "Fair         0.259941\n",
       "Excellent    0.226804\n",
       "Poor         0.075110\n",
       "Name: proportion, dtype: float64"
      ]
     },
     "execution_count": 5,
     "metadata": {},
     "output_type": "execute_result"
    }
   ],
   "source": [
    "# show proportion of each class\n",
    "aesthetic_evaluation_y.value_counts(normalize=True)"
   ]
  },
  {
   "cell_type": "code",
   "execution_count": 6,
   "id": "ee9c1984",
   "metadata": {},
   "outputs": [
    {
     "data": {
      "text/plain": [
       "Text(0.5, 1.0, 'Distribution of Subjective Evaluation')"
      ]
     },
     "execution_count": 6,
     "metadata": {},
     "output_type": "execute_result"
    },
    {
     "data": {
      "image/png": "[encoded data removed]",
      "text/plain": [
       "<Figure size 640x480 with 1 Axes>"
      ]
     },
     "metadata": {},
     "output_type": "display_data"
    }
   ],
   "source": [
    "aesthetic_evaluation_y.hist()\n",
    "plt.xlabel('Subjective Evaluation')\n",
    "plt.ylabel('Frequency')\n",
    "plt.title('Distribution of Subjective Evaluation')"
   ]
  },
  {
   "cell_type": "code",
   "execution_count": 7,
   "id": "b6016646",
   "metadata": {},
   "outputs": [
    {
     "name": "stdout",
     "output_type": "stream",
     "text": [
      "Accuracy of objective evaluation: 0.5876288659793815\n",
      "Accuracy of objective evaluation for eduard.bonci: 0.5404858299595142\n",
      "Accuracy of objective evaluation for cmavioso: 0.679324894514768\n",
      "Accuracy of objective evaluation for mariajoaocardoso: 0.5901116427432217\n"
     ]
    }
   ],
   "source": [
    "# accuracy of 'objective evaluation' relative to target\n",
    "acc = accuracy_score(aesthetic_evaluation_y, aesthetic_evaluation_objective)\n",
    "print(f'Accuracy of objective evaluation: {acc}')\n",
    "\n",
    "# accuracy of 'objective evaluation' relative to target for eduard.bonci\n",
    "acc_eduard = accuracy_score(aesthetic_evaluation_data_eduard_y, aesthetic_evaluation_data_eduard_objective)\n",
    "print(f'Accuracy of objective evaluation for eduard.bonci: {acc_eduard}')   \n",
    "\n",
    "# accuracy of 'objective evaluation' relative to target for cmavioso\n",
    "acc_cmavioso = accuracy_score(aesthetic_evaluation_data_cmavioso_y, aesthetic_evaluation_data_cmavioso_objective)\n",
    "print(f'Accuracy of objective evaluation for cmavioso: {acc_cmavioso}') \n",
    "\n",
    "# accuracy of 'objective evaluation' relative to target for mariajoaocardoso\n",
    "acc_mariajoaocardoso = accuracy_score(aesthetic_evaluation_data_mariajoaocardoso_y, aesthetic_evaluation_data_mariajoaocardoso_objective)\n",
    "print(f'Accuracy of objective evaluation for mariajoaocardoso: {acc_mariajoaocardoso}') \n"
   ]
  },
  {
   "cell_type": "code",
   "execution_count": 8,
   "id": "50a8f74e",
   "metadata": {},
   "outputs": [
    {
     "name": "stdout",
     "output_type": "stream",
     "text": [
      "Categorical columns: []\n"
     ]
    }
   ],
   "source": [
    "# get categorical columns\n",
    "categorical_columns = aesthetic_evaluation_X.select_dtypes(include=['object']).columns.tolist()\n",
    "print(f'Categorical columns: {categorical_columns}')\n",
    "\n",
    "# encode categorical columns\n",
    "for col in categorical_columns:\n",
    "    aesthetic_evaluation_X[col] = aesthetic_evaluation_X[col].astype('category').cat.codes.astype('int')\n",
    "    print(f\"Column {col} encoded as: {aesthetic_evaluation_X[col].unique()}\")\n",
    "\n",
    "# do a mapping for the ordinal target variable\n",
    "mapping = {1: 'Poor', 2: 'Fair', 3: 'Good', 4: 'Excellent'}\n",
    "\n",
    "K = 4  # number of classes"
   ]
  },
  {
   "cell_type": "markdown",
   "id": "e60d3700",
   "metadata": {},
   "source": [
    "#### CAIM & 1ook"
   ]
  },
  {
   "cell_type": "code",
   "execution_count": null,
   "id": "111c6ea6",
   "metadata": {},
   "outputs": [
    {
     "name": "stdout",
     "output_type": "stream",
     "text": [
      "Number of observations after SMOTE:  1816\n",
      "Number of classes after SMOTE:  4\n",
      "Target distribution after SMOTE:  Subjective Evaluation\n",
      "Fair         454\n",
      "Good         454\n",
      "Excellent    454\n",
      "Poor         454\n",
      "Name: count, dtype: int64\n",
      "testing parameters: {'C': 1000.0}\n",
      "  fold  1\n",
      "  fold  2\n",
      "  fold  3\n",
      "  fold  4\n",
      "  fold  5\n",
      "  mean score: 0.6250007568189386\n",
      "testing parameters: {'C': 100.0}\n",
      "  fold  1\n",
      "  fold  2\n",
      "  fold  3\n",
      "  fold  4\n",
      "  fold  5\n",
      "  mean score: 0.6255517210062664\n",
      "testing parameters: {'C': 10.0}\n",
      "  fold  1\n",
      "  fold  2\n",
      "  fold  3\n",
      "  fold  4\n",
      "  fold  5\n",
      "  mean score: 0.6255502073683892\n",
      "testing parameters: {'C': 2.5}\n",
      "  fold  1\n",
      "  fold  2\n",
      "  fold  3\n",
      "  fold  4\n",
      "  fold  5\n",
      "  mean score: 0.6299579208670117\n",
      "testing parameters: {'C': 1.6666666666666667}\n",
      "  fold  1\n",
      "  fold  2\n",
      "  fold  3\n",
      "  fold  4\n",
      "  fold  5\n",
      "  mean score: 0.6288544788544789\n",
      "testing parameters: {'C': 1.1111111111111112}\n",
      "  fold  1\n",
      "  fold  2\n",
      "  fold  3\n",
      "  fold  4\n",
      "  fold  5\n",
      "  mean score: 0.6283050283050283\n",
      "testing parameters: {'C': 1.0101010101010102}\n",
      "  fold  1\n",
      "  fold  2\n",
      "  fold  3\n",
      "  fold  4\n",
      "  fold  5\n",
      "  mean score: 0.6277540641177005\n",
      "testing parameters: {'C': 1.0}\n",
      "  fold  1\n",
      "  fold  2\n",
      "  fold  3\n",
      "  fold  4\n",
      "  fold  5\n",
      "  mean score: 0.6277540641177005\n",
      "best parameters:  {'C': 2.5}\n",
      "best alpha:  0.4\n",
      "best score:  0.6299579208670117\n",
      "Execution time: 1213.393748998642 seconds\n",
      "\n",
      "Evaluating the model on the test set...\n",
      "     True Value  Prediction\n",
      "0             2           1\n",
      "1             2           2\n",
      "2             4           3\n",
      "3             3           3\n",
      "4             3           3\n",
      "..          ...         ...\n",
      "335           3           3\n",
      "336           3           2\n",
      "337           4           3\n",
      "338           4           3\n",
      "339           4           4\n",
      "\n",
      "[340 rows x 2 columns]\n",
      "accuracy:  0.5117647058823529\n",
      "precision:  0.5134221594928025\n",
      "recall:  0.5117647058823529\n",
      "f1 score:  0.5116536370071264\n",
      "balanced accuracy:  0.5197307324518656\n",
      "logistic loss:  0.007954428936428323\n",
      "mse:  0.55\n",
      "number of far off predictions:  23\n",
      "number of features:  112\n",
      "number of non-zero weights:  85\n",
      "model size (non-zero weights / all weights):  0.7589285714285714\n"
     ]
    },
    {
     "data": {
      "image/png": "[encoded data removed]",
      "text/plain": [
       "<Figure size 800x600 with 2 Axes>"
      ]
     },
     "metadata": {},
     "output_type": "display_data"
    },
    {
     "name": "stdout",
     "output_type": "stream",
     "text": [
      "accuracy for class 1: 0.538\n",
      "accuracy for class 2: 0.461\n",
      "accuracy for class 3: 0.496\n",
      "accuracy for class 4: 0.583\n",
      "\n",
      "Evaluating the model on the train set...\n",
      "accuracy on train set:  0.6448237885462555\n",
      "precision on train set:  0.6557423978451721\n",
      "recall on train set:  0.6448237885462555\n",
      "f1 score on train set:  0.648405907186321\n",
      "balanced accuracy on train set:  0.6448237885462555\n",
      "logistic loss on train set:  0.07665308348656896\n",
      "mse on train set:  0.44548458149779735\n",
      "\n",
      "Scorecard table:\n",
      "          Feature                                       Bin    Points\n",
      "0       BRA Value   [0.1623383287101974, 1.896475406824211[ -0.006593\n",
      "1       BRA Value   [1.896475406824211, 3.7108204121868655[  0.498997\n",
      "2       BRA Value   [3.7108204121868655, 4.254578929780189[  0.311531\n",
      "3       BRA Value   [4.254578929780189, 24.075530326533293[  0.315480\n",
      "4       LBC Value  [0.0004087089954772, 0.9968621384151554[  0.284622\n",
      "..            ...                                       ...       ...\n",
      "78    cEMDb Value                  [4.141584396362305, inf[  1.493674\n",
      "79  cEMDLab Value  [0.0011950564795774, 0.1322092176004152[  0.502179\n",
      "80  cEMDLab Value  [0.1322092176004152, 0.1682138081747372[  0.271699\n",
      "81  cEMDLab Value   [0.271539445050019, 1.0932778279081192[ -0.466466\n",
      "82  cEMDLab Value                 [1.0932778279081192, inf[  0.245320\n",
      "\n",
      "[83 rows x 3 columns]\n",
      "\n",
      "SBC columns weights:\n",
      "             Feature    Weight\n",
      "110  featsbcol1-bin1 -3.223410\n",
      "111  featsbcol2-bin1 -5.488569\n"
     ]
    }
   ],
   "source": [
    "start_time = time.time()\n",
    "\n",
    "scorecard = Scorecard()\n",
    "aesthetic_caim_1ook_ml_model, aesthetic_caim_1ook_ml_weights = scorecard.fit(aesthetic_evaluation_X, aesthetic_evaluation_y, categorical_columns,\n",
    "                 thresholds_method='CAIM',\n",
    "                 encoding_method='1_OUT_OF_K',\n",
    "                 model_method='ML',\n",
    "                 params={'C': 2.5},\n",
    "                 use_sbc=True,\n",
    "                 K=K,\n",
    "                 mapping=mapping)\n",
    "\n",
    "end_time = time.time()\n",
    "print(f\"Execution time: {end_time - start_time} seconds\")\n",
    "\n",
    "scorecard.evaluate()\n",
    "\n",
    "scorecard.show_scorecard()"
   ]
  },
  {
   "cell_type": "code",
   "execution_count": null,
   "id": "ef03ba3f",
   "metadata": {},
   "outputs": [
    {
     "name": "stdout",
     "output_type": "stream",
     "text": [
      "Number of observations after SMOTE:  1816\n",
      "Number of classes after SMOTE:  4\n",
      "Target distribution after SMOTE:  Subjective Evaluation\n",
      "Fair         454\n",
      "Good         454\n",
      "Excellent    454\n",
      "Poor         454\n",
      "Name: count, dtype: int64\n",
      "testing parameters: {'C': 0.0009765625}\n",
      "  fold  1\n",
      "  fold  2\n",
      "  fold  3\n",
      "  fold  4\n",
      "  fold  5\n",
      "  mean score: 0.5181681954409227\n",
      "testing parameters: {'C': 0.001953125}\n",
      "  fold  1\n",
      "  fold  2\n",
      "  fold  3\n",
      "  fold  4\n",
      "  fold  5\n",
      "  mean score: 0.5401916265552629\n",
      "testing parameters: {'C': 0.00390625}\n",
      "  fold  1\n",
      "  fold  2\n",
      "  fold  3\n",
      "  fold  4\n",
      "  fold  5\n",
      "  mean score: 0.5732328277782823\n",
      "testing parameters: {'C': 0.0078125}\n",
      "  fold  1\n",
      "  fold  2\n",
      "  fold  3\n",
      "  fold  4\n",
      "  fold  5\n",
      "  mean score: 0.600220991130082\n",
      "testing parameters: {'C': 0.015625}\n",
      "  fold  1\n",
      "  fold  2\n",
      "  fold  3\n",
      "  fold  4\n",
      "  fold  5\n",
      "  mean score: 0.6244452517179789\n",
      "testing parameters: {'C': 0.03125}\n",
      "  fold  1\n",
      "  fold  2\n",
      "  fold  3\n",
      "  fold  4\n",
      "  fold  5\n",
      "  mean score: 0.6376593103865831\n",
      "testing parameters: {'C': 0.0625}\n",
      "  fold  1\n",
      "  fold  2\n",
      "  fold  3\n",
      "  fold  4\n",
      "  fold  5\n",
      "  mean score: 0.632155723064814\n",
      "testing parameters: {'C': 0.125}\n",
      "  fold  1\n",
      "  fold  2\n",
      "  fold  3\n",
      "  fold  4\n",
      "  fold  5\n",
      "  mean score: 0.6354660491024127\n",
      "testing parameters: {'C': 0.25}\n",
      "  fold  1\n",
      "  fold  2\n",
      "  fold  3\n",
      "  fold  4\n",
      "  fold  5\n",
      "  mean score: 0.6365588956498047\n",
      "testing parameters: {'C': 0.5}\n",
      "  fold  1\n",
      "  fold  2\n",
      "  fold  3\n",
      "  fold  4\n",
      "  fold  5\n",
      "  mean score: 0.6332546241637151\n",
      "testing parameters: {'C': 1}\n",
      "  fold  1\n",
      "  fold  2\n",
      "  fold  3\n",
      "  fold  4\n",
      "  fold  5\n",
      "  mean score: 0.6277449822904368\n",
      "testing parameters: {'C': 2}\n",
      "  fold  1\n",
      "  fold  2\n",
      "  fold  3\n",
      "  fold  4\n",
      "  fold  5\n",
      "  mean score: 0.6233448369812006\n",
      "testing parameters: {'C': 4}\n",
      "  fold  1\n",
      "  fold  2\n",
      "  fold  3\n",
      "  fold  4\n",
      "  fold  5\n",
      "  mean score: 0.6233402960675687\n",
      "testing parameters: {'C': 8}\n",
      "  fold  1\n",
      "  fold  2\n",
      "  fold  3\n",
      "  fold  4\n",
      "  fold  5\n",
      "  mean score: 0.6244422244422243\n",
      "testing parameters: {'C': 16}\n",
      "  fold  1\n",
      "  fold  2\n",
      "  fold  3\n",
      "  fold  4\n",
      "  fold  5\n",
      "  mean score: 0.6249931886295522\n",
      "testing parameters: {'C': 32}\n",
      "  fold  1\n",
      "  fold  2\n",
      "  fold  3\n",
      "  fold  4\n",
      "  fold  5\n",
      "  mean score: 0.6238912602548966\n",
      "testing parameters: {'C': 64}\n",
      "  fold  1\n",
      "  fold  2\n",
      "  fold  3\n",
      "  fold  4\n",
      "  fold  5\n",
      "  mean score: 0.6238912602548966\n",
      "testing parameters: {'C': 128}\n",
      "  fold  1\n",
      "  fold  2\n",
      "  fold  3\n",
      "  fold  4\n",
      "  fold  5\n",
      "  mean score: 0.6238912602548966\n",
      "best parameters:  {'C': 0.03125}\n",
      "best score:  0.6376593103865831\n",
      "Execution time: 2813.1530487537384 seconds\n",
      "\n",
      "Evaluating the model on the test set...\n",
      "     True Value  Prediction\n",
      "0             2           1\n",
      "1             2           2\n",
      "2             4           4\n",
      "3             3           3\n",
      "4             3           2\n",
      "..          ...         ...\n",
      "335           3           2\n",
      "336           3           2\n",
      "337           4           3\n",
      "338           4           3\n",
      "339           4           4\n",
      "\n",
      "[340 rows x 2 columns]\n",
      "accuracy:  0.5147058823529411\n",
      "precision:  0.520153166632964\n",
      "recall:  0.5147058823529411\n",
      "f1 score:  0.5117320197572873\n",
      "balanced accuracy:  0.5358634263576889\n",
      "logistic loss:  0.008691410969238228\n",
      "mse:  0.5823529411764706\n",
      "number of far off predictions:  25\n",
      "number of features:  112\n",
      "number of non-zero weights:  105\n",
      "model size (non-zero weights / all weights):  0.9375\n"
     ]
    },
    {
     "data": {
      "image/png": "[encoded data removed]",
      "text/plain": [
       "<Figure size 800x600 with 2 Axes>"
      ]
     },
     "metadata": {},
     "output_type": "display_data"
    },
    {
     "name": "stdout",
     "output_type": "stream",
     "text": [
      "accuracy for class 1: 0.577\n",
      "accuracy for class 2: 0.427\n",
      "accuracy for class 3: 0.461\n",
      "accuracy for class 4: 0.679\n",
      "\n",
      "Evaluating the model on the train set...\n",
      "accuracy on train set:  0.6574889867841409\n",
      "precision on train set:  0.6571030917246128\n",
      "recall on train set:  0.6574889867841409\n",
      "f1 score on train set:  0.6545955681128468\n",
      "balanced accuracy on train set:  0.6574889867841409\n",
      "logistic loss on train set:  0.07854086201210353\n",
      "mse on train set:  0.46145374449339205\n",
      "\n",
      "Scorecard table:\n",
      "           Feature                                       Bin    Points\n",
      "0        BRA Value   [0.1623383287101974, 1.896475406824211[ -0.079870\n",
      "1        BRA Value   [1.896475406824211, 3.7108204121868655[  0.095861\n",
      "2        BRA Value   [3.7108204121868655, 4.254578929780189[  0.027565\n",
      "3        BRA Value   [4.254578929780189, 24.075530326533293[ -0.012306\n",
      "4        BRA Value                 [24.075530326533293, inf[ -0.031250\n",
      "..             ...                                       ...       ...\n",
      "98   cEMDLab Value  [0.0011950564795774, 0.1322092176004152[  0.180534\n",
      "99   cEMDLab Value  [0.1322092176004152, 0.1682138081747372[  0.076543\n",
      "100  cEMDLab Value   [0.1682138081747372, 0.271539445050019[ -0.040511\n",
      "101  cEMDLab Value   [0.271539445050019, 1.0932778279081192[ -0.247815\n",
      "102  cEMDLab Value                 [1.0932778279081192, inf[  0.031250\n",
      "\n",
      "[103 rows x 3 columns]\n",
      "\n",
      "SBC columns weights:\n",
      "             Feature    Weight\n",
      "110  featsbcol1-bin1 -1.295915\n",
      "111  featsbcol2-bin1 -2.536465\n"
     ]
    }
   ],
   "source": [
    "start_time = time.time()\n",
    "\n",
    "scorecard = Scorecard()\n",
    "aesthetic_caim_1ook_mm_model, aesthetic_caim_1ook_mm_weights = scorecard.fit(aesthetic_evaluation_X, aesthetic_evaluation_y, categorical_columns,\n",
    "                 thresholds_method='CAIM',\n",
    "                 encoding_method='1_OUT_OF_K',\n",
    "                 model_method='MM',\n",
    "                 params={'C': 0.03125},\n",
    "                 use_sbc=True,\n",
    "                 K=K,\n",
    "                 mapping=mapping)\n",
    "\n",
    "end_time = time.time()\n",
    "print(f\"Execution time: {end_time - start_time} seconds\")\n",
    "\n",
    "scorecard.evaluate()\n",
    "\n",
    "scorecard.show_scorecard()"
   ]
  },
  {
   "cell_type": "code",
   "execution_count": 11,
   "id": "405e5b9c",
   "metadata": {},
   "outputs": [
    {
     "name": "stdout",
     "output_type": "stream",
     "text": [
      "Number of observations after SMOTE:  1816\n",
      "Number of classes after SMOTE:  4\n",
      "Target distribution after SMOTE:  Subjective Evaluation\n",
      "Fair         454\n",
      "Good         454\n",
      "Excellent    454\n",
      "Poor         454\n",
      "Name: count, dtype: int64\n",
      "Execution time: 49.91354584693909 seconds\n",
      "\n",
      "Evaluating the model on the test set...\n",
      "     True Value  Prediction\n",
      "0             2           1\n",
      "1             2           3\n",
      "2             4           4\n",
      "3             3           2\n",
      "4             3           2\n",
      "..          ...         ...\n",
      "335           3           2\n",
      "336           3           3\n",
      "337           4           3\n",
      "338           4           3\n",
      "339           4           4\n",
      "\n",
      "[340 rows x 2 columns]\n",
      "accuracy:  0.4970588235294118\n",
      "precision:  0.5018818405577796\n",
      "recall:  0.4970588235294118\n",
      "f1 score:  0.4958508319939437\n",
      "balanced accuracy:  0.5113670893613519\n",
      "logistic loss:  0.00861918525111111\n",
      "mse:  0.6529411764705882\n",
      "number of far off predictions:  22\n",
      "number of features:  112\n",
      "number of non-zero weights:  16\n",
      "model size (non-zero weights / all weights):  0.14285714285714285\n"
     ]
    },
    {
     "data": {
      "image/png": "[encoded data removed]",
      "text/plain": [
       "<Figure size 800x600 with 2 Axes>"
      ]
     },
     "metadata": {},
     "output_type": "display_data"
    },
    {
     "name": "stdout",
     "output_type": "stream",
     "text": [
      "accuracy for class 1: 0.538\n",
      "accuracy for class 2: 0.427\n",
      "accuracy for class 3: 0.461\n",
      "accuracy for class 4: 0.619\n",
      "\n",
      "Evaluating the model on the train set...\n",
      "accuracy on train set:  0.6244493392070485\n",
      "precision on train set:  0.6251226021116079\n",
      "recall on train set:  0.6244493392070485\n",
      "f1 score on train set:  0.6221964849592666\n",
      "balanced accuracy on train set:  0.6244493392070485\n",
      "logistic loss on train set:  0.07806906173618927\n",
      "mse on train set:  0.5110132158590308\n",
      "\n",
      "Scorecard table:\n",
      "         Feature                                        Bin    Points\n",
      "0      LBC Value   [0.0004087089954772, 0.9968621384151554[  0.120454\n",
      "1      LBC Value     [2.555972118011085, 8.815417698806167[ -0.112955\n",
      "2      BCE Value     [1.391109155180552, 27.26338581203124[ -0.087051\n",
      "3      BCD Value   [0.0068176080106487, 1.8643352607870796[  0.125549\n",
      "4      BCD Value    [1.8643352607870796, 3.960910938033588[  0.033530\n",
      "5     pBRA Value  [0.0079007399895026, 0.05235407732102159[  0.085343\n",
      "6     pBRA Value  [0.05235407732102159, 0.1476968592890711[  0.094902\n",
      "7     pUNR Value   [0.0001272577385798, 0.0600482936030422[  0.116681\n",
      "8     pBCE Value  [0.0002450886198942, 0.16417728307325785[  0.061352\n",
      "9     pBCD Value    [0.1602168245482426, 0.630700937320437[ -0.099905\n",
      "10    pBOD Value  [0.0537223045337567, 0.19273958408512992[  0.085095\n",
      "11    cX2L Value   [0.0070316917262971, 0.1259504399201025[  0.032316\n",
      "12  cX2Lab Value   [0.1357093602418899, 0.6781350374221802[ -0.071846\n",
      "13   cEMDa Value   [0.0139635577797889, 0.1305006742477417[  0.034856\n",
      "\n",
      "SBC columns weights:\n",
      "             Feature    Weight\n",
      "110  featsbcol1-bin1 -0.250280\n",
      "111  featsbcol2-bin1 -0.500246\n"
     ]
    }
   ],
   "source": [
    "start_time = time.time()\n",
    "\n",
    "scorecard = Scorecard()\n",
    "aesthetic_caim_1ook_beyondl1_model, aesthetic_caim_1ook_beyondl1_weights = scorecard.fit(aesthetic_evaluation_X, aesthetic_evaluation_y, categorical_columns,\n",
    "                 thresholds_method='CAIM',\n",
    "                 encoding_method='1_OUT_OF_K',\n",
    "                 model_method='BEYOND_L1',\n",
    "                 params=None,\n",
    "                 use_sbc=True,\n",
    "                 K=K,\n",
    "                 mapping=mapping)\n",
    "\n",
    "end_time = time.time()\n",
    "print(f\"Execution time: {end_time - start_time} seconds\")\n",
    "\n",
    "scorecard.evaluate()\n",
    "\n",
    "scorecard.show_scorecard()"
   ]
  },
  {
   "cell_type": "code",
   "execution_count": null,
   "id": "a69c8c27",
   "metadata": {},
   "outputs": [
    {
     "name": "stdout",
     "output_type": "stream",
     "text": [
      "Number of observations after SMOTE:  1816\n",
      "Number of classes after SMOTE:  4\n",
      "Target distribution after SMOTE:  Subjective Evaluation\n",
      "Fair         454\n",
      "Good         454\n",
      "Excellent    454\n",
      "Poor         454\n",
      "Name: count, dtype: int64\n",
      "testing parameters: {'alpha': 1e-08}\n",
      "  fold  1\n",
      "  fold  2\n",
      "  fold  3\n",
      "  fold  4\n",
      "  fold  5\n",
      "  mean score: 0.6211288711288712\n",
      "testing parameters: {'alpha': 1.2915496650148827e-07}\n",
      "  fold  1\n",
      "  fold  2\n",
      "  fold  3\n",
      "  fold  4\n",
      "  fold  5\n",
      "  mean score: 0.6211288711288712\n",
      "testing parameters: {'alpha': 1.6681005372000591e-06}\n",
      "  fold  1\n",
      "  fold  2\n",
      "  fold  3\n",
      "  fold  4\n",
      "  fold  5\n",
      "  mean score: 0.6211288711288712\n",
      "testing parameters: {'alpha': 2.1544346900318867e-05}\n",
      "  fold  1\n",
      "  fold  2\n",
      "  fold  3\n",
      "  fold  4\n",
      "  fold  5\n",
      "  mean score: 0.6211288711288712\n",
      "testing parameters: {'alpha': 0.0002782559402207126}\n",
      "  fold  1\n",
      "AdaptiveLasso infeasible: minimize 0.0001147842056932966 @ quad_over_lin([[0.00 0.00 ... 0.00 0.00]\n",
      " [0.00 0.00 ... 1.00 0.00]\n",
      " ...\n",
      " [0.00 0.00 ... 1.00 0.00]\n",
      " [0.00 0.00 ... 0.00 1.00]] @ var901 + -[1. 0. 0. ... 0. 0. 0.], 1.0) + norm1(param903 @ var901) is infeasible.\n",
      "  fold  2\n",
      "AdaptiveLasso infeasible: minimize 0.00011470520761642578 @ quad_over_lin([[0.00 1.00 ... 0.00 0.00]\n",
      " [0.00 1.00 ... 1.00 0.00]\n",
      " ...\n",
      " [0.00 0.00 ... 1.00 0.00]\n",
      " [0.00 0.00 ... 0.00 1.00]] @ var946 + -[1. 0. 0. ... 0. 0. 0.], 1.0) + norm1(param948 @ var946) is infeasible.\n",
      "  fold  3\n",
      "AdaptiveLasso infeasible: minimize 0.00011470520761642578 @ quad_over_lin([[1.00 0.00 ... 0.00 0.00]\n",
      " [1.00 0.00 ... 1.00 0.00]\n",
      " ...\n",
      " [0.00 1.00 ... 1.00 0.00]\n",
      " [0.00 1.00 ... 0.00 1.00]] @ var991 + -[1. 1. 0. ... 0. 0. 0.], 1.0) + norm1(param993 @ var991) is infeasible.\n",
      "  fold  4\n",
      "AdaptiveLasso infeasible: minimize 0.00011470520761642578 @ quad_over_lin([[0.00 1.00 ... 0.00 0.00]\n",
      " [0.00 1.00 ... 1.00 0.00]\n",
      " ...\n",
      " [0.00 0.00 ... 1.00 0.00]\n",
      " [0.00 0.00 ... 0.00 1.00]] @ var1036 + -[1. 0. 0. ... 0. 0. 0.], 1.0) + norm1(param1038 @ var1036) is infeasible.\n",
      "  fold  5\n",
      "AdaptiveLasso infeasible: minimize 0.00011470520761642578 @ quad_over_lin([[0.00 1.00 ... 0.00 0.00]\n",
      " [0.00 1.00 ... 1.00 0.00]\n",
      " ...\n",
      " [0.00 0.00 ... 1.00 0.00]\n",
      " [0.00 0.00 ... 0.00 1.00]] @ var1081 + -[1. 0. 0. ... 0. 0. 0.], 1.0) + norm1(param1083 @ var1081) is infeasible.\n",
      "  mean score: 0.0\n",
      "testing parameters: {'alpha': 0.003593813663804626}\n",
      "  fold  1\n",
      "  fold  2\n",
      "  fold  3\n",
      "  fold  4\n",
      "  fold  5\n",
      "  mean score: 0.6277555777555778\n",
      "testing parameters: {'alpha': 0.04641588833612782}\n",
      "  fold  1\n",
      "  fold  2\n",
      "  fold  3\n",
      "  fold  4\n",
      "  fold  5\n",
      "  mean score: 0.48016983016983017\n",
      "testing parameters: {'alpha': 0.5994842503189421}\n",
      "  fold  1\n",
      "  fold  2\n",
      "  fold  3\n",
      "  fold  4\n",
      "  fold  5\n",
      "  mean score: 0.25000151363787726\n",
      "testing parameters: {'alpha': 7.742636826811277}\n",
      "  fold  1\n",
      "  fold  2\n",
      "  fold  3\n",
      "  fold  4\n",
      "  fold  5\n",
      "  mean score: 0.25000151363787726\n",
      "testing parameters: {'alpha': 100.0}\n",
      "  fold  1\n",
      "  fold  2\n",
      "  fold  3\n",
      "  fold  4\n",
      "  fold  5\n",
      "  mean score: 0.25000151363787726\n",
      "best parameters:  {'alpha': 0.003593813663804626}\n",
      "best score:  0.6277555777555778\n",
      "Execution time: 1559.651829957962 seconds\n",
      "\n",
      "Evaluating the model on the test set...\n",
      "     True Value  Prediction\n",
      "0             2           1\n",
      "1             2           2\n",
      "2             4           4\n",
      "3             3           3\n",
      "4             3           3\n",
      "..          ...         ...\n",
      "335           3           3\n",
      "336           3           2\n",
      "337           4           3\n",
      "338           4           3\n",
      "339           4           4\n",
      "\n",
      "[340 rows x 2 columns]\n",
      "accuracy:  0.5029411764705882\n",
      "precision:  0.5037346879050127\n",
      "recall:  0.5029411764705882\n",
      "f1 score:  0.496555210963671\n",
      "balanced accuracy:  0.5349652439360782\n",
      "logistic loss:  0.008632603895538053\n",
      "mse:  0.5852941176470589\n",
      "number of far off predictions:  25\n",
      "number of features:  112\n",
      "number of non-zero weights:  110\n",
      "model size (non-zero weights / all weights):  0.9821428571428571\n"
     ]
    },
    {
     "data": {
      "image/png": "[encoded data removed]",
      "text/plain": [
       "<Figure size 800x600 with 2 Axes>"
      ]
     },
     "metadata": {},
     "output_type": "display_data"
    },
    {
     "name": "stdout",
     "output_type": "stream",
     "text": [
      "accuracy for class 1: 0.654\n",
      "accuracy for class 2: 0.337\n",
      "accuracy for class 3: 0.482\n",
      "accuracy for class 4: 0.667\n",
      "\n",
      "Evaluating the model on the train set...\n",
      "accuracy on train set:  0.6431718061674009\n",
      "precision on train set:  0.6439015970322597\n",
      "recall on train set:  0.6431718061674009\n",
      "f1 score on train set:  0.6392257170673712\n",
      "balanced accuracy on train set:  0.6431718061674009\n",
      "logistic loss on train set:  0.07967805760781448\n",
      "mse on train set:  0.46530837004405284\n",
      "\n",
      "Scorecard table:\n",
      "           Feature                                       Bin        Points\n",
      "0        BRA Value   [0.1623383287101974, 1.896475406824211[  3.165896e-18\n",
      "1        BRA Value   [1.896475406824211, 3.7108204121868655[  3.604962e-02\n",
      "2        BRA Value   [3.7108204121868655, 4.254578929780189[ -1.269286e-18\n",
      "3        BRA Value   [4.254578929780189, 24.075530326533293[ -5.912874e-18\n",
      "4        BRA Value                 [24.075530326533293, inf[  2.514373e-20\n",
      "..             ...                                       ...           ...\n",
      "103  cEMDLab Value  [0.0011950564795774, 0.1322092176004152[  6.092769e-02\n",
      "104  cEMDLab Value  [0.1322092176004152, 0.1682138081747372[  3.035463e-02\n",
      "105  cEMDLab Value   [0.1682138081747372, 0.271539445050019[ -1.660892e-18\n",
      "106  cEMDLab Value   [0.271539445050019, 1.0932778279081192[ -2.460265e-18\n",
      "107  cEMDLab Value                 [1.0932778279081192, inf[ -4.735204e-20\n",
      "\n",
      "[108 rows x 3 columns]\n",
      "\n",
      "SBC columns weights:\n",
      "             Feature    Weight\n",
      "110  featsbcol1-bin1 -0.245359\n",
      "111  featsbcol2-bin1 -0.495439\n"
     ]
    }
   ],
   "source": [
    "start_time = time.time()\n",
    "\n",
    "scorecard = Scorecard()\n",
    "aesthetic_caim_1ook_adaptivelasso_model, aesthetic_caim_1ook_adaptivelasso_weights = scorecard.fit(aesthetic_evaluation_X, aesthetic_evaluation_y, categorical_columns,\n",
    "                 thresholds_method='CAIM',\n",
    "                 encoding_method='1_OUT_OF_K',\n",
    "                 model_method='ADAPTIVE_LASSO',\n",
    "                 params={'alpha': 0.003593813663804626},\n",
    "                 use_sbc=True,\n",
    "                 K=K,\n",
    "                 mapping=mapping)\n",
    "\n",
    "end_time = time.time()\n",
    "print(f\"Execution time: {end_time - start_time} seconds\")\n",
    "\n",
    "scorecard.evaluate()\n",
    "\n",
    "scorecard.show_scorecard()"
   ]
  },
  {
   "cell_type": "markdown",
   "id": "d9f4ff30",
   "metadata": {},
   "source": [
    "#### CAIM & Diff Coding"
   ]
  },
  {
   "cell_type": "code",
   "execution_count": null,
   "id": "29762e5d",
   "metadata": {},
   "outputs": [
    {
     "name": "stdout",
     "output_type": "stream",
     "text": [
      "Number of observations after SMOTE:  1816\n",
      "Number of classes after SMOTE:  4\n",
      "Target distribution after SMOTE:  Subjective Evaluation\n",
      "Fair         454\n",
      "Good         454\n",
      "Excellent    454\n",
      "Poor         454\n",
      "Name: count, dtype: int64\n",
      "testing parameters: {'C': 1000.0}\n",
      "  fold  1\n",
      "  fold  2\n",
      "  fold  3\n",
      "  fold  4\n",
      "  fold  5\n",
      "  mean score: 0.6244497926316108\n",
      "testing parameters: {'C': 100.0}\n",
      "  fold  1\n",
      "  fold  2\n",
      "  fold  3\n",
      "  fold  4\n",
      "  fold  5\n",
      "  mean score: 0.6255502073683892\n",
      "testing parameters: {'C': 10.0}\n",
      "  fold  1\n",
      "  fold  2\n",
      "  fold  3\n",
      "  fold  4\n",
      "  fold  5\n",
      "  mean score: 0.6249977295431841\n",
      "testing parameters: {'C': 2.5}\n",
      "  fold  1\n",
      "  fold  2\n",
      "  fold  3\n",
      "  fold  4\n",
      "  fold  5\n",
      "  mean score: 0.6277540641177005\n",
      "testing parameters: {'C': 1.6666666666666667}\n",
      "  fold  1\n",
      "  fold  2\n",
      "  fold  3\n",
      "  fold  4\n",
      "  fold  5\n",
      "  mean score: 0.623898828444283\n",
      "testing parameters: {'C': 1.1111111111111112}\n",
      "  fold  1\n",
      "  fold  2\n",
      "  fold  3\n",
      "  fold  4\n",
      "  fold  5\n",
      "  mean score: 0.6239003420821603\n",
      "testing parameters: {'C': 1.0101010101010102}\n",
      "  fold  1\n",
      "  fold  2\n",
      "  fold  3\n",
      "  fold  4\n",
      "  fold  5\n",
      "  mean score: 0.6239003420821603\n",
      "testing parameters: {'C': 1.0}\n",
      "  fold  1\n",
      "  fold  2\n",
      "  fold  3\n",
      "  fold  4\n",
      "  fold  5\n",
      "  mean score: 0.6244513062694881\n",
      "best parameters:  {'C': 2.5}\n",
      "best alpha:  0.4\n",
      "best score:  0.6277540641177005\n",
      "Execution time: 1251.0097889900208 seconds\n",
      "\n",
      "Evaluating the model on the test set...\n",
      "     True Value  Prediction\n",
      "0             2           1\n",
      "1             2           2\n",
      "2             4           3\n",
      "3             3           3\n",
      "4             3           3\n",
      "..          ...         ...\n",
      "335           3           3\n",
      "336           3           2\n",
      "337           4           3\n",
      "338           4           3\n",
      "339           4           4\n",
      "\n",
      "[340 rows x 2 columns]\n",
      "accuracy:  0.5117647058823529\n",
      "precision:  0.5137969846467473\n",
      "recall:  0.5117647058823529\n",
      "f1 score:  0.5115771708861685\n",
      "balanced accuracy:  0.5198979341640111\n",
      "logistic loss:  0.007952963211475253\n",
      "mse:  0.55\n",
      "number of far off predictions:  23\n",
      "number of features:  112\n",
      "number of non-zero weights:  96\n",
      "model size (non-zero weights / all weights):  0.8571428571428571\n"
     ]
    },
    {
     "data": {
      "image/png": "[encoded data removed]",
      "text/plain": [
       "<Figure size 800x600 with 2 Axes>"
      ]
     },
     "metadata": {},
     "output_type": "display_data"
    },
    {
     "name": "stdout",
     "output_type": "stream",
     "text": [
      "accuracy for class 1: 0.538\n",
      "accuracy for class 2: 0.449\n",
      "accuracy for class 3: 0.496\n",
      "accuracy for class 4: 0.595\n",
      "\n",
      "Evaluating the model on the train set...\n",
      "accuracy on train set:  0.6442731277533039\n",
      "precision on train set:  0.6550248923190328\n",
      "recall on train set:  0.6442731277533039\n",
      "f1 score on train set:  0.6479838955321507\n",
      "balanced accuracy on train set:  0.6442731277533039\n",
      "logistic loss on train set:  0.07650309081055871\n",
      "mse on train set:  0.4460352422907489\n",
      "\n",
      "Scorecard table:\n",
      "          Feature                                       Bin    Points\n",
      "0       BRA Value   [0.1623383287101974, 1.896475406824211[  0.446135\n",
      "1       BRA Value   [1.896475406824211, 3.7108204121868655[  0.509375\n",
      "2       BRA Value   [3.7108204121868655, 4.254578929780189[ -0.139336\n",
      "3       LBC Value  [0.0004087089954772, 0.9968621384151554[  0.605975\n",
      "4       LBC Value  [0.9968621384151554, 1.4529146705382163[  0.162713\n",
      "..            ...                                       ...       ...\n",
      "89  cEMDLab Value  [0.0011950564795774, 0.1322092176004152[  0.137847\n",
      "90  cEMDLab Value  [0.1322092176004152, 0.1682138081747372[ -0.233012\n",
      "91  cEMDLab Value   [0.1682138081747372, 0.271539445050019[ -0.287991\n",
      "92  cEMDLab Value   [0.271539445050019, 1.0932778279081192[ -0.482439\n",
      "93  cEMDLab Value                 [1.0932778279081192, inf[  0.301240\n",
      "\n",
      "[94 rows x 3 columns]\n",
      "\n",
      "SBC columns weights:\n",
      "             Feature    Weight\n",
      "110  featsbcol1-bin1 -3.221177\n",
      "111  featsbcol2-bin1 -5.484115\n"
     ]
    }
   ],
   "source": [
    "start_time = time.time()\n",
    "\n",
    "scorecard = Scorecard()\n",
    "aesthetic_caim_diffcod_ml_model, aesthetic_caim_diffcod_ml_weights = scorecard.fit(aesthetic_evaluation_X, aesthetic_evaluation_y, categorical_columns,\n",
    "                thresholds_method='CAIM',\n",
    "                encoding_method='DIFF_CODING', \n",
    "                model_method='ML',\n",
    "                params={'C': 2.5},\n",
    "                use_sbc=True,\n",
    "                K=K,\n",
    "                mapping=mapping)\n",
    "\n",
    "end_time = time.time()\n",
    "print(f\"Execution time: {end_time - start_time} seconds\")\n",
    "\n",
    "scorecard.evaluate()\n",
    "\n",
    "scorecard.show_scorecard()"
   ]
  },
  {
   "cell_type": "code",
   "execution_count": null,
   "id": "9077106e",
   "metadata": {},
   "outputs": [
    {
     "name": "stdout",
     "output_type": "stream",
     "text": [
      "Number of observations after SMOTE:  1816\n",
      "Number of classes after SMOTE:  4\n",
      "Target distribution after SMOTE:  Subjective Evaluation\n",
      "Fair         454\n",
      "Good         454\n",
      "Excellent    454\n",
      "Poor         454\n",
      "Name: count, dtype: int64\n",
      "testing parameters: {'C': 0.0009765625}\n",
      "  fold  1\n",
      "  fold  2\n",
      "  fold  3\n",
      "  fold  4\n",
      "  fold  5\n",
      "  mean score: 0.5176157176157177\n",
      "testing parameters: {'C': 0.001953125}\n",
      "  fold  1\n",
      "  fold  2\n",
      "  fold  3\n",
      "  fold  4\n",
      "  fold  5\n",
      "  mean score: 0.5418475463930009\n",
      "testing parameters: {'C': 0.00390625}\n",
      "  fold  1\n",
      "  fold  2\n",
      "  fold  3\n",
      "  fold  4\n",
      "  fold  5\n",
      "  mean score: 0.5704734659280113\n",
      "testing parameters: {'C': 0.0078125}\n",
      "  fold  1\n",
      "  fold  2\n",
      "  fold  3\n",
      "  fold  4\n",
      "  fold  5\n",
      "  mean score: 0.6007659007659008\n",
      "testing parameters: {'C': 0.015625}\n",
      "  fold  1\n",
      "  fold  2\n",
      "  fold  3\n",
      "  fold  4\n",
      "  fold  5\n",
      "  mean score: 0.6332576514394695\n",
      "testing parameters: {'C': 0.03125}\n",
      "  fold  1\n",
      "  fold  2\n",
      "  fold  3\n",
      "  fold  4\n",
      "  fold  5\n",
      "  mean score: 0.6387582114854842\n",
      "testing parameters: {'C': 0.0625}\n",
      "  fold  1\n",
      "  fold  2\n",
      "  fold  3\n",
      "  fold  4\n",
      "  fold  5\n",
      "  mean score: 0.6338071019889202\n",
      "testing parameters: {'C': 0.125}\n",
      "  fold  1\n",
      "  fold  2\n",
      "  fold  3\n",
      "  fold  4\n",
      "  fold  5\n",
      "  mean score: 0.6310598492416675\n",
      "testing parameters: {'C': 0.25}\n",
      "  fold  1\n",
      "  fold  2\n",
      "  fold  3\n",
      "  fold  4\n",
      "  fold  5\n",
      "  mean score: 0.6382102745739109\n",
      "testing parameters: {'C': 0.5}\n",
      "  fold  1\n",
      "  fold  2\n",
      "  fold  3\n",
      "  fold  4\n",
      "  fold  5\n",
      "  mean score: 0.6316047588774862\n",
      "testing parameters: {'C': 1}\n",
      "  fold  1\n",
      "  fold  2\n",
      "  fold  3\n",
      "  fold  4\n",
      "  fold  5\n",
      "  mean score: 0.6249962159053067\n",
      "testing parameters: {'C': 2}\n",
      "  fold  1\n",
      "  fold  2\n",
      "  fold  3\n",
      "  fold  4\n",
      "  fold  5\n",
      "  mean score: 0.6216889171434626\n",
      "testing parameters: {'C': 4}\n",
      "  fold  1\n",
      "  fold  2\n",
      "  fold  3\n",
      "  fold  4\n",
      "  fold  5\n",
      "  mean score: 0.6216904307813399\n",
      "testing parameters: {'C': 8}\n",
      "  fold  1\n",
      "  fold  2\n",
      "  fold  3\n",
      "  fold  4\n",
      "  fold  5\n",
      "  mean score: 0.6222398813307904\n",
      "testing parameters: {'C': 16}\n",
      "  fold  1\n",
      "  fold  2\n",
      "  fold  3\n",
      "  fold  4\n",
      "  fold  5\n",
      "  mean score: 0.623341809705446\n",
      "testing parameters: {'C': 32}\n",
      "  fold  1\n",
      "  fold  2\n",
      "  fold  3\n",
      "  fold  4\n",
      "  fold  5\n",
      "  mean score: 0.6227908455181181\n",
      "testing parameters: {'C': 64}\n",
      "  fold  1\n",
      "  fold  2\n",
      "  fold  3\n",
      "  fold  4\n",
      "  fold  5\n",
      "  mean score: 0.6238927738927739\n",
      "testing parameters: {'C': 128}\n",
      "  fold  1\n",
      "  fold  2\n",
      "  fold  3\n",
      "  fold  4\n",
      "  fold  5\n",
      "  mean score: 0.6238927738927739\n",
      "best parameters:  {'C': 0.03125}\n",
      "best score:  0.6387582114854842\n",
      "Execution time: 2724.975197792053 seconds\n",
      "\n",
      "Evaluating the model on the test set...\n",
      "     True Value  Prediction\n",
      "0             2           1\n",
      "1             2           2\n",
      "2             4           3\n",
      "3             3           3\n",
      "4             3           2\n",
      "..          ...         ...\n",
      "335           3           3\n",
      "336           3           2\n",
      "337           4           3\n",
      "338           4           3\n",
      "339           4           4\n",
      "\n",
      "[340 rows x 2 columns]\n",
      "accuracy:  0.5088235294117647\n",
      "precision:  0.5125145509417692\n",
      "recall:  0.5088235294117647\n",
      "f1 score:  0.5056967464207284\n",
      "balanced accuracy:  0.5290423079987985\n",
      "logistic loss:  0.008636719672780777\n",
      "mse:  0.5705882352941176\n",
      "number of far off predictions:  26\n",
      "number of features:  112\n",
      "number of non-zero weights:  100\n",
      "model size (non-zero weights / all weights):  0.8928571428571429\n"
     ]
    },
    {
     "data": {
      "image/png": "[encoded data removed]",
      "text/plain": [
       "<Figure size 800x600 with 2 Axes>"
      ]
     },
     "metadata": {},
     "output_type": "display_data"
    },
    {
     "name": "stdout",
     "output_type": "stream",
     "text": [
      "accuracy for class 1: 0.577\n",
      "accuracy for class 2: 0.404\n",
      "accuracy for class 3: 0.468\n",
      "accuracy for class 4: 0.667\n",
      "\n",
      "Evaluating the model on the train set...\n",
      "accuracy on train set:  0.6574889867841409\n",
      "precision on train set:  0.6563409241089158\n",
      "recall on train set:  0.6574889867841409\n",
      "f1 score on train set:  0.6543400292537538\n",
      "balanced accuracy on train set:  0.6574889867841409\n",
      "logistic loss on train set:  0.07876568705908783\n",
      "mse on train set:  0.4686123348017621\n",
      "\n",
      "Scorecard table:\n",
      "          Feature                                       Bin        Points\n",
      "0       BRA Value   [0.1623383287101974, 1.896475406824211[ -7.160939e-15\n",
      "1       BRA Value   [1.896475406824211, 3.7108204121868655[  1.803461e-01\n",
      "2       BRA Value   [3.7108204121868655, 4.254578929780189[ -5.361183e-02\n",
      "3       BRA Value   [4.254578929780189, 24.075530326533293[ -8.290210e-03\n",
      "4       LBC Value  [0.0004087089954772, 0.9968621384151554[ -7.160939e-15\n",
      "..            ...                                       ...           ...\n",
      "93  cEMDLab Value  [0.0011950564795774, 0.1322092176004152[ -7.160939e-15\n",
      "94  cEMDLab Value  [0.1322092176004152, 0.1682138081747372[ -1.060161e-01\n",
      "95  cEMDLab Value   [0.1682138081747372, 0.271539445050019[ -1.484514e-01\n",
      "96  cEMDLab Value   [0.271539445050019, 1.0932778279081192[ -2.139643e-01\n",
      "97  cEMDLab Value                 [1.0932778279081192, inf[  3.125000e-02\n",
      "\n",
      "[98 rows x 3 columns]\n",
      "\n",
      "SBC columns weights:\n",
      "             Feature    Weight\n",
      "110  featsbcol1-bin1 -1.299036\n",
      "111  featsbcol2-bin1 -2.539022\n"
     ]
    }
   ],
   "source": [
    "start_time = time.time()\n",
    "\n",
    "scorecard = Scorecard()\n",
    "aesthetic_caim_diffcod_mm_model, aesthetic_caim_diffcod_mm_weights = scorecard.fit(aesthetic_evaluation_X, aesthetic_evaluation_y, categorical_columns,\n",
    "                thresholds_method='CAIM',\n",
    "                encoding_method='DIFF_CODING', \n",
    "                model_method='MM',\n",
    "                params={'C': 0.03125},\n",
    "                use_sbc=True,\n",
    "                K=K,\n",
    "                mapping=mapping)\n",
    "\n",
    "end_time = time.time()\n",
    "print(f\"Execution time: {end_time - start_time} seconds\")\n",
    "\n",
    "scorecard.evaluate()\n",
    "\n",
    "scorecard.show_scorecard()"
   ]
  },
  {
   "cell_type": "code",
   "execution_count": 15,
   "id": "55212db8",
   "metadata": {},
   "outputs": [
    {
     "name": "stdout",
     "output_type": "stream",
     "text": [
      "Number of observations after SMOTE:  1816\n",
      "Number of classes after SMOTE:  4\n",
      "Target distribution after SMOTE:  Subjective Evaluation\n",
      "Fair         454\n",
      "Good         454\n",
      "Excellent    454\n",
      "Poor         454\n",
      "Name: count, dtype: int64\n",
      "Execution time: 45.06270098686218 seconds\n",
      "\n",
      "Evaluating the model on the test set...\n",
      "     True Value  Prediction\n",
      "0             2           1\n",
      "1             2           2\n",
      "2             4           4\n",
      "3             3           2\n",
      "4             3           2\n",
      "..          ...         ...\n",
      "335           3           3\n",
      "336           3           3\n",
      "337           4           3\n",
      "338           4           3\n",
      "339           4           4\n",
      "\n",
      "[340 rows x 2 columns]\n",
      "accuracy:  0.4823529411764706\n",
      "precision:  0.48598750140831726\n",
      "recall:  0.4823529411764706\n",
      "f1 score:  0.47793123798742515\n",
      "balanced accuracy:  0.5279899497267415\n",
      "logistic loss:  0.012433719814653592\n",
      "mse:  0.6147058823529412\n",
      "number of far off predictions:  28\n",
      "number of features:  112\n",
      "number of non-zero weights:  13\n",
      "model size (non-zero weights / all weights):  0.11607142857142858\n"
     ]
    },
    {
     "data": {
      "image/png": "[encoded data removed]",
      "text/plain": [
       "<Figure size 800x600 with 2 Axes>"
      ]
     },
     "metadata": {},
     "output_type": "display_data"
    },
    {
     "name": "stdout",
     "output_type": "stream",
     "text": [
      "accuracy for class 1: 0.692\n",
      "accuracy for class 2: 0.337\n",
      "accuracy for class 3: 0.440\n",
      "accuracy for class 4: 0.643\n",
      "\n",
      "Evaluating the model on the train set...\n",
      "accuracy on train set:  0.6024229074889867\n",
      "precision on train set:  0.5973242234678546\n",
      "recall on train set:  0.6024229074889867\n",
      "f1 score on train set:  0.5980196362135477\n",
      "balanced accuracy on train set:  0.6024229074889869\n",
      "logistic loss on train set:  0.07822383110469956\n",
      "mse on train set:  0.5495594713656388\n",
      "\n",
      "Scorecard table:\n",
      "          Feature                                        Bin    Points\n",
      "0       LBC Value    [1.4529146705382163, 2.555972118011085[ -0.081720\n",
      "1       BCE Value     [1.391109155180552, 27.26338581203124[ -0.079795\n",
      "2       BCD Value    [1.8643352607870796, 3.960910938033588[ -0.082891\n",
      "3       BCD Value    [3.960910938033588, 5.8887017406344375[ -0.102370\n",
      "4      pLBC Value   [0.0336304635476228, 0.0627216545632178[ -0.119329\n",
      "5      pUNR Value   [0.0600482936030422, 0.1208379607836962[ -0.075616\n",
      "6      pUNR Value  [0.1208379607836962, 0.17495045111289242[ -0.151403\n",
      "7      pBCE Value  [0.2092432950959433, 0.43350787991478035[ -0.059302\n",
      "8      pBOD Value   [0.3029613322040651, 1.3705768783413044[ -0.092300\n",
      "9     cEMDL Value   [0.0813564658164978, 0.9005493464332232[  0.908073\n",
      "10  cEMDLab Value   [0.1322092176004152, 0.1682138081747372[ -0.089997\n",
      "\n",
      "SBC columns weights:\n",
      "             Feature    Weight\n",
      "110  featsbcol1-bin1 -0.250333\n",
      "111  featsbcol2-bin1 -0.500333\n"
     ]
    }
   ],
   "source": [
    "start_time = time.time()\n",
    "\n",
    "scorecard = Scorecard()\n",
    "aesthetic_caim_diffcod_beyondl1_model, aesthetic_caim_diffcod_beyondl1_weights = scorecard.fit(aesthetic_evaluation_X, aesthetic_evaluation_y, categorical_columns,\n",
    "                thresholds_method='CAIM',\n",
    "                encoding_method='DIFF_CODING', \n",
    "                model_method='BEYOND_L1',\n",
    "                params=None,\n",
    "                use_sbc=True,\n",
    "                K=K,\n",
    "                mapping=mapping)\n",
    "\n",
    "end_time = time.time()\n",
    "print(f\"Execution time: {end_time - start_time} seconds\")\n",
    "\n",
    "scorecard.evaluate()\n",
    "\n",
    "scorecard.show_scorecard()"
   ]
  },
  {
   "cell_type": "code",
   "execution_count": null,
   "id": "bff67934",
   "metadata": {},
   "outputs": [
    {
     "name": "stdout",
     "output_type": "stream",
     "text": [
      "Number of observations after SMOTE:  1816\n",
      "Number of classes after SMOTE:  4\n",
      "Target distribution after SMOTE:  Subjective Evaluation\n",
      "Fair         454\n",
      "Good         454\n",
      "Excellent    454\n",
      "Poor         454\n",
      "Name: count, dtype: int64\n",
      "testing parameters: {'alpha': 1e-08}\n",
      "  fold  1\n",
      "  fold  2\n",
      "  fold  3\n",
      "  fold  4\n",
      "  fold  5\n",
      "  mean score: 0.6222307995035268\n",
      "testing parameters: {'alpha': 1.2915496650148827e-07}\n",
      "  fold  1\n",
      "  fold  2\n",
      "  fold  3\n",
      "  fold  4\n",
      "  fold  5\n",
      "  mean score: 0.6222307995035268\n",
      "testing parameters: {'alpha': 1.6681005372000591e-06}\n",
      "  fold  1\n",
      "  fold  2\n",
      "  fold  3\n",
      "  fold  4\n",
      "  fold  5\n",
      "  mean score: 0.6222307995035268\n",
      "testing parameters: {'alpha': 2.1544346900318867e-05}\n",
      "  fold  1\n",
      "  fold  2\n",
      "  fold  3\n",
      "  fold  4\n",
      "  fold  5\n",
      "  mean score: 0.6222307995035268\n",
      "testing parameters: {'alpha': 0.0002782559402207126}\n",
      "  fold  1\n",
      "AdaptiveLasso infeasible: minimize 0.0001147842056932966 @ quad_over_lin([[1.00 1.00 ... 0.00 0.00]\n",
      " [1.00 1.00 ... 1.00 0.00]\n",
      " ...\n",
      " [1.00 1.00 ... 1.00 0.00]\n",
      " [1.00 1.00 ... 0.00 1.00]] @ var3196 + -[1. 0. 0. ... 0. 0. 0.], 1.0) + norm1(param3198 @ var3196) is infeasible.\n",
      "  fold  2\n",
      "AdaptiveLasso infeasible: minimize 0.00011470520761642578 @ quad_over_lin([[1.00 1.00 ... 0.00 0.00]\n",
      " [1.00 1.00 ... 1.00 0.00]\n",
      " ...\n",
      " [1.00 1.00 ... 1.00 0.00]\n",
      " [1.00 1.00 ... 0.00 1.00]] @ var3241 + -[1. 0. 0. ... 0. 0. 0.], 1.0) + norm1(param3243 @ var3241) is infeasible.\n",
      "  fold  3\n",
      "  fold  4\n",
      "AdaptiveLasso infeasible: minimize 0.00011470520761642578 @ quad_over_lin([[1.00 1.00 ... 0.00 0.00]\n",
      " [1.00 1.00 ... 1.00 0.00]\n",
      " ...\n",
      " [1.00 1.00 ... 1.00 0.00]\n",
      " [1.00 1.00 ... 0.00 1.00]] @ var3331 + -[1. 0. 0. ... 0. 0. 0.], 1.0) + norm1(param3333 @ var3331) is infeasible.\n",
      "  fold  5\n",
      "AdaptiveLasso infeasible: minimize 0.00011470520761642578 @ quad_over_lin([[1.00 1.00 ... 0.00 0.00]\n",
      " [1.00 1.00 ... 1.00 0.00]\n",
      " ...\n",
      " [1.00 1.00 ... 1.00 0.00]\n",
      " [1.00 1.00 ... 0.00 1.00]] @ var3376 + -[1. 0. 0. ... 0. 0. 0.], 1.0) + norm1(param3378 @ var3376) is infeasible.\n",
      "  mean score: 0.12066115702479338\n",
      "testing parameters: {'alpha': 0.003593813663804626}\n",
      "  fold  1\n",
      "  fold  2\n",
      "AdaptiveLasso infeasible: minimize 0.00011470520761642578 @ quad_over_lin([[1.00 1.00 ... 0.00 0.00]\n",
      " [1.00 1.00 ... 1.00 0.00]\n",
      " ...\n",
      " [1.00 1.00 ... 1.00 0.00]\n",
      " [1.00 1.00 ... 0.00 1.00]] @ var3466 + -[1. 0. 0. ... 0. 0. 0.], 1.0) + norm1(param3468 @ var3466) is infeasible.\n",
      "  fold  3\n",
      "  fold  4\n",
      "  fold  5\n",
      "  mean score: 0.5125919535010445\n",
      "testing parameters: {'alpha': 0.04641588833612782}\n",
      "  fold  1\n",
      "  fold  2\n",
      "  fold  3\n",
      "  fold  4\n",
      "  fold  5\n",
      "  mean score: 0.4306314897223988\n",
      "testing parameters: {'alpha': 0.5994842503189421}\n",
      "  fold  1\n",
      "  fold  2\n",
      "  fold  3\n",
      "  fold  4\n",
      "  fold  5\n",
      "  mean score: 0.25000151363787726\n",
      "testing parameters: {'alpha': 7.742636826811277}\n",
      "  fold  1\n",
      "  fold  2\n",
      "  fold  3\n",
      "  fold  4\n",
      "  fold  5\n",
      "  mean score: 0.25000151363787726\n",
      "testing parameters: {'alpha': 100.0}\n",
      "  fold  1\n",
      "  fold  2\n",
      "  fold  3\n",
      "  fold  4\n",
      "  fold  5\n",
      "  mean score: 0.25000151363787726\n",
      "best parameters:  {'alpha': 1e-08}\n",
      "best score:  0.6222307995035268\n",
      "Execution time: 1470.30286693573 seconds\n",
      "\n",
      "Evaluating the model on the test set...\n",
      "     True Value  Prediction\n",
      "0             2           1\n",
      "1             2           2\n",
      "2             4           4\n",
      "3             3           3\n",
      "4             3           3\n",
      "..          ...         ...\n",
      "335           3           3\n",
      "336           3           2\n",
      "337           4           4\n",
      "338           4           3\n",
      "339           4           4\n",
      "\n",
      "[340 rows x 2 columns]\n",
      "accuracy:  0.5205882352941177\n",
      "precision:  0.5199398651482277\n",
      "recall:  0.5205882352941177\n",
      "f1 score:  0.5152568480055907\n",
      "balanced accuracy:  0.5488785608765288\n",
      "logistic loss:  0.00868611086465892\n",
      "mse:  0.55\n",
      "number of far off predictions:  23\n",
      "number of features:  112\n",
      "number of non-zero weights:  112\n",
      "model size (non-zero weights / all weights):  1.0\n"
     ]
    },
    {
     "data": {
      "image/png": "[encoded data removed]",
      "text/plain": [
       "<Figure size 800x600 with 2 Axes>"
      ]
     },
     "metadata": {},
     "output_type": "display_data"
    },
    {
     "name": "stdout",
     "output_type": "stream",
     "text": [
      "accuracy for class 1: 0.654\n",
      "accuracy for class 2: 0.360\n",
      "accuracy for class 3: 0.504\n",
      "accuracy for class 4: 0.679\n",
      "\n",
      "Evaluating the model on the train set...\n",
      "accuracy on train set:  0.6437224669603524\n",
      "precision on train set:  0.6438535033052907\n",
      "recall on train set:  0.6437224669603524\n",
      "f1 score on train set:  0.6405137678062947\n",
      "balanced accuracy on train set:  0.6437224669603524\n",
      "logistic loss on train set:  0.07886886397648776\n",
      "mse on train set:  0.46640969162995594\n",
      "\n",
      "Scorecard table:\n",
      "           Feature                                       Bin    Points\n",
      "0        BRA Value   [0.1623383287101974, 1.896475406824211[  0.054278\n",
      "1        BRA Value   [1.896475406824211, 3.7108204121868655[  0.052661\n",
      "2        BRA Value   [3.7108204121868655, 4.254578929780189[ -0.013400\n",
      "3        BRA Value   [4.254578929780189, 24.075530326533293[ -0.001572\n",
      "4        BRA Value                 [24.075530326533293, inf[ -0.023214\n",
      "..             ...                                       ...       ...\n",
      "105  cEMDLab Value  [0.0011950564795774, 0.1322092176004152[  0.054290\n",
      "106  cEMDLab Value  [0.1322092176004152, 0.1682138081747372[ -0.032529\n",
      "107  cEMDLab Value   [0.1682138081747372, 0.271539445050019[ -0.036144\n",
      "108  cEMDLab Value   [0.271539445050019, 1.0932778279081192[ -0.030376\n",
      "109  cEMDLab Value                 [1.0932778279081192, inf[  0.054643\n",
      "\n",
      "[110 rows x 3 columns]\n",
      "\n",
      "SBC columns weights:\n",
      "             Feature  Weight\n",
      "110  featsbcol1-bin1   -0.25\n",
      "111  featsbcol2-bin1   -0.50\n"
     ]
    }
   ],
   "source": [
    "start_time = time.time()\n",
    "\n",
    "scorecard = Scorecard()\n",
    "\n",
    "aesthetic_caim_diffcod_adaptivelasso_model, aesthetic_caim_diffcod_adaptivelasso_weights = scorecard.fit(aesthetic_evaluation_X, aesthetic_evaluation_y, categorical_columns,\n",
    "                thresholds_method='CAIM',\n",
    "                encoding_method='DIFF_CODING', \n",
    "                model_method='ADAPTIVE_LASSO',\n",
    "                params={'alpha': 1e-08},\n",
    "                use_sbc=True,\n",
    "                K=K,\n",
    "                mapping=mapping)\n",
    "\n",
    "end_time = time.time()\n",
    "print(f\"Execution time: {end_time - start_time} seconds\")\n",
    "\n",
    "scorecard.evaluate()\n",
    "\n",
    "scorecard.show_scorecard()"
   ]
  },
  {
   "cell_type": "markdown",
   "id": "e82a5eb0",
   "metadata": {},
   "source": [
    "#### Inf Bins & 1ook"
   ]
  },
  {
   "cell_type": "code",
   "execution_count": null,
   "id": "efb2cfa5",
   "metadata": {},
   "outputs": [
    {
     "name": "stdout",
     "output_type": "stream",
     "text": [
      "Number of observations after SMOTE:  1816\n",
      "Number of classes after SMOTE:  4\n",
      "Target distribution after SMOTE:  Subjective Evaluation\n",
      "Fair         454\n",
      "Good         454\n",
      "Excellent    454\n",
      "Poor         454\n",
      "Name: count, dtype: int64\n",
      "testing parameters: {'C': 1000.0}\n",
      "  fold  1\n",
      "  fold  2\n",
      "  fold  3\n",
      "  fold  4\n",
      "  fold  5\n",
      "  mean score: 0.37225350407168584\n",
      "testing parameters: {'C': 100.0}\n",
      "  fold  1\n",
      "  fold  2\n",
      "  fold  3\n",
      "  fold  4\n",
      "  fold  5\n",
      "  mean score: 0.37334937789483247\n",
      "testing parameters: {'C': 10.0}\n",
      "  fold  1\n",
      "  fold  2\n",
      "  fold  3\n",
      "  fold  4\n",
      "  fold  5\n",
      "  mean score: 0.35352980352980357\n",
      "testing parameters: {'C': 2.5}\n",
      "  fold  1\n",
      "  fold  2\n",
      "  fold  3\n",
      "  fold  4\n",
      "  fold  5\n",
      "  mean score: 0.3722277722277722\n",
      "testing parameters: {'C': 1.6666666666666667}\n",
      "  fold  1\n",
      "  fold  2\n",
      "  fold  3\n",
      "  fold  4\n",
      "  fold  5\n",
      "  mean score: 0.3353510126237399\n",
      "testing parameters: {'C': 1.1111111111111112}\n",
      "  fold  1\n",
      "  fold  2\n",
      "  fold  3\n",
      "  fold  4\n",
      "  fold  5\n",
      "  mean score: 0.30450609996064537\n",
      "testing parameters: {'C': 1.0101010101010102}\n",
      "  fold  1\n",
      "  fold  2\n",
      "  fold  3\n",
      "  fold  4\n",
      "  fold  5\n",
      "  mean score: 0.31497290588199683\n",
      "testing parameters: {'C': 1.0}\n",
      "  fold  1\n",
      "  fold  2\n",
      "  fold  3\n",
      "  fold  4\n",
      "  fold  5\n",
      "  mean score: 0.3045045863227681\n",
      "best parameters:  {'C': 100.0}\n",
      "best alpha:  0.01\n",
      "best score:  0.37334937789483247\n",
      "Execution time: 174.45983290672302 seconds\n",
      "\n",
      "Evaluating the model on the test set...\n",
      "     True Value  Prediction\n",
      "0             2           2\n",
      "1             2           3\n",
      "2             4           3\n",
      "3             3           2\n",
      "4             3           2\n",
      "..          ...         ...\n",
      "335           3           2\n",
      "336           3           4\n",
      "337           4           3\n",
      "338           4           3\n",
      "339           4           3\n",
      "\n",
      "[340 rows x 2 columns]\n",
      "accuracy:  0.4235294117647059\n",
      "precision:  0.4026977198804215\n",
      "recall:  0.4235294117647059\n",
      "f1 score:  0.3753562709362403\n",
      "balanced accuracy:  0.31380061587149805\n",
      "logistic loss:  0.0047292588231109736\n",
      "mse:  0.7\n",
      "number of far off predictions:  14\n",
      "number of features:  39932\n",
      "number of non-zero weights:  27836\n",
      "model size (non-zero weights / all weights):  0.6970850445757788\n"
     ]
    },
    {
     "data": {
      "image/png": "[encoded data removed]",
      "text/plain": [
       "<Figure size 800x600 with 2 Axes>"
      ]
     },
     "metadata": {},
     "output_type": "display_data"
    },
    {
     "name": "stdout",
     "output_type": "stream",
     "text": [
      "accuracy for class 1: 0.000\n",
      "accuracy for class 2: 0.517\n",
      "accuracy for class 3: 0.631\n",
      "accuracy for class 4: 0.107\n",
      "\n",
      "Evaluating the model on the train set...\n",
      "accuracy on train set:  1.0\n",
      "precision on train set:  1.0\n",
      "recall on train set:  1.0\n",
      "f1 score on train set:  1.0\n",
      "balanced accuracy on train set:  1.0\n",
      "logistic loss on train set:  0.0828837825402311\n",
      "mse on train set:  0.0\n",
      "\n",
      "Scorecard table:\n",
      "             Feature                                         Bin    Points\n",
      "0          BRA Value    [0.17135143897882216, 0.189619931322902[  1.241165\n",
      "1          BRA Value    [0.189619931322902, 0.20154489666341896[  2.659177\n",
      "2          BRA Value  [0.20154489666341896, 0.20882918670067196[  0.077119\n",
      "3          BRA Value  [0.21413105126949344, 0.21580389681643153[  0.010528\n",
      "4          BRA Value  [0.27352015369830174, 0.28084376350967144[  0.014669\n",
      "...              ...                                         ...       ...\n",
      "27829  cEMDLab Value     [0.7575551495302906, 0.762163126372398[ -1.936287\n",
      "27830  cEMDLab Value     [0.762163126372398, 0.7678333237873358[  0.405005\n",
      "27831  cEMDLab Value    [0.7742228099935223, 0.7775384371693081[ -0.110293\n",
      "27832  cEMDLab Value    [0.8168139941745478, 0.8358454697591341[ -0.129182\n",
      "27833  cEMDLab Value                    [0.969625368067961, inf[  0.714105\n",
      "\n",
      "[27834 rows x 3 columns]\n",
      "\n",
      "SBC columns weights:\n",
      "               Feature     Weight\n",
      "39930  featsbcol1-bin1  -8.164628\n",
      "39931  featsbcol2-bin1 -16.554274\n"
     ]
    }
   ],
   "source": [
    "start_time = time.time()\n",
    "\n",
    "scorecard = Scorecard()\n",
    "aesthetic_infbins_1ook_ml_model, aesthetic_infbins_1ook_ml_weights = scorecard.fit(aesthetic_evaluation_X, aesthetic_evaluation_y, categorical_columns,\n",
    "                 thresholds_method='INF_BINS',\n",
    "                 encoding_method='1_OUT_OF_K',\n",
    "                 model_method='ML',\n",
    "                 params={'C': 100.0},\n",
    "                 use_sbc=True,\n",
    "                 K=K,\n",
    "                 mapping=mapping)\n",
    "\n",
    "end_time = time.time()\n",
    "print(f\"Execution time: {end_time - start_time} seconds\")\n",
    "\n",
    "scorecard.evaluate()\n",
    "\n",
    "scorecard.show_scorecard()"
   ]
  },
  {
   "cell_type": "code",
   "execution_count": null,
   "id": "0e8f1517",
   "metadata": {},
   "outputs": [
    {
     "name": "stdout",
     "output_type": "stream",
     "text": [
      "Number of observations after SMOTE:  1816\n",
      "Number of classes after SMOTE:  4\n",
      "Target distribution after SMOTE:  Subjective Evaluation\n",
      "Fair         454\n",
      "Good         454\n",
      "Excellent    454\n",
      "Poor         454\n",
      "Name: count, dtype: int64\n",
      "testing parameters: {'C': 0.0009765625}\n",
      "  fold  1\n",
      "  fold  2\n",
      "  fold  3\n",
      "  fold  4\n",
      "  fold  5\n",
      "  mean score: 0.23512548058002603\n",
      "testing parameters: {'C': 0.001953125}\n",
      "  fold  1\n",
      "  fold  2\n",
      "  fold  3\n",
      "  fold  4\n",
      "  fold  5\n",
      "  mean score: 0.25001362274089545\n",
      "testing parameters: {'C': 0.00390625}\n",
      "  fold  1\n",
      "  fold  2\n",
      "  fold  3\n",
      "  fold  4\n",
      "  fold  5\n",
      "  mean score: 0.25001362274089545\n",
      "testing parameters: {'C': 0.0078125}\n",
      "  fold  1\n",
      "  fold  2\n",
      "  fold  3\n",
      "  fold  4\n",
      "  fold  5\n",
      "  mean score: 0.25001362274089545\n",
      "testing parameters: {'C': 0.015625}\n",
      "  fold  1\n",
      "  fold  2\n",
      "  fold  3\n",
      "  fold  4\n",
      "  fold  5\n",
      "  mean score: 0.2527669300396573\n",
      "testing parameters: {'C': 0.03125}\n",
      "  fold  1\n",
      "  fold  2\n",
      "  fold  3\n",
      "  fold  4\n",
      "  fold  5\n",
      "  mean score: 0.32764356855265947\n",
      "testing parameters: {'C': 0.0625}\n",
      "  fold  1\n",
      "  fold  2\n",
      "  fold  3\n",
      "  fold  4\n",
      "  fold  5\n",
      "  mean score: 0.31665455756364846\n",
      "testing parameters: {'C': 0.125}\n",
      "  fold  1\n",
      "  fold  2\n",
      "  fold  3\n",
      "  fold  4\n",
      "  fold  5\n",
      "  mean score: 0.3249099385463022\n",
      "testing parameters: {'C': 0.25}\n",
      "  fold  1\n",
      "  fold  2\n",
      "  fold  3\n",
      "  fold  4\n",
      "  fold  5\n",
      "  mean score: 0.35187691096782003\n",
      "testing parameters: {'C': 0.5}\n",
      "  fold  1\n",
      "  fold  2\n",
      "  fold  3\n",
      "  fold  4\n",
      "  fold  5\n",
      "  mean score: 0.3485696122059758\n",
      "testing parameters: {'C': 1}\n",
      "  fold  1\n",
      "  fold  2\n",
      "  fold  3\n",
      "  fold  4\n",
      "  fold  5\n",
      "  mean score: 0.35077195531740984\n",
      "testing parameters: {'C': 2}\n",
      "  fold  1\n",
      "  fold  2\n",
      "  fold  3\n",
      "  fold  4\n",
      "  fold  5\n",
      "  mean score: 0.3485696122059758\n",
      "testing parameters: {'C': 4}\n",
      "  fold  1\n",
      "  fold  2\n",
      "  fold  3\n",
      "  fold  4\n",
      "  fold  5\n",
      "  mean score: 0.3518784246056973\n",
      "testing parameters: {'C': 8}\n",
      "  fold  1\n",
      "  fold  2\n",
      "  fold  3\n",
      "  fold  4\n",
      "  fold  5\n",
      "  mean score: 0.3513259467804922\n",
      "testing parameters: {'C': 16}\n",
      "  fold  1\n",
      "  fold  2\n",
      "  fold  3\n",
      "  fold  4\n",
      "  fold  5\n",
      "  mean score: 0.35022401840583656\n",
      "testing parameters: {'C': 32}\n",
      "  fold  1\n",
      "  fold  2\n",
      "  fold  3\n",
      "  fold  4\n",
      "  fold  5\n",
      "  mean score: 0.3535282898919263\n",
      "testing parameters: {'C': 64}\n",
      "  fold  1\n",
      "  fold  2\n",
      "  fold  3\n",
      "  fold  4\n",
      "  fold  5\n",
      "  mean score: 0.35187539732994283\n",
      "testing parameters: {'C': 128}\n",
      "  fold  1\n",
      "  fold  2\n",
      "  fold  3\n",
      "  fold  4\n",
      "  fold  5\n",
      "  mean score: 0.35187539732994283\n",
      "best parameters:  {'C': 32}\n",
      "best score:  0.3535282898919263\n",
      "Execution time: 8401.740171670914 seconds\n",
      "\n",
      "Evaluating the model on the test set...\n",
      "     True Value  Prediction\n",
      "0             2           2\n",
      "1             2           3\n",
      "2             4           3\n",
      "3             3           2\n",
      "4             3           2\n",
      "..          ...         ...\n",
      "335           3           2\n",
      "336           3           3\n",
      "337           4           3\n",
      "338           4           3\n",
      "339           4           3\n",
      "\n",
      "[340 rows x 2 columns]\n",
      "accuracy:  0.43529411764705883\n",
      "precision:  0.36822726109457643\n",
      "recall:  0.43529411764705883\n",
      "f1 score:  0.35222477433034577\n",
      "balanced accuracy:  0.31583500370853945\n",
      "logistic loss:  0.0054109221578392125\n",
      "mse:  0.6529411764705882\n",
      "number of far off predictions:  9\n",
      "number of features:  39932\n",
      "number of non-zero weights:  39932\n",
      "model size (non-zero weights / all weights):  1.0\n"
     ]
    },
    {
     "data": {
      "image/png": "[encoded data removed]",
      "text/plain": [
       "<Figure size 800x600 with 2 Axes>"
      ]
     },
     "metadata": {},
     "output_type": "display_data"
    },
    {
     "name": "stdout",
     "output_type": "stream",
     "text": [
      "accuracy for class 1: 0.038\n",
      "accuracy for class 2: 0.494\n",
      "accuracy for class 3: 0.730\n",
      "accuracy for class 4: 0.000\n",
      "\n",
      "Evaluating the model on the train set...\n",
      "accuracy on train set:  1.0\n",
      "precision on train set:  1.0\n",
      "recall on train set:  1.0\n",
      "f1 score on train set:  1.0\n",
      "balanced accuracy on train set:  1.0\n",
      "logistic loss on train set:  0.0828837825402311\n",
      "mse on train set:  0.0\n",
      "\n",
      "Scorecard table:\n",
      "             Feature                                         Bin    Points\n",
      "0          BRA Value    [0.17135143897882216, 0.189619931322902[  0.136299\n",
      "1          BRA Value    [0.189619931322902, 0.20154489666341896[  0.136309\n",
      "2          BRA Value  [0.20154489666341896, 0.20882918670067196[  0.045419\n",
      "3          BRA Value  [0.20882918670067196, 0.21413105126949344[ -0.045490\n",
      "4          BRA Value  [0.21413105126949344, 0.21580389681643153[  0.045418\n",
      "...              ...                                         ...       ...\n",
      "39925  cEMDLab Value    [0.7899397543211446, 0.8168139941745478[ -0.045486\n",
      "39926  cEMDLab Value    [0.8168139941745478, 0.8358454697591341[ -0.136389\n",
      "39927  cEMDLab Value    [0.8358454697591341, 0.8427900431032318[ -0.045485\n",
      "39928  cEMDLab Value     [0.8427900431032318, 0.969625368067961[ -0.045487\n",
      "39929  cEMDLab Value                    [0.969625368067961, inf[  0.045419\n",
      "\n",
      "[39930 rows x 3 columns]\n",
      "\n",
      "SBC columns weights:\n",
      "               Feature    Weight\n",
      "39930  featsbcol1-bin1 -1.999853\n",
      "39931  featsbcol2-bin1 -3.999722\n"
     ]
    }
   ],
   "source": [
    "start_time = time.time()\n",
    "\n",
    "scorecard = Scorecard()\n",
    "aesthetic_infbins_1ook_mm_model, aesthetic_infbins_1ook_mm_weights = scorecard.fit(aesthetic_evaluation_X, aesthetic_evaluation_y, categorical_columns,\n",
    "                 thresholds_method='INF_BINS',\n",
    "                 encoding_method='1_OUT_OF_K',\n",
    "                 model_method='MM',\n",
    "                 params={'C': 32},\n",
    "                 use_sbc=True,\n",
    "                 K=K,\n",
    "                 mapping=mapping)\n",
    "\n",
    "end_time = time.time()\n",
    "print(f\"Execution time: {end_time - start_time} seconds\")\n",
    "\n",
    "scorecard.evaluate()\n",
    "\n",
    "scorecard.show_scorecard()"
   ]
  },
  {
   "cell_type": "code",
   "execution_count": 19,
   "id": "1e4cfd9e",
   "metadata": {},
   "outputs": [
    {
     "name": "stdout",
     "output_type": "stream",
     "text": [
      "Number of observations after SMOTE:  1816\n",
      "Number of classes after SMOTE:  4\n",
      "Target distribution after SMOTE:  Subjective Evaluation\n",
      "Fair         454\n",
      "Good         454\n",
      "Excellent    454\n",
      "Poor         454\n",
      "Name: count, dtype: int64\n",
      "Execution time: 4.353293180465698 seconds\n",
      "\n",
      "Evaluating the model on the test set...\n",
      "     True Value  Prediction\n",
      "0             2           3\n",
      "1             2           3\n",
      "2             4           3\n",
      "3             3           3\n",
      "4             3           3\n",
      "..          ...         ...\n",
      "335           3           3\n",
      "336           3           3\n",
      "337           4           3\n",
      "338           4           3\n",
      "339           4           3\n",
      "\n",
      "[340 rows x 2 columns]\n",
      "accuracy:  0.4147058823529412\n",
      "precision:  0.1719809688581315\n",
      "recall:  0.4147058823529412\n",
      "f1 score:  0.2431331784272961\n",
      "balanced accuracy:  0.25\n",
      "logistic loss:  0.0031332937087616445\n",
      "mse:  0.8147058823529412\n",
      "number of far off predictions:  4\n",
      "number of features:  39932\n",
      "number of non-zero weights:  2\n",
      "model size (non-zero weights / all weights):  5.0085144746068314e-05\n"
     ]
    },
    {
     "data": {
      "image/png": "[encoded data removed]",
      "text/plain": [
       "<Figure size 800x600 with 2 Axes>"
      ]
     },
     "metadata": {},
     "output_type": "display_data"
    },
    {
     "name": "stdout",
     "output_type": "stream",
     "text": [
      "accuracy for class 1: 0.000\n",
      "accuracy for class 2: 0.000\n",
      "accuracy for class 3: 1.000\n",
      "accuracy for class 4: 0.000\n",
      "\n",
      "Evaluating the model on the train set...\n",
      "accuracy on train set:  0.25\n",
      "precision on train set:  0.0625\n",
      "recall on train set:  0.25\n",
      "f1 score on train set:  0.10000000000000002\n",
      "balanced accuracy on train set:  0.25\n",
      "logistic loss on train set:  0.01279814577366835\n",
      "mse on train set:  1.5\n",
      "\n",
      "Scorecard table:\n",
      "Empty DataFrame\n",
      "Columns: [Feature, Bin, Points]\n",
      "Index: []\n",
      "\n",
      "SBC columns weights:\n",
      "               Feature  Weight\n",
      "39930  featsbcol1-bin1   -0.25\n",
      "39931  featsbcol2-bin1   -0.50\n"
     ]
    }
   ],
   "source": [
    "start_time = time.time()\n",
    "\n",
    "scorecard = Scorecard()\n",
    "aesthetic_infbins_1ook_beyondl1_model, aesthetic_infbins_1ook_beyondl1_weights = scorecard.fit(aesthetic_evaluation_X, aesthetic_evaluation_y, categorical_columns,\n",
    "                 thresholds_method='INF_BINS',\n",
    "                 encoding_method='1_OUT_OF_K',\n",
    "                 model_method='BEYOND_L1',\n",
    "                 params=None,\n",
    "                 use_sbc=True,\n",
    "                 K=K,\n",
    "                 mapping=mapping)\n",
    "\n",
    "end_time = time.time()\n",
    "print(f\"Execution time: {end_time - start_time} seconds\")\n",
    "\n",
    "scorecard.evaluate()\n",
    "\n",
    "scorecard.show_scorecard()"
   ]
  },
  {
   "cell_type": "code",
   "execution_count": null,
   "id": "70c9686f",
   "metadata": {},
   "outputs": [
    {
     "name": "stdout",
     "output_type": "stream",
     "text": [
      "Number of observations after SMOTE:  1816\n",
      "Number of classes after SMOTE:  4\n",
      "Target distribution after SMOTE:  Subjective Evaluation\n",
      "Fair         454\n",
      "Good         454\n",
      "Excellent    454\n",
      "Poor         454\n",
      "Name: count, dtype: int64\n",
      "testing parameters: {'alpha': 1e-08}\n",
      "  fold  1\n"
     ]
    },
    {
     "name": "stderr",
     "output_type": "stream",
     "text": [
      "/opt/homebrew/lib/python3.11/site-packages/cvxpy/reductions/solvers/solving_chain.py:250: UserWarning: Your problem has too many parameters for efficient DPP compilation. We suggest setting 'ignore_dpp = True'.\n",
      "  warnings.warn(\n"
     ]
    },
    {
     "name": "stdout",
     "output_type": "stream",
     "text": [
      "  fold  2\n"
     ]
    },
    {
     "name": "stderr",
     "output_type": "stream",
     "text": [
      "/opt/homebrew/lib/python3.11/site-packages/cvxpy/reductions/solvers/solving_chain.py:250: UserWarning: Your problem has too many parameters for efficient DPP compilation. We suggest setting 'ignore_dpp = True'.\n",
      "  warnings.warn(\n"
     ]
    },
    {
     "name": "stdout",
     "output_type": "stream",
     "text": [
      "  fold  3\n"
     ]
    },
    {
     "name": "stderr",
     "output_type": "stream",
     "text": [
      "/opt/homebrew/lib/python3.11/site-packages/cvxpy/reductions/solvers/solving_chain.py:250: UserWarning: Your problem has too many parameters for efficient DPP compilation. We suggest setting 'ignore_dpp = True'.\n",
      "  warnings.warn(\n"
     ]
    },
    {
     "name": "stdout",
     "output_type": "stream",
     "text": [
      "  fold  4\n"
     ]
    },
    {
     "name": "stderr",
     "output_type": "stream",
     "text": [
      "/opt/homebrew/lib/python3.11/site-packages/cvxpy/reductions/solvers/solving_chain.py:250: UserWarning: Your problem has too many parameters for efficient DPP compilation. We suggest setting 'ignore_dpp = True'.\n",
      "  warnings.warn(\n"
     ]
    },
    {
     "name": "stdout",
     "output_type": "stream",
     "text": [
      "  fold  5\n"
     ]
    },
    {
     "name": "stderr",
     "output_type": "stream",
     "text": [
      "/opt/homebrew/lib/python3.11/site-packages/cvxpy/reductions/solvers/solving_chain.py:250: UserWarning: Your problem has too many parameters for efficient DPP compilation. We suggest setting 'ignore_dpp = True'.\n",
      "  warnings.warn(\n"
     ]
    },
    {
     "name": "stdout",
     "output_type": "stream",
     "text": [
      "  mean score: 0.41024430115339205\n",
      "testing parameters: {'alpha': 1.2915496650148827e-07}\n",
      "  fold  1\n"
     ]
    },
    {
     "name": "stderr",
     "output_type": "stream",
     "text": [
      "/opt/homebrew/lib/python3.11/site-packages/cvxpy/reductions/solvers/solving_chain.py:250: UserWarning: Your problem has too many parameters for efficient DPP compilation. We suggest setting 'ignore_dpp = True'.\n",
      "  warnings.warn(\n"
     ]
    },
    {
     "name": "stdout",
     "output_type": "stream",
     "text": [
      "  fold  2\n"
     ]
    },
    {
     "name": "stderr",
     "output_type": "stream",
     "text": [
      "/opt/homebrew/lib/python3.11/site-packages/cvxpy/reductions/solvers/solving_chain.py:250: UserWarning: Your problem has too many parameters for efficient DPP compilation. We suggest setting 'ignore_dpp = True'.\n",
      "  warnings.warn(\n"
     ]
    },
    {
     "name": "stdout",
     "output_type": "stream",
     "text": [
      "  fold  3\n"
     ]
    },
    {
     "name": "stderr",
     "output_type": "stream",
     "text": [
      "/opt/homebrew/lib/python3.11/site-packages/cvxpy/reductions/solvers/solving_chain.py:250: UserWarning: Your problem has too many parameters for efficient DPP compilation. We suggest setting 'ignore_dpp = True'.\n",
      "  warnings.warn(\n"
     ]
    },
    {
     "name": "stdout",
     "output_type": "stream",
     "text": [
      "  fold  4\n"
     ]
    },
    {
     "name": "stderr",
     "output_type": "stream",
     "text": [
      "/opt/homebrew/lib/python3.11/site-packages/cvxpy/reductions/solvers/solving_chain.py:250: UserWarning: Your problem has too many parameters for efficient DPP compilation. We suggest setting 'ignore_dpp = True'.\n",
      "  warnings.warn(\n"
     ]
    },
    {
     "name": "stdout",
     "output_type": "stream",
     "text": [
      "  fold  5\n"
     ]
    },
    {
     "name": "stderr",
     "output_type": "stream",
     "text": [
      "/opt/homebrew/lib/python3.11/site-packages/cvxpy/reductions/solvers/solving_chain.py:250: UserWarning: Your problem has too many parameters for efficient DPP compilation. We suggest setting 'ignore_dpp = True'.\n",
      "  warnings.warn(\n"
     ]
    },
    {
     "name": "stdout",
     "output_type": "stream",
     "text": [
      "  mean score: 0.41024430115339205\n",
      "testing parameters: {'alpha': 1.6681005372000591e-06}\n",
      "  fold  1\n"
     ]
    },
    {
     "name": "stderr",
     "output_type": "stream",
     "text": [
      "/opt/homebrew/lib/python3.11/site-packages/cvxpy/reductions/solvers/solving_chain.py:250: UserWarning: Your problem has too many parameters for efficient DPP compilation. We suggest setting 'ignore_dpp = True'.\n",
      "  warnings.warn(\n"
     ]
    },
    {
     "name": "stdout",
     "output_type": "stream",
     "text": [
      "  fold  2\n"
     ]
    },
    {
     "name": "stderr",
     "output_type": "stream",
     "text": [
      "/opt/homebrew/lib/python3.11/site-packages/cvxpy/reductions/solvers/solving_chain.py:250: UserWarning: Your problem has too many parameters for efficient DPP compilation. We suggest setting 'ignore_dpp = True'.\n",
      "  warnings.warn(\n"
     ]
    },
    {
     "name": "stdout",
     "output_type": "stream",
     "text": [
      "  fold  3\n"
     ]
    },
    {
     "name": "stderr",
     "output_type": "stream",
     "text": [
      "/opt/homebrew/lib/python3.11/site-packages/cvxpy/reductions/solvers/solving_chain.py:250: UserWarning: Your problem has too many parameters for efficient DPP compilation. We suggest setting 'ignore_dpp = True'.\n",
      "  warnings.warn(\n"
     ]
    },
    {
     "name": "stdout",
     "output_type": "stream",
     "text": [
      "  fold  4\n"
     ]
    },
    {
     "name": "stderr",
     "output_type": "stream",
     "text": [
      "/opt/homebrew/lib/python3.11/site-packages/cvxpy/reductions/solvers/solving_chain.py:250: UserWarning: Your problem has too many parameters for efficient DPP compilation. We suggest setting 'ignore_dpp = True'.\n",
      "  warnings.warn(\n"
     ]
    },
    {
     "name": "stdout",
     "output_type": "stream",
     "text": [
      "  fold  5\n"
     ]
    },
    {
     "name": "stderr",
     "output_type": "stream",
     "text": [
      "/opt/homebrew/lib/python3.11/site-packages/cvxpy/reductions/solvers/solving_chain.py:250: UserWarning: Your problem has too many parameters for efficient DPP compilation. We suggest setting 'ignore_dpp = True'.\n",
      "  warnings.warn(\n"
     ]
    },
    {
     "name": "stdout",
     "output_type": "stream",
     "text": [
      "  mean score: 0.41024430115339205\n",
      "testing parameters: {'alpha': 2.1544346900318867e-05}\n",
      "  fold  1\n"
     ]
    },
    {
     "name": "stderr",
     "output_type": "stream",
     "text": [
      "/opt/homebrew/lib/python3.11/site-packages/cvxpy/reductions/solvers/solving_chain.py:250: UserWarning: Your problem has too many parameters for efficient DPP compilation. We suggest setting 'ignore_dpp = True'.\n",
      "  warnings.warn(\n"
     ]
    },
    {
     "name": "stdout",
     "output_type": "stream",
     "text": [
      "  fold  2\n"
     ]
    },
    {
     "name": "stderr",
     "output_type": "stream",
     "text": [
      "/opt/homebrew/lib/python3.11/site-packages/cvxpy/reductions/solvers/solving_chain.py:250: UserWarning: Your problem has too many parameters for efficient DPP compilation. We suggest setting 'ignore_dpp = True'.\n",
      "  warnings.warn(\n"
     ]
    },
    {
     "name": "stdout",
     "output_type": "stream",
     "text": [
      "  fold  3\n"
     ]
    },
    {
     "name": "stderr",
     "output_type": "stream",
     "text": [
      "/opt/homebrew/lib/python3.11/site-packages/cvxpy/reductions/solvers/solving_chain.py:250: UserWarning: Your problem has too many parameters for efficient DPP compilation. We suggest setting 'ignore_dpp = True'.\n",
      "  warnings.warn(\n"
     ]
    },
    {
     "name": "stdout",
     "output_type": "stream",
     "text": [
      "  fold  4\n"
     ]
    },
    {
     "name": "stderr",
     "output_type": "stream",
     "text": [
      "/opt/homebrew/lib/python3.11/site-packages/cvxpy/reductions/solvers/solving_chain.py:250: UserWarning: Your problem has too many parameters for efficient DPP compilation. We suggest setting 'ignore_dpp = True'.\n",
      "  warnings.warn(\n"
     ]
    },
    {
     "name": "stdout",
     "output_type": "stream",
     "text": [
      "  fold  5\n"
     ]
    },
    {
     "name": "stderr",
     "output_type": "stream",
     "text": [
      "/opt/homebrew/lib/python3.11/site-packages/cvxpy/reductions/solvers/solving_chain.py:250: UserWarning: Your problem has too many parameters for efficient DPP compilation. We suggest setting 'ignore_dpp = True'.\n",
      "  warnings.warn(\n"
     ]
    },
    {
     "name": "stdout",
     "output_type": "stream",
     "text": [
      "  mean score: 0.41024430115339205\n",
      "testing parameters: {'alpha': 0.0002782559402207126}\n",
      "  fold  1\n"
     ]
    },
    {
     "name": "stderr",
     "output_type": "stream",
     "text": [
      "/opt/homebrew/lib/python3.11/site-packages/cvxpy/reductions/solvers/solving_chain.py:250: UserWarning: Your problem has too many parameters for efficient DPP compilation. We suggest setting 'ignore_dpp = True'.\n",
      "  warnings.warn(\n"
     ]
    },
    {
     "name": "stdout",
     "output_type": "stream",
     "text": [
      "  fold  2\n"
     ]
    },
    {
     "name": "stderr",
     "output_type": "stream",
     "text": [
      "/opt/homebrew/lib/python3.11/site-packages/cvxpy/reductions/solvers/solving_chain.py:250: UserWarning: Your problem has too many parameters for efficient DPP compilation. We suggest setting 'ignore_dpp = True'.\n",
      "  warnings.warn(\n"
     ]
    },
    {
     "name": "stdout",
     "output_type": "stream",
     "text": [
      "  fold  3\n"
     ]
    },
    {
     "name": "stderr",
     "output_type": "stream",
     "text": [
      "/opt/homebrew/lib/python3.11/site-packages/cvxpy/reductions/solvers/solving_chain.py:250: UserWarning: Your problem has too many parameters for efficient DPP compilation. We suggest setting 'ignore_dpp = True'.\n",
      "  warnings.warn(\n"
     ]
    },
    {
     "name": "stdout",
     "output_type": "stream",
     "text": [
      "  fold  4\n"
     ]
    },
    {
     "name": "stderr",
     "output_type": "stream",
     "text": [
      "/opt/homebrew/lib/python3.11/site-packages/cvxpy/reductions/solvers/solving_chain.py:250: UserWarning: Your problem has too many parameters for efficient DPP compilation. We suggest setting 'ignore_dpp = True'.\n",
      "  warnings.warn(\n"
     ]
    },
    {
     "name": "stdout",
     "output_type": "stream",
     "text": [
      "  fold  5\n"
     ]
    },
    {
     "name": "stderr",
     "output_type": "stream",
     "text": [
      "/opt/homebrew/lib/python3.11/site-packages/cvxpy/reductions/solvers/solving_chain.py:250: UserWarning: Your problem has too many parameters for efficient DPP compilation. We suggest setting 'ignore_dpp = True'.\n",
      "  warnings.warn(\n"
     ]
    },
    {
     "name": "stdout",
     "output_type": "stream",
     "text": [
      "  mean score: 0.43503163503163506\n",
      "testing parameters: {'alpha': 0.003593813663804626}\n",
      "  fold  1\n"
     ]
    },
    {
     "name": "stderr",
     "output_type": "stream",
     "text": [
      "/opt/homebrew/lib/python3.11/site-packages/cvxpy/reductions/solvers/solving_chain.py:250: UserWarning: Your problem has too many parameters for efficient DPP compilation. We suggest setting 'ignore_dpp = True'.\n",
      "  warnings.warn(\n"
     ]
    },
    {
     "name": "stdout",
     "output_type": "stream",
     "text": [
      "  fold  2\n"
     ]
    },
    {
     "name": "stderr",
     "output_type": "stream",
     "text": [
      "/opt/homebrew/lib/python3.11/site-packages/cvxpy/reductions/solvers/solving_chain.py:250: UserWarning: Your problem has too many parameters for efficient DPP compilation. We suggest setting 'ignore_dpp = True'.\n",
      "  warnings.warn(\n"
     ]
    },
    {
     "name": "stdout",
     "output_type": "stream",
     "text": [
      "  fold  3\n"
     ]
    },
    {
     "name": "stderr",
     "output_type": "stream",
     "text": [
      "/opt/homebrew/lib/python3.11/site-packages/cvxpy/reductions/solvers/solving_chain.py:250: UserWarning: Your problem has too many parameters for efficient DPP compilation. We suggest setting 'ignore_dpp = True'.\n",
      "  warnings.warn(\n"
     ]
    },
    {
     "name": "stdout",
     "output_type": "stream",
     "text": [
      "  fold  4\n"
     ]
    },
    {
     "name": "stderr",
     "output_type": "stream",
     "text": [
      "/opt/homebrew/lib/python3.11/site-packages/cvxpy/reductions/solvers/solving_chain.py:250: UserWarning: Your problem has too many parameters for efficient DPP compilation. We suggest setting 'ignore_dpp = True'.\n",
      "  warnings.warn(\n"
     ]
    },
    {
     "name": "stdout",
     "output_type": "stream",
     "text": [
      "  fold  5\n"
     ]
    },
    {
     "name": "stderr",
     "output_type": "stream",
     "text": [
      "/opt/homebrew/lib/python3.11/site-packages/cvxpy/reductions/solvers/solving_chain.py:250: UserWarning: Your problem has too many parameters for efficient DPP compilation. We suggest setting 'ignore_dpp = True'.\n",
      "  warnings.warn(\n"
     ]
    },
    {
     "name": "stdout",
     "output_type": "stream",
     "text": [
      "  mean score: 0.25495262313444134\n",
      "testing parameters: {'alpha': 0.04641588833612782}\n",
      "  fold  1\n"
     ]
    },
    {
     "name": "stderr",
     "output_type": "stream",
     "text": [
      "/opt/homebrew/lib/python3.11/site-packages/cvxpy/reductions/solvers/solving_chain.py:250: UserWarning: Your problem has too many parameters for efficient DPP compilation. We suggest setting 'ignore_dpp = True'.\n",
      "  warnings.warn(\n"
     ]
    },
    {
     "name": "stdout",
     "output_type": "stream",
     "text": [
      "  fold  2\n"
     ]
    },
    {
     "name": "stderr",
     "output_type": "stream",
     "text": [
      "/opt/homebrew/lib/python3.11/site-packages/cvxpy/reductions/solvers/solving_chain.py:250: UserWarning: Your problem has too many parameters for efficient DPP compilation. We suggest setting 'ignore_dpp = True'.\n",
      "  warnings.warn(\n"
     ]
    },
    {
     "name": "stdout",
     "output_type": "stream",
     "text": [
      "  fold  3\n"
     ]
    },
    {
     "name": "stderr",
     "output_type": "stream",
     "text": [
      "/opt/homebrew/lib/python3.11/site-packages/cvxpy/reductions/solvers/solving_chain.py:250: UserWarning: Your problem has too many parameters for efficient DPP compilation. We suggest setting 'ignore_dpp = True'.\n",
      "  warnings.warn(\n"
     ]
    },
    {
     "name": "stdout",
     "output_type": "stream",
     "text": [
      "  fold  4\n"
     ]
    },
    {
     "name": "stderr",
     "output_type": "stream",
     "text": [
      "/opt/homebrew/lib/python3.11/site-packages/cvxpy/reductions/solvers/solving_chain.py:250: UserWarning: Your problem has too many parameters for efficient DPP compilation. We suggest setting 'ignore_dpp = True'.\n",
      "  warnings.warn(\n"
     ]
    },
    {
     "name": "stdout",
     "output_type": "stream",
     "text": [
      "  fold  5\n"
     ]
    },
    {
     "name": "stderr",
     "output_type": "stream",
     "text": [
      "/opt/homebrew/lib/python3.11/site-packages/cvxpy/reductions/solvers/solving_chain.py:250: UserWarning: Your problem has too many parameters for efficient DPP compilation. We suggest setting 'ignore_dpp = True'.\n",
      "  warnings.warn(\n"
     ]
    },
    {
     "name": "stdout",
     "output_type": "stream",
     "text": [
      "  mean score: 0.25000151363787726\n",
      "testing parameters: {'alpha': 0.5994842503189421}\n",
      "  fold  1\n"
     ]
    },
    {
     "name": "stderr",
     "output_type": "stream",
     "text": [
      "/opt/homebrew/lib/python3.11/site-packages/cvxpy/reductions/solvers/solving_chain.py:250: UserWarning: Your problem has too many parameters for efficient DPP compilation. We suggest setting 'ignore_dpp = True'.\n",
      "  warnings.warn(\n"
     ]
    },
    {
     "name": "stdout",
     "output_type": "stream",
     "text": [
      "  fold  2\n"
     ]
    },
    {
     "name": "stderr",
     "output_type": "stream",
     "text": [
      "/opt/homebrew/lib/python3.11/site-packages/cvxpy/reductions/solvers/solving_chain.py:250: UserWarning: Your problem has too many parameters for efficient DPP compilation. We suggest setting 'ignore_dpp = True'.\n",
      "  warnings.warn(\n"
     ]
    },
    {
     "name": "stdout",
     "output_type": "stream",
     "text": [
      "  fold  3\n"
     ]
    },
    {
     "name": "stderr",
     "output_type": "stream",
     "text": [
      "/opt/homebrew/lib/python3.11/site-packages/cvxpy/reductions/solvers/solving_chain.py:250: UserWarning: Your problem has too many parameters for efficient DPP compilation. We suggest setting 'ignore_dpp = True'.\n",
      "  warnings.warn(\n"
     ]
    },
    {
     "name": "stdout",
     "output_type": "stream",
     "text": [
      "  fold  4\n"
     ]
    },
    {
     "name": "stderr",
     "output_type": "stream",
     "text": [
      "/opt/homebrew/lib/python3.11/site-packages/cvxpy/reductions/solvers/solving_chain.py:250: UserWarning: Your problem has too many parameters for efficient DPP compilation. We suggest setting 'ignore_dpp = True'.\n",
      "  warnings.warn(\n"
     ]
    },
    {
     "name": "stdout",
     "output_type": "stream",
     "text": [
      "  fold  5\n"
     ]
    },
    {
     "name": "stderr",
     "output_type": "stream",
     "text": [
      "/opt/homebrew/lib/python3.11/site-packages/cvxpy/reductions/solvers/solving_chain.py:250: UserWarning: Your problem has too many parameters for efficient DPP compilation. We suggest setting 'ignore_dpp = True'.\n",
      "  warnings.warn(\n"
     ]
    },
    {
     "name": "stdout",
     "output_type": "stream",
     "text": [
      "  mean score: 0.25000151363787726\n",
      "testing parameters: {'alpha': 7.742636826811277}\n",
      "  fold  1\n"
     ]
    },
    {
     "name": "stderr",
     "output_type": "stream",
     "text": [
      "/opt/homebrew/lib/python3.11/site-packages/cvxpy/reductions/solvers/solving_chain.py:250: UserWarning: Your problem has too many parameters for efficient DPP compilation. We suggest setting 'ignore_dpp = True'.\n",
      "  warnings.warn(\n"
     ]
    },
    {
     "name": "stdout",
     "output_type": "stream",
     "text": [
      "  fold  2\n"
     ]
    },
    {
     "name": "stderr",
     "output_type": "stream",
     "text": [
      "/opt/homebrew/lib/python3.11/site-packages/cvxpy/reductions/solvers/solving_chain.py:250: UserWarning: Your problem has too many parameters for efficient DPP compilation. We suggest setting 'ignore_dpp = True'.\n",
      "  warnings.warn(\n"
     ]
    },
    {
     "name": "stdout",
     "output_type": "stream",
     "text": [
      "  fold  3\n"
     ]
    },
    {
     "name": "stderr",
     "output_type": "stream",
     "text": [
      "/opt/homebrew/lib/python3.11/site-packages/cvxpy/reductions/solvers/solving_chain.py:250: UserWarning: Your problem has too many parameters for efficient DPP compilation. We suggest setting 'ignore_dpp = True'.\n",
      "  warnings.warn(\n"
     ]
    },
    {
     "name": "stdout",
     "output_type": "stream",
     "text": [
      "  fold  4\n"
     ]
    },
    {
     "name": "stderr",
     "output_type": "stream",
     "text": [
      "/opt/homebrew/lib/python3.11/site-packages/cvxpy/reductions/solvers/solving_chain.py:250: UserWarning: Your problem has too many parameters for efficient DPP compilation. We suggest setting 'ignore_dpp = True'.\n",
      "  warnings.warn(\n"
     ]
    },
    {
     "name": "stdout",
     "output_type": "stream",
     "text": [
      "  fold  5\n"
     ]
    },
    {
     "name": "stderr",
     "output_type": "stream",
     "text": [
      "/opt/homebrew/lib/python3.11/site-packages/cvxpy/reductions/solvers/solving_chain.py:250: UserWarning: Your problem has too many parameters for efficient DPP compilation. We suggest setting 'ignore_dpp = True'.\n",
      "  warnings.warn(\n"
     ]
    },
    {
     "name": "stdout",
     "output_type": "stream",
     "text": [
      "  mean score: 0.25000151363787726\n",
      "testing parameters: {'alpha': 100.0}\n",
      "  fold  1\n"
     ]
    },
    {
     "name": "stderr",
     "output_type": "stream",
     "text": [
      "/opt/homebrew/lib/python3.11/site-packages/cvxpy/reductions/solvers/solving_chain.py:250: UserWarning: Your problem has too many parameters for efficient DPP compilation. We suggest setting 'ignore_dpp = True'.\n",
      "  warnings.warn(\n"
     ]
    },
    {
     "name": "stdout",
     "output_type": "stream",
     "text": [
      "  fold  2\n"
     ]
    },
    {
     "name": "stderr",
     "output_type": "stream",
     "text": [
      "/opt/homebrew/lib/python3.11/site-packages/cvxpy/reductions/solvers/solving_chain.py:250: UserWarning: Your problem has too many parameters for efficient DPP compilation. We suggest setting 'ignore_dpp = True'.\n",
      "  warnings.warn(\n"
     ]
    },
    {
     "name": "stdout",
     "output_type": "stream",
     "text": [
      "  fold  3\n"
     ]
    },
    {
     "name": "stderr",
     "output_type": "stream",
     "text": [
      "/opt/homebrew/lib/python3.11/site-packages/cvxpy/reductions/solvers/solving_chain.py:250: UserWarning: Your problem has too many parameters for efficient DPP compilation. We suggest setting 'ignore_dpp = True'.\n",
      "  warnings.warn(\n"
     ]
    },
    {
     "name": "stdout",
     "output_type": "stream",
     "text": [
      "  fold  4\n"
     ]
    },
    {
     "name": "stderr",
     "output_type": "stream",
     "text": [
      "/opt/homebrew/lib/python3.11/site-packages/cvxpy/reductions/solvers/solving_chain.py:250: UserWarning: Your problem has too many parameters for efficient DPP compilation. We suggest setting 'ignore_dpp = True'.\n",
      "  warnings.warn(\n"
     ]
    },
    {
     "name": "stdout",
     "output_type": "stream",
     "text": [
      "  fold  5\n"
     ]
    },
    {
     "name": "stderr",
     "output_type": "stream",
     "text": [
      "/opt/homebrew/lib/python3.11/site-packages/cvxpy/reductions/solvers/solving_chain.py:250: UserWarning: Your problem has too many parameters for efficient DPP compilation. We suggest setting 'ignore_dpp = True'.\n",
      "  warnings.warn(\n"
     ]
    },
    {
     "name": "stdout",
     "output_type": "stream",
     "text": [
      "  mean score: 0.25000151363787726\n",
      "best parameters:  {'alpha': 0.0002782559402207126}\n",
      "best score:  0.43503163503163506\n"
     ]
    },
    {
     "name": "stderr",
     "output_type": "stream",
     "text": [
      "/opt/homebrew/lib/python3.11/site-packages/cvxpy/reductions/solvers/solving_chain.py:250: UserWarning: Your problem has too many parameters for efficient DPP compilation. We suggest setting 'ignore_dpp = True'.\n",
      "  warnings.warn(\n"
     ]
    },
    {
     "name": "stdout",
     "output_type": "stream",
     "text": [
      "Execution time: 4238.461530923843 seconds\n",
      "\n",
      "Evaluating the model on the test set...\n",
      "     True Value  Prediction\n",
      "0             2           1\n",
      "1             2           1\n",
      "2             4           2\n",
      "3             3           1\n",
      "4             3           1\n",
      "..          ...         ...\n",
      "335           3           2\n",
      "336           3           2\n",
      "337           4           2\n",
      "338           4           2\n",
      "339           4           2\n",
      "\n",
      "[340 rows x 2 columns]\n",
      "accuracy:  0.17352941176470588\n",
      "precision:  0.4902274858775546\n",
      "recall:  0.17352941176470588\n",
      "f1 score:  0.11358966311831149\n",
      "balanced accuracy:  0.30605843773725677\n",
      "logistic loss:  0.03582518142150494\n",
      "mse:  2.2147058823529413\n",
      "number of far off predictions:  41\n",
      "number of features:  39932\n",
      "number of non-zero weights:  39932\n",
      "model size (non-zero weights / all weights):  1.0\n"
     ]
    },
    {
     "data": {
      "image/png": "[encoded data removed]",
      "text/plain": [
       "<Figure size 800x600 with 2 Axes>"
      ]
     },
     "metadata": {},
     "output_type": "display_data"
    },
    {
     "name": "stdout",
     "output_type": "stream",
     "text": [
      "accuracy for class 1: 0.808\n",
      "accuracy for class 2: 0.360\n",
      "accuracy for class 3: 0.021\n",
      "accuracy for class 4: 0.036\n",
      "\n",
      "Evaluating the model on the train set...\n",
      "accuracy on train set:  0.5\n",
      "precision on train set:  0.3333333333333333\n",
      "recall on train set:  0.5\n",
      "f1 score on train set:  0.375\n",
      "balanced accuracy on train set:  0.5\n",
      "logistic loss on train set:  0.12219429066752646\n",
      "mse on train set:  1.25\n",
      "\n",
      "Scorecard table:\n",
      "             Feature                                         Bin        Points\n",
      "0          BRA Value    [0.17135143897882216, 0.189619931322902[  4.071914e-02\n",
      "1          BRA Value    [0.189619931322902, 0.20154489666341896[  4.071914e-02\n",
      "2          BRA Value  [0.20154489666341896, 0.20882918670067196[ -5.525962e-09\n",
      "3          BRA Value  [0.20882918670067196, 0.21413105126949344[ -1.175195e-10\n",
      "4          BRA Value  [0.21413105126949344, 0.21580389681643153[ -5.525962e-09\n",
      "...              ...                                         ...           ...\n",
      "39925  cEMDLab Value    [0.7899397543211446, 0.8168139941745478[ -1.175195e-10\n",
      "39926  cEMDLab Value    [0.8168139941745478, 0.8358454697591341[  8.710182e-10\n",
      "39927  cEMDLab Value    [0.8358454697591341, 0.8427900431032318[ -1.175195e-10\n",
      "39928  cEMDLab Value     [0.8427900431032318, 0.969625368067961[ -1.175195e-10\n",
      "39929  cEMDLab Value                    [0.969625368067961, inf[ -5.525962e-09\n",
      "\n",
      "[39930 rows x 3 columns]\n",
      "\n",
      "SBC columns weights:\n",
      "               Feature    Weight\n",
      "39930  featsbcol1-bin1  0.276043\n",
      "39931  featsbcol2-bin1  0.026036\n"
     ]
    }
   ],
   "source": [
    "start_time = time.time()\n",
    "\n",
    "scorecard = Scorecard()\n",
    "aesthetic_infbins_1ook_adaptivelasso_model, aesthetic_infbins_1ook_adaptivelasso_weights = scorecard.fit(aesthetic_evaluation_X, aesthetic_evaluation_y, categorical_columns,\n",
    "                 thresholds_method='INF_BINS',\n",
    "                 encoding_method='1_OUT_OF_K',\n",
    "                 model_method='ADAPTIVE_LASSO',\n",
    "                 params={'alpha': 0.0002782559402207126},\n",
    "                 use_sbc=True,\n",
    "                 K=K,\n",
    "                 mapping=mapping)\n",
    "\n",
    "end_time = time.time()\n",
    "print(f\"Execution time: {end_time - start_time} seconds\")\n",
    "\n",
    "scorecard.evaluate()\n",
    "\n",
    "scorecard.show_scorecard()"
   ]
  },
  {
   "cell_type": "markdown",
   "id": "faadb401",
   "metadata": {},
   "source": [
    "#### Inf Bins & Diff Coding"
   ]
  },
  {
   "cell_type": "code",
   "execution_count": null,
   "id": "d0533d53",
   "metadata": {},
   "outputs": [
    {
     "name": "stdout",
     "output_type": "stream",
     "text": [
      "Number of observations after SMOTE:  1816\n",
      "Number of classes after SMOTE:  4\n",
      "Target distribution after SMOTE:  Subjective Evaluation\n",
      "Fair         454\n",
      "Good         454\n",
      "Excellent    454\n",
      "Poor         454\n",
      "Name: count, dtype: int64\n",
      "testing parameters: {'C': 1000.0}\n",
      "  fold  1\n",
      "  fold  2\n",
      "  fold  3\n",
      "  fold  4\n",
      "  fold  5\n",
      "  mean score: 0.5765567765567765\n",
      "testing parameters: {'C': 100.0}\n",
      "  fold  1\n",
      "  fold  2\n",
      "  fold  3\n",
      "  fold  4\n",
      "  fold  5\n",
      "  mean score: 0.5792994883903975\n",
      "testing parameters: {'C': 10.0}\n",
      "  fold  1\n",
      "  fold  2\n",
      "  fold  3\n",
      "  fold  4\n",
      "  fold  5\n",
      "  mean score: 0.5925120334211244\n",
      "testing parameters: {'C': 2.5}\n",
      "  fold  1\n",
      "  fold  2\n",
      "  fold  3\n",
      "  fold  4\n",
      "  fold  5\n",
      "  mean score: 0.5958269003723549\n",
      "testing parameters: {'C': 1.6666666666666667}\n",
      "  fold  1\n",
      "  fold  2\n",
      "  fold  3\n",
      "  fold  4\n",
      "  fold  5\n",
      "  mean score: 0.5996791087700178\n",
      "testing parameters: {'C': 1.1111111111111112}\n",
      "  fold  1\n",
      "  fold  2\n",
      "  fold  3\n",
      "  fold  4\n",
      "  fold  5\n",
      "  mean score: 0.6057321466412375\n",
      "testing parameters: {'C': 1.0101010101010102}\n",
      "  fold  1\n",
      "  fold  2\n",
      "  fold  3\n",
      "  fold  4\n",
      "  fold  5\n",
      "  mean score: 0.609587382314655\n",
      "testing parameters: {'C': 1.0}\n",
      "  fold  1\n",
      "  fold  2\n",
      "  fold  3\n",
      "  fold  4\n",
      "  fold  5\n",
      "  mean score: 0.6084839403021222\n",
      "best parameters:  {'C': 1.0101010101010102}\n",
      "best alpha:  0.99\n",
      "best score:  0.609587382314655\n",
      "Execution time: 446.5762929916382 seconds\n",
      "\n",
      "Evaluating the model on the test set...\n",
      "     True Value  Prediction\n",
      "0             2           1\n",
      "1             2           3\n",
      "2             4           2\n",
      "3             3           2\n",
      "4             3           2\n",
      "..          ...         ...\n",
      "335           3           3\n",
      "336           3           3\n",
      "337           4           4\n",
      "338           4           2\n",
      "339           4           4\n",
      "\n",
      "[340 rows x 2 columns]\n",
      "accuracy:  0.47941176470588237\n",
      "precision:  0.4809071919366037\n",
      "recall:  0.47941176470588237\n",
      "f1 score:  0.4789385631999955\n",
      "balanced accuracy:  0.4877394897715242\n",
      "logistic loss:  0.009763120337034751\n",
      "mse:  0.7294117647058823\n",
      "number of far off predictions:  18\n",
      "number of features:  39932\n",
      "number of non-zero weights:  2727\n",
      "model size (non-zero weights / all weights):  0.06829109486126415\n"
     ]
    },
    {
     "data": {
      "image/png": "[encoded data removed]",
      "text/plain": [
       "<Figure size 800x600 with 2 Axes>"
      ]
     },
     "metadata": {},
     "output_type": "display_data"
    },
    {
     "name": "stdout",
     "output_type": "stream",
     "text": [
      "accuracy for class 1: 0.500\n",
      "accuracy for class 2: 0.449\n",
      "accuracy for class 3: 0.454\n",
      "accuracy for class 4: 0.548\n",
      "\n",
      "Evaluating the model on the train set...\n",
      "accuracy on train set:  0.9752202643171806\n",
      "precision on train set:  0.9753507298495949\n",
      "recall on train set:  0.9752202643171806\n",
      "f1 score on train set:  0.9752589799521351\n",
      "balanced accuracy on train set:  0.9752202643171806\n",
      "logistic loss on train set:  0.08201705788915095\n",
      "mse on train set:  0.02477973568281938\n",
      "\n",
      "Scorecard table:\n",
      "            Feature                                         Bin    Points\n",
      "0         BRA Value    [0.17135143897882216, 0.189619931322902[  0.030804\n",
      "1         BRA Value  [0.23356299924095925, 0.25998993666774833[  0.003894\n",
      "2         BRA Value  [0.25998993666774833, 0.26979525183184316[  0.095580\n",
      "3         BRA Value  [0.26979525183184316, 0.27352015369830174[  0.009713\n",
      "4         BRA Value   [0.44161193606901394, 0.4444553868713025[ -0.020886\n",
      "...             ...                                         ...       ...\n",
      "2720  cEMDLab Value    [0.5925789308505369, 0.6047504097079566[  0.001900\n",
      "2721  cEMDLab Value    [0.6055320635832555, 0.6078842876505313[  1.157663\n",
      "2722  cEMDLab Value    [0.6078842876505313, 0.6114431770432922[  0.027281\n",
      "2723  cEMDLab Value    [0.6114431770432922, 0.6191725871641109[  0.127595\n",
      "2724  cEMDLab Value    [0.7141074507332836, 0.7263719285988273[  0.273573\n",
      "\n",
      "[2725 rows x 3 columns]\n",
      "\n",
      "SBC columns weights:\n",
      "               Feature    Weight\n",
      "39930  featsbcol1-bin1 -5.181885\n",
      "39931  featsbcol2-bin1 -9.282023\n"
     ]
    }
   ],
   "source": [
    "start_time = time.time()\n",
    "\n",
    "scorecard = Scorecard()\n",
    "aesthetic_infbins_diffcod_ml_model, aesthetic_infbins_diffcod_ml_weights = scorecard.fit(aesthetic_evaluation_X, aesthetic_evaluation_y, categorical_columns,\n",
    "                thresholds_method='INF_BINS',\n",
    "                encoding_method='DIFF_CODING', \n",
    "                model_method='ML',\n",
    "                params={'C': 1.0101010101010102},\n",
    "                use_sbc=True,\n",
    "                K=K,\n",
    "                mapping=mapping)\n",
    "\n",
    "end_time = time.time()\n",
    "print(f\"Execution time: {end_time - start_time} seconds\")\n",
    "\n",
    "scorecard.evaluate()\n",
    "\n",
    "scorecard.show_scorecard()"
   ]
  },
  {
   "cell_type": "code",
   "execution_count": null,
   "id": "c5d0a9cf",
   "metadata": {},
   "outputs": [
    {
     "name": "stdout",
     "output_type": "stream",
     "text": [
      "Number of observations after SMOTE:  1816\n",
      "Number of classes after SMOTE:  4\n",
      "Target distribution after SMOTE:  Subjective Evaluation\n",
      "Fair         454\n",
      "Good         454\n",
      "Excellent    454\n",
      "Poor         454\n",
      "Name: count, dtype: int64\n",
      "testing parameters: {'C': 0.0009765625}\n",
      "  fold  1\n",
      "  fold  2\n",
      "  fold  3\n",
      "  fold  4\n",
      "  fold  5\n",
      "  mean score: 0.5121045621045621\n",
      "testing parameters: {'C': 0.001953125}\n",
      "  fold  1\n",
      "  fold  2\n",
      "  fold  3\n",
      "  fold  4\n",
      "  fold  5\n",
      "  mean score: 0.5468031968031968\n",
      "testing parameters: {'C': 0.00390625}\n",
      "  fold  1\n",
      "  fold  2\n",
      "  fold  3\n",
      "  fold  4\n",
      "  fold  5\n",
      "  mean score: 0.5721475494202768\n",
      "testing parameters: {'C': 0.0078125}\n",
      "  fold  1\n",
      "  fold  2\n",
      "  fold  3\n",
      "  fold  4\n",
      "  fold  5\n",
      "  mean score: 0.5848000484364121\n",
      "testing parameters: {'C': 0.015625}\n",
      "  fold  1\n",
      "  fold  2\n",
      "  fold  3\n",
      "  fold  4\n",
      "  fold  5\n",
      "  mean score: 0.5759906759906761\n",
      "testing parameters: {'C': 0.03125}\n",
      "  fold  1\n",
      "  fold  2\n",
      "  fold  3\n",
      "  fold  4\n",
      "  fold  5\n",
      "  mean score: 0.5671964399237127\n",
      "testing parameters: {'C': 0.0625}\n",
      "  fold  1\n",
      "  fold  2\n",
      "  fold  3\n",
      "  fold  4\n",
      "  fold  5\n",
      "  mean score: 0.5655435473617292\n",
      "testing parameters: {'C': 0.125}\n",
      "  fold  1\n",
      "  fold  2\n",
      "  fold  3\n",
      "  fold  4\n",
      "  fold  5\n",
      "  mean score: 0.5655435473617292\n",
      "testing parameters: {'C': 0.25}\n",
      "  fold  1\n",
      "  fold  2\n",
      "  fold  3\n",
      "  fold  4\n",
      "  fold  5\n",
      "  mean score: 0.5655435473617292\n",
      "testing parameters: {'C': 0.5}\n",
      "  fold  1\n",
      "  fold  2\n",
      "  fold  3\n",
      "  fold  4\n",
      "  fold  5\n",
      "  mean score: 0.5655435473617292\n",
      "testing parameters: {'C': 1}\n",
      "  fold  1\n",
      "  fold  2\n",
      "  fold  3\n",
      "  fold  4\n",
      "  fold  5\n",
      "  mean score: 0.5655435473617292\n",
      "testing parameters: {'C': 2}\n",
      "  fold  1\n",
      "  fold  2\n",
      "  fold  3\n",
      "  fold  4\n",
      "  fold  5\n",
      "  mean score: 0.5649925831744014\n",
      "testing parameters: {'C': 4}\n",
      "  fold  1\n",
      "  fold  2\n",
      "  fold  3\n",
      "  fold  4\n",
      "  fold  5\n",
      "  mean score: 0.5655435473617292\n",
      "testing parameters: {'C': 8}\n",
      "  fold  1\n",
      "  fold  2\n",
      "  fold  3\n",
      "  fold  4\n",
      "  fold  5\n",
      "  mean score: 0.5655435473617292\n",
      "testing parameters: {'C': 16}\n",
      "  fold  1\n",
      "  fold  2\n",
      "  fold  3\n",
      "  fold  4\n",
      "  fold  5\n",
      "  mean score: 0.5655435473617292\n",
      "testing parameters: {'C': 32}\n",
      "  fold  1\n",
      "  fold  2\n",
      "  fold  3\n",
      "  fold  4\n",
      "  fold  5\n",
      "  mean score: 0.5655435473617292\n",
      "testing parameters: {'C': 64}\n",
      "  fold  1\n",
      "  fold  2\n",
      "  fold  3\n",
      "  fold  4\n",
      "  fold  5\n",
      "  mean score: 0.5655435473617292\n",
      "testing parameters: {'C': 128}\n",
      "  fold  1\n",
      "  fold  2\n",
      "  fold  3\n",
      "  fold  4\n",
      "  fold  5\n",
      "  mean score: 0.5655435473617292\n",
      "best parameters:  {'C': 0.0078125}\n",
      "best score:  0.5848000484364121\n",
      "Execution time: 5088.722896814346 seconds\n",
      "\n",
      "Evaluating the model on the test set...\n",
      "     True Value  Prediction\n",
      "0             2           1\n",
      "1             2           2\n",
      "2             4           3\n",
      "3             3           2\n",
      "4             3           2\n",
      "..          ...         ...\n",
      "335           3           3\n",
      "336           3           3\n",
      "337           4           4\n",
      "338           4           1\n",
      "339           4           4\n",
      "\n",
      "[340 rows x 2 columns]\n",
      "accuracy:  0.45\n",
      "precision:  0.46426450181882717\n",
      "recall:  0.45\n",
      "f1 score:  0.4351498419343814\n",
      "balanced accuracy:  0.4726953310057541\n",
      "logistic loss:  0.010470892353017463\n",
      "mse:  0.8911764705882353\n",
      "number of far off predictions:  21\n",
      "number of features:  39932\n",
      "number of non-zero weights:  39924\n",
      "model size (non-zero weights / all weights):  0.9997996594210157\n"
     ]
    },
    {
     "data": {
      "image/png": "[encoded data removed]",
      "text/plain": [
       "<Figure size 800x600 with 2 Axes>"
      ]
     },
     "metadata": {},
     "output_type": "display_data"
    },
    {
     "name": "stdout",
     "output_type": "stream",
     "text": [
      "accuracy for class 1: 0.577\n",
      "accuracy for class 2: 0.191\n",
      "accuracy for class 3: 0.468\n",
      "accuracy for class 4: 0.655\n",
      "\n",
      "Evaluating the model on the train set...\n",
      "accuracy on train set:  0.7940528634361234\n",
      "precision on train set:  0.8486437307753654\n",
      "recall on train set:  0.7940528634361234\n",
      "f1 score on train set:  0.7492324994971905\n",
      "balanced accuracy on train set:  0.7940528634361234\n",
      "logistic loss on train set:  0.08863387906743496\n",
      "mse on train set:  0.20594713656387664\n",
      "\n",
      "Scorecard table:\n",
      "             Feature                                         Bin        Points\n",
      "0          BRA Value    [0.17135143897882216, 0.189619931322902[ -1.330793e-14\n",
      "1          BRA Value    [0.189619931322902, 0.20154489666341896[ -1.330793e-14\n",
      "2          BRA Value  [0.20154489666341896, 0.20882918670067196[ -1.286384e-14\n",
      "3          BRA Value  [0.20882918670067196, 0.21413105126949344[ -1.127366e-03\n",
      "4          BRA Value  [0.21413105126949344, 0.21580389681643153[  2.215274e-03\n",
      "...              ...                                         ...           ...\n",
      "39917  cEMDLab Value    [0.7899397543211446, 0.8168139941745478[  2.322221e-03\n",
      "39918  cEMDLab Value    [0.8168139941745478, 0.8358454697591341[  2.322221e-03\n",
      "39919  cEMDLab Value    [0.8358454697591341, 0.8427900431032318[  2.322221e-03\n",
      "39920  cEMDLab Value     [0.8427900431032318, 0.969625368067961[  3.005353e-03\n",
      "39921  cEMDLab Value                    [0.969625368067961, inf[  3.005353e-03\n",
      "\n",
      "[39922 rows x 3 columns]\n",
      "\n",
      "SBC columns weights:\n",
      "               Feature    Weight\n",
      "39930  featsbcol1-bin1 -0.635615\n",
      "39931  featsbcol2-bin1 -2.000000\n"
     ]
    }
   ],
   "source": [
    "start_time = time.time()\n",
    "\n",
    "scorecard = Scorecard()\n",
    "aesthetic_infbins_diffcod_mm_model, aesthetic_infbins_diffcod_mm_weights = scorecard.fit(aesthetic_evaluation_X, aesthetic_evaluation_y, categorical_columns,\n",
    "                thresholds_method='INF_BINS',\n",
    "                encoding_method='DIFF_CODING', \n",
    "                model_method='MM',\n",
    "                params={'C': 0.0078125},\n",
    "                use_sbc=True,\n",
    "                K=K,\n",
    "                mapping=mapping)\n",
    "\n",
    "end_time = time.time()\n",
    "print(f\"Execution time: {end_time - start_time} seconds\")\n",
    "\n",
    "scorecard.evaluate()\n",
    "\n",
    "scorecard.show_scorecard()"
   ]
  },
  {
   "cell_type": "code",
   "execution_count": 23,
   "id": "3ca98a99",
   "metadata": {},
   "outputs": [
    {
     "name": "stdout",
     "output_type": "stream",
     "text": [
      "Number of observations after SMOTE:  1816\n",
      "Number of classes after SMOTE:  4\n",
      "Target distribution after SMOTE:  Subjective Evaluation\n",
      "Fair         454\n",
      "Good         454\n",
      "Excellent    454\n",
      "Poor         454\n",
      "Name: count, dtype: int64\n",
      "Execution time: 7.130276203155518 seconds\n",
      "\n",
      "Evaluating the model on the test set...\n",
      "     True Value  Prediction\n",
      "0             2           1\n",
      "1             2           3\n",
      "2             4           3\n",
      "3             3           3\n",
      "4             3           3\n",
      "..          ...         ...\n",
      "335           3           3\n",
      "336           3           3\n",
      "337           4           3\n",
      "338           4           3\n",
      "339           4           4\n",
      "\n",
      "[340 rows x 2 columns]\n",
      "accuracy:  0.5117647058823529\n",
      "precision:  0.512710406791322\n",
      "recall:  0.5117647058823529\n",
      "f1 score:  0.506105848973496\n",
      "balanced accuracy:  0.5401952368692746\n",
      "logistic loss:  0.008860434727971052\n",
      "mse:  0.5676470588235294\n",
      "number of far off predictions:  25\n",
      "number of features:  39932\n",
      "number of non-zero weights:  13\n",
      "model size (non-zero weights / all weights):  0.00032555344084944405\n"
     ]
    },
    {
     "data": {
      "image/png": "[encoded data removed]",
      "text/plain": [
       "<Figure size 800x600 with 2 Axes>"
      ]
     },
     "metadata": {},
     "output_type": "display_data"
    },
    {
     "name": "stdout",
     "output_type": "stream",
     "text": [
      "accuracy for class 1: 0.615\n",
      "accuracy for class 2: 0.382\n",
      "accuracy for class 3: 0.461\n",
      "accuracy for class 4: 0.702\n",
      "\n",
      "Evaluating the model on the train set...\n",
      "accuracy on train set:  0.6310572687224669\n",
      "precision on train set:  0.6257029460997265\n",
      "recall on train set:  0.6310572687224669\n",
      "f1 score on train set:  0.623982205274075\n",
      "balanced accuracy on train set:  0.6310572687224669\n",
      "logistic loss on train set:  0.07993966126795211\n",
      "mse on train set:  0.5055066079295154\n",
      "\n",
      "Scorecard table:\n",
      "          Feature                                             Bin    Points\n",
      "0       BCE Value        [1.2302975408681887, 1.2315657052205797[ -0.064556\n",
      "1       BCD Value         [1.582964156040402, 1.5866704265448817[ -0.095334\n",
      "2      pLBC Value    [0.018406722953068985, 0.018477515740116315[ -0.113526\n",
      "3      pLBC Value     [0.058514171653683306, 0.05853869032138807[ -0.134199\n",
      "4      pUNR Value      [0.07388861096220123, 0.07408703881685712[ -0.115906\n",
      "5      pUNR Value       [0.16866097556192772, 0.1688403302090662[ -0.122314\n",
      "6      pBCE Value       [0.3764500755296527, 0.37657315636997285[ -0.130923\n",
      "7      pBCD Value      [0.10049845666428471, 0.10068414656352166[ -0.108305\n",
      "8      pBOD Value       [0.2469841207099967, 0.24729127336945392[ -0.087347\n",
      "9   cEMDLab Value  [0.0017029217070869502, 0.0026655587632547504[  0.218751\n",
      "10  cEMDLab Value      [0.17956321464693775, 0.17984192782779168[ -0.105620\n",
      "\n",
      "SBC columns weights:\n",
      "               Feature    Weight\n",
      "39930  featsbcol1-bin1 -0.250005\n",
      "39931  featsbcol2-bin1 -0.499934\n"
     ]
    }
   ],
   "source": [
    "start_time = time.time()\n",
    "\n",
    "scorecard = Scorecard()\n",
    "aesthetic_infbins_diffcod_beyondl1_model, aesthetic_infbins_diffcod_beyondl1_weights = scorecard.fit(aesthetic_evaluation_X, aesthetic_evaluation_y, categorical_columns,\n",
    "                thresholds_method='INF_BINS',\n",
    "                encoding_method='DIFF_CODING', \n",
    "                model_method='BEYOND_L1',\n",
    "                params=None,\n",
    "                use_sbc=True,\n",
    "                K=K,\n",
    "                mapping=mapping)\n",
    "\n",
    "end_time = time.time()\n",
    "print(f\"Execution time: {end_time - start_time} seconds\")\n",
    "\n",
    "scorecard.evaluate()\n",
    "\n",
    "scorecard.show_scorecard()"
   ]
  },
  {
   "cell_type": "code",
   "execution_count": 9,
   "id": "39c93a98",
   "metadata": {},
   "outputs": [
    {
     "name": "stdout",
     "output_type": "stream",
     "text": [
      "Number of observations after SMOTE:  1816\n",
      "Number of classes after SMOTE:  4\n",
      "Target distribution after SMOTE:  Subjective Evaluation\n",
      "Fair         454\n",
      "Good         454\n",
      "Excellent    454\n",
      "Poor         454\n",
      "Name: count, dtype: int64\n",
      "testing parameters: {'alpha': 1e-08}\n",
      "  fold  1\n"
     ]
    },
    {
     "name": "stderr",
     "output_type": "stream",
     "text": [
      "/opt/homebrew/lib/python3.11/site-packages/cvxpy/reductions/solvers/solving_chain.py:250: UserWarning: Your problem has too many parameters for efficient DPP compilation. We suggest setting 'ignore_dpp = True'.\n",
      "  warnings.warn(\n"
     ]
    },
    {
     "name": "stdout",
     "output_type": "stream",
     "text": [
      "  fold  2\n"
     ]
    },
    {
     "name": "stderr",
     "output_type": "stream",
     "text": [
      "/opt/homebrew/lib/python3.11/site-packages/cvxpy/reductions/solvers/solving_chain.py:250: UserWarning: Your problem has too many parameters for efficient DPP compilation. We suggest setting 'ignore_dpp = True'.\n",
      "  warnings.warn(\n"
     ]
    },
    {
     "name": "stdout",
     "output_type": "stream",
     "text": [
      "  fold  3\n"
     ]
    },
    {
     "name": "stderr",
     "output_type": "stream",
     "text": [
      "/opt/homebrew/lib/python3.11/site-packages/cvxpy/reductions/solvers/solving_chain.py:250: UserWarning: Your problem has too many parameters for efficient DPP compilation. We suggest setting 'ignore_dpp = True'.\n",
      "  warnings.warn(\n"
     ]
    },
    {
     "name": "stdout",
     "output_type": "stream",
     "text": [
      "  fold  4\n"
     ]
    },
    {
     "name": "stderr",
     "output_type": "stream",
     "text": [
      "/opt/homebrew/lib/python3.11/site-packages/cvxpy/reductions/solvers/solving_chain.py:250: UserWarning: Your problem has too many parameters for efficient DPP compilation. We suggest setting 'ignore_dpp = True'.\n",
      "  warnings.warn(\n"
     ]
    },
    {
     "name": "stdout",
     "output_type": "stream",
     "text": [
      "  fold  5\n"
     ]
    },
    {
     "name": "stderr",
     "output_type": "stream",
     "text": [
      "/opt/homebrew/lib/python3.11/site-packages/cvxpy/reductions/solvers/solving_chain.py:250: UserWarning: Your problem has too many parameters for efficient DPP compilation. We suggest setting 'ignore_dpp = True'.\n",
      "  warnings.warn(\n"
     ]
    },
    {
     "name": "stdout",
     "output_type": "stream",
     "text": [
      "  mean score: 0.571596585232949\n",
      "testing parameters: {'alpha': 1.2915496650148827e-07}\n",
      "  fold  1\n"
     ]
    },
    {
     "name": "stderr",
     "output_type": "stream",
     "text": [
      "/opt/homebrew/lib/python3.11/site-packages/cvxpy/reductions/solvers/solving_chain.py:250: UserWarning: Your problem has too many parameters for efficient DPP compilation. We suggest setting 'ignore_dpp = True'.\n",
      "  warnings.warn(\n"
     ]
    },
    {
     "name": "stdout",
     "output_type": "stream",
     "text": [
      "  fold  2\n"
     ]
    },
    {
     "name": "stderr",
     "output_type": "stream",
     "text": [
      "/opt/homebrew/lib/python3.11/site-packages/cvxpy/reductions/solvers/solving_chain.py:250: UserWarning: Your problem has too many parameters for efficient DPP compilation. We suggest setting 'ignore_dpp = True'.\n",
      "  warnings.warn(\n"
     ]
    },
    {
     "name": "stdout",
     "output_type": "stream",
     "text": [
      "  fold  3\n"
     ]
    },
    {
     "name": "stderr",
     "output_type": "stream",
     "text": [
      "/opt/homebrew/lib/python3.11/site-packages/cvxpy/reductions/solvers/solving_chain.py:250: UserWarning: Your problem has too many parameters for efficient DPP compilation. We suggest setting 'ignore_dpp = True'.\n",
      "  warnings.warn(\n"
     ]
    },
    {
     "name": "stdout",
     "output_type": "stream",
     "text": [
      "  fold  4\n"
     ]
    },
    {
     "name": "stderr",
     "output_type": "stream",
     "text": [
      "/opt/homebrew/lib/python3.11/site-packages/cvxpy/reductions/solvers/solving_chain.py:250: UserWarning: Your problem has too many parameters for efficient DPP compilation. We suggest setting 'ignore_dpp = True'.\n",
      "  warnings.warn(\n"
     ]
    },
    {
     "name": "stdout",
     "output_type": "stream",
     "text": [
      "  fold  5\n"
     ]
    },
    {
     "name": "stderr",
     "output_type": "stream",
     "text": [
      "/opt/homebrew/lib/python3.11/site-packages/cvxpy/reductions/solvers/solving_chain.py:250: UserWarning: Your problem has too many parameters for efficient DPP compilation. We suggest setting 'ignore_dpp = True'.\n",
      "  warnings.warn(\n"
     ]
    },
    {
     "name": "stdout",
     "output_type": "stream",
     "text": [
      "  mean score: 0.571596585232949\n",
      "testing parameters: {'alpha': 1.6681005372000591e-06}\n",
      "  fold  1\n"
     ]
    },
    {
     "name": "stderr",
     "output_type": "stream",
     "text": [
      "/opt/homebrew/lib/python3.11/site-packages/cvxpy/reductions/solvers/solving_chain.py:250: UserWarning: Your problem has too many parameters for efficient DPP compilation. We suggest setting 'ignore_dpp = True'.\n",
      "  warnings.warn(\n"
     ]
    },
    {
     "name": "stdout",
     "output_type": "stream",
     "text": [
      "  fold  2\n"
     ]
    },
    {
     "name": "stderr",
     "output_type": "stream",
     "text": [
      "/opt/homebrew/lib/python3.11/site-packages/cvxpy/reductions/solvers/solving_chain.py:250: UserWarning: Your problem has too many parameters for efficient DPP compilation. We suggest setting 'ignore_dpp = True'.\n",
      "  warnings.warn(\n"
     ]
    },
    {
     "name": "stdout",
     "output_type": "stream",
     "text": [
      "  fold  3\n"
     ]
    },
    {
     "name": "stderr",
     "output_type": "stream",
     "text": [
      "/opt/homebrew/lib/python3.11/site-packages/cvxpy/reductions/solvers/solving_chain.py:250: UserWarning: Your problem has too many parameters for efficient DPP compilation. We suggest setting 'ignore_dpp = True'.\n",
      "  warnings.warn(\n"
     ]
    },
    {
     "name": "stdout",
     "output_type": "stream",
     "text": [
      "  fold  4\n"
     ]
    },
    {
     "name": "stderr",
     "output_type": "stream",
     "text": [
      "/opt/homebrew/lib/python3.11/site-packages/cvxpy/reductions/solvers/solving_chain.py:250: UserWarning: Your problem has too many parameters for efficient DPP compilation. We suggest setting 'ignore_dpp = True'.\n",
      "  warnings.warn(\n"
     ]
    },
    {
     "name": "stdout",
     "output_type": "stream",
     "text": [
      "  fold  5\n"
     ]
    },
    {
     "name": "stderr",
     "output_type": "stream",
     "text": [
      "/opt/homebrew/lib/python3.11/site-packages/cvxpy/reductions/solvers/solving_chain.py:250: UserWarning: Your problem has too many parameters for efficient DPP compilation. We suggest setting 'ignore_dpp = True'.\n",
      "  warnings.warn(\n"
     ]
    },
    {
     "name": "stdout",
     "output_type": "stream",
     "text": [
      "  mean score: 0.571596585232949\n",
      "testing parameters: {'alpha': 2.1544346900318867e-05}\n",
      "  fold  1\n"
     ]
    },
    {
     "name": "stderr",
     "output_type": "stream",
     "text": [
      "/opt/homebrew/lib/python3.11/site-packages/cvxpy/reductions/solvers/solving_chain.py:250: UserWarning: Your problem has too many parameters for efficient DPP compilation. We suggest setting 'ignore_dpp = True'.\n",
      "  warnings.warn(\n"
     ]
    },
    {
     "name": "stdout",
     "output_type": "stream",
     "text": [
      "  fold  2\n"
     ]
    },
    {
     "name": "stderr",
     "output_type": "stream",
     "text": [
      "/opt/homebrew/lib/python3.11/site-packages/cvxpy/reductions/solvers/solving_chain.py:250: UserWarning: Your problem has too many parameters for efficient DPP compilation. We suggest setting 'ignore_dpp = True'.\n",
      "  warnings.warn(\n"
     ]
    },
    {
     "name": "stdout",
     "output_type": "stream",
     "text": [
      "  fold  3\n"
     ]
    },
    {
     "name": "stderr",
     "output_type": "stream",
     "text": [
      "/opt/homebrew/lib/python3.11/site-packages/cvxpy/reductions/solvers/solving_chain.py:250: UserWarning: Your problem has too many parameters for efficient DPP compilation. We suggest setting 'ignore_dpp = True'.\n",
      "  warnings.warn(\n"
     ]
    },
    {
     "name": "stdout",
     "output_type": "stream",
     "text": [
      "  fold  4\n"
     ]
    },
    {
     "name": "stderr",
     "output_type": "stream",
     "text": [
      "/opt/homebrew/lib/python3.11/site-packages/cvxpy/reductions/solvers/solving_chain.py:250: UserWarning: Your problem has too many parameters for efficient DPP compilation. We suggest setting 'ignore_dpp = True'.\n",
      "  warnings.warn(\n"
     ]
    },
    {
     "name": "stdout",
     "output_type": "stream",
     "text": [
      "  fold  5\n"
     ]
    },
    {
     "name": "stderr",
     "output_type": "stream",
     "text": [
      "/opt/homebrew/lib/python3.11/site-packages/cvxpy/reductions/solvers/solving_chain.py:250: UserWarning: Your problem has too many parameters for efficient DPP compilation. We suggest setting 'ignore_dpp = True'.\n",
      "  warnings.warn(\n"
     ]
    },
    {
     "name": "stdout",
     "output_type": "stream",
     "text": [
      "  mean score: 0.5660854297217932\n",
      "testing parameters: {'alpha': 0.0002782559402207126}\n",
      "  fold  1\n"
     ]
    },
    {
     "name": "stderr",
     "output_type": "stream",
     "text": [
      "/opt/homebrew/lib/python3.11/site-packages/cvxpy/reductions/solvers/solving_chain.py:250: UserWarning: Your problem has too many parameters for efficient DPP compilation. We suggest setting 'ignore_dpp = True'.\n",
      "  warnings.warn(\n"
     ]
    },
    {
     "name": "stdout",
     "output_type": "stream",
     "text": [
      "AdaptiveLasso infeasible: Solver 'OSQP' failed. Try another solver, or solve with verbose=True for more information.\n",
      "  fold  2\n"
     ]
    },
    {
     "name": "stderr",
     "output_type": "stream",
     "text": [
      "/opt/homebrew/lib/python3.11/site-packages/cvxpy/reductions/solvers/solving_chain.py:250: UserWarning: Your problem has too many parameters for efficient DPP compilation. We suggest setting 'ignore_dpp = True'.\n",
      "  warnings.warn(\n"
     ]
    },
    {
     "name": "stdout",
     "output_type": "stream",
     "text": [
      "AdaptiveLasso infeasible: Solver 'OSQP' failed. Try another solver, or solve with verbose=True for more information.\n",
      "  fold  3\n"
     ]
    },
    {
     "name": "stderr",
     "output_type": "stream",
     "text": [
      "/opt/homebrew/lib/python3.11/site-packages/cvxpy/reductions/solvers/solving_chain.py:250: UserWarning: Your problem has too many parameters for efficient DPP compilation. We suggest setting 'ignore_dpp = True'.\n",
      "  warnings.warn(\n"
     ]
    },
    {
     "name": "stdout",
     "output_type": "stream",
     "text": [
      "AdaptiveLasso infeasible: Solver 'OSQP' failed. Try another solver, or solve with verbose=True for more information.\n",
      "  fold  4\n"
     ]
    },
    {
     "name": "stderr",
     "output_type": "stream",
     "text": [
      "/opt/homebrew/lib/python3.11/site-packages/cvxpy/reductions/solvers/solving_chain.py:250: UserWarning: Your problem has too many parameters for efficient DPP compilation. We suggest setting 'ignore_dpp = True'.\n",
      "  warnings.warn(\n"
     ]
    },
    {
     "name": "stdout",
     "output_type": "stream",
     "text": [
      "AdaptiveLasso infeasible: Solver 'OSQP' failed. Try another solver, or solve with verbose=True for more information.\n",
      "  fold  5\n"
     ]
    },
    {
     "name": "stderr",
     "output_type": "stream",
     "text": [
      "/opt/homebrew/lib/python3.11/site-packages/cvxpy/reductions/solvers/solving_chain.py:250: UserWarning: Your problem has too many parameters for efficient DPP compilation. We suggest setting 'ignore_dpp = True'.\n",
      "  warnings.warn(\n"
     ]
    },
    {
     "name": "stdout",
     "output_type": "stream",
     "text": [
      "AdaptiveLasso infeasible: Solver 'OSQP' failed. Try another solver, or solve with verbose=True for more information.\n",
      "  mean score: 0.0\n",
      "testing parameters: {'alpha': 0.003593813663804626}\n",
      "  fold  1\n"
     ]
    },
    {
     "name": "stderr",
     "output_type": "stream",
     "text": [
      "/opt/homebrew/lib/python3.11/site-packages/cvxpy/reductions/solvers/solving_chain.py:250: UserWarning: Your problem has too many parameters for efficient DPP compilation. We suggest setting 'ignore_dpp = True'.\n",
      "  warnings.warn(\n"
     ]
    },
    {
     "name": "stdout",
     "output_type": "stream",
     "text": [
      "AdaptiveLasso infeasible: Solver 'OSQP' failed. Try another solver, or solve with verbose=True for more information.\n",
      "  fold  2\n"
     ]
    },
    {
     "name": "stderr",
     "output_type": "stream",
     "text": [
      "/opt/homebrew/lib/python3.11/site-packages/cvxpy/reductions/solvers/solving_chain.py:250: UserWarning: Your problem has too many parameters for efficient DPP compilation. We suggest setting 'ignore_dpp = True'.\n",
      "  warnings.warn(\n"
     ]
    },
    {
     "name": "stdout",
     "output_type": "stream",
     "text": [
      "AdaptiveLasso infeasible: Solver 'OSQP' failed. Try another solver, or solve with verbose=True for more information.\n",
      "  fold  3\n"
     ]
    },
    {
     "name": "stderr",
     "output_type": "stream",
     "text": [
      "/opt/homebrew/lib/python3.11/site-packages/cvxpy/reductions/solvers/solving_chain.py:250: UserWarning: Your problem has too many parameters for efficient DPP compilation. We suggest setting 'ignore_dpp = True'.\n",
      "  warnings.warn(\n"
     ]
    },
    {
     "name": "stdout",
     "output_type": "stream",
     "text": [
      "AdaptiveLasso infeasible: Solver 'OSQP' failed. Try another solver, or solve with verbose=True for more information.\n",
      "  fold  4\n"
     ]
    },
    {
     "name": "stderr",
     "output_type": "stream",
     "text": [
      "/opt/homebrew/lib/python3.11/site-packages/cvxpy/reductions/solvers/solving_chain.py:250: UserWarning: Your problem has too many parameters for efficient DPP compilation. We suggest setting 'ignore_dpp = True'.\n",
      "  warnings.warn(\n"
     ]
    },
    {
     "name": "stdout",
     "output_type": "stream",
     "text": [
      "AdaptiveLasso infeasible: Solver 'OSQP' failed. Try another solver, or solve with verbose=True for more information.\n",
      "  fold  5\n"
     ]
    },
    {
     "name": "stderr",
     "output_type": "stream",
     "text": [
      "/opt/homebrew/lib/python3.11/site-packages/cvxpy/reductions/solvers/solving_chain.py:250: UserWarning: Your problem has too many parameters for efficient DPP compilation. We suggest setting 'ignore_dpp = True'.\n",
      "  warnings.warn(\n"
     ]
    },
    {
     "name": "stdout",
     "output_type": "stream",
     "text": [
      "AdaptiveLasso infeasible: Solver 'OSQP' failed. Try another solver, or solve with verbose=True for more information.\n",
      "  mean score: 0.0\n",
      "testing parameters: {'alpha': 0.04641588833612782}\n",
      "  fold  1\n"
     ]
    },
    {
     "name": "stderr",
     "output_type": "stream",
     "text": [
      "/opt/homebrew/lib/python3.11/site-packages/cvxpy/reductions/solvers/solving_chain.py:250: UserWarning: Your problem has too many parameters for efficient DPP compilation. We suggest setting 'ignore_dpp = True'.\n",
      "  warnings.warn(\n"
     ]
    },
    {
     "name": "stdout",
     "output_type": "stream",
     "text": [
      "AdaptiveLasso infeasible: Solver 'OSQP' failed. Try another solver, or solve with verbose=True for more information.\n",
      "  fold  2\n"
     ]
    },
    {
     "name": "stderr",
     "output_type": "stream",
     "text": [
      "/opt/homebrew/lib/python3.11/site-packages/cvxpy/reductions/solvers/solving_chain.py:250: UserWarning: Your problem has too many parameters for efficient DPP compilation. We suggest setting 'ignore_dpp = True'.\n",
      "  warnings.warn(\n"
     ]
    },
    {
     "name": "stdout",
     "output_type": "stream",
     "text": [
      "AdaptiveLasso infeasible: Solver 'OSQP' failed. Try another solver, or solve with verbose=True for more information.\n",
      "  fold  3\n"
     ]
    },
    {
     "name": "stderr",
     "output_type": "stream",
     "text": [
      "/opt/homebrew/lib/python3.11/site-packages/cvxpy/reductions/solvers/solving_chain.py:250: UserWarning: Your problem has too many parameters for efficient DPP compilation. We suggest setting 'ignore_dpp = True'.\n",
      "  warnings.warn(\n"
     ]
    },
    {
     "name": "stdout",
     "output_type": "stream",
     "text": [
      "AdaptiveLasso infeasible: Solver 'OSQP' failed. Try another solver, or solve with verbose=True for more information.\n",
      "  fold  4\n"
     ]
    },
    {
     "name": "stderr",
     "output_type": "stream",
     "text": [
      "/opt/homebrew/lib/python3.11/site-packages/cvxpy/reductions/solvers/solving_chain.py:250: UserWarning: Your problem has too many parameters for efficient DPP compilation. We suggest setting 'ignore_dpp = True'.\n",
      "  warnings.warn(\n"
     ]
    },
    {
     "name": "stdout",
     "output_type": "stream",
     "text": [
      "AdaptiveLasso infeasible: Solver 'OSQP' failed. Try another solver, or solve with verbose=True for more information.\n",
      "  fold  5\n"
     ]
    },
    {
     "name": "stderr",
     "output_type": "stream",
     "text": [
      "/opt/homebrew/lib/python3.11/site-packages/cvxpy/reductions/solvers/solving_chain.py:250: UserWarning: Your problem has too many parameters for efficient DPP compilation. We suggest setting 'ignore_dpp = True'.\n",
      "  warnings.warn(\n"
     ]
    },
    {
     "name": "stdout",
     "output_type": "stream",
     "text": [
      "AdaptiveLasso infeasible: Solver 'OSQP' failed. Try another solver, or solve with verbose=True for more information.\n",
      "  mean score: 0.0\n",
      "testing parameters: {'alpha': 0.5994842503189421}\n",
      "  fold  1\n"
     ]
    },
    {
     "name": "stderr",
     "output_type": "stream",
     "text": [
      "/opt/homebrew/lib/python3.11/site-packages/cvxpy/reductions/solvers/solving_chain.py:250: UserWarning: Your problem has too many parameters for efficient DPP compilation. We suggest setting 'ignore_dpp = True'.\n",
      "  warnings.warn(\n"
     ]
    },
    {
     "name": "stdout",
     "output_type": "stream",
     "text": [
      "  fold  2\n"
     ]
    },
    {
     "name": "stderr",
     "output_type": "stream",
     "text": [
      "/opt/homebrew/lib/python3.11/site-packages/cvxpy/reductions/solvers/solving_chain.py:250: UserWarning: Your problem has too many parameters for efficient DPP compilation. We suggest setting 'ignore_dpp = True'.\n",
      "  warnings.warn(\n"
     ]
    },
    {
     "name": "stdout",
     "output_type": "stream",
     "text": [
      "  fold  3\n"
     ]
    },
    {
     "name": "stderr",
     "output_type": "stream",
     "text": [
      "/opt/homebrew/lib/python3.11/site-packages/cvxpy/reductions/solvers/solving_chain.py:250: UserWarning: Your problem has too many parameters for efficient DPP compilation. We suggest setting 'ignore_dpp = True'.\n",
      "  warnings.warn(\n"
     ]
    },
    {
     "name": "stdout",
     "output_type": "stream",
     "text": [
      "  fold  4\n"
     ]
    },
    {
     "name": "stderr",
     "output_type": "stream",
     "text": [
      "/opt/homebrew/lib/python3.11/site-packages/cvxpy/reductions/solvers/solving_chain.py:250: UserWarning: Your problem has too many parameters for efficient DPP compilation. We suggest setting 'ignore_dpp = True'.\n",
      "  warnings.warn(\n"
     ]
    },
    {
     "name": "stdout",
     "output_type": "stream",
     "text": [
      "  fold  5\n"
     ]
    },
    {
     "name": "stderr",
     "output_type": "stream",
     "text": [
      "/opt/homebrew/lib/python3.11/site-packages/cvxpy/reductions/solvers/solving_chain.py:250: UserWarning: Your problem has too many parameters for efficient DPP compilation. We suggest setting 'ignore_dpp = True'.\n",
      "  warnings.warn(\n"
     ]
    },
    {
     "name": "stdout",
     "output_type": "stream",
     "text": [
      "  mean score: 0.25000151363787726\n",
      "testing parameters: {'alpha': 7.742636826811277}\n",
      "  fold  1\n"
     ]
    },
    {
     "name": "stderr",
     "output_type": "stream",
     "text": [
      "/opt/homebrew/lib/python3.11/site-packages/cvxpy/reductions/solvers/solving_chain.py:250: UserWarning: Your problem has too many parameters for efficient DPP compilation. We suggest setting 'ignore_dpp = True'.\n",
      "  warnings.warn(\n"
     ]
    },
    {
     "name": "stdout",
     "output_type": "stream",
     "text": [
      "  fold  2\n"
     ]
    },
    {
     "name": "stderr",
     "output_type": "stream",
     "text": [
      "/opt/homebrew/lib/python3.11/site-packages/cvxpy/reductions/solvers/solving_chain.py:250: UserWarning: Your problem has too many parameters for efficient DPP compilation. We suggest setting 'ignore_dpp = True'.\n",
      "  warnings.warn(\n"
     ]
    },
    {
     "name": "stdout",
     "output_type": "stream",
     "text": [
      "  fold  3\n"
     ]
    },
    {
     "name": "stderr",
     "output_type": "stream",
     "text": [
      "/opt/homebrew/lib/python3.11/site-packages/cvxpy/reductions/solvers/solving_chain.py:250: UserWarning: Your problem has too many parameters for efficient DPP compilation. We suggest setting 'ignore_dpp = True'.\n",
      "  warnings.warn(\n"
     ]
    },
    {
     "name": "stdout",
     "output_type": "stream",
     "text": [
      "  fold  4\n"
     ]
    },
    {
     "name": "stderr",
     "output_type": "stream",
     "text": [
      "/opt/homebrew/lib/python3.11/site-packages/cvxpy/reductions/solvers/solving_chain.py:250: UserWarning: Your problem has too many parameters for efficient DPP compilation. We suggest setting 'ignore_dpp = True'.\n",
      "  warnings.warn(\n"
     ]
    },
    {
     "name": "stdout",
     "output_type": "stream",
     "text": [
      "  fold  5\n"
     ]
    },
    {
     "name": "stderr",
     "output_type": "stream",
     "text": [
      "/opt/homebrew/lib/python3.11/site-packages/cvxpy/reductions/solvers/solving_chain.py:250: UserWarning: Your problem has too many parameters for efficient DPP compilation. We suggest setting 'ignore_dpp = True'.\n",
      "  warnings.warn(\n"
     ]
    },
    {
     "name": "stdout",
     "output_type": "stream",
     "text": [
      "  mean score: 0.25000151363787726\n",
      "testing parameters: {'alpha': 100.0}\n",
      "  fold  1\n"
     ]
    },
    {
     "name": "stderr",
     "output_type": "stream",
     "text": [
      "/opt/homebrew/lib/python3.11/site-packages/cvxpy/reductions/solvers/solving_chain.py:250: UserWarning: Your problem has too many parameters for efficient DPP compilation. We suggest setting 'ignore_dpp = True'.\n",
      "  warnings.warn(\n"
     ]
    },
    {
     "name": "stdout",
     "output_type": "stream",
     "text": [
      "  fold  2\n"
     ]
    },
    {
     "name": "stderr",
     "output_type": "stream",
     "text": [
      "/opt/homebrew/lib/python3.11/site-packages/cvxpy/reductions/solvers/solving_chain.py:250: UserWarning: Your problem has too many parameters for efficient DPP compilation. We suggest setting 'ignore_dpp = True'.\n",
      "  warnings.warn(\n"
     ]
    },
    {
     "name": "stdout",
     "output_type": "stream",
     "text": [
      "  fold  3\n"
     ]
    },
    {
     "name": "stderr",
     "output_type": "stream",
     "text": [
      "/opt/homebrew/lib/python3.11/site-packages/cvxpy/reductions/solvers/solving_chain.py:250: UserWarning: Your problem has too many parameters for efficient DPP compilation. We suggest setting 'ignore_dpp = True'.\n",
      "  warnings.warn(\n"
     ]
    },
    {
     "name": "stdout",
     "output_type": "stream",
     "text": [
      "  fold  4\n"
     ]
    },
    {
     "name": "stderr",
     "output_type": "stream",
     "text": [
      "/opt/homebrew/lib/python3.11/site-packages/cvxpy/reductions/solvers/solving_chain.py:250: UserWarning: Your problem has too many parameters for efficient DPP compilation. We suggest setting 'ignore_dpp = True'.\n",
      "  warnings.warn(\n"
     ]
    },
    {
     "name": "stdout",
     "output_type": "stream",
     "text": [
      "  fold  5\n"
     ]
    },
    {
     "name": "stderr",
     "output_type": "stream",
     "text": [
      "/opt/homebrew/lib/python3.11/site-packages/cvxpy/reductions/solvers/solving_chain.py:250: UserWarning: Your problem has too many parameters for efficient DPP compilation. We suggest setting 'ignore_dpp = True'.\n",
      "  warnings.warn(\n"
     ]
    },
    {
     "name": "stdout",
     "output_type": "stream",
     "text": [
      "  mean score: 0.25000151363787726\n",
      "best parameters:  {'alpha': 1e-08}\n",
      "best score:  0.571596585232949\n"
     ]
    },
    {
     "name": "stderr",
     "output_type": "stream",
     "text": [
      "/opt/homebrew/lib/python3.11/site-packages/cvxpy/reductions/solvers/solving_chain.py:250: UserWarning: Your problem has too many parameters for efficient DPP compilation. We suggest setting 'ignore_dpp = True'.\n",
      "  warnings.warn(\n"
     ]
    },
    {
     "name": "stdout",
     "output_type": "stream",
     "text": [
      "Execution time: 50981.170378923416 seconds\n",
      "\n",
      "Evaluating the model on the test set...\n",
      "     True Value  Prediction\n",
      "0             2           1\n",
      "1             2           2\n",
      "2             4           2\n",
      "3             3           3\n",
      "4             3           2\n",
      "..          ...         ...\n",
      "335           3           2\n",
      "336           3           3\n",
      "337           4           4\n",
      "338           4           1\n",
      "339           4           4\n",
      "\n",
      "[340 rows x 2 columns]\n",
      "accuracy:  0.4235294117647059\n",
      "precision:  0.4364147297889554\n",
      "recall:  0.4235294117647059\n",
      "f1 score:  0.42007142536504066\n",
      "balanced accuracy:  0.4473015778149654\n",
      "logistic loss:  0.01078368477803945\n",
      "mse:  0.9264705882352942\n",
      "number of far off predictions:  23\n",
      "number of features:  39932\n",
      "number of non-zero weights:  39932\n",
      "model size (non-zero weights / all weights):  1.0\n"
     ]
    },
    {
     "data": {
      "image/png": "[encoded data removed]",
      "text/plain": [
       "<Figure size 800x600 with 2 Axes>"
      ]
     },
     "metadata": {},
     "output_type": "display_data"
    },
    {
     "name": "stdout",
     "output_type": "stream",
     "text": [
      "accuracy for class 1: 0.500\n",
      "accuracy for class 2: 0.337\n",
      "accuracy for class 3: 0.369\n",
      "accuracy for class 4: 0.583\n",
      "\n",
      "Evaluating the model on the train set...\n",
      "accuracy on train set:  1.0\n",
      "precision on train set:  1.0\n",
      "recall on train set:  1.0\n",
      "f1 score on train set:  1.0\n",
      "balanced accuracy on train set:  1.0\n",
      "logistic loss on train set:  0.0828837825402311\n",
      "mse on train set:  0.0\n",
      "\n",
      "Scorecard table:\n",
      "             Feature                                         Bin    Points\n",
      "0          BRA Value    [0.17135143897882216, 0.189619931322902[  0.010037\n",
      "1          BRA Value    [0.189619931322902, 0.20154489666341896[  0.008558\n",
      "2          BRA Value  [0.20154489666341896, 0.20882918670067196[  0.008873\n",
      "3          BRA Value  [0.20882918670067196, 0.21413105126949344[  0.005200\n",
      "4          BRA Value  [0.21413105126949344, 0.21580389681643153[  0.004888\n",
      "...              ...                                         ...       ...\n",
      "39925  cEMDLab Value    [0.7899397543211446, 0.8168139941745478[ -0.000054\n",
      "39926  cEMDLab Value    [0.8168139941745478, 0.8358454697591341[ -0.002049\n",
      "39927  cEMDLab Value    [0.8358454697591341, 0.8427900431032318[ -0.002775\n",
      "39928  cEMDLab Value     [0.8427900431032318, 0.969625368067961[ -0.000553\n",
      "39929  cEMDLab Value                    [0.969625368067961, inf[  0.002011\n",
      "\n",
      "[39930 rows x 3 columns]\n",
      "\n",
      "SBC columns weights:\n",
      "               Feature  Weight\n",
      "39930  featsbcol1-bin1   -0.25\n",
      "39931  featsbcol2-bin1   -0.50\n"
     ]
    }
   ],
   "source": [
    "start_time = time.time()\n",
    "\n",
    "scorecard = Scorecard()\n",
    "aesthetic_infbins_diffcod_adaptivelasso_model, aesthetic_infbins_diffcod_adaptivelasso_weights = scorecard.fit(aesthetic_evaluation_X, aesthetic_evaluation_y, categorical_columns,\n",
    "                thresholds_method='INF_BINS',\n",
    "                encoding_method='DIFF_CODING', \n",
    "                model_method='ADAPTIVE_LASSO',\n",
    "                params=None,\n",
    "                use_sbc=True,\n",
    "                K=K,\n",
    "                mapping=mapping)\n",
    "\n",
    "end_time = time.time()\n",
    "print(f\"Execution time: {end_time - start_time} seconds\")\n",
    "\n",
    "scorecard.evaluate()\n",
    "\n",
    "scorecard.show_scorecard()"
   ]
  }
 ],
 "metadata": {
  "kernelspec": {
   "display_name": "Python 3",
   "language": "python",
   "name": "python3"
  },
  "language_info": {
   "codemirror_mode": {
    "name": "ipython",
    "version": 3
   },
   "file_extension": ".py",
   "mimetype": "text/x-python",
   "name": "python",
   "nbconvert_exporter": "python",
   "pygments_lexer": "ipython3",
   "version": "3.11.12"
  }
 },
 "nbformat": 4,
 "nbformat_minor": 5
}
