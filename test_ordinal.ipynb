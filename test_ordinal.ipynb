{
 "cells": [
  {
   "cell_type": "code",
   "execution_count": 1,
   "id": "4656d72c",
   "metadata": {},
   "outputs": [],
   "source": [
    "import pandas as pd\n",
    "from matplotlib import pyplot as plt\n",
    "import numpy as np\n",
    "from scorecard import Scorecard\n",
    "import time\n",
    "from ucimlrepo import fetch_ucirepo \n",
    "\n",
    "from sklearn.metrics import accuracy_score"
   ]
  },
  {
   "cell_type": "markdown",
   "id": "93593078",
   "metadata": {},
   "source": [
    "## aesthetic evaluation dataset"
   ]
  },
  {
   "cell_type": "code",
   "execution_count": 2,
   "id": "c33cd9b0",
   "metadata": {},
   "outputs": [
    {
     "data": {
      "text/html": [
       "<div>\n",
       "<style scoped>\n",
       "    .dataframe tbody tr th:only-of-type {\n",
       "        vertical-align: middle;\n",
       "    }\n",
       "\n",
       "    .dataframe tbody tr th {\n",
       "        vertical-align: top;\n",
       "    }\n",
       "\n",
       "    .dataframe thead th {\n",
       "        text-align: right;\n",
       "    }\n",
       "</style>\n",
       "<table border=\"1\" class=\"dataframe\">\n",
       "  <thead>\n",
       "    <tr style=\"text-align: right;\">\n",
       "      <th></th>\n",
       "      <th>Subjective Evaluation</th>\n",
       "      <th>BRA Value</th>\n",
       "      <th>LBC Value</th>\n",
       "      <th>UNR Value</th>\n",
       "      <th>BCE Value</th>\n",
       "      <th>BCD Value</th>\n",
       "      <th>BAD Value</th>\n",
       "      <th>BOD Value</th>\n",
       "      <th>pBRA Value</th>\n",
       "      <th>pLBC Value</th>\n",
       "      <th>...</th>\n",
       "      <th>pBAD Value</th>\n",
       "      <th>pBOD Value</th>\n",
       "      <th>cX2L Value</th>\n",
       "      <th>cX2a Value</th>\n",
       "      <th>cX2b Value</th>\n",
       "      <th>cX2Lab Value</th>\n",
       "      <th>cEMDL Value</th>\n",
       "      <th>cEMDa Value</th>\n",
       "      <th>cEMDb Value</th>\n",
       "      <th>cEMDLab Value</th>\n",
       "    </tr>\n",
       "  </thead>\n",
       "  <tbody>\n",
       "    <tr>\n",
       "      <th>0</th>\n",
       "      <td>Good</td>\n",
       "      <td>1.149009</td>\n",
       "      <td>0.830915</td>\n",
       "      <td>0.107618</td>\n",
       "      <td>0.938534</td>\n",
       "      <td>1.934477</td>\n",
       "      <td>4.885198</td>\n",
       "      <td>17.296370</td>\n",
       "      <td>0.049401</td>\n",
       "      <td>0.033356</td>\n",
       "      <td>...</td>\n",
       "      <td>0.029188</td>\n",
       "      <td>0.103340</td>\n",
       "      <td>0.097502</td>\n",
       "      <td>0.009506</td>\n",
       "      <td>0.217169</td>\n",
       "      <td>0.100670</td>\n",
       "      <td>1.503086</td>\n",
       "      <td>0.030362</td>\n",
       "      <td>0.291363</td>\n",
       "      <td>0.210082</td>\n",
       "    </tr>\n",
       "    <tr>\n",
       "      <th>1</th>\n",
       "      <td>Good</td>\n",
       "      <td>2.368824</td>\n",
       "      <td>1.326447</td>\n",
       "      <td>1.599444</td>\n",
       "      <td>0.272997</td>\n",
       "      <td>0.035378</td>\n",
       "      <td>19.932998</td>\n",
       "      <td>68.761479</td>\n",
       "      <td>0.113919</td>\n",
       "      <td>0.058509</td>\n",
       "      <td>...</td>\n",
       "      <td>0.117875</td>\n",
       "      <td>0.406627</td>\n",
       "      <td>0.305692</td>\n",
       "      <td>0.159653</td>\n",
       "      <td>0.193317</td>\n",
       "      <td>0.061736</td>\n",
       "      <td>1.248600</td>\n",
       "      <td>0.206529</td>\n",
       "      <td>0.351693</td>\n",
       "      <td>0.105346</td>\n",
       "    </tr>\n",
       "    <tr>\n",
       "      <th>2</th>\n",
       "      <td>Good</td>\n",
       "      <td>1.409939</td>\n",
       "      <td>0.950935</td>\n",
       "      <td>0.278358</td>\n",
       "      <td>1.229293</td>\n",
       "      <td>2.221074</td>\n",
       "      <td>22.277770</td>\n",
       "      <td>38.323430</td>\n",
       "      <td>0.067231</td>\n",
       "      <td>0.038613</td>\n",
       "      <td>...</td>\n",
       "      <td>0.120132</td>\n",
       "      <td>0.206658</td>\n",
       "      <td>0.109386</td>\n",
       "      <td>0.024217</td>\n",
       "      <td>0.280625</td>\n",
       "      <td>0.012974</td>\n",
       "      <td>0.545858</td>\n",
       "      <td>0.075520</td>\n",
       "      <td>0.304185</td>\n",
       "      <td>0.049345</td>\n",
       "    </tr>\n",
       "    <tr>\n",
       "      <th>3</th>\n",
       "      <td>Good</td>\n",
       "      <td>2.059918</td>\n",
       "      <td>0.720926</td>\n",
       "      <td>1.786307</td>\n",
       "      <td>1.065381</td>\n",
       "      <td>1.995007</td>\n",
       "      <td>25.163410</td>\n",
       "      <td>31.631070</td>\n",
       "      <td>0.100705</td>\n",
       "      <td>0.032141</td>\n",
       "      <td>...</td>\n",
       "      <td>0.156030</td>\n",
       "      <td>0.196133</td>\n",
       "      <td>0.038581</td>\n",
       "      <td>0.032267</td>\n",
       "      <td>0.026153</td>\n",
       "      <td>0.010779</td>\n",
       "      <td>0.334111</td>\n",
       "      <td>0.105626</td>\n",
       "      <td>0.137693</td>\n",
       "      <td>0.031455</td>\n",
       "    </tr>\n",
       "    <tr>\n",
       "      <th>4</th>\n",
       "      <td>Good</td>\n",
       "      <td>2.452595</td>\n",
       "      <td>0.798596</td>\n",
       "      <td>1.868745</td>\n",
       "      <td>1.070148</td>\n",
       "      <td>1.218189</td>\n",
       "      <td>0.395585</td>\n",
       "      <td>31.426783</td>\n",
       "      <td>0.117249</td>\n",
       "      <td>0.035235</td>\n",
       "      <td>...</td>\n",
       "      <td>0.002820</td>\n",
       "      <td>0.224062</td>\n",
       "      <td>0.021259</td>\n",
       "      <td>0.027071</td>\n",
       "      <td>0.029206</td>\n",
       "      <td>0.006495</td>\n",
       "      <td>0.165401</td>\n",
       "      <td>0.081549</td>\n",
       "      <td>0.091768</td>\n",
       "      <td>0.030546</td>\n",
       "    </tr>\n",
       "  </tbody>\n",
       "</table>\n",
       "<p>5 rows × 23 columns</p>\n",
       "</div>"
      ],
      "text/plain": [
       "  Subjective Evaluation  BRA Value  LBC Value  UNR Value  BCE Value  \\\n",
       "0                  Good   1.149009   0.830915   0.107618   0.938534   \n",
       "1                  Good   2.368824   1.326447   1.599444   0.272997   \n",
       "2                  Good   1.409939   0.950935   0.278358   1.229293   \n",
       "3                  Good   2.059918   0.720926   1.786307   1.065381   \n",
       "4                  Good   2.452595   0.798596   1.868745   1.070148   \n",
       "\n",
       "   BCD Value  BAD Value  BOD Value  pBRA Value  pLBC Value  ...  pBAD Value  \\\n",
       "0   1.934477   4.885198  17.296370    0.049401    0.033356  ...    0.029188   \n",
       "1   0.035378  19.932998  68.761479    0.113919    0.058509  ...    0.117875   \n",
       "2   2.221074  22.277770  38.323430    0.067231    0.038613  ...    0.120132   \n",
       "3   1.995007  25.163410  31.631070    0.100705    0.032141  ...    0.156030   \n",
       "4   1.218189   0.395585  31.426783    0.117249    0.035235  ...    0.002820   \n",
       "\n",
       "   pBOD Value  cX2L Value  cX2a Value  cX2b Value  cX2Lab Value  cEMDL Value  \\\n",
       "0    0.103340    0.097502    0.009506    0.217169      0.100670     1.503086   \n",
       "1    0.406627    0.305692    0.159653    0.193317      0.061736     1.248600   \n",
       "2    0.206658    0.109386    0.024217    0.280625      0.012974     0.545858   \n",
       "3    0.196133    0.038581    0.032267    0.026153      0.010779     0.334111   \n",
       "4    0.224062    0.021259    0.027071    0.029206      0.006495     0.165401   \n",
       "\n",
       "   cEMDa Value  cEMDb Value  cEMDLab Value  \n",
       "0     0.030362     0.291363       0.210082  \n",
       "1     0.206529     0.351693       0.105346  \n",
       "2     0.075520     0.304185       0.049345  \n",
       "3     0.105626     0.137693       0.031455  \n",
       "4     0.081549     0.091768       0.030546  \n",
       "\n",
       "[5 rows x 23 columns]"
      ]
     },
     "execution_count": 2,
     "metadata": {},
     "output_type": "execute_result"
    }
   ],
   "source": [
    "aesthetic_evaluation_data = pd.read_csv('datasets/aesthetic_evaluation_data.csv')\n",
    "aesthetic_evaluation_objective = aesthetic_evaluation_data['Objective Evaluation']\n",
    "aesthetic_evaluation_data = aesthetic_evaluation_data.drop(columns=['Image Filename','Author','Objective Evaluation', 'sX2L Value','sX2a Value','sX2b Value','sX2Lab Value','sEMDL Value','sEMDa Value','sEMDb Value','sEMDLab Value'])\n",
    "aesthetic_evaluation_X = aesthetic_evaluation_data.drop(columns='Subjective Evaluation')\n",
    "aesthetic_evaluation_y = aesthetic_evaluation_data['Subjective Evaluation']\n",
    "\n",
    "aesthetic_evaluation_data.head()"
   ]
  },
  {
   "cell_type": "code",
   "execution_count": 3,
   "id": "69717b50",
   "metadata": {},
   "outputs": [
    {
     "data": {
      "text/plain": [
       "Subjective Evaluation\n",
       "Good         595\n",
       "Fair         353\n",
       "Excellent    308\n",
       "Poor         102\n",
       "Name: count, dtype: int64"
      ]
     },
     "execution_count": 3,
     "metadata": {},
     "output_type": "execute_result"
    }
   ],
   "source": [
    "aesthetic_evaluation_y.value_counts()"
   ]
  },
  {
   "cell_type": "code",
   "execution_count": 4,
   "id": "bcaded3d",
   "metadata": {},
   "outputs": [
    {
     "data": {
      "text/plain": [
       "Text(0.5, 1.0, 'Distribution of Subjective Evaluation')"
      ]
     },
     "execution_count": 4,
     "metadata": {},
     "output_type": "execute_result"
    },
    {
     "data": {
      "image/png": "[encoded data removed]",
      "text/plain": [
       "<Figure size 640x480 with 1 Axes>"
      ]
     },
     "metadata": {},
     "output_type": "display_data"
    }
   ],
   "source": [
    "aesthetic_evaluation_y.hist()\n",
    "plt.xlabel('Subjective Evaluation')\n",
    "plt.ylabel('Frequency')\n",
    "plt.title('Distribution of Subjective Evaluation')"
   ]
  },
  {
   "cell_type": "code",
   "execution_count": 5,
   "id": "22d52174",
   "metadata": {},
   "outputs": [
    {
     "name": "stdout",
     "output_type": "stream",
     "text": [
      "Accuracy of objective evaluation: 0.5876288659793815\n"
     ]
    }
   ],
   "source": [
    "# accuracy of 'objective evaluation' (relative to the target, 'subjective evaluation')\n",
    "acc = accuracy_score(aesthetic_evaluation_y, aesthetic_evaluation_objective)\n",
    "print(f'Accuracy of objective evaluation: {acc}')"
   ]
  },
  {
   "cell_type": "code",
   "execution_count": 6,
   "id": "d2d89ca7",
   "metadata": {},
   "outputs": [
    {
     "name": "stdout",
     "output_type": "stream",
     "text": [
      "Categorical columns: Index([], dtype='object')\n"
     ]
    }
   ],
   "source": [
    "categorical_columns = aesthetic_evaluation_X.select_dtypes(include=['object']).columns\n",
    "print(f'Categorical columns: {categorical_columns}')\n",
    "\n",
    "# encode categorical columns\n",
    "for col in categorical_columns:\n",
    "    aesthetic_evaluation_X[col] = aesthetic_evaluation_X[col].astype('category').cat.codes.astype('int')\n",
    "    print(f\"Column {col} encoded as: {aesthetic_evaluation_X[col].unique()}\")"
   ]
  },
  {
   "cell_type": "code",
   "execution_count": 7,
   "id": "cbd35a8d",
   "metadata": {},
   "outputs": [
    {
     "name": "stdout",
     "output_type": "stream",
     "text": [
      "SBC reduction\n",
      "number of features:  22\n",
      "original num target classes:  4\n",
      "original num observations:  1358\n",
      "mapping:  0         Good\n",
      "1    Excellent\n",
      "2         Fair\n",
      "3         Poor\n",
      "dtype: object\n",
      "new num features:  23\n",
      "new num target classes:  2\n",
      "new num observations:  4074  (original num observations * 3 )\n",
      "          0         1         2         3         4          5          6  \\\n",
      "0  1.149009  0.830915  0.107618  0.938534  1.934477   4.885198  17.296370   \n",
      "1  1.149009  0.830915  0.107618  0.938534  1.934477   4.885198  17.296370   \n",
      "2  1.149009  0.830915  0.107618  0.938534  1.934477   4.885198  17.296370   \n",
      "3  2.368824  1.326447  1.599444  0.272997  0.035378  19.932998  68.761479   \n",
      "4  2.368824  1.326447  1.599444  0.272997  0.035378  19.932998  68.761479   \n",
      "\n",
      "          7         8         9  ...        14        15        16        17  \\\n",
      "0  0.049401  0.033356  0.005522  ...  0.097502  0.009506  0.217169  0.100670   \n",
      "1  0.049401  0.033356  0.005522  ...  0.097502  0.009506  0.217169  0.100670   \n",
      "2  0.049401  0.033356  0.005522  ...  0.097502  0.009506  0.217169  0.100670   \n",
      "3  0.113919  0.058509  0.092570  ...  0.305692  0.159653  0.193317  0.061736   \n",
      "4  0.113919  0.058509  0.092570  ...  0.305692  0.159653  0.193317  0.061736   \n",
      "\n",
      "         18        19        20        21   22  (binary_label)  \n",
      "0  1.503086  0.030362  0.291363  0.210082  0.0               1  \n",
      "1  1.503086  0.030362  0.291363  0.210082  1.0               1  \n",
      "2  1.503086  0.030362  0.291363  0.210082  2.0               1  \n",
      "3  1.248600  0.206529  0.351693  0.105346  0.0               1  \n",
      "4  1.248600  0.206529  0.351693  0.105346  1.0               1  \n",
      "\n",
      "[5 rows x 24 columns]\n",
      "\n",
      "discretization thresholds\n",
      "num of features:  23\n",
      "categorical features:  Index([], dtype='object')\n",
      "aqui 1\n",
      "sbc_column:  22\n",
      "inicio fit  []\n",
      "aqui 2\n",
      "aqui 3\n",
      "categorical aqui:  []\n",
      "X shape[1]:  22\n",
      "Feature non categorical  0\n",
      "# 0  GLOBAL CAIM  728.7057956777996\n",
      "Feature non categorical  1\n",
      "# 1  GLOBAL CAIM  728.7808916874495\n",
      "Feature non categorical  2\n",
      "# 2  GLOBAL CAIM  728.7057956777996\n",
      "Feature non categorical  3\n",
      "# 3  GLOBAL CAIM  728.7988443631526\n",
      "Feature non categorical  4\n",
      "# 4  GLOBAL CAIM  728.3775980234182\n",
      "Feature non categorical  5\n",
      "# 5  GLOBAL CAIM  728.3454030417694\n",
      "Feature non categorical  6\n",
      "# 6  GLOBAL CAIM  728.4981884939423\n",
      "Feature non categorical  7\n",
      "# 7  GLOBAL CAIM  728.7057956777996\n",
      "Feature non categorical  8\n",
      "# 8  GLOBAL CAIM  728.6939649781114\n",
      "Feature non categorical  9\n",
      "# 9  GLOBAL CAIM  728.7057956777996\n",
      "Feature non categorical  10\n",
      "# 10  GLOBAL CAIM  730.7317733990147\n",
      "Feature non categorical  11\n",
      "# 11  GLOBAL CAIM  728.6205704697986\n",
      "Feature non categorical  12\n",
      "# 12  GLOBAL CAIM  729.514853839681\n",
      "Feature non categorical  13\n",
      "# 13  GLOBAL CAIM  731.1032613436142\n",
      "Feature non categorical  14\n",
      "# 14  GLOBAL CAIM  728.809171597633\n",
      "Feature non categorical  15\n",
      "# 15  GLOBAL CAIM  729.4815626028299\n",
      "Feature non categorical  16\n",
      "# 16  GLOBAL CAIM  728.3375577605914\n",
      "Feature non categorical  17\n",
      "# 17  GLOBAL CAIM  730.2910061646852\n",
      "Feature non categorical  18\n",
      "# 18  GLOBAL CAIM  728.2981013281611\n",
      "Feature non categorical  19\n",
      "# 19  GLOBAL CAIM  730.077580539119\n",
      "Feature non categorical  20\n",
      "# 20  GLOBAL CAIM  728.3228021838368\n",
      "Feature non categorical  21\n",
      "# 21  GLOBAL CAIM  729.3662413849688\n",
      "\n",
      "thresholds  {0: [0.1023505717256087, 21.333288384246845, 25.075530326533293], 1: [0.0004087089954772, 0.2755592006292959, 15.55521111830264], 2: [0.0006884431906332, 19.82175892926279, 28.52308736190912], 3: [0.002408900783522, 0.0179139895395732, 28.26338581203124], 4: [0.0008290018559754, 1.744914958272446, 40.01250790572825], 5: [0.0043887394726516, 52.25593316646546, 582.5293869842224], 6: [8.063929052898809, 75.6135387193099, 593.0632577461018], 7: [0.0045380521219742, 0.8485298240685677, 2.0519130732957396], 8: [2.2773158381800327e-05, 0.0090952273610099, 1.4320930213160272], 9: [2.752699101160613e-05, 0.9037789990878992, 2.999999999999999], 10: [0.0002450886198942, 1.4011041290620987, 2.94515696598655], 11: [2.365942539892445e-05, 0.230066716428017, 1.6499418639986991], 12: [3.7207634025913874e-05, 0.5754905648623071, 2.2160640569955112], 13: [0.0496852816194237, 0.6697140697612849, 2.3705768783413044], 14: [0.0070316917262971, 0.0131517993286252, 2.6926543712615967], 15: [0.001410003285855, 0.0034271697513759, 2.0155582427978516], 16: [0.0036338977515697, 0.3291696310043335, 1.992175817489624], 17: [0.0006804020376875, 0.5510109663009644, 2.657200574874878], 18: [0.0764164825280507, 0.2200924555460612, 9.842973073323568], 19: [0.0076448917388916, 0.8610050678253174, 3.059265931447347], 20: [0.0205063248674074, 0.1367679834365844, 5.141584396362305], 21: [0.0011950564795774, 0.8015442268094887, 2.0932778279081194], 22: [0.0, 1.0, 2.0]}\n",
      "num of bins: \n",
      "  0: 4\n",
      "  1: 4\n",
      "  2: 4\n",
      "  3: 4\n",
      "  4: 4\n",
      "  5: 4\n",
      "  6: 4\n",
      "  7: 4\n",
      "  8: 4\n",
      "  9: 4\n",
      "  10: 4\n",
      "  11: 4\n",
      "  12: 4\n",
      "  13: 4\n",
      "  14: 4\n",
      "  15: 4\n",
      "  16: 4\n",
      "  17: 4\n",
      "  18: 4\n",
      "  19: 4\n",
      "  20: 4\n",
      "  21: 4\n",
      "  22: 4\n",
      "\n",
      "encoding\n",
      "X_disc shape:  (3055, 69)\n",
      "X_disc columns:  Index(['feat0-bin1', 'feat0-bin2', 'feat0-bin3', 'feat1-bin1', 'feat1-bin2',\n",
      "       'feat1-bin3', 'feat2-bin1', 'feat2-bin2', 'feat2-bin3', 'feat3-bin1',\n",
      "       'feat3-bin2', 'feat3-bin3', 'feat4-bin1', 'feat4-bin2', 'feat4-bin3',\n",
      "       'feat5-bin1', 'feat5-bin2', 'feat5-bin3', 'feat6-bin1', 'feat6-bin2',\n",
      "       'feat6-bin3', 'feat7-bin1', 'feat7-bin2', 'feat7-bin3', 'feat8-bin1',\n",
      "       'feat8-bin2', 'feat8-bin3', 'feat9-bin1', 'feat9-bin2', 'feat9-bin3',\n",
      "       'feat10-bin1', 'feat10-bin2', 'feat10-bin3', 'feat11-bin1',\n",
      "       'feat11-bin2', 'feat11-bin3', 'feat12-bin1', 'feat12-bin2',\n",
      "       'feat12-bin3', 'feat13-bin1', 'feat13-bin2', 'feat13-bin3',\n",
      "       'feat14-bin1', 'feat14-bin2', 'feat14-bin3', 'feat15-bin1',\n",
      "       'feat15-bin2', 'feat15-bin3', 'feat16-bin1', 'feat16-bin2',\n",
      "       'feat16-bin3', 'feat17-bin1', 'feat17-bin2', 'feat17-bin3',\n",
      "       'feat18-bin1', 'feat18-bin2', 'feat18-bin3', 'feat19-bin1',\n",
      "       'feat19-bin2', 'feat19-bin3', 'feat20-bin1', 'feat20-bin2',\n",
      "       'feat20-bin3', 'feat21-bin1', 'feat21-bin2', 'feat21-bin3',\n",
      "       'feat22-bin1', 'feat22-bin2', 'feat22-bin3'],\n",
      "      dtype='object')\n",
      "X_disc head:     feat0-bin1  feat0-bin2  feat0-bin3  feat1-bin1  feat1-bin2  feat1-bin3  \\\n",
      "0           1           0           0           0           1           0   \n",
      "1           1           0           0           1           0           0   \n",
      "2           1           0           0           0           1           0   \n",
      "3           1           0           0           0           1           0   \n",
      "4           1           0           0           1           0           0   \n",
      "\n",
      "   feat2-bin1  feat2-bin2  feat2-bin3  feat3-bin1  ...  feat19-bin3  \\\n",
      "0           1           0           0           0  ...            0   \n",
      "1           1           0           0           0  ...            0   \n",
      "2           1           0           0           0  ...            0   \n",
      "3           1           0           0           0  ...            0   \n",
      "4           1           0           0           0  ...            0   \n",
      "\n",
      "   feat20-bin1  feat20-bin2  feat20-bin3  feat21-bin1  feat21-bin2  \\\n",
      "0            0            1            0            1            0   \n",
      "1            0            1            0            1            0   \n",
      "2            1            0            0            1            0   \n",
      "3            0            1            0            1            0   \n",
      "4            1            0            0            1            0   \n",
      "\n",
      "   feat21-bin3  feat22-bin1  feat22-bin2  feat22-bin3  \n",
      "0            0            1            0            0  \n",
      "1            0            0            1            0  \n",
      "2            0            0            0            1  \n",
      "3            0            1            0            0  \n",
      "4            0            1            0            0  \n",
      "\n",
      "[5 rows x 69 columns]\n",
      "\n",
      "model\n",
      "ML best parameters:  {'C': 1.6666666666666667}\n",
      "ML best alpha:  0.6\n",
      "ML weights:\n",
      "         Feature    Weight\n",
      "0    feat0-bin1  0.037302\n",
      "1    feat0-bin2 -0.002128\n",
      "2    feat0-bin3  0.000000\n",
      "3    feat1-bin1  0.000000\n",
      "4    feat1-bin2  0.000000\n",
      "..          ...       ...\n",
      "64  feat21-bin2  0.000000\n",
      "65  feat21-bin3  0.000000\n",
      "66  feat22-bin1 -1.109136\n",
      "67  feat22-bin2  0.000000\n",
      "68  feat22-bin3  2.287494\n",
      "\n",
      "[69 rows x 2 columns]\n"
     ]
    },
    {
     "data": {
      "image/png": "[encoded data removed]",
      "text/plain": [
       "<Figure size 640x480 with 1 Axes>"
      ]
     },
     "metadata": {},
     "output_type": "display_data"
    },
    {
     "name": "stdout",
     "output_type": "stream",
     "text": [
      "num of zero weights:  38\n",
      "num of non-zero weights:  31\n",
      "        Feature    Weight\n",
      "0    feat0-bin1  0.037302\n",
      "1    feat0-bin2 -0.002128\n",
      "6    feat2-bin1  0.031487\n",
      "7    feat2-bin2 -1.071214\n",
      "9    feat3-bin1  0.437258\n",
      "12   feat4-bin1  0.092531\n",
      "13   feat4-bin2 -0.423715\n",
      "15   feat5-bin1  0.239673\n",
      "16   feat5-bin2 -1.398022\n",
      "18   feat6-bin1  0.413895\n",
      "21   feat7-bin1  0.072273\n",
      "24   feat8-bin1  0.317655\n",
      "27   feat9-bin1  0.061171\n",
      "30  feat10-bin1  0.041007\n",
      "31  feat10-bin2 -0.582321\n",
      "33  feat11-bin1  0.073479\n",
      "34  feat11-bin2 -1.592492\n",
      "36  feat12-bin1  0.160089\n",
      "39  feat13-bin1 -0.000010\n",
      "40  feat13-bin2  0.430315\n",
      "48  feat16-bin1  0.148699\n",
      "49  feat16-bin2 -0.321400\n",
      "51  feat17-bin1  0.031757\n",
      "52  feat17-bin2 -1.029851\n",
      "54  feat18-bin1 -0.205526\n",
      "55  feat18-bin2  0.034815\n",
      "58  feat19-bin2  0.024760\n",
      "60  feat20-bin1  0.038021\n",
      "61  feat20-bin2 -0.137560\n",
      "66  feat22-bin1 -1.109136\n",
      "68  feat22-bin3  2.287494\n"
     ]
    },
    {
     "data": {
      "image/png": "[encoded data removed]",
      "text/plain": [
       "<Figure size 640x480 with 1 Axes>"
      ]
     },
     "metadata": {},
     "output_type": "display_data"
    },
    {
     "name": "stdout",
     "output_type": "stream",
     "text": [
      "X_disc shape:  (1019, 69)\n",
      "X_disc columns:  Index(['feat0-bin1', 'feat0-bin2', 'feat0-bin3', 'feat1-bin1', 'feat1-bin2',\n",
      "       'feat1-bin3', 'feat2-bin1', 'feat2-bin2', 'feat2-bin3', 'feat3-bin1',\n",
      "       'feat3-bin2', 'feat3-bin3', 'feat4-bin1', 'feat4-bin2', 'feat4-bin3',\n",
      "       'feat5-bin1', 'feat5-bin2', 'feat5-bin3', 'feat6-bin1', 'feat6-bin2',\n",
      "       'feat6-bin3', 'feat7-bin1', 'feat7-bin2', 'feat7-bin3', 'feat8-bin1',\n",
      "       'feat8-bin2', 'feat8-bin3', 'feat9-bin1', 'feat9-bin2', 'feat9-bin3',\n",
      "       'feat10-bin1', 'feat10-bin2', 'feat10-bin3', 'feat11-bin1',\n",
      "       'feat11-bin2', 'feat11-bin3', 'feat12-bin1', 'feat12-bin2',\n",
      "       'feat12-bin3', 'feat13-bin1', 'feat13-bin2', 'feat13-bin3',\n",
      "       'feat14-bin1', 'feat14-bin2', 'feat14-bin3', 'feat15-bin1',\n",
      "       'feat15-bin2', 'feat15-bin3', 'feat16-bin1', 'feat16-bin2',\n",
      "       'feat16-bin3', 'feat17-bin1', 'feat17-bin2', 'feat17-bin3',\n",
      "       'feat18-bin1', 'feat18-bin2', 'feat18-bin3', 'feat19-bin1',\n",
      "       'feat19-bin2', 'feat19-bin3', 'feat20-bin1', 'feat20-bin2',\n",
      "       'feat20-bin3', 'feat21-bin1', 'feat21-bin2', 'feat21-bin3',\n",
      "       'feat22-bin1', 'feat22-bin2', 'feat22-bin3'],\n",
      "      dtype='object')\n",
      "X_disc head:     feat0-bin1  feat0-bin2  feat0-bin3  feat1-bin1  feat1-bin2  feat1-bin3  \\\n",
      "0           1           0           0           0           1           0   \n",
      "1           1           0           0           0           1           0   \n",
      "2           1           0           0           0           1           0   \n",
      "3           1           0           0           0           1           0   \n",
      "4           1           0           0           0           1           0   \n",
      "\n",
      "   feat2-bin1  feat2-bin2  feat2-bin3  feat3-bin1  ...  feat19-bin3  \\\n",
      "0           1           0           0           0  ...            0   \n",
      "1           1           0           0           0  ...            0   \n",
      "2           1           0           0           0  ...            0   \n",
      "3           1           0           0           0  ...            0   \n",
      "4           1           0           0           0  ...            0   \n",
      "\n",
      "   feat20-bin1  feat20-bin2  feat20-bin3  feat21-bin1  feat21-bin2  \\\n",
      "0            0            1            0            1            0   \n",
      "1            0            1            0            1            0   \n",
      "2            0            1            0            1            0   \n",
      "3            0            1            0            1            0   \n",
      "4            0            1            0            1            0   \n",
      "\n",
      "   feat21-bin3  feat22-bin1  feat22-bin2  feat22-bin3  \n",
      "0            0            1            0            0  \n",
      "1            0            0            1            0  \n",
      "2            0            0            1            0  \n",
      "3            0            1            0            0  \n",
      "4            0            0            1            0  \n",
      "\n",
      "[5 rows x 69 columns]\n",
      "MSE:  0.25318940137389595\n",
      "Accuracy:  0.746810598626104\n",
      "AUC:  0.8128682618478537\n",
      "Execution time: 6.320374011993408 seconds\n"
     ]
    }
   ],
   "source": [
    "start_time = time.time()\n",
    "\n",
    "scorecard = Scorecard()\n",
    "caim_1ook_ml_model, caim_1ook_ml_weights = scorecard.fit(aesthetic_evaluation_X, aesthetic_evaluation_y, categorical_columns,\n",
    "                thresholds_method='CAIM',\n",
    "                encoding_method='1_OUT_OF_K', \n",
    "                model_method='ML',\n",
    "                use_sbc=True,\n",
    "                num_nonzero_weights=None)\n",
    "\n",
    "#scorecard.cross_val_score()\n",
    "mse, caim_accuracy, auc = scorecard.evaluate()\n",
    "\n",
    "end_time = time.time()\n",
    "print(f\"Execution time: {end_time - start_time} seconds\")"
   ]
  },
  {
   "cell_type": "code",
   "execution_count": null,
   "id": "8bc96118",
   "metadata": {},
   "outputs": [],
   "source": [
    "num_nonzero_weights = scorecard.nonzero_weights.shape[0]\n",
    "print(f'Number of non-zero weights: {num_nonzero_weights}')"
   ]
  },
  {
   "cell_type": "code",
   "execution_count": null,
   "id": "45c6eca9",
   "metadata": {},
   "outputs": [],
   "source": [
    "start_time = time.time()\n",
    "scorecard = Scorecard()\n",
    "scorecard.fit(aesthetic_evaluation_X, aesthetic_evaluation_y, categorical_columns,\n",
    "                thresholds_method='INF_BINS',\n",
    "                encoding_method='1_OUT_OF_K', \n",
    "                model_method='ML',\n",
    "                use_sbc=True,\n",
    "                num_nonzero_weights=40)\n",
    "\n",
    "scorecard.evaluate()\n",
    "end_time = time.time()\n",
    "print(f\"Execution time: {end_time - start_time} seconds\")"
   ]
  },
  {
   "cell_type": "code",
   "execution_count": null,
   "id": "a80314ec",
   "metadata": {},
   "outputs": [],
   "source": [
    "scorecard.plot_accuracy_vs_sparsity(caim_accuracy, num_nonzero_weights)"
   ]
  },
  {
   "cell_type": "code",
   "execution_count": null,
   "id": "f6ac40e0",
   "metadata": {},
   "outputs": [],
   "source": [
    "start_time = time.time()\n",
    "scorecard = Scorecard()\n",
    "scorecard.fit(aesthetic_evaluation_X, aesthetic_evaluation_y, categorical_columns,\n",
    "                thresholds_method='CAIM',\n",
    "                encoding_method='DIFF_CODING',\n",
    "                model_method='ML', \n",
    "                use_sbc=True,\n",
    "                num_nonzero_weights=None)\n",
    "\n",
    "scorecard.cross_val_score()\n",
    "end_time = time.time()\n",
    "print(f\"Execution time: {end_time - start_time} seconds\")"
   ]
  },
  {
   "cell_type": "code",
   "execution_count": null,
   "id": "2f8dfa0e",
   "metadata": {},
   "outputs": [],
   "source": [
    "scorecard.plot_accuracy_vs_sparsity()"
   ]
  },
  {
   "cell_type": "code",
   "execution_count": null,
   "id": "9d1ff602",
   "metadata": {},
   "outputs": [],
   "source": [
    "num_nonzero_weights = scorecard.nonzero_weights.shape[0]\n",
    "print(f'Number of non-zero weights: {num_nonzero_weights}')"
   ]
  },
  {
   "cell_type": "code",
   "execution_count": null,
   "id": "4d15b253",
   "metadata": {},
   "outputs": [],
   "source": [
    "start_time = time.time()\n",
    "scorecard = Scorecard()\n",
    "scorecard.fit(aesthetic_evaluation_X, aesthetic_evaluation_y, categorical_columns,\n",
    "                thresholds_method='INF_BINS',\n",
    "                encoding_method='DIFF_CODING',\n",
    "                model_method='ML', \n",
    "                use_sbc=True,\n",
    "                num_nonzero_weights=num_nonzero_weights)\n",
    "\n",
    "scorecard.cross_val_score()\n",
    "end_time = time.time()\n",
    "print(f'Execution time: {end_time - start_time} seconds')"
   ]
  },
  {
   "cell_type": "code",
   "execution_count": null,
   "id": "4b9561bf",
   "metadata": {},
   "outputs": [],
   "source": [
    "scorecard.plot_accuracy_vs_sparsity()"
   ]
  },
  {
   "cell_type": "markdown",
   "id": "7827e22a",
   "metadata": {},
   "source": [
    "## wine quality dataset\n",
    "model wine quality, score between 0 and 10, based on physicochemical tests\n",
    "\n",
    "https://archive.ics.uci.edu/dataset/186/wine+quality"
   ]
  },
  {
   "cell_type": "code",
   "execution_count": null,
   "id": "10416a65",
   "metadata": {},
   "outputs": [],
   "source": [
    "# fetch dataset \n",
    "wine_quality_data = fetch_ucirepo(id=186) \n",
    "\n",
    "# data (as pandas dataframes) \n",
    "wine_quality_X = wine_quality_data.data.features \n",
    "wine_quality_y = wine_quality_data.data.targets \n",
    "  \n",
    "# metadata \n",
    "print(wine_quality_data.metadata) \n",
    "  \n",
    "# variable information \n",
    "print(wine_quality_data.variables) "
   ]
  },
  {
   "cell_type": "code",
   "execution_count": null,
   "id": "aaac3bee",
   "metadata": {},
   "outputs": [],
   "source": [
    "wine_quality_y = pd.Series(wine_quality_y['quality'], name='quality')"
   ]
  },
  {
   "cell_type": "code",
   "execution_count": null,
   "id": "602f5fb7",
   "metadata": {},
   "outputs": [],
   "source": [
    "wine_quality_y.value_counts()"
   ]
  },
  {
   "cell_type": "code",
   "execution_count": null,
   "id": "19a5ad2f",
   "metadata": {},
   "outputs": [],
   "source": [
    "wine_quality_y.hist()\n",
    "plt.xlabel('wine quality')\n",
    "plt.ylabel('drequency')\n",
    "plt.title('distribution of wine quality')"
   ]
  },
  {
   "cell_type": "code",
   "execution_count": null,
   "id": "e0078b38",
   "metadata": {},
   "outputs": [],
   "source": [
    "categorical_columns = wine_quality_X.select_dtypes(include=['object']).columns\n",
    "print(f'Categorical columns: {categorical_columns}')\n",
    "\n",
    "# encode categorical columns\n",
    "for col in categorical_columns:\n",
    "    wine_quality_X[col] = wine_quality_X[col].astype('category').cat.codes.astype('int')\n",
    "    print(f\"Column {col} encoded as: {wine_quality_X[col].unique()}\")"
   ]
  },
  {
   "cell_type": "code",
   "execution_count": null,
   "id": "4f1990ba",
   "metadata": {},
   "outputs": [],
   "source": [
    "start_time = time.time()\n",
    "\n",
    "scorecard = Scorecard()\n",
    "car_caim_1ook_ml_model, car_caim_1ook_ml_weights = scorecard.fit(wine_quality_X, wine_quality_y, categorical_columns,\n",
    "                thresholds_method='CAIM',\n",
    "                encoding_method='1_OUT_OF_K', \n",
    "                model_method='ML',\n",
    "                use_sbc=True)\n",
    "scorecard.cross_val_score()\n",
    "\n",
    "end_time = time.time()\n",
    "print(f\"Execution time: {end_time - start_time} seconds\")"
   ]
  },
  {
   "cell_type": "code",
   "execution_count": null,
   "id": "e5bc9213",
   "metadata": {},
   "outputs": [],
   "source": [
    "num_nonzero_weights = scorecard.nonzero_weights.shape[0]\n",
    "print(f'Number of non-zero weights: {num_nonzero_weights}')"
   ]
  },
  {
   "cell_type": "code",
   "execution_count": null,
   "id": "7bea7d22",
   "metadata": {},
   "outputs": [],
   "source": [
    "start_time = time.time()\n",
    "\n",
    "scorecard = Scorecard()\n",
    "car_caim_1ook_ml_model, car_caim_1ook_ml_weights = scorecard.fit(wine_quality_X, wine_quality_y, categorical_columns,\n",
    "                thresholds_method='INF_BINS',\n",
    "                encoding_method='1_OUT_OF_K',\n",
    "                model_method='ML',\n",
    "                use_sbc=True,\n",
    "                num_nonzero_weights=18)\n",
    "scorecard.cross_val_score()\n",
    "\n",
    "end_time = time.time()\n",
    "print(f\"Execution time: {end_time - start_time} seconds\")"
   ]
  },
  {
   "cell_type": "code",
   "execution_count": null,
   "id": "313e1f06",
   "metadata": {},
   "outputs": [],
   "source": [
    "start_time = time.time()\n",
    "scorecard = Scorecard()\n",
    "car_caim_1ook_ml_model, car_caim_1ook_ml_weights = scorecard.fit(wine_quality_X, wine_quality_y, categorical_columns,\n",
    "                thresholds_method='CAIM',\n",
    "                encoding_method='DIFF_CODING', \n",
    "                model_method='ML',\n",
    "                use_sbc=True)\n",
    "scorecard.cross_val_score()\n",
    "end_time = time.time()\n",
    "print(f\"Execution time: {end_time - start_time} seconds\")"
   ]
  },
  {
   "cell_type": "code",
   "execution_count": null,
   "id": "cc0091fe",
   "metadata": {},
   "outputs": [],
   "source": [
    "num_nonzero_weights = scorecard.nonzero_weights.shape[0]\n",
    "print(f'Number of non-zero weights: {num_nonzero_weights}')"
   ]
  },
  {
   "cell_type": "code",
   "execution_count": null,
   "id": "237874c5",
   "metadata": {},
   "outputs": [],
   "source": [
    "start_time = time.time()\n",
    "scorecard = Scorecard()\n",
    "car_caim_1ook_ml_model, car_caim_1ook_ml_weights = scorecard.fit(wine_quality_X, wine_quality_y, categorical_columns,\n",
    "                thresholds_method='INF_BINS',\n",
    "                encoding_method='DIFF_CODING', \n",
    "                model_method='ML',\n",
    "                use_sbc=True,\n",
    "                num_nonzero_weights=num_nonzero_weights)\n",
    "scorecard.cross_val_score()\n",
    "end_time = time.time()\n",
    "print(f\"Execution time: {end_time - start_time} seconds\")"
   ]
  },
  {
   "cell_type": "markdown",
   "id": "970a4264",
   "metadata": {},
   "source": [
    "## car evaluation dataset\n",
    "evaluate car acceptability\n",
    "\n",
    "https://archive.ics.uci.edu/dataset/19/car+evaluation"
   ]
  },
  {
   "cell_type": "code",
   "execution_count": null,
   "id": "a821f927",
   "metadata": {},
   "outputs": [],
   "source": [
    "# fetch dataset \n",
    "car_evaluation_data = fetch_ucirepo(id=19) \n",
    "  \n",
    "# data (as pandas dataframes) \n",
    "car_evaluation_X = car_evaluation_data.data.features \n",
    "car_evaluation_y = car_evaluation_data.data.targets \n",
    "  \n",
    "# metadata \n",
    "print(car_evaluation_data.metadata) \n",
    "  \n",
    "# variable information \n",
    "print(car_evaluation_data.variables) "
   ]
  },
  {
   "cell_type": "code",
   "execution_count": null,
   "id": "51c02a76",
   "metadata": {},
   "outputs": [],
   "source": [
    "car_evaluation_y = pd.Series(car_evaluation_y['class'], name='class')"
   ]
  },
  {
   "cell_type": "code",
   "execution_count": null,
   "id": "8ed9dc07",
   "metadata": {},
   "outputs": [],
   "source": [
    "car_evaluation_y.value_counts()"
   ]
  },
  {
   "cell_type": "code",
   "execution_count": null,
   "id": "2bb5d77a",
   "metadata": {},
   "outputs": [],
   "source": [
    "car_evaluation_y.hist()\n",
    "plt.xlabel('Class')\n",
    "plt.ylabel('Frequency')\n",
    "plt.title('Distribution of Class')"
   ]
  },
  {
   "cell_type": "code",
   "execution_count": null,
   "id": "2b749a54",
   "metadata": {},
   "outputs": [],
   "source": [
    "# get type of each column\n",
    "print(\"types: \", car_evaluation_X.dtypes)\n",
    "\n",
    "# show categorical columns\n",
    "print(\"\\nobject columns: \", car_evaluation_X.select_dtypes(include=['object']).columns)\n",
    "categorical_columns = car_evaluation_X.select_dtypes(include=['object']).columns\n",
    "\n",
    "# show number of unique values in each categorical column\n",
    "print(\"\\nnumber of unique values in each categorical column: \", car_evaluation_X.select_dtypes(include=['object']).nunique())\n",
    "\n",
    "# show values of all categorical columns\n",
    "print(\"\\nvalues of all categorical columns: \", car_evaluation_X.select_dtypes(include=['object']).apply(lambda x: x.unique()))"
   ]
  },
  {
   "cell_type": "code",
   "execution_count": null,
   "id": "292a1826",
   "metadata": {},
   "outputs": [],
   "source": [
    "categorical_columns = car_evaluation_X.select_dtypes(include=['object']).columns\n",
    "print(\"categorical columns: \", categorical_columns)\n",
    "\n",
    "# encode categorical columns\n",
    "for col in categorical_columns:\n",
    "    car_evaluation_X.loc[:, col] = car_evaluation_X[col].astype('category').cat.codes.astype('int')\n",
    "    print(f\"Column {col} encoded as: {car_evaluation_X[col].unique()}\")"
   ]
  },
  {
   "cell_type": "code",
   "execution_count": null,
   "id": "50a07af4",
   "metadata": {},
   "outputs": [],
   "source": [
    "start_time = time.time()\n",
    "scorecard = Scorecard()\n",
    "car_caim_1ook_ml_model, car_caim_1ook_ml_weights = scorecard.fit(car_evaluation_X, car_evaluation_y, categorical_columns,\n",
    "                thresholds_method='CAIM',\n",
    "                encoding_method='1_OUT_OF_K', \n",
    "                model_method='ML',\n",
    "                use_sbc=True)\n",
    "scorecard.cross_val_score()\n",
    "end_time = time.time()\n",
    "print(f\"Execution time: {end_time - start_time} seconds\")"
   ]
  },
  {
   "cell_type": "code",
   "execution_count": null,
   "id": "25843418",
   "metadata": {},
   "outputs": [],
   "source": [
    "num_nonzero_weights = scorecard.nonzero_weights.shape[0]\n",
    "print(f'Number of non-zero weights: {num_nonzero_weights}')"
   ]
  },
  {
   "cell_type": "code",
   "execution_count": null,
   "id": "ba4f2821",
   "metadata": {},
   "outputs": [],
   "source": [
    "start_time = time.time()\n",
    "scorecard = Scorecard()\n",
    "car_infbins_1ook_ml_model, car_infbins_1ook_ml_weights = scorecard.fit(car_evaluation_X, car_evaluation_y, categorical_columns,\n",
    "                thresholds_method='INF_BINS',\n",
    "                encoding_method='1_OUT_OF_K',\n",
    "                model_method='ML',\n",
    "                use_sbc=True,\n",
    "                num_nonzero_weights=num_nonzero_weights)\n",
    "scorecard.cross_val_score()\n",
    "end_time = time.time()\n",
    "print(f\"Execution time: {end_time - start_time} seconds\")"
   ]
  },
  {
   "cell_type": "code",
   "execution_count": null,
   "id": "227efd88",
   "metadata": {},
   "outputs": [],
   "source": [
    "start_time = time.time()\n",
    "scorecard = Scorecard()\n",
    "car_caim_diffcoding_ml_model, car_caim_diffcoding_ml_weights = scorecard.fit(car_evaluation_X, car_evaluation_y, categorical_columns,\n",
    "                thresholds_method='CAIM',\n",
    "                encoding_method='DIFF_CODING',\n",
    "                model_method='ML',\n",
    "                use_sbc=True)\n",
    "scorecard.cross_val_score()\n",
    "end_time = time.time()\n",
    "print(f\"Execution time: {end_time - start_time} seconds\")"
   ]
  },
  {
   "cell_type": "code",
   "execution_count": null,
   "id": "10c02b01",
   "metadata": {},
   "outputs": [],
   "source": [
    "num_nonzero_weights = scorecard.nonzero_weights.shape[0]\n",
    "print(f'Number of non-zero weights: {num_nonzero_weights}')"
   ]
  },
  {
   "cell_type": "code",
   "execution_count": null,
   "id": "6f6c3d0f",
   "metadata": {},
   "outputs": [],
   "source": [
    "start_time = time.time()\n",
    "car_infbins_diffcoding_ml_model, car_infbins_diffcoding_ml_weights = scorecard.fit(car_evaluation_X, car_evaluation_y, categorical_columns, \n",
    "                thresholds_method='INF_BINS',\n",
    "                encoding_method='DIFF_CODING',\n",
    "                model_method='ML',\n",
    "                use_sbc=True,\n",
    "                num_nonzero_weights=num_nonzero_weights)\n",
    "scorecard.cross_val_score()\n",
    "end_time = time.time()\n",
    "print(f\"Execution time: {end_time - start_time} seconds\")"
   ]
  },
  {
   "cell_type": "markdown",
   "id": "eddb213c",
   "metadata": {},
   "source": [
    "## abalone\n",
    "predict the age of abalone from physical measurements?\n",
    "\n",
    "https://archive.ics.uci.edu/dataset/1/abalone"
   ]
  },
  {
   "cell_type": "code",
   "execution_count": null,
   "id": "b44f642b",
   "metadata": {},
   "outputs": [],
   "source": [
    "# fetch dataset \n",
    "abalone_data = fetch_ucirepo(id=1) \n",
    "  \n",
    "# data (as pandas dataframes) \n",
    "abalone_X = abalone_data.data.features \n",
    "abalone_y = abalone_data.data.targets \n",
    "  \n",
    "# metadata \n",
    "print(abalone_data.metadata) \n",
    "  \n",
    "# variable information \n",
    "print(abalone_data.variables) \n",
    "\n",
    "abalone_y  = pd.Series(abalone_y ['Rings'], name='Rings')\n",
    "print(abalone_y .value_counts())\n",
    "abalone_y.hist()\n",
    "plt.xlabel('Rings')\n",
    "plt.ylabel('Frequency')\n",
    "plt.title('Distribution of Rings')"
   ]
  },
  {
   "cell_type": "code",
   "execution_count": null,
   "id": "6b5d5d31",
   "metadata": {},
   "outputs": [],
   "source": [
    "categorical_columns = abalone_X.select_dtypes(include=['object']).columns\n",
    "print(\"categorical columns: \", categorical_columns)\n",
    "\n",
    "# encode categorical columns\n",
    "for col in categorical_columns:\n",
    "    abalone_X.loc[:, col] = abalone_X[col].astype('category').cat.codes.astype('int')\n",
    "    print(f\"Column {col} encoded as: {abalone_X[col].unique()}\")"
   ]
  },
  {
   "cell_type": "code",
   "execution_count": null,
   "id": "3ba27110",
   "metadata": {},
   "outputs": [],
   "source": [
    "start_time = time.time()\n",
    "\n",
    "scorecard = Scorecard()\n",
    "abalone_caim_1ook_ml_model, abalone_caim_1ook_ml_weights = scorecard.fit(abalone_X, abalone_y, categorical_columns,\n",
    "                thresholds_method='CAIM',\n",
    "                encoding_method='1_OUT_OF_K', \n",
    "                model_method='ML',\n",
    "                use_sbc=True)\n",
    "scorecard.cross_val_score()\n",
    "\n",
    "end_time = time.time()\n",
    "print(f\"Execution time: {end_time - start_time} seconds\")"
   ]
  },
  {
   "cell_type": "code",
   "execution_count": null,
   "id": "90957e69",
   "metadata": {},
   "outputs": [],
   "source": [
    "num_nonzero_weights = scorecard.nonzero_weights.shape[0]\n",
    "print(f'Number of non-zero weights: {num_nonzero_weights}')"
   ]
  },
  {
   "cell_type": "code",
   "execution_count": null,
   "id": "dd30e1f9",
   "metadata": {},
   "outputs": [],
   "source": [
    "start_time = time.time()\n",
    "\n",
    "scorecard = Scorecard()\n",
    "abalone_infbins_1ook_ml_model, abalone_infbins_1ook_ml_weights = scorecard.fit(abalone_X, abalone_y, categorical_columns,\n",
    "                thresholds_method='INF_BINS',\n",
    "                encoding_method='1_OUT_OF_K', \n",
    "                model_method='ML',\n",
    "                use_sbc=True,\n",
    "                num_nonzero_weights=10)\n",
    "scorecard.cross_val_score()\n",
    "\n",
    "end_time = time.time()\n",
    "print(f\"Execution time: {end_time - start_time} seconds\")"
   ]
  },
  {
   "cell_type": "code",
   "execution_count": null,
   "id": "fc48fd25",
   "metadata": {},
   "outputs": [],
   "source": [
    "start_time = time.time()\n",
    "\n",
    "scorecard = Scorecard()\n",
    "abalone_caim_diffcoding_ml_model, abalone_caim_diffcoding_ml_weights = scorecard.fit(abalone_X, abalone_y,\n",
    "                thresholds_method='CAIM',\n",
    "                encoding_method='DIFF_CODING', \n",
    "                model_method='ML',\n",
    "                use_sbc=True)\n",
    "scorecard.cross_val_score()\n",
    "\n",
    "end_time = time.time()\n",
    "print(f\"Execution time: {end_time - start_time} seconds\")"
   ]
  },
  {
   "cell_type": "code",
   "execution_count": null,
   "id": "0821e5d0",
   "metadata": {},
   "outputs": [],
   "source": [
    "num_nonzero_weights = scorecard.nonzero_weights.shape[0]\n",
    "print(f'Number of non-zero weights: {num_nonzero_weights}')"
   ]
  },
  {
   "cell_type": "code",
   "execution_count": null,
   "id": "35eb596f",
   "metadata": {},
   "outputs": [],
   "source": [
    "start_time = time.time()\n",
    "scorecard = Scorecard()\n",
    "abalone_infbins_diffcoding_ml_model, abalone_infbins_diffcoding_ml_weights = scorecard.fit(abalone_X, abalone_y,\n",
    "                thresholds_method='INF_BINS',\n",
    "                encoding_method='DIFF_CODING', \n",
    "                model_method='ML',\n",
    "                use_sbc=True,\n",
    "                num_nonzero_weights=num_nonzero_weights)\n",
    "scorecard.cross_val_score()\n",
    "end_time = time.time()\n",
    "print(f\"Execution time: {end_time - start_time} seconds\")"
   ]
  },
  {
   "cell_type": "markdown",
   "id": "f1a109d8",
   "metadata": {},
   "source": [
    "## balance scale\n",
    "classify each example as having the balance scale tip to the right, tip to the left, or be balanced (from 1 to 5)\n",
    "\n",
    "https://archive.ics.uci.edu/dataset/12/balance+scale"
   ]
  },
  {
   "cell_type": "code",
   "execution_count": null,
   "id": "6cbeb9ba",
   "metadata": {},
   "outputs": [],
   "source": [
    "# fetch dataset \n",
    "balance_scale_data = fetch_ucirepo(id=12) \n",
    "  \n",
    "# data (as pandas dataframes) \n",
    "balance_scale_X = balance_scale_data.data.features \n",
    "balance_scale_y = balance_scale_data.data.targets \n",
    "  \n",
    "# metadata \n",
    "print(balance_scale_data.metadata) \n",
    "  \n",
    "# variable information \n",
    "print(balance_scale_data.variables) \n",
    "\n",
    "balance_scale_y  = pd.Series(balance_scale_y['class'], name='class')\n",
    "print(balance_scale_y.value_counts())\n",
    "balance_scale_y.hist()\n",
    "plt.xlabel('Class')\n",
    "plt.ylabel('Frequency')\n",
    "plt.title('Distribution of Class')"
   ]
  },
  {
   "cell_type": "code",
   "execution_count": null,
   "id": "65432b17",
   "metadata": {},
   "outputs": [],
   "source": [
    "categorical_columns = balance_scale_X.select_dtypes(include=['object']).columns\n",
    "print(\"categorical columns: \", categorical_columns)\n",
    "\n",
    "# encode categorical columns\n",
    "for col in categorical_columns:\n",
    "    balance_scale_X.loc[:, col] = balance_scale_X[col].astype('category').cat.codes.astype('int')\n",
    "    print(f\"Column {col} encoded as: {balance_scale_X[col].unique()}\")"
   ]
  },
  {
   "cell_type": "code",
   "execution_count": null,
   "id": "5b2fd2ae",
   "metadata": {},
   "outputs": [],
   "source": [
    "start_time = time.time()\n",
    "\n",
    "scorecard = Scorecard()\n",
    "balance_scale_caim_1ook_ml_model, balance_scale_caim_1ook_ml_weights = scorecard.fit(balance_scale_X, balance_scale_y, categorical_columns,\n",
    "                thresholds_method='CAIM',\n",
    "                encoding_method='1_OUT_OF_K', \n",
    "                model_method='ML',\n",
    "                use_sbc=True)\n",
    "scorecard.cross_val_score()\n",
    "\n",
    "end_time = time.time()\n",
    "print(f\"Execution time: {end_time - start_time} seconds\")"
   ]
  },
  {
   "cell_type": "code",
   "execution_count": null,
   "id": "4894307c",
   "metadata": {},
   "outputs": [],
   "source": [
    "num_nonzero_weights = scorecard.nonzero_weights.shape[0]\n",
    "print(f'Number of non-zero weights: {num_nonzero_weights}')"
   ]
  },
  {
   "cell_type": "code",
   "execution_count": null,
   "id": "545977d2",
   "metadata": {},
   "outputs": [],
   "source": [
    "start_time = time.time()\n",
    "\n",
    "scorecard = Scorecard()\n",
    "balance_scale_infbins_1ook_ml_model, balance_scale_infbins_1ook_ml_weights = scorecard.fit(balance_scale_X, balance_scale_y,categorical_columns,\n",
    "                thresholds_method='INF_BINS',\n",
    "                encoding_method='1_OUT_OF_K', \n",
    "                model_method='ML',\n",
    "                use_sbc=True,\n",
    "                num_nonzero_weights=num_nonzero_weights)\n",
    "scorecard.cross_val_score()\n",
    "\n",
    "end_time = time.time()\n",
    "print(f\"Execution time: {end_time - start_time} seconds\")"
   ]
  },
  {
   "cell_type": "code",
   "execution_count": null,
   "id": "3c609fbb",
   "metadata": {},
   "outputs": [],
   "source": [
    "start_time = time.time()\n",
    "\n",
    "scorecard = Scorecard()\n",
    "balance_scale_caim_diffcoding_ml_model, balance_scale_caim_diffcoding_ml_weights = scorecard.fit(balance_scale_X, balance_scale_y,categorical_columns,\n",
    "                thresholds_method='CAIM',\n",
    "                encoding_method='DIFF_CODING', \n",
    "                model_method='ML',\n",
    "                use_sbc=True)\n",
    "scorecard.cross_val_score()\n",
    "end_time = time.time()\n",
    "print(f\"Execution time: {end_time - start_time} seconds\")"
   ]
  },
  {
   "cell_type": "code",
   "execution_count": null,
   "id": "02cbb5e8",
   "metadata": {},
   "outputs": [],
   "source": [
    "num_nonzero_weights = scorecard.nonzero_weights.shape[0]\n",
    "print(f'Number of non-zero weights: {num_nonzero_weights}')"
   ]
  },
  {
   "cell_type": "code",
   "execution_count": null,
   "id": "3491e2e3",
   "metadata": {},
   "outputs": [],
   "source": [
    "start_time = time.time()\n",
    "scorecard = Scorecard()\n",
    "balance_scale_infbins_diffcoding_ml_model, balance_scale_infbins_diffcoding_ml_weights = scorecard.fit(balance_scale_X, balance_scale_y,categorical_columns,\n",
    "                thresholds_method='INF_BINS',\n",
    "                encoding_method='DIFF_CODING', \n",
    "                model_method='ML',\n",
    "                use_sbc=True,\n",
    "                num_nonzero_weights=num_nonzero_weights)\n",
    "scorecard.cross_val_score()\n",
    "\n",
    "end_time = time.time()\n",
    "print(f\"Execution time: {end_time - start_time} seconds\")"
   ]
  },
  {
   "cell_type": "markdown",
   "id": "51d7a218",
   "metadata": {},
   "source": [
    "## lenses\n",
    "\n",
    "classes:\n",
    "- 1 : the patient should be fitted with hard contact lenses,\n",
    "- 2 : the patient should be fitted with soft contact lenses,\n",
    "- 3 : the patient should not be fitted with contact lenses.\n",
    "\n",
    "\n",
    "https://archive.ics.uci.edu/dataset/58/lenses"
   ]
  },
  {
   "cell_type": "code",
   "execution_count": null,
   "id": "e545adec",
   "metadata": {},
   "outputs": [],
   "source": [
    "# fetch dataset \n",
    "lenses_data = fetch_ucirepo(id=58) \n",
    "  \n",
    "# data (as pandas dataframes) \n",
    "lenses_X = lenses_data.data.features \n",
    "lenses_y = lenses_data.data.targets\n",
    "  \n",
    "# metadata \n",
    "print(lenses_data.metadata) \n",
    "  \n",
    "# variable information \n",
    "print(lenses_data.variables) \n",
    "\n",
    "lenses_y  = pd.Series(lenses_y['class'], name='class')\n",
    "print(lenses_y.value_counts())\n",
    "lenses_y.hist()\n",
    "plt.xlabel('Class')\n",
    "plt.ylabel('Frequency')\n",
    "plt.title('Distribution of Class')"
   ]
  },
  {
   "cell_type": "code",
   "execution_count": null,
   "id": "d5b495b6",
   "metadata": {},
   "outputs": [],
   "source": [
    "categorical_columns = lenses_X.select_dtypes(include=['object']).columns\n",
    "print(\"categorical columns: \", categorical_columns)\n",
    "\n",
    "# encode categorical columns\n",
    "for col in categorical_columns:\n",
    "    lenses_X.loc[:, col] = lenses_X[col].astype('category').cat.codes.astype('int')\n",
    "    print(f\"Column {col} encoded as: {lenses_X[col].unique()}\")"
   ]
  },
  {
   "cell_type": "code",
   "execution_count": null,
   "id": "2e293822",
   "metadata": {},
   "outputs": [],
   "source": [
    "start_time = time.time()\n",
    "\n",
    "scorecard = Scorecard()\n",
    "lenses_caim_1ook_ml_model, lenses_caim_1ook_ml_weights = scorecard.fit(lenses_X, lenses_y, categorical_columns,\n",
    "                thresholds_method='CAIM',\n",
    "                encoding_method='1_OUT_OF_K', \n",
    "                model_method='ML',\n",
    "                use_sbc=True)\n",
    "scorecard.cross_val_score()\n",
    "\n",
    "end_time = time.time()\n",
    "print(f\"Execution time: {end_time - start_time} seconds\")"
   ]
  },
  {
   "cell_type": "code",
   "execution_count": null,
   "id": "d538410f",
   "metadata": {},
   "outputs": [],
   "source": [
    "num_nonzero_weights = scorecard.nonzero_weights.shape[0]\n",
    "print(f'Number of non-zero weights: {num_nonzero_weights}')"
   ]
  },
  {
   "cell_type": "code",
   "execution_count": null,
   "id": "565a3dcc",
   "metadata": {},
   "outputs": [],
   "source": [
    "start_time = time.time()\n",
    "\n",
    "scorecard = Scorecard()\n",
    "lenses_infbins_1ook_ml_model, lenses_infbins_1ook_ml_weights = scorecard.fit(lenses_X, lenses_y,\n",
    "                thresholds_method='INF_BINS',\n",
    "                encoding_method='1_OUT_OF_K', \n",
    "                model_method='ML',\n",
    "                use_sbc=True,\n",
    "                num_nonzero_weights=num_nonzero_weights)\n",
    "scorecard.cross_val_score()\n",
    "\n",
    "end_time = time.time()\n",
    "print(f\"Execution time: {end_time - start_time} seconds\")"
   ]
  },
  {
   "cell_type": "code",
   "execution_count": null,
   "id": "5f7ed258",
   "metadata": {},
   "outputs": [],
   "source": [
    "start_time = time.time()\n",
    "\n",
    "scorecard = Scorecard()\n",
    "lenses_caim_diffcoding_ml_model, lenses_caim_diffcoding_ml_weights = scorecard.fit(lenses_X, lenses_y,\n",
    "                thresholds_method='CAIM',\n",
    "                encoding_method='DIFF_CODING', \n",
    "                model_method='ML',\n",
    "                use_sbc=True)\n",
    "scorecard.cross_val_score()\n",
    "\n",
    "end_time = time.time()\n",
    "print(f\"Execution time: {end_time - start_time} seconds\")"
   ]
  },
  {
   "cell_type": "code",
   "execution_count": null,
   "id": "0d1646d5",
   "metadata": {},
   "outputs": [],
   "source": [
    "num_nonzero_weights = scorecard.nonzero_weights.shape[0]\n",
    "print(f'Number of non-zero weights: {num_nonzero_weights}')"
   ]
  },
  {
   "cell_type": "code",
   "execution_count": null,
   "id": "70d16b8f",
   "metadata": {},
   "outputs": [],
   "source": [
    "start_time = time.time()\n",
    "\n",
    "scorecard = Scorecard()\n",
    "lenses_infbins_diffcoding_ml_model, lenses_infbins_diffcoding_ml_weights = scorecard.fit(lenses_X, lenses_y,\n",
    "                thresholds_method='INF_BINS',\n",
    "                encoding_method='DIFF_CODING', \n",
    "                model_method='ML',\n",
    "                use_sbc=True,\n",
    "                num_nonzero_weights=num_nonzero_weights)\n",
    "scorecard.cross_val_score()\n",
    "\n",
    "end_time = time.time()\n",
    "print(f\"Execution time: {end_time - start_time} seconds\")"
   ]
  },
  {
   "cell_type": "markdown",
   "id": "c7d1dae0",
   "metadata": {},
   "source": [
    "## student performance\n",
    "predict student performance in secondary education (high school)\n",
    "\n",
    "https://archive.ics.uci.edu/dataset/320/student+performance"
   ]
  },
  {
   "cell_type": "code",
   "execution_count": null,
   "id": "4e138cd4",
   "metadata": {},
   "outputs": [],
   "source": [
    "# fetch dataset \n",
    "student_performance_data = fetch_ucirepo(id=320) \n",
    "  \n",
    "# data (as pandas dataframes) \n",
    "student_performance_X = student_performance_data.data.features \n",
    "student_performance_y = student_performance_data.data.targets \n",
    "  \n",
    "# metadata \n",
    "print(student_performance_data.metadata) \n",
    "  \n",
    "# variable information \n",
    "print(student_performance_data.variables) \n",
    "\n",
    "student_performance_y = pd.Series(student_performance_y['G1'], name='G1')\n",
    "print(student_performance_y.value_counts())\n",
    "student_performance_y.hist()\n",
    "plt.xlabel('Class')\n",
    "plt.ylabel('Frequency')\n",
    "plt.title('Distribution of Class')"
   ]
  },
  {
   "cell_type": "code",
   "execution_count": null,
   "id": "4c907093",
   "metadata": {},
   "outputs": [],
   "source": [
    "categorical_columns = student_performance_X.select_dtypes(include=['object']).columns\n",
    "print(\"categorical columns: \", categorical_columns)\n",
    "\n",
    "# encode categorical columns\n",
    "for col in categorical_columns:\n",
    "    student_performance_X.loc[:, col] = student_performance_X[col].astype('category').cat.codes.astype('int')\n",
    "    print(f\"Column {col} encoded as: {student_performance_X[col].unique()}\")"
   ]
  },
  {
   "cell_type": "code",
   "execution_count": null,
   "id": "f73d9629",
   "metadata": {},
   "outputs": [],
   "source": [
    "start_time = time.time()\n",
    "\n",
    "scorecard = Scorecard()\n",
    "student_performance_caim_1ook_ml_model, student_performance_caim_1ook_ml_weights = scorecard.fit(student_performance_X, student_performance_y, categorical_columns, \n",
    "                thresholds_method='CAIM',\n",
    "                encoding_method='1_OUT_OF_K', \n",
    "                model_method='ML',\n",
    "                use_sbc=True)\n",
    "scorecard.cross_val_score()\n",
    "\n",
    "end_time = time.time()\n",
    "print(f\"Execution time: {end_time - start_time} seconds\")"
   ]
  },
  {
   "cell_type": "code",
   "execution_count": null,
   "id": "5af85e16",
   "metadata": {},
   "outputs": [],
   "source": [
    "num_nonzero_weights = scorecard.nonzero_weights.shape[0]\n",
    "print(f'Number of non-zero weights: {num_nonzero_weights}')"
   ]
  },
  {
   "cell_type": "code",
   "execution_count": null,
   "id": "f47f4bad",
   "metadata": {},
   "outputs": [],
   "source": [
    "start_time = time.time()\n",
    "\n",
    "scorecard = Scorecard()\n",
    "student_performance_infbins_1ook_ml_model, student_performance_infbins_1ook_ml_weights = scorecard.fit(student_performance_X, student_performance_y, categorical_columns,   \n",
    "                thresholds_method='INF_BINS',\n",
    "                encoding_method='1_OUT_OF_K', \n",
    "                model_method='ML',\n",
    "                use_sbc=True,\n",
    "                num_nonzero_weights=num_nonzero_weights)\n",
    "scorecard.cross_val_score()\n",
    "\n",
    "end_time = time.time()\n",
    "print(f\"Execution time: {end_time - start_time} seconds\")"
   ]
  },
  {
   "cell_type": "code",
   "execution_count": null,
   "id": "031ec90d",
   "metadata": {},
   "outputs": [],
   "source": [
    "start_time = time.time()\n",
    "\n",
    "scorecard = Scorecard()\n",
    "student_performance_caim_diffcoding_ml_model, student_performance_caim_diffcoding_ml_weights = scorecard.fit(student_performance_X, student_performance_y, categorical_columns,\n",
    "                thresholds_method='CAIM',\n",
    "                encoding_method='DIFF_CODING', \n",
    "                model_method='ML',\n",
    "                use_sbc=True)\n",
    "scorecard.cross_val_score()\n",
    "\n",
    "end_time = time.time()\n",
    "print(f\"Execution time: {end_time - start_time} seconds\")"
   ]
  },
  {
   "cell_type": "code",
   "execution_count": null,
   "id": "90014703",
   "metadata": {},
   "outputs": [],
   "source": [
    "num_nonzero_weights = scorecard.nonzero_weights.shape[0]\n",
    "print(f'Number of non-zero weights: {num_nonzero_weights}')"
   ]
  },
  {
   "cell_type": "code",
   "execution_count": null,
   "id": "e810b983",
   "metadata": {},
   "outputs": [],
   "source": [
    "start_time = time.time()\n",
    "\n",
    "scorecard = Scorecard()\n",
    "student_performance_infbins_diffcoding_ml_model, student_performance_infbins_diffcoding_ml_weights = scorecard.fit(student_performance_X, student_performance_y, categorical_columns,   \n",
    "                thresholds_method='INF_BINS',\n",
    "                encoding_method='DIFF_CODING', \n",
    "                model_method='ML',\n",
    "                use_sbc=True,\n",
    "                num_nonzero_weights=num_nonzero_weights)\n",
    "scorecard.cross_val_score()\n",
    "\n",
    "end_time = time.time()\n",
    "print(f\"Execution time: {end_time - start_time} seconds\")"
   ]
  }
 ],
 "metadata": {
  "kernelspec": {
   "display_name": "Python 3",
   "language": "python",
   "name": "python3"
  },
  "language_info": {
   "codemirror_mode": {
    "name": "ipython",
    "version": 3
   },
   "file_extension": ".py",
   "mimetype": "text/x-python",
   "name": "python",
   "nbconvert_exporter": "python",
   "pygments_lexer": "ipython3",
   "version": "3.11.12"
  }
 },
 "nbformat": 4,
 "nbformat_minor": 5
}
