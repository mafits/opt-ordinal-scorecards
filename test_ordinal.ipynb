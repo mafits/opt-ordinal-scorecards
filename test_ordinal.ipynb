{
 "cells": [
  {
   "cell_type": "markdown",
   "id": "93593078",
   "metadata": {},
   "source": [
    "## aesthetic evaluation dataset"
   ]
  },
  {
   "cell_type": "code",
   "execution_count": null,
   "id": "c33cd9b0",
   "metadata": {},
   "outputs": [],
   "source": [
    "import pandas as pd\n",
    "\n",
    "aesthetic_evaluation_data = pd.read_csv('datasets/aesthetic_evaluation_data.csv')\n",
    "aesthetic_evaluation_objective = aesthetic_evaluation_data['Objective Evaluation']\n",
    "aesthetic_evaluation_data = aesthetic_evaluation_data.drop(columns=['Image Filename','Author','Objective Evaluation', 'sX2L Value','sX2a Value','sX2b Value','sX2Lab Value','sEMDL Value','sEMDa Value','sEMDb Value','sEMDLab Value'])\n",
    "aesthetic_evaluation_X = aesthetic_evaluation_data.drop(columns='Subjective Evaluation')\n",
    "aesthetic_evaluation_y = aesthetic_evaluation_data['Subjective Evaluation']\n",
    "\n",
    "aesthetic_evaluation_data.head()"
   ]
  },
  {
   "cell_type": "code",
   "execution_count": null,
   "id": "69717b50",
   "metadata": {},
   "outputs": [],
   "source": [
    "aesthetic_evaluation_y.value_counts()"
   ]
  },
  {
   "cell_type": "code",
   "execution_count": null,
   "id": "bcaded3d",
   "metadata": {},
   "outputs": [],
   "source": [
    "from matplotlib import pyplot as plt\n",
    "\n",
    "\n",
    "aesthetic_evaluation_y.hist()\n",
    "plt.xlabel('Subjective Evaluation')\n",
    "plt.ylabel('Frequency')\n",
    "plt.title('Distribution of Subjective Evaluation')"
   ]
  },
  {
   "cell_type": "code",
   "execution_count": null,
   "id": "cbd35a8d",
   "metadata": {},
   "outputs": [],
   "source": [
    "from scorecard import Scorecard\n",
    "import time\n",
    "start_time = time.time()\n",
    "scorecard = Scorecard()\n",
    "caim_1ook_ml_model, caim_1ook_ml_weights = scorecard.fit(aesthetic_evaluation_X, aesthetic_evaluation_y, \n",
    "                thresholds_method='CAIM',\n",
    "                encoding_method='1_OUT_OF_K', \n",
    "                model_method='ML',\n",
    "                use_sbc=True,\n",
    "                num_nonzero_weights=None)\n",
    "\n",
    "scorecard.cross_val_score()\n",
    "end_time = time.time()\n",
    "print(f\"Execution time: {end_time - start_time} seconds\")"
   ]
  },
  {
   "cell_type": "code",
   "execution_count": null,
   "id": "8bc96118",
   "metadata": {},
   "outputs": [],
   "source": [
    "num_nonzero_weights = scorecard.nonzero_weights.shape[0]\n",
    "print(f'Number of non-zero weights: {num_nonzero_weights}')"
   ]
  },
  {
   "cell_type": "code",
   "execution_count": null,
   "id": "45155429",
   "metadata": {},
   "outputs": [],
   "source": [
    "scorecard = Scorecard()\n",
    "caim_1ook_ml_model, caim_1ook_ml_weights = scorecard.fit(aesthetic_evaluation_X, aesthetic_evaluation_objective, \n",
    "                thresholds_method='CAIM',\n",
    "                encoding_method='1_OUT_OF_K', \n",
    "                model_method='ML',\n",
    "                use_sbc=True,\n",
    "                num_nonzero_weights=None)\n",
    "\n",
    "scorecard.cross_val_score()"
   ]
  },
  {
   "cell_type": "code",
   "execution_count": null,
   "id": "45c6eca9",
   "metadata": {},
   "outputs": [],
   "source": [
    "start_time = time.time()\n",
    "scorecard = Scorecard()\n",
    "scorecard.fit(aesthetic_evaluation_X, aesthetic_evaluation_y,\n",
    "                thresholds_method='INF_BINS',\n",
    "                encoding_method='1_OUT_OF_K', \n",
    "                model_method='ML',\n",
    "                use_sbc=True,\n",
    "                num_nonzero_weights=num_nonzero_weights,\n",
    "                show_prints=False)\n",
    "\n",
    "scorecard.cross_val_score()\n",
    "end_time = time.time()\n",
    "print(f\"Execution time: {end_time - start_time} seconds\")"
   ]
  },
  {
   "cell_type": "code",
   "execution_count": null,
   "id": "546cad54",
   "metadata": {},
   "outputs": [],
   "source": [
    "scorecard = Scorecard()\n",
    "scorecard.fit(aesthetic_evaluation_X, aesthetic_evaluation_objective,\n",
    "                thresholds_method='INF_BINS',\n",
    "                encoding_method='1_OUT_OF_K', \n",
    "                model_method='ML',\n",
    "                use_sbc=True,\n",
    "                num_nonzero_weights=num_nonzero_weights,\n",
    "                show_prints=False)\n",
    "\n",
    "scorecard.cross_val_score()"
   ]
  },
  {
   "cell_type": "code",
   "execution_count": null,
   "id": "f6ac40e0",
   "metadata": {},
   "outputs": [],
   "source": [
    "start_time = time.time()\n",
    "scorecard = Scorecard()\n",
    "scorecard.fit(aesthetic_evaluation_X, aesthetic_evaluation_y,\n",
    "                thresholds_method='CAIM',\n",
    "                encoding_method='DIFF_CODING',\n",
    "                model_method='ML', \n",
    "                use_sbc=True,\n",
    "                num_nonzero_weights=None,\n",
    "                show_prints=False)\n",
    "\n",
    "scorecard.cross_val_score()\n",
    "end_time = time.time()\n",
    "print(f\"Execution time: {end_time - start_time} seconds\")"
   ]
  },
  {
   "cell_type": "code",
   "execution_count": null,
   "id": "9d1ff602",
   "metadata": {},
   "outputs": [],
   "source": [
    "num_nonzero_weights = scorecard.nonzero_weights.shape[0]\n",
    "print(f'Number of non-zero weights: {num_nonzero_weights}')"
   ]
  },
  {
   "cell_type": "code",
   "execution_count": null,
   "id": "82cdc3c6",
   "metadata": {},
   "outputs": [],
   "source": [
    "scorecard = Scorecard()\n",
    "scorecard.fit(aesthetic_evaluation_X, aesthetic_evaluation_objective,\n",
    "                thresholds_method='CAIM',\n",
    "                encoding_method='DIFF_CODING',\n",
    "                model_method='ML', \n",
    "                use_sbc=True,\n",
    "                num_nonzero_weights=None,\n",
    "                show_prints=False)\n",
    "\n",
    "scorecard.cross_val_score()"
   ]
  },
  {
   "cell_type": "code",
   "execution_count": null,
   "id": "4d15b253",
   "metadata": {},
   "outputs": [],
   "source": [
    "start_time = time.time()\n",
    "scorecard = Scorecard()\n",
    "scorecard.fit(aesthetic_evaluation_X, aesthetic_evaluation_y,\n",
    "                thresholds_method='INF_BINS',\n",
    "                encoding_method='DIFF_CODING',\n",
    "                model_method='ML', \n",
    "                use_sbc=True,\n",
    "                num_nonzero_weights=num_nonzero_weights,\n",
    "                show_prints=False)\n",
    "\n",
    "scorecard.cross_val_score()\n",
    "end_time = time.time()\n",
    "print(f'Execution time: {end_time - start_time} seconds')"
   ]
  },
  {
   "cell_type": "code",
   "execution_count": null,
   "id": "ae4e4f95",
   "metadata": {},
   "outputs": [],
   "source": [
    "scorecard = Scorecard()\n",
    "scorecard.fit(aesthetic_evaluation_X, aesthetic_evaluation_objective,\n",
    "                thresholds_method='INF_BINS',\n",
    "                encoding_method='DIFF_CODING',\n",
    "                model_method='ML', \n",
    "                use_sbc=True,\n",
    "                num_nonzero_weights=num_nonzero_weights,\n",
    "                show_prints=False)\n",
    "\n",
    "scorecard.cross_val_score()"
   ]
  },
  {
   "cell_type": "markdown",
   "id": "7827e22a",
   "metadata": {},
   "source": [
    "## wine quality dataset"
   ]
  },
  {
   "cell_type": "code",
   "execution_count": null,
   "id": "10416a65",
   "metadata": {},
   "outputs": [],
   "source": [
    "from ucimlrepo import fetch_ucirepo \n",
    "  \n",
    "# fetch dataset \n",
    "wine_quality_data = fetch_ucirepo(id=186) \n",
    "  \n",
    "# data (as pandas dataframes) \n",
    "wine_quality_X = wine_quality_data.data.features \n",
    "wine_quality_y = wine_quality_data.data.targets \n",
    "  \n",
    "# metadata \n",
    "print(wine_quality_data.metadata) \n",
    "  \n",
    "# variable information \n",
    "print(wine_quality_data.variables) "
   ]
  },
  {
   "cell_type": "code",
   "execution_count": null,
   "id": "602f5fb7",
   "metadata": {},
   "outputs": [],
   "source": [
    "wine_quality_y.value_counts()"
   ]
  },
  {
   "cell_type": "code",
   "execution_count": null,
   "id": "19a5ad2f",
   "metadata": {},
   "outputs": [],
   "source": [
    "from matplotlib import pyplot as plt\n",
    "\n",
    "wine_quality_y.hist()\n",
    "plt.xlabel('Class')\n",
    "plt.ylabel('Frequency')\n",
    "plt.title('Distribution of Class')"
   ]
  },
  {
   "cell_type": "code",
   "execution_count": null,
   "id": "4f1990ba",
   "metadata": {},
   "outputs": [],
   "source": [
    "from scorecard import Scorecard\n",
    "import time\n",
    "\n",
    "start_time = time.time()\n",
    "scorecard = Scorecard()\n",
    "car_caim_1ook_ml_model, car_caim_1ook_ml_weights = scorecard.fit(wine_quality_X, wine_quality_y, \n",
    "                thresholds_method='CAIM',\n",
    "                encoding_method='1_OUT_OF_K', \n",
    "                model_method='ML',\n",
    "                use_sbc=True)\n",
    "scorecard.cross_val_score()\n",
    "end_time = time.time()\n",
    "print(f\"Execution time: {end_time - start_time} seconds\")"
   ]
  },
  {
   "cell_type": "markdown",
   "id": "970a4264",
   "metadata": {},
   "source": [
    "## car evaluation dataset"
   ]
  },
  {
   "cell_type": "code",
   "execution_count": null,
   "id": "a821f927",
   "metadata": {},
   "outputs": [],
   "source": [
    "from ucimlrepo import fetch_ucirepo \n",
    "  \n",
    "# fetch dataset \n",
    "car_evaluation_data = fetch_ucirepo(id=19) \n",
    "  \n",
    "# data (as pandas dataframes) \n",
    "car_evaluation_X = car_evaluation_data.data.features \n",
    "car_evaluation_y = car_evaluation_data.data.targets \n",
    "car_evaluation_y = car_evaluation_y['class']\n",
    "  \n",
    "# metadata \n",
    "print(car_evaluation_data.metadata) \n",
    "  \n",
    "# variable information \n",
    "print(car_evaluation_data.variables) "
   ]
  },
  {
   "cell_type": "code",
   "execution_count": null,
   "id": "8ed9dc07",
   "metadata": {},
   "outputs": [],
   "source": [
    "car_evaluation_y.value_counts()"
   ]
  },
  {
   "cell_type": "code",
   "execution_count": null,
   "id": "2bb5d77a",
   "metadata": {},
   "outputs": [],
   "source": [
    "from matplotlib import pyplot as plt\n",
    "\n",
    "car_evaluation_y.hist()\n",
    "plt.xlabel('Class')\n",
    "plt.ylabel('Frequency')\n",
    "plt.title('Distribution of Class')"
   ]
  },
  {
   "cell_type": "code",
   "execution_count": null,
   "id": "50a07af4",
   "metadata": {},
   "outputs": [],
   "source": [
    "from scorecard import Scorecard\n",
    "import time\n",
    "\n",
    "start_time = time.time()\n",
    "scorecard = Scorecard()\n",
    "car_caim_1ook_ml_model, car_caim_1ook_ml_weights = scorecard.fit(car_evaluation_X, car_evaluation_y, \n",
    "                thresholds_method='CAIM',\n",
    "                encoding_method='1_OUT_OF_K', \n",
    "                model_method='ML',\n",
    "                use_sbc=True)\n",
    "scorecard.cross_val_score()\n",
    "end_time = time.time()\n",
    "print(f\"Execution time: {end_time - start_time} seconds\")"
   ]
  },
  {
   "cell_type": "code",
   "execution_count": null,
   "id": "25843418",
   "metadata": {},
   "outputs": [],
   "source": [
    "num_nonzero_weights = scorecard.nonzero_weights.shape[0]\n",
    "print(f'Number of non-zero weights: {num_nonzero_weights}')"
   ]
  },
  {
   "cell_type": "code",
   "execution_count": null,
   "id": "ba4f2821",
   "metadata": {},
   "outputs": [],
   "source": [
    "start_time = time.time()\n",
    "scorecard = Scorecard()\n",
    "car_infbins_1ook_ml_model, car_infbins_1ook_ml_weights = scorecard.fit(car_evaluation_X, car_evaluation_y,\n",
    "                thresholds_method='INF_BINS',\n",
    "                encoding_method='1_OUT_OF_K',\n",
    "                model_method='ML',\n",
    "                use_sbc=True,\n",
    "                num_nonzero_weights=num_nonzero_weights,\n",
    "                show_prints=False)\n",
    "scorecard.cross_val_score()\n",
    "end_time = time.time()\n",
    "print(f\"Execution time: {end_time - start_time} seconds\")"
   ]
  },
  {
   "cell_type": "code",
   "execution_count": null,
   "id": "227efd88",
   "metadata": {},
   "outputs": [],
   "source": [
    "start_time = time.time()\n",
    "scorecard = Scorecard()\n",
    "car_caim_diffcoding_ml_model, car_caim_diffcoding_ml_weights = scorecard.fit(car_evaluation_X, car_evaluation_y,\n",
    "                thresholds_method='CAIM',\n",
    "                encoding_method='DIFF_CODING',\n",
    "                model_method='ML',\n",
    "                use_sbc=True,\n",
    "                num_nonzero_weights=None,\n",
    "                show_prints=False)\n",
    "scorecard.cross_val_score()\n",
    "end_time = time.time()\n",
    "print(f\"Execution time: {end_time - start_time} seconds\")"
   ]
  },
  {
   "cell_type": "code",
   "execution_count": null,
   "id": "10c02b01",
   "metadata": {},
   "outputs": [],
   "source": [
    "num_nonzero_weights = scorecard.nonzero_weights.shape[0]\n",
    "print(f'Number of non-zero weights: {num_nonzero_weights}')"
   ]
  },
  {
   "cell_type": "code",
   "execution_count": null,
   "id": "6f6c3d0f",
   "metadata": {},
   "outputs": [],
   "source": [
    "start_time = time.time()\n",
    "car_infbins_diffcoding_ml_model, car_infbins_diffcoding_ml_weights = scorecard.fit(car_evaluation_X, car_evaluation_y,\n",
    "                thresholds_method='INF_BINS',\n",
    "                encoding_method='DIFF_CODING',\n",
    "                model_method='ML',\n",
    "                use_sbc=True,\n",
    "                num_nonzero_weights=num_nonzero_weights,\n",
    "                show_prints=False)\n",
    "scorecard.cross_val_score()\n",
    "end_time = time.time()\n",
    "print(f\"Execution time: {end_time - start_time} seconds\")"
   ]
  }
 ],
 "metadata": {
  "kernelspec": {
   "display_name": "Python 3",
   "language": "python",
   "name": "python3"
  },
  "language_info": {
   "codemirror_mode": {
    "name": "ipython",
    "version": 3
   },
   "file_extension": ".py",
   "mimetype": "text/x-python",
   "name": "python",
   "nbconvert_exporter": "python",
   "pygments_lexer": "ipython3",
   "version": "3.11.6"
  }
 },
 "nbformat": 4,
 "nbformat_minor": 5
}
