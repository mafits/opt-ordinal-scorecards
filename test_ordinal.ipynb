{
 "cells": [
  {
   "cell_type": "code",
   "execution_count": 2,
   "id": "4656d72c",
   "metadata": {},
   "outputs": [],
   "source": [
    "import pandas as pd\n",
    "from matplotlib import pyplot as plt\n",
    "import numpy as np\n",
    "from scorecard import Scorecard\n",
    "import time\n",
    "from ucimlrepo import fetch_ucirepo \n",
    "\n",
    "from sklearn.metrics import accuracy_score"
   ]
  },
  {
   "cell_type": "markdown",
   "id": "93593078",
   "metadata": {},
   "source": [
    "## aesthetic evaluation dataset"
   ]
  },
  {
   "cell_type": "code",
   "execution_count": 5,
   "id": "c33cd9b0",
   "metadata": {},
   "outputs": [
    {
     "data": {
      "text/html": [
       "<div>\n",
       "<style scoped>\n",
       "    .dataframe tbody tr th:only-of-type {\n",
       "        vertical-align: middle;\n",
       "    }\n",
       "\n",
       "    .dataframe tbody tr th {\n",
       "        vertical-align: top;\n",
       "    }\n",
       "\n",
       "    .dataframe thead th {\n",
       "        text-align: right;\n",
       "    }\n",
       "</style>\n",
       "<table border=\"1\" class=\"dataframe\">\n",
       "  <thead>\n",
       "    <tr style=\"text-align: right;\">\n",
       "      <th></th>\n",
       "      <th>Subjective Evaluation</th>\n",
       "      <th>BRA Value</th>\n",
       "      <th>LBC Value</th>\n",
       "      <th>UNR Value</th>\n",
       "      <th>BCE Value</th>\n",
       "      <th>BCD Value</th>\n",
       "      <th>BAD Value</th>\n",
       "      <th>BOD Value</th>\n",
       "      <th>pBRA Value</th>\n",
       "      <th>pLBC Value</th>\n",
       "      <th>...</th>\n",
       "      <th>pBAD Value</th>\n",
       "      <th>pBOD Value</th>\n",
       "      <th>cX2L Value</th>\n",
       "      <th>cX2a Value</th>\n",
       "      <th>cX2b Value</th>\n",
       "      <th>cX2Lab Value</th>\n",
       "      <th>cEMDL Value</th>\n",
       "      <th>cEMDa Value</th>\n",
       "      <th>cEMDb Value</th>\n",
       "      <th>cEMDLab Value</th>\n",
       "    </tr>\n",
       "  </thead>\n",
       "  <tbody>\n",
       "    <tr>\n",
       "      <th>0</th>\n",
       "      <td>Good</td>\n",
       "      <td>1.149009</td>\n",
       "      <td>0.830915</td>\n",
       "      <td>0.107618</td>\n",
       "      <td>0.938534</td>\n",
       "      <td>1.934477</td>\n",
       "      <td>4.885198</td>\n",
       "      <td>17.296370</td>\n",
       "      <td>0.049401</td>\n",
       "      <td>0.033356</td>\n",
       "      <td>...</td>\n",
       "      <td>0.029188</td>\n",
       "      <td>0.103340</td>\n",
       "      <td>0.097502</td>\n",
       "      <td>0.009506</td>\n",
       "      <td>0.217169</td>\n",
       "      <td>0.100670</td>\n",
       "      <td>1.503086</td>\n",
       "      <td>0.030362</td>\n",
       "      <td>0.291363</td>\n",
       "      <td>0.210082</td>\n",
       "    </tr>\n",
       "    <tr>\n",
       "      <th>1</th>\n",
       "      <td>Good</td>\n",
       "      <td>2.368824</td>\n",
       "      <td>1.326447</td>\n",
       "      <td>1.599444</td>\n",
       "      <td>0.272997</td>\n",
       "      <td>0.035378</td>\n",
       "      <td>19.932998</td>\n",
       "      <td>68.761479</td>\n",
       "      <td>0.113919</td>\n",
       "      <td>0.058509</td>\n",
       "      <td>...</td>\n",
       "      <td>0.117875</td>\n",
       "      <td>0.406627</td>\n",
       "      <td>0.305692</td>\n",
       "      <td>0.159653</td>\n",
       "      <td>0.193317</td>\n",
       "      <td>0.061736</td>\n",
       "      <td>1.248600</td>\n",
       "      <td>0.206529</td>\n",
       "      <td>0.351693</td>\n",
       "      <td>0.105346</td>\n",
       "    </tr>\n",
       "    <tr>\n",
       "      <th>2</th>\n",
       "      <td>Good</td>\n",
       "      <td>1.409939</td>\n",
       "      <td>0.950935</td>\n",
       "      <td>0.278358</td>\n",
       "      <td>1.229293</td>\n",
       "      <td>2.221074</td>\n",
       "      <td>22.277770</td>\n",
       "      <td>38.323430</td>\n",
       "      <td>0.067231</td>\n",
       "      <td>0.038613</td>\n",
       "      <td>...</td>\n",
       "      <td>0.120132</td>\n",
       "      <td>0.206658</td>\n",
       "      <td>0.109386</td>\n",
       "      <td>0.024217</td>\n",
       "      <td>0.280625</td>\n",
       "      <td>0.012974</td>\n",
       "      <td>0.545858</td>\n",
       "      <td>0.075520</td>\n",
       "      <td>0.304185</td>\n",
       "      <td>0.049345</td>\n",
       "    </tr>\n",
       "    <tr>\n",
       "      <th>3</th>\n",
       "      <td>Good</td>\n",
       "      <td>2.059918</td>\n",
       "      <td>0.720926</td>\n",
       "      <td>1.786307</td>\n",
       "      <td>1.065381</td>\n",
       "      <td>1.995007</td>\n",
       "      <td>25.163410</td>\n",
       "      <td>31.631070</td>\n",
       "      <td>0.100705</td>\n",
       "      <td>0.032141</td>\n",
       "      <td>...</td>\n",
       "      <td>0.156030</td>\n",
       "      <td>0.196133</td>\n",
       "      <td>0.038581</td>\n",
       "      <td>0.032267</td>\n",
       "      <td>0.026153</td>\n",
       "      <td>0.010779</td>\n",
       "      <td>0.334111</td>\n",
       "      <td>0.105626</td>\n",
       "      <td>0.137693</td>\n",
       "      <td>0.031455</td>\n",
       "    </tr>\n",
       "    <tr>\n",
       "      <th>4</th>\n",
       "      <td>Good</td>\n",
       "      <td>2.452595</td>\n",
       "      <td>0.798596</td>\n",
       "      <td>1.868745</td>\n",
       "      <td>1.070148</td>\n",
       "      <td>1.218189</td>\n",
       "      <td>0.395585</td>\n",
       "      <td>31.426783</td>\n",
       "      <td>0.117249</td>\n",
       "      <td>0.035235</td>\n",
       "      <td>...</td>\n",
       "      <td>0.002820</td>\n",
       "      <td>0.224062</td>\n",
       "      <td>0.021259</td>\n",
       "      <td>0.027071</td>\n",
       "      <td>0.029206</td>\n",
       "      <td>0.006495</td>\n",
       "      <td>0.165401</td>\n",
       "      <td>0.081549</td>\n",
       "      <td>0.091768</td>\n",
       "      <td>0.030546</td>\n",
       "    </tr>\n",
       "  </tbody>\n",
       "</table>\n",
       "<p>5 rows × 23 columns</p>\n",
       "</div>"
      ],
      "text/plain": [
       "  Subjective Evaluation  BRA Value  LBC Value  UNR Value  BCE Value  \\\n",
       "0                  Good   1.149009   0.830915   0.107618   0.938534   \n",
       "1                  Good   2.368824   1.326447   1.599444   0.272997   \n",
       "2                  Good   1.409939   0.950935   0.278358   1.229293   \n",
       "3                  Good   2.059918   0.720926   1.786307   1.065381   \n",
       "4                  Good   2.452595   0.798596   1.868745   1.070148   \n",
       "\n",
       "   BCD Value  BAD Value  BOD Value  pBRA Value  pLBC Value  ...  pBAD Value  \\\n",
       "0   1.934477   4.885198  17.296370    0.049401    0.033356  ...    0.029188   \n",
       "1   0.035378  19.932998  68.761479    0.113919    0.058509  ...    0.117875   \n",
       "2   2.221074  22.277770  38.323430    0.067231    0.038613  ...    0.120132   \n",
       "3   1.995007  25.163410  31.631070    0.100705    0.032141  ...    0.156030   \n",
       "4   1.218189   0.395585  31.426783    0.117249    0.035235  ...    0.002820   \n",
       "\n",
       "   pBOD Value  cX2L Value  cX2a Value  cX2b Value  cX2Lab Value  cEMDL Value  \\\n",
       "0    0.103340    0.097502    0.009506    0.217169      0.100670     1.503086   \n",
       "1    0.406627    0.305692    0.159653    0.193317      0.061736     1.248600   \n",
       "2    0.206658    0.109386    0.024217    0.280625      0.012974     0.545858   \n",
       "3    0.196133    0.038581    0.032267    0.026153      0.010779     0.334111   \n",
       "4    0.224062    0.021259    0.027071    0.029206      0.006495     0.165401   \n",
       "\n",
       "   cEMDa Value  cEMDb Value  cEMDLab Value  \n",
       "0     0.030362     0.291363       0.210082  \n",
       "1     0.206529     0.351693       0.105346  \n",
       "2     0.075520     0.304185       0.049345  \n",
       "3     0.105626     0.137693       0.031455  \n",
       "4     0.081549     0.091768       0.030546  \n",
       "\n",
       "[5 rows x 23 columns]"
      ]
     },
     "execution_count": 5,
     "metadata": {},
     "output_type": "execute_result"
    }
   ],
   "source": [
    "aesthetic_evaluation_data = pd.read_csv('datasets/aesthetic_evaluation_data.csv')\n",
    "aesthetic_evaluation_objective = aesthetic_evaluation_data['Objective Evaluation']\n",
    "aesthetic_evaluation_data = aesthetic_evaluation_data.drop(columns=['Image Filename','Author','Objective Evaluation', 'sX2L Value','sX2a Value','sX2b Value','sX2Lab Value','sEMDL Value','sEMDa Value','sEMDb Value','sEMDLab Value'])\n",
    "aesthetic_evaluation_X = aesthetic_evaluation_data.drop(columns='Subjective Evaluation')\n",
    "aesthetic_evaluation_y = aesthetic_evaluation_data['Subjective Evaluation']\n",
    "\n",
    "aesthetic_evaluation_data.head()"
   ]
  },
  {
   "cell_type": "code",
   "execution_count": 8,
   "id": "24b67fb1",
   "metadata": {},
   "outputs": [
    {
     "name": "stdout",
     "output_type": "stream",
     "text": [
      "Number of observations: 1358\n",
      "Number of features: 23\n"
     ]
    }
   ],
   "source": [
    "# number of observations\n",
    "print(f\"Number of observations: {len(aesthetic_evaluation_data)}\")\n",
    "\n",
    "# number of features\n",
    "print(f\"Number of features: {len(aesthetic_evaluation_data.columns)}\")"
   ]
  },
  {
   "cell_type": "code",
   "execution_count": 10,
   "id": "69717b50",
   "metadata": {},
   "outputs": [
    {
     "data": {
      "text/plain": [
       "Subjective Evaluation\n",
       "Good         595\n",
       "Fair         353\n",
       "Excellent    308\n",
       "Poor         102\n",
       "Name: count, dtype: int64"
      ]
     },
     "execution_count": 10,
     "metadata": {},
     "output_type": "execute_result"
    }
   ],
   "source": [
    "aesthetic_evaluation_y.value_counts()"
   ]
  },
  {
   "cell_type": "code",
   "execution_count": 11,
   "id": "d3929044",
   "metadata": {},
   "outputs": [
    {
     "data": {
      "text/plain": [
       "Subjective Evaluation\n",
       "Good         0.438144\n",
       "Fair         0.259941\n",
       "Excellent    0.226804\n",
       "Poor         0.075110\n",
       "Name: proportion, dtype: float64"
      ]
     },
     "execution_count": 11,
     "metadata": {},
     "output_type": "execute_result"
    }
   ],
   "source": [
    "# show proportion of each class\n",
    "aesthetic_evaluation_y.value_counts(normalize=True)"
   ]
  },
  {
   "cell_type": "code",
   "execution_count": 7,
   "id": "bcaded3d",
   "metadata": {},
   "outputs": [
    {
     "data": {
      "text/plain": [
       "Text(0.5, 1.0, 'Distribution of Subjective Evaluation')"
      ]
     },
     "execution_count": 7,
     "metadata": {},
     "output_type": "execute_result"
    },
    {
     "data": {
      "image/png": "[encoded data removed]",
      "text/plain": [
       "<Figure size 640x480 with 1 Axes>"
      ]
     },
     "metadata": {},
     "output_type": "display_data"
    }
   ],
   "source": [
    "aesthetic_evaluation_y.hist()\n",
    "plt.xlabel('Subjective Evaluation')\n",
    "plt.ylabel('Frequency')\n",
    "plt.title('Distribution of Subjective Evaluation')"
   ]
  },
  {
   "cell_type": "code",
   "execution_count": null,
   "id": "22d52174",
   "metadata": {},
   "outputs": [],
   "source": [
    "# accuracy of 'objective evaluation' relative to target\n",
    "acc = accuracy_score(aesthetic_evaluation_y, aesthetic_evaluation_objective)\n",
    "print(f'Accuracy of objective evaluation: {acc}')"
   ]
  },
  {
   "cell_type": "code",
   "execution_count": null,
   "id": "d2d89ca7",
   "metadata": {},
   "outputs": [],
   "source": [
    "# get categorical columns\n",
    "categorical_columns = aesthetic_evaluation_X.select_dtypes(include=['object']).columns.tolist()\n",
    "print(f'Categorical columns: {categorical_columns}')\n",
    "\n",
    "# encode categorical columns\n",
    "for col in categorical_columns:\n",
    "    aesthetic_evaluation_X[col] = aesthetic_evaluation_X[col].astype('category').cat.codes.astype('int')\n",
    "    print(f\"Column {col} encoded as: {aesthetic_evaluation_X[col].unique()}\")\n",
    "\n",
    "# do a mapping for the ordinal target variable\n",
    "mapping = {0: 'Poor', 1: 'Fair', 2: 'Good', 3: 'Excellent'}"
   ]
  },
  {
   "cell_type": "code",
   "execution_count": null,
   "id": "cbd35a8d",
   "metadata": {},
   "outputs": [],
   "source": [
    "start_time = time.time()\n",
    "\n",
    "scorecard = Scorecard()\n",
    "alpha = 0.6\n",
    "C = 1 / alpha\n",
    "caim_1ook_ml_model, caim_1ook_ml_weights = scorecard.fit(aesthetic_evaluation_X, aesthetic_evaluation_y, categorical_columns,\n",
    "                thresholds_method='CAIM',\n",
    "                encoding_method='DIFF_CODING', \n",
    "                model_method='ML',\n",
    "                use_sbc=True,\n",
    "                mapping=mapping,\n",
    "                num_nonzero_weights=None,\n",
    "                show_prints=True,\n",
    "                params={'C': C, 'class_weight': None})\n",
    "\n",
    "mse, caim_accuracy = scorecard.evaluate()\n",
    "\n",
    "end_time = time.time()\n",
    "print(f\"Execution time: {end_time - start_time} seconds\")"
   ]
  },
  {
   "cell_type": "code",
   "execution_count": null,
   "id": "7688320a",
   "metadata": {},
   "outputs": [],
   "source": [
    "start_time = time.time()\n",
    "\n",
    "scorecard = Scorecard()\n",
    "caim_1ook_ml_model, caim_1ook_ml_weights = scorecard.fit(aesthetic_evaluation_X, aesthetic_evaluation_y, categorical_columns,\n",
    "                thresholds_method='CAIM',\n",
    "                encoding_method='DIFF_CODING', \n",
    "                model_method='MM',\n",
    "                use_sbc=True,\n",
    "                mapping=mapping,\n",
    "                num_nonzero_weights=None,\n",
    "                show_prints=True,\n",
    "                params={'C': 16,'class_weight': None})\n",
    "\n",
    "mse, caim_accuracy = scorecard.evaluate()\n",
    "\n",
    "end_time = time.time()\n",
    "print(f\"Execution time: {end_time - start_time} seconds\")"
   ]
  },
  {
   "cell_type": "code",
   "execution_count": null,
   "id": "1f9ec339",
   "metadata": {},
   "outputs": [],
   "source": [
    "start_time = time.time()\n",
    "\n",
    "scorecard = Scorecard()\n",
    "caim_1ook_ml_model, caim_1ook_ml_weights = scorecard.fit(aesthetic_evaluation_X, aesthetic_evaluation_y, categorical_columns,\n",
    "                thresholds_method='CAIM',\n",
    "                encoding_method='DIFF_CODING', \n",
    "                model_method='BEYOND_L1',\n",
    "                use_sbc=True,\n",
    "                mapping=mapping)\n",
    "\n",
    "mse, caim_accuracy = scorecard.evaluate()\n",
    "\n",
    "end_time = time.time()\n",
    "print(f\"Execution time: {end_time - start_time} seconds\")"
   ]
  },
  {
   "cell_type": "code",
   "execution_count": null,
   "id": "a847599a",
   "metadata": {},
   "outputs": [],
   "source": [
    "start_time = time.time()\n",
    "\n",
    "scorecard = Scorecard()\n",
    "caim_1ook_ml_model, caim_1ook_ml_weights = scorecard.fit(aesthetic_evaluation_X, aesthetic_evaluation_y, categorical_columns,\n",
    "                thresholds_method='CAIM',\n",
    "                encoding_method='DIFF_CODING', \n",
    "                model_method='ADAPTIVE_LASSO',\n",
    "                use_sbc=True,\n",
    "                mapping=mapping,\n",
    "                num_nonzero_weights=None,\n",
    "                show_prints=True,\n",
    "                params= {'alpha': 0.003593813663804626})\n",
    "\n",
    "mse, caim_accuracy = scorecard.evaluate()\n",
    "\n",
    "end_time = time.time()\n",
    "print(f\"Execution time: {end_time - start_time} seconds\")"
   ]
  },
  {
   "cell_type": "code",
   "execution_count": null,
   "id": "45c6eca9",
   "metadata": {},
   "outputs": [],
   "source": [
    "start_time = time.time()\n",
    "\n",
    "scorecard = Scorecard()\n",
    "alpha = 0.6\n",
    "C = 1 / alpha\n",
    "scorecard.fit(aesthetic_evaluation_X, aesthetic_evaluation_y, categorical_columns,\n",
    "                thresholds_method='INF_BINS',\n",
    "                encoding_method='DIFF_CODING', \n",
    "                model_method='ML',\n",
    "                use_sbc=True,\n",
    "                mapping=mapping,\n",
    "                num_nonzero_weights=None,\n",
    "                show_prints=True,\n",
    "                params={'C': C, 'class_weight': None})\n",
    "\n",
    "_, infbins_accuracy = scorecard.evaluate()\n",
    "\n",
    "end_time = time.time()\n",
    "print(f\"Execution time: {end_time - start_time} seconds\")"
   ]
  },
  {
   "cell_type": "code",
   "execution_count": null,
   "id": "0fc16848",
   "metadata": {},
   "outputs": [],
   "source": [
    "start_time = time.time()\n",
    "scorecard = Scorecard()\n",
    "scorecard.fit(aesthetic_evaluation_X, aesthetic_evaluation_y, categorical_columns,\n",
    "                thresholds_method='INF_BINS',\n",
    "                encoding_method='DIFF_CODING', \n",
    "                model_method='MM',\n",
    "                use_sbc=True,\n",
    "                mapping=mapping,\n",
    "                num_nonzero_weights=None,\n",
    "                show_prints=True,\n",
    "                params={'C': 16,'class_weight': None})\n",
    "\n",
    "_, infbins_accuracy = scorecard.evaluate()\n",
    "end_time = time.time()\n",
    "print(f\"Execution time: {end_time - start_time} seconds\")"
   ]
  },
  {
   "cell_type": "code",
   "execution_count": null,
   "id": "5018c1c2",
   "metadata": {},
   "outputs": [],
   "source": [
    "start_time = time.time()\n",
    "scorecard = Scorecard()\n",
    "scorecard.fit(aesthetic_evaluation_X, aesthetic_evaluation_y, categorical_columns,\n",
    "                thresholds_method='INF_BINS',\n",
    "                encoding_method='DIFF_CODING', \n",
    "                model_method='BEYOND_L1',\n",
    "                use_sbc=True,\n",
    "                mapping=mapping)\n",
    "\n",
    "_, infbins_accuracy = scorecard.evaluate()\n",
    "end_time = time.time()\n",
    "print(f\"Execution time: {end_time - start_time} seconds\")"
   ]
  },
  {
   "cell_type": "code",
   "execution_count": null,
   "id": "27372e6f",
   "metadata": {},
   "outputs": [],
   "source": [
    "start_time = time.time()\n",
    "scorecard = Scorecard()\n",
    "scorecard.fit(aesthetic_evaluation_X, aesthetic_evaluation_y, categorical_columns,\n",
    "                thresholds_method='INF_BINS',\n",
    "                encoding_method='DIFF_CODING', \n",
    "                model_method='ADAPTIVE_LASSO',\n",
    "                use_sbc=True,\n",
    "                mapping=mapping,\n",
    "                num_nonzero_weights=None,\n",
    "                show_prints=True,\n",
    "                params={'alpha': 0.003593813663804626})\n",
    "\n",
    "_, infbins_accuracy = scorecard.evaluate()\n",
    "end_time = time.time()\n",
    "print(f\"Execution time: {end_time - start_time} seconds\")"
   ]
  },
  {
   "cell_type": "markdown",
   "id": "7827e22a",
   "metadata": {},
   "source": [
    "## wine quality dataset\n",
    "model wine quality, score between 0 and 10, based on physicochemical tests\n",
    "\n",
    "https://archive.ics.uci.edu/dataset/186/wine+quality"
   ]
  },
  {
   "cell_type": "code",
   "execution_count": 5,
   "id": "10416a65",
   "metadata": {},
   "outputs": [
    {
     "name": "stdout",
     "output_type": "stream",
     "text": [
      "Number of observations: 6497\n",
      "Number of features: 11\n",
      "Number of target classes: 7\n"
     ]
    },
    {
     "data": {
      "image/png": "[encoded data removed]",
      "text/plain": [
       "<Figure size 640x480 with 1 Axes>"
      ]
     },
     "metadata": {},
     "output_type": "display_data"
    }
   ],
   "source": [
    "# fetch dataset \n",
    "wine_quality_data = fetch_ucirepo(id=186) \n",
    "\n",
    "# data (as pandas dataframes) \n",
    "wine_quality_X = wine_quality_data.data.features \n",
    "wine_quality_y = wine_quality_data.data.targets \n",
    "  \n",
    "# metadata \n",
    "#print(wine_quality_data.metadata) \n",
    "  \n",
    "# variable information \n",
    "#print(wine_quality_data.variables) \n",
    "\n",
    "wine_quality_y = pd.Series(wine_quality_y['quality'], name='quality')\n",
    "wine_quality_y.value_counts()\n",
    "wine_quality_y.hist()\n",
    "plt.xlabel('wine quality')\n",
    "plt.ylabel('drequency')\n",
    "plt.title('distribution of wine quality')\n",
    "\n",
    "\n",
    "# num of observations\n",
    "num_observations = len(wine_quality_X)\n",
    "print(f'Number of observations: {num_observations}')\n",
    "\n",
    "# num of features\n",
    "num_features = len(wine_quality_X.columns)\n",
    "print(f'Number of features: {num_features}')\n",
    "\n",
    "# number of target classes\n",
    "num_classes = len(wine_quality_y.unique())\n",
    "print(f'Number of target classes: {num_classes}')\n"
   ]
  },
  {
   "cell_type": "code",
   "execution_count": null,
   "id": "e0078b38",
   "metadata": {},
   "outputs": [],
   "source": [
    "categorical_columns = wine_quality_X.select_dtypes(include=['object']).columns.tolist()\n",
    "print(f'Categorical columns: {categorical_columns}')\n",
    "\n",
    "# encode categorical columns\n",
    "for col in categorical_columns:\n",
    "    wine_quality_X[col] = wine_quality_X[col].astype('category').cat.codes.astype('int')\n",
    "    print(f\"Column {col} encoded as: {wine_quality_X[col].unique()}\")"
   ]
  },
  {
   "cell_type": "code",
   "execution_count": null,
   "id": "4f1990ba",
   "metadata": {},
   "outputs": [],
   "source": [
    "start_time = time.time()\n",
    "\n",
    "scorecard = Scorecard()\n",
    "car_caim_1ook_ml_model, car_caim_1ook_ml_weights = scorecard.fit(wine_quality_X, wine_quality_y, categorical_columns,\n",
    "                thresholds_method='CAIM',\n",
    "                encoding_method='DIFF_CODING', \n",
    "                model_method='ML',\n",
    "                use_sbc=True,\n",
    "                mapping=None,\n",
    "                num_nonzero_weights=None,\n",
    "                show_prints=True,\n",
    "                params={'C': 1000.0, 'class_weight': None})\n",
    "scorecard.evaluate()\n",
    "\n",
    "end_time = time.time()\n",
    "print(f\"Execution time: {end_time - start_time} seconds\")"
   ]
  },
  {
   "cell_type": "code",
   "execution_count": null,
   "id": "4f3bee54",
   "metadata": {},
   "outputs": [],
   "source": [
    "start_time = time.time()\n",
    "\n",
    "scorecard = Scorecard()\n",
    "car_caim_1ook_ml_model, car_caim_1ook_ml_weights = scorecard.fit(wine_quality_X, wine_quality_y, categorical_columns,\n",
    "                thresholds_method='CAIM',\n",
    "                encoding_method='DIFF_CODING', \n",
    "                model_method='MM',\n",
    "                use_sbc=True,\n",
    "                mapping=None,\n",
    "                num_nonzero_weights=None,\n",
    "                show_prints=True,\n",
    "                params={'C': 4, 'class_weight': None})\n",
    "scorecard.evaluate()\n",
    "\n",
    "end_time = time.time()\n",
    "print(f\"Execution time: {end_time - start_time} seconds\")"
   ]
  },
  {
   "cell_type": "code",
   "execution_count": null,
   "id": "5da69fa6",
   "metadata": {},
   "outputs": [],
   "source": [
    "start_time = time.time()\n",
    "\n",
    "scorecard = Scorecard()\n",
    "car_caim_1ook_ml_model, car_caim_1ook_ml_weights = scorecard.fit(wine_quality_X, wine_quality_y, categorical_columns,\n",
    "                thresholds_method='CAIM',\n",
    "                encoding_method='DIFF_CODING', \n",
    "                model_method='BEYOND_L1',\n",
    "                use_sbc=True)\n",
    "scorecard.evaluate()\n",
    "\n",
    "end_time = time.time()\n",
    "print(f\"Execution time: {end_time - start_time} seconds\")"
   ]
  },
  {
   "cell_type": "code",
   "execution_count": null,
   "id": "3f9dda66",
   "metadata": {},
   "outputs": [],
   "source": [
    "start_time = time.time()\n",
    "\n",
    "scorecard = Scorecard()\n",
    "car_caim_1ook_ml_model, car_caim_1ook_ml_weights = scorecard.fit(wine_quality_X, wine_quality_y, categorical_columns,\n",
    "                thresholds_method='CAIM',\n",
    "                encoding_method='DIFF_CODING', \n",
    "                model_method='ADAPTIVE_LASSO',\n",
    "                use_sbc=True,\n",
    "                mapping=None,\n",
    "                num_nonzero_weights=None,\n",
    "                show_prints=True,\n",
    "                params={'alpha': 1.2915496650148827 * 10**-7})\n",
    "scorecard.evaluate()\n",
    "\n",
    "end_time = time.time()\n",
    "print(f\"Execution time: {end_time - start_time} seconds\")"
   ]
  },
  {
   "cell_type": "code",
   "execution_count": null,
   "id": "7bea7d22",
   "metadata": {},
   "outputs": [],
   "source": [
    "start_time = time.time()\n",
    "\n",
    "scorecard = Scorecard()\n",
    "alpha = 0.9\n",
    "C = 1 / alpha\n",
    "car_caim_1ook_ml_model, car_caim_1ook_ml_weights = scorecard.fit(wine_quality_X, wine_quality_y, categorical_columns,\n",
    "                thresholds_method='INF_BINS',\n",
    "                encoding_method='DIFF_CODING',\n",
    "                model_method='ML',\n",
    "                use_sbc=True,\n",
    "                mapping=None,\n",
    "                num_nonzero_weights=None,\n",
    "                show_prints=True,\n",
    "                params={'C': C, 'class_weight': None})\n",
    "scorecard.evaluate()\n",
    "\n",
    "end_time = time.time()\n",
    "print(f\"Execution time: {end_time - start_time} seconds\")"
   ]
  },
  {
   "cell_type": "code",
   "execution_count": null,
   "id": "237874c5",
   "metadata": {},
   "outputs": [],
   "source": [
    "start_time = time.time()\n",
    "scorecard = Scorecard()\n",
    "car_caim_1ook_ml_model, car_caim_1ook_ml_weights = scorecard.fit(wine_quality_X, wine_quality_y, categorical_columns,\n",
    "                thresholds_method='INF_BINS',\n",
    "                encoding_method='DIFF_CODING', \n",
    "                model_method='MM',\n",
    "                use_sbc=True,\n",
    "                mapping=None,\n",
    "                num_nonzero_weights=None,\n",
    "                show_prints=True,\n",
    "                params={'C': 4, 'class_weight': None})\n",
    "scorecard.evaluate()\n",
    "end_time = time.time()\n",
    "print(f\"Execution time: {end_time - start_time} seconds\")"
   ]
  },
  {
   "cell_type": "code",
   "execution_count": null,
   "id": "0b84bea0",
   "metadata": {},
   "outputs": [],
   "source": [
    "start_time = time.time()\n",
    "scorecard = Scorecard()\n",
    "car_caim_1ook_ml_model, car_caim_1ook_ml_weights = scorecard.fit(wine_quality_X, wine_quality_y, categorical_columns,\n",
    "                thresholds_method='INF_BINS',\n",
    "                encoding_method='DIFF_CODING', \n",
    "                model_method='BEYOND_L1',\n",
    "                use_sbc=True)\n",
    "scorecard.evaluate()\n",
    "end_time = time.time()\n",
    "print(f\"Execution time: {end_time - start_time} seconds\")"
   ]
  },
  {
   "cell_type": "code",
   "execution_count": null,
   "id": "b23eb8aa",
   "metadata": {},
   "outputs": [],
   "source": [
    "start_time = time.time()\n",
    "scorecard = Scorecard()\n",
    "car_caim_1ook_ml_model, car_caim_1ook_ml_weights = scorecard.fit(wine_quality_X, wine_quality_y, categorical_columns,\n",
    "                thresholds_method='INF_BINS',\n",
    "                encoding_method='DIFF_CODING', \n",
    "                model_method='ADAPTIVE_LASSO',\n",
    "                use_sbc=True,\n",
    "                mapping=None,\n",
    "                num_nonzero_weights=None,\n",
    "                show_prints=True,\n",
    "                params={'alpha': 1.2915496650148827 * 10**-7})\n",
    "scorecard.evaluate()\n",
    "end_time = time.time()\n",
    "print(f\"Execution time: {end_time - start_time} seconds\")"
   ]
  },
  {
   "cell_type": "markdown",
   "id": "970a4264",
   "metadata": {},
   "source": [
    "## car evaluation dataset\n",
    "evaluate car acceptability\n",
    "\n",
    "https://archive.ics.uci.edu/dataset/19/car+evaluation"
   ]
  },
  {
   "cell_type": "code",
   "execution_count": null,
   "id": "a821f927",
   "metadata": {},
   "outputs": [],
   "source": [
    "# fetch dataset \n",
    "car_evaluation_data = fetch_ucirepo(id=19) \n",
    "  \n",
    "# data (as pandas dataframes) \n",
    "car_evaluation_X = car_evaluation_data.data.features \n",
    "car_evaluation_y = car_evaluation_data.data.targets \n",
    "  \n",
    "# metadata \n",
    "print(car_evaluation_data.metadata) \n",
    "  \n",
    "# variable information \n",
    "print(car_evaluation_data.variables) "
   ]
  },
  {
   "cell_type": "code",
   "execution_count": null,
   "id": "51c02a76",
   "metadata": {},
   "outputs": [],
   "source": [
    "car_evaluation_y = pd.Series(car_evaluation_y['class'], name='class')"
   ]
  },
  {
   "cell_type": "code",
   "execution_count": null,
   "id": "8ed9dc07",
   "metadata": {},
   "outputs": [],
   "source": [
    "car_evaluation_y.value_counts()"
   ]
  },
  {
   "cell_type": "code",
   "execution_count": null,
   "id": "2bb5d77a",
   "metadata": {},
   "outputs": [],
   "source": [
    "car_evaluation_y.hist()\n",
    "plt.xlabel('Class')\n",
    "plt.ylabel('Frequency')\n",
    "plt.title('Distribution of Class')"
   ]
  },
  {
   "cell_type": "code",
   "execution_count": null,
   "id": "2b749a54",
   "metadata": {},
   "outputs": [],
   "source": [
    "# get type of each column\n",
    "print(\"types: \", car_evaluation_X.dtypes)\n",
    "\n",
    "# show categorical columns\n",
    "print(\"\\nobject columns: \", car_evaluation_X.select_dtypes(include=['object']).columns)\n",
    "categorical_columns = car_evaluation_X.select_dtypes(include=['object']).columns\n",
    "\n",
    "# show number of unique values in each categorical column\n",
    "print(\"\\nnumber of unique values in each categorical column: \", car_evaluation_X.select_dtypes(include=['object']).nunique())\n",
    "\n",
    "# show values of all categorical columns\n",
    "print(\"\\nvalues of all categorical columns: \", car_evaluation_X.select_dtypes(include=['object']).apply(lambda x: x.unique()))"
   ]
  },
  {
   "cell_type": "code",
   "execution_count": null,
   "id": "292a1826",
   "metadata": {},
   "outputs": [],
   "source": [
    "categorical_columns = car_evaluation_X.select_dtypes(include=['object']).columns.tolist()\n",
    "print(\"categorical columns: \", categorical_columns)\n",
    "\n",
    "# encode categorical columns\n",
    "for col in categorical_columns:\n",
    "    car_evaluation_X.loc[:, col] = car_evaluation_X[col].astype('category').cat.codes.astype('int')\n",
    "    print(f\"Column {col} encoded as: {car_evaluation_X[col].unique()}\")"
   ]
  },
  {
   "cell_type": "code",
   "execution_count": null,
   "id": "50a07af4",
   "metadata": {},
   "outputs": [],
   "source": [
    "start_time = time.time()\n",
    "scorecard = Scorecard()\n",
    "car_caim_1ook_ml_model, car_caim_1ook_ml_weights = scorecard.fit(car_evaluation_X, car_evaluation_y, categorical_columns,\n",
    "                thresholds_method='CAIM',\n",
    "                encoding_method='DIFF_CODING', \n",
    "                model_method='ML',\n",
    "                use_sbc=True)\n",
    "scorecard.evaluate()\n",
    "end_time = time.time()\n",
    "print(f\"Execution time: {end_time - start_time} seconds\")"
   ]
  },
  {
   "cell_type": "code",
   "execution_count": null,
   "id": "86784caa",
   "metadata": {},
   "outputs": [],
   "source": [
    "start_time = time.time()\n",
    "scorecard = Scorecard()\n",
    "car_caim_1ook_ml_model, car_caim_1ook_ml_weights = scorecard.fit(car_evaluation_X, car_evaluation_y, categorical_columns,\n",
    "                thresholds_method='CAIM',\n",
    "                encoding_method='DIFF_CODING', \n",
    "                model_method='MM',\n",
    "                use_sbc=True)\n",
    "scorecard.evaluate()\n",
    "end_time = time.time()\n",
    "print(f\"Execution time: {end_time - start_time} seconds\")"
   ]
  },
  {
   "cell_type": "code",
   "execution_count": null,
   "id": "a8605c13",
   "metadata": {},
   "outputs": [],
   "source": [
    "start_time = time.time()\n",
    "scorecard = Scorecard()\n",
    "car_caim_1ook_ml_model, car_caim_1ook_ml_weights = scorecard.fit(car_evaluation_X, car_evaluation_y, categorical_columns,\n",
    "                thresholds_method='CAIM',\n",
    "                encoding_method='DIFF_CODING', \n",
    "                model_method='BEYOND_L1',\n",
    "                use_sbc=True)\n",
    "scorecard.evaluate()\n",
    "end_time = time.time()\n",
    "print(f\"Execution time: {end_time - start_time} seconds\")"
   ]
  },
  {
   "cell_type": "code",
   "execution_count": null,
   "id": "86f398af",
   "metadata": {},
   "outputs": [],
   "source": [
    "start_time = time.time()\n",
    "scorecard = Scorecard()\n",
    "car_caim_1ook_ml_model, car_caim_1ook_ml_weights = scorecard.fit(car_evaluation_X, car_evaluation_y, categorical_columns,\n",
    "                thresholds_method='CAIM',\n",
    "                encoding_method='DIFF_CODING', \n",
    "                model_method='ADAPTIVE_LASSO',\n",
    "                use_sbc=True)\n",
    "scorecard.evaluate()\n",
    "end_time = time.time()\n",
    "print(f\"Execution time: {end_time - start_time} seconds\")"
   ]
  },
  {
   "cell_type": "code",
   "execution_count": null,
   "id": "1abff2b2",
   "metadata": {},
   "outputs": [],
   "source": [
    "start_time = time.time()\n",
    "scorecard = Scorecard()\n",
    "car_caim_1ook_ml_model, car_caim_1ook_ml_weights = scorecard.fit(car_evaluation_X, car_evaluation_y, categorical_columns,\n",
    "                thresholds_method='INF_BINS',\n",
    "                encoding_method='DIFF_CODING', \n",
    "                model_method='ML',\n",
    "                use_sbc=True)\n",
    "scorecard.evaluate()\n",
    "end_time = time.time()\n",
    "print(f\"Execution time: {end_time - start_time} seconds\")"
   ]
  },
  {
   "cell_type": "code",
   "execution_count": null,
   "id": "bb1794f8",
   "metadata": {},
   "outputs": [],
   "source": [
    "start_time = time.time()\n",
    "scorecard = Scorecard()\n",
    "car_caim_1ook_ml_model, car_caim_1ook_ml_weights = scorecard.fit(car_evaluation_X, car_evaluation_y, categorical_columns,\n",
    "                thresholds_method='INF_BINS',\n",
    "                encoding_method='DIFF_CODING', \n",
    "                model_method='MM',\n",
    "                use_sbc=True)\n",
    "scorecard.evaluate()\n",
    "end_time = time.time()\n",
    "print(f\"Execution time: {end_time - start_time} seconds\")"
   ]
  },
  {
   "cell_type": "code",
   "execution_count": null,
   "id": "38bef1bf",
   "metadata": {},
   "outputs": [],
   "source": [
    "start_time = time.time()\n",
    "scorecard = Scorecard()\n",
    "car_caim_1ook_ml_model, car_caim_1ook_ml_weights = scorecard.fit(car_evaluation_X, car_evaluation_y, categorical_columns,\n",
    "                thresholds_method='INF_BINS',\n",
    "                encoding_method='DIFF_CODING', \n",
    "                model_method='BEYOND_L1',\n",
    "                use_sbc=True)\n",
    "scorecard.evaluate()\n",
    "end_time = time.time()\n",
    "print(f\"Execution time: {end_time - start_time} seconds\")"
   ]
  },
  {
   "cell_type": "code",
   "execution_count": null,
   "id": "05eae81c",
   "metadata": {},
   "outputs": [],
   "source": [
    "start_time = time.time()\n",
    "scorecard = Scorecard()\n",
    "car_caim_1ook_ml_model, car_caim_1ook_ml_weights = scorecard.fit(car_evaluation_X, car_evaluation_y, categorical_columns,\n",
    "                thresholds_method='INF_BINS',\n",
    "                encoding_method='DIFF_CODING', \n",
    "                model_method='ADAPTIVE_LASSO',\n",
    "                use_sbc=True)\n",
    "scorecard.evaluate()\n",
    "end_time = time.time()\n",
    "print(f\"Execution time: {end_time - start_time} seconds\")"
   ]
  },
  {
   "cell_type": "code",
   "execution_count": 7,
   "id": "b44f642b",
   "metadata": {},
   "outputs": [
    {
     "name": "stdout",
     "output_type": "stream",
     "text": [
      "Rings\n",
      "9     689\n",
      "10    634\n",
      "8     568\n",
      "11    487\n",
      "7     391\n",
      "12    267\n",
      "6     259\n",
      "13    203\n",
      "14    126\n",
      "5     115\n",
      "15    103\n",
      "16     67\n",
      "17     58\n",
      "4      57\n",
      "18     42\n",
      "19     32\n",
      "20     26\n",
      "3      15\n",
      "21     14\n",
      "23      9\n",
      "22      6\n",
      "27      2\n",
      "24      2\n",
      "1       1\n",
      "26      1\n",
      "29      1\n",
      "2       1\n",
      "25      1\n",
      "Name: count, dtype: int64\n"
     ]
    },
    {
     "data": {
      "text/plain": [
       "Text(0.5, 1.0, 'Distribution of Rings')"
      ]
     },
     "execution_count": 7,
     "metadata": {},
     "output_type": "execute_result"
    },
    {
     "data": {
      "image/png": "[encoded data removed]",
      "text/plain": [
       "<Figure size 640x480 with 1 Axes>"
      ]
     },
     "metadata": {},
     "output_type": "display_data"
    }
   ],
   "source": [
    "# fetch dataset \n",
    "abalone_data = fetch_ucirepo(id=1) \n",
    "  \n",
    "# data (as pandas dataframes) \n",
    "abalone_X = abalone_data.data.features \n",
    "abalone_y = abalone_data.data.targets \n",
    "  \n",
    "# metadata \n",
    "# print(abalone_data.metadata) \n",
    "  \n",
    "# variable information \n",
    "# print(abalone_data.variables) \n",
    "\n",
    "abalone_y  = pd.Series(abalone_y ['Rings'], name='Rings')\n",
    "print(abalone_y .value_counts())\n",
    "abalone_y.hist()\n",
    "plt.xlabel('Rings')\n",
    "plt.ylabel('Frequency')\n",
    "plt.title('Distribution of Rings')"
   ]
  },
  {
   "cell_type": "code",
   "execution_count": null,
   "id": "6b5d5d31",
   "metadata": {},
   "outputs": [],
   "source": [
    "categorical_columns = abalone_X.select_dtypes(include=['object']).columns.tolist()\n",
    "print(\"categorical columns: \", categorical_columns)\n",
    "\n",
    "# encode categorical columns\n",
    "for col in categorical_columns:\n",
    "    abalone_X.loc[:, col] = abalone_X[col].astype('category').cat.codes.astype('int')\n",
    "    print(f\"Column {col} encoded as: {abalone_X[col].unique()}\")"
   ]
  },
  {
   "cell_type": "code",
   "execution_count": null,
   "id": "3ba27110",
   "metadata": {},
   "outputs": [],
   "source": [
    "start_time = time.time()\n",
    "\n",
    "scorecard = Scorecard()\n",
    "abalone_caim_1ook_ml_model, abalone_caim_1ook_ml_weights = scorecard.fit(abalone_X, abalone_y, categorical_columns,\n",
    "                thresholds_method='CAIM',\n",
    "                encoding_method='DIFF_CODING', \n",
    "                model_method='ML',\n",
    "                use_sbc=True)\n",
    "scorecard.evaluate()\n",
    "\n",
    "end_time = time.time()\n",
    "print(f\"Execution time: {end_time - start_time} seconds\")"
   ]
  },
  {
   "cell_type": "code",
   "execution_count": null,
   "id": "90957e69",
   "metadata": {},
   "outputs": [],
   "source": [
    "num_nonzero_weights = scorecard.nonzero_weights.shape[0]\n",
    "print(f'Number of non-zero weights: {num_nonzero_weights}')"
   ]
  },
  {
   "cell_type": "code",
   "execution_count": null,
   "id": "dd30e1f9",
   "metadata": {},
   "outputs": [],
   "source": [
    "start_time = time.time()\n",
    "\n",
    "scorecard = Scorecard()\n",
    "abalone_infbins_1ook_ml_model, abalone_infbins_1ook_ml_weights = scorecard.fit(abalone_X, abalone_y, categorical_columns,\n",
    "                thresholds_method='INF_BINS',\n",
    "                encoding_method='1_OUT_OF_K', \n",
    "                model_method='ML',\n",
    "                use_sbc=True,\n",
    "                num_nonzero_weights=10)\n",
    "scorecard.evaluate()\n",
    "\n",
    "end_time = time.time()\n",
    "print(f\"Execution time: {end_time - start_time} seconds\")"
   ]
  },
  {
   "cell_type": "code",
   "execution_count": null,
   "id": "fc48fd25",
   "metadata": {},
   "outputs": [],
   "source": [
    "start_time = time.time()\n",
    "\n",
    "scorecard = Scorecard()\n",
    "abalone_caim_diffcoding_ml_model, abalone_caim_diffcoding_ml_weights = scorecard.fit(abalone_X, abalone_y,\n",
    "                thresholds_method='CAIM',\n",
    "                encoding_method='DIFF_CODING', \n",
    "                model_method='ML',\n",
    "                use_sbc=True)\n",
    "scorecard.evaluate()\n",
    "\n",
    "end_time = time.time()\n",
    "print(f\"Execution time: {end_time - start_time} seconds\")"
   ]
  },
  {
   "cell_type": "code",
   "execution_count": null,
   "id": "0821e5d0",
   "metadata": {},
   "outputs": [],
   "source": [
    "num_nonzero_weights = scorecard.nonzero_weights.shape[0]\n",
    "print(f'Number of non-zero weights: {num_nonzero_weights}')"
   ]
  },
  {
   "cell_type": "code",
   "execution_count": null,
   "id": "35eb596f",
   "metadata": {},
   "outputs": [],
   "source": [
    "start_time = time.time()\n",
    "scorecard = Scorecard()\n",
    "abalone_infbins_diffcoding_ml_model, abalone_infbins_diffcoding_ml_weights = scorecard.fit(abalone_X, abalone_y,\n",
    "                thresholds_method='INF_BINS',\n",
    "                encoding_method='DIFF_CODING', \n",
    "                model_method='ML',\n",
    "                use_sbc=True,\n",
    "                num_nonzero_weights=num_nonzero_weights)\n",
    "scorecard.evaluate()\n",
    "end_time = time.time()\n",
    "print(f\"Execution time: {end_time - start_time} seconds\")"
   ]
  },
  {
   "cell_type": "markdown",
   "id": "f1a109d8",
   "metadata": {},
   "source": [
    "## balance scale\n",
    "classify each example as having the balance scale tip to the right, tip to the left, or be balanced (from 1 to 5)\n",
    "\n",
    "https://archive.ics.uci.edu/dataset/12/balance+scale"
   ]
  },
  {
   "cell_type": "code",
   "execution_count": null,
   "id": "6cbeb9ba",
   "metadata": {},
   "outputs": [],
   "source": [
    "# fetch dataset \n",
    "balance_scale_data = fetch_ucirepo(id=12) \n",
    "  \n",
    "# data (as pandas dataframes) \n",
    "balance_scale_X = balance_scale_data.data.features \n",
    "balance_scale_y = balance_scale_data.data.targets \n",
    "  \n",
    "# metadata \n",
    "print(balance_scale_data.metadata) \n",
    "  \n",
    "# variable information \n",
    "print(balance_scale_data.variables) \n",
    "\n",
    "balance_scale_y  = pd.Series(balance_scale_y['class'], name='class')\n",
    "print(balance_scale_y.value_counts())\n",
    "balance_scale_y.hist()\n",
    "plt.xlabel('Class')\n",
    "plt.ylabel('Frequency')\n",
    "plt.title('Distribution of Class')"
   ]
  },
  {
   "cell_type": "code",
   "execution_count": null,
   "id": "65432b17",
   "metadata": {},
   "outputs": [],
   "source": [
    "categorical_columns = balance_scale_X.select_dtypes(include=['object']).columns.tolist()\n",
    "print(\"categorical columns: \", categorical_columns)\n",
    "\n",
    "# encode categorical columns\n",
    "for col in categorical_columns:\n",
    "    balance_scale_X.loc[:, col] = balance_scale_X[col].astype('category').cat.codes.astype('int')\n",
    "    print(f\"Column {col} encoded as: {balance_scale_X[col].unique()}\")"
   ]
  },
  {
   "cell_type": "code",
   "execution_count": null,
   "id": "5b2fd2ae",
   "metadata": {},
   "outputs": [],
   "source": [
    "start_time = time.time()\n",
    "\n",
    "scorecard = Scorecard()\n",
    "balance_scale_caim_1ook_ml_model, balance_scale_caim_1ook_ml_weights = scorecard.fit(balance_scale_X, balance_scale_y, categorical_columns,\n",
    "                thresholds_method='CAIM',\n",
    "                encoding_method='DIFF_CODING', \n",
    "                model_method='ML',\n",
    "                use_sbc=True)\n",
    "scorecard.evaluate()\n",
    "\n",
    "end_time = time.time()\n",
    "print(f\"Execution time: {end_time - start_time} seconds\")"
   ]
  },
  {
   "cell_type": "code",
   "execution_count": null,
   "id": "f209ae65",
   "metadata": {},
   "outputs": [],
   "source": [
    "start_time = time.time()\n",
    "\n",
    "scorecard = Scorecard()\n",
    "balance_scale_caim_1ook_ml_model, balance_scale_caim_1ook_ml_weights = scorecard.fit(balance_scale_X, balance_scale_y, categorical_columns,\n",
    "                thresholds_method='CAIM',\n",
    "                encoding_method='DIFF_CODING', \n",
    "                model_method='MM',\n",
    "                use_sbc=True)\n",
    "scorecard.evaluate()\n",
    "\n",
    "end_time = time.time()\n",
    "print(f\"Execution time: {end_time - start_time} seconds\")"
   ]
  },
  {
   "cell_type": "code",
   "execution_count": null,
   "id": "8af9be20",
   "metadata": {},
   "outputs": [],
   "source": [
    "start_time = time.time()\n",
    "\n",
    "scorecard = Scorecard()\n",
    "balance_scale_caim_1ook_ml_model, balance_scale_caim_1ook_ml_weights = scorecard.fit(balance_scale_X, balance_scale_y, categorical_columns,\n",
    "                thresholds_method='CAIM',\n",
    "                encoding_method='DIFF_CODING', \n",
    "                model_method='BEYOND_L1',\n",
    "                use_sbc=True)\n",
    "scorecard.evaluate()\n",
    "\n",
    "end_time = time.time()\n",
    "print(f\"Execution time: {end_time - start_time} seconds\")"
   ]
  },
  {
   "cell_type": "code",
   "execution_count": null,
   "id": "6d8bbc35",
   "metadata": {},
   "outputs": [],
   "source": [
    "start_time = time.time()\n",
    "\n",
    "scorecard = Scorecard()\n",
    "balance_scale_caim_1ook_ml_model, balance_scale_caim_1ook_ml_weights = scorecard.fit(balance_scale_X, balance_scale_y, categorical_columns,\n",
    "                thresholds_method='CAIM',\n",
    "                encoding_method='DIFF_CODING', \n",
    "                model_method='ADAPTIVE_LASSO',\n",
    "                use_sbc=True)\n",
    "scorecard.evaluate()\n",
    "\n",
    "end_time = time.time()\n",
    "print(f\"Execution time: {end_time - start_time} seconds\")"
   ]
  },
  {
   "cell_type": "code",
   "execution_count": null,
   "id": "2193da65",
   "metadata": {},
   "outputs": [],
   "source": [
    "start_time = time.time()\n",
    "\n",
    "scorecard = Scorecard()\n",
    "balance_scale_caim_1ook_ml_model, balance_scale_caim_1ook_ml_weights = scorecard.fit(balance_scale_X, balance_scale_y, categorical_columns,\n",
    "                thresholds_method='INF_BINS',\n",
    "                encoding_method='DIFF_CODING', \n",
    "                model_method='ML',\n",
    "                use_sbc=True)\n",
    "scorecard.evaluate()\n",
    "\n",
    "end_time = time.time()\n",
    "print(f\"Execution time: {end_time - start_time} seconds\")"
   ]
  },
  {
   "cell_type": "code",
   "execution_count": null,
   "id": "6c8c3feb",
   "metadata": {},
   "outputs": [],
   "source": [
    "start_time = time.time()\n",
    "\n",
    "scorecard = Scorecard()\n",
    "balance_scale_caim_1ook_ml_model, balance_scale_caim_1ook_ml_weights = scorecard.fit(balance_scale_X, balance_scale_y, categorical_columns,\n",
    "                thresholds_method='INF_BINS',\n",
    "                encoding_method='DIFF_CODING', \n",
    "                model_method='MM',\n",
    "                use_sbc=True)\n",
    "scorecard.evaluate()\n",
    "\n",
    "end_time = time.time()\n",
    "print(f\"Execution time: {end_time - start_time} seconds\")"
   ]
  },
  {
   "cell_type": "code",
   "execution_count": null,
   "id": "78f35ff5",
   "metadata": {},
   "outputs": [],
   "source": [
    "start_time = time.time()\n",
    "\n",
    "scorecard = Scorecard()\n",
    "balance_scale_caim_1ook_ml_model, balance_scale_caim_1ook_ml_weights = scorecard.fit(balance_scale_X, balance_scale_y, categorical_columns,\n",
    "                thresholds_method='INF_BINS',\n",
    "                encoding_method='DIFF_CODING', \n",
    "                model_method='BEYOND_L1',\n",
    "                use_sbc=True)\n",
    "scorecard.evaluate()\n",
    "\n",
    "end_time = time.time()\n",
    "print(f\"Execution time: {end_time - start_time} seconds\")"
   ]
  },
  {
   "cell_type": "code",
   "execution_count": null,
   "id": "488e4246",
   "metadata": {},
   "outputs": [],
   "source": [
    "start_time = time.time()\n",
    "\n",
    "scorecard = Scorecard()\n",
    "balance_scale_caim_1ook_ml_model, balance_scale_caim_1ook_ml_weights = scorecard.fit(balance_scale_X, balance_scale_y, categorical_columns,\n",
    "                thresholds_method='INF_BINS',\n",
    "                encoding_method='DIFF_CODING', \n",
    "                model_method='ADAPTIVE_LASSO',\n",
    "                use_sbc=True)\n",
    "scorecard.evaluate()\n",
    "\n",
    "end_time = time.time()\n",
    "print(f\"Execution time: {end_time - start_time} seconds\")"
   ]
  },
  {
   "cell_type": "markdown",
   "id": "51d7a218",
   "metadata": {},
   "source": [
    "## lenses\n",
    "\n",
    "classes:\n",
    "- 1 : the patient should be fitted with hard contact lenses,\n",
    "- 2 : the patient should be fitted with soft contact lenses,\n",
    "- 3 : the patient should not be fitted with contact lenses.\n",
    "\n",
    "\n",
    "https://archive.ics.uci.edu/dataset/58/lenses"
   ]
  },
  {
   "cell_type": "code",
   "execution_count": null,
   "id": "e545adec",
   "metadata": {},
   "outputs": [],
   "source": [
    "# fetch dataset \n",
    "lenses_data = fetch_ucirepo(id=58) \n",
    "  \n",
    "# data (as pandas dataframes) \n",
    "lenses_X = lenses_data.data.features \n",
    "lenses_y = lenses_data.data.targets\n",
    "  \n",
    "# metadata \n",
    "print(lenses_data.metadata) \n",
    "  \n",
    "# variable information \n",
    "print(lenses_data.variables) \n",
    "\n",
    "lenses_y  = pd.Series(lenses_y['class'], name='class')\n",
    "print(lenses_y.value_counts())\n",
    "lenses_y.hist()\n",
    "plt.xlabel('Class')\n",
    "plt.ylabel('Frequency')\n",
    "plt.title('Distribution of Class')"
   ]
  },
  {
   "cell_type": "code",
   "execution_count": null,
   "id": "d5b495b6",
   "metadata": {},
   "outputs": [],
   "source": [
    "categorical_columns = lenses_X.select_dtypes(include=['object']).columns.tolist()\n",
    "print(\"categorical columns: \", categorical_columns)\n",
    "\n",
    "# encode categorical columns\n",
    "for col in categorical_columns:\n",
    "    lenses_X.loc[:, col] = lenses_X[col].astype('category').cat.codes.astype('int')\n",
    "    print(f\"Column {col} encoded as: {lenses_X[col].unique()}\")"
   ]
  },
  {
   "cell_type": "code",
   "execution_count": null,
   "id": "2e293822",
   "metadata": {},
   "outputs": [],
   "source": [
    "start_time = time.time()\n",
    "\n",
    "scorecard = Scorecard()\n",
    "lenses_caim_1ook_ml_model, lenses_caim_1ook_ml_weights = scorecard.fit(lenses_X, lenses_y, categorical_columns,\n",
    "                thresholds_method='CAIM',\n",
    "                encoding_method='1_OUT_OF_K', \n",
    "                model_method='ML',\n",
    "                use_sbc=True)\n",
    "scorecard.evaluate()\n",
    "\n",
    "end_time = time.time()\n",
    "print(f\"Execution time: {end_time - start_time} seconds\")"
   ]
  },
  {
   "cell_type": "code",
   "execution_count": null,
   "id": "d538410f",
   "metadata": {},
   "outputs": [],
   "source": [
    "num_nonzero_weights = scorecard.nonzero_weights.shape[0]\n",
    "print(f'Number of non-zero weights: {num_nonzero_weights}')"
   ]
  },
  {
   "cell_type": "code",
   "execution_count": null,
   "id": "565a3dcc",
   "metadata": {},
   "outputs": [],
   "source": [
    "start_time = time.time()\n",
    "\n",
    "scorecard = Scorecard()\n",
    "lenses_infbins_1ook_ml_model, lenses_infbins_1ook_ml_weights = scorecard.fit(lenses_X, lenses_y,\n",
    "                thresholds_method='INF_BINS',\n",
    "                encoding_method='1_OUT_OF_K', \n",
    "                model_method='ML',\n",
    "                use_sbc=True,\n",
    "                num_nonzero_weights=num_nonzero_weights)\n",
    "scorecard.evaluate()\n",
    "\n",
    "end_time = time.time()\n",
    "print(f\"Execution time: {end_time - start_time} seconds\")"
   ]
  },
  {
   "cell_type": "code",
   "execution_count": null,
   "id": "5f7ed258",
   "metadata": {},
   "outputs": [],
   "source": [
    "start_time = time.time()\n",
    "\n",
    "scorecard = Scorecard()\n",
    "lenses_caim_diffcoding_ml_model, lenses_caim_diffcoding_ml_weights = scorecard.fit(lenses_X, lenses_y,\n",
    "                thresholds_method='CAIM',\n",
    "                encoding_method='DIFF_CODING', \n",
    "                model_method='ML',\n",
    "                use_sbc=True)\n",
    "scorecard.evaluate()\n",
    "\n",
    "end_time = time.time()\n",
    "print(f\"Execution time: {end_time - start_time} seconds\")"
   ]
  },
  {
   "cell_type": "code",
   "execution_count": null,
   "id": "0d1646d5",
   "metadata": {},
   "outputs": [],
   "source": [
    "num_nonzero_weights = scorecard.nonzero_weights.shape[0]\n",
    "print(f'Number of non-zero weights: {num_nonzero_weights}')"
   ]
  },
  {
   "cell_type": "code",
   "execution_count": null,
   "id": "70d16b8f",
   "metadata": {},
   "outputs": [],
   "source": [
    "start_time = time.time()\n",
    "\n",
    "scorecard = Scorecard()\n",
    "lenses_infbins_diffcoding_ml_model, lenses_infbins_diffcoding_ml_weights = scorecard.fit(lenses_X, lenses_y,\n",
    "                thresholds_method='INF_BINS',\n",
    "                encoding_method='DIFF_CODING', \n",
    "                model_method='ML',\n",
    "                use_sbc=True,\n",
    "                num_nonzero_weights=num_nonzero_weights)\n",
    "scorecard.evaluate()\n",
    "\n",
    "end_time = time.time()\n",
    "print(f\"Execution time: {end_time - start_time} seconds\")"
   ]
  },
  {
   "cell_type": "markdown",
   "id": "c7d1dae0",
   "metadata": {},
   "source": [
    "## student performance\n",
    "predict student performance in secondary education (high school)\n",
    "\n",
    "https://archive.ics.uci.edu/dataset/320/student+performance"
   ]
  },
  {
   "cell_type": "code",
   "execution_count": 4,
   "id": "4e138cd4",
   "metadata": {},
   "outputs": [
    {
     "name": "stdout",
     "output_type": "stream",
     "text": [
      "G3\n",
      "medium       355\n",
      "good         177\n",
      "low          100\n",
      "very good     17\n",
      "Name: count, dtype: int64\n",
      "Number of observations: 649\n",
      "Number of features: 30\n",
      "Number of target classes: 4\n"
     ]
    },
    {
     "data": {
      "image/png": "[encoded data removed]",
      "text/plain": [
       "<Figure size 640x480 with 1 Axes>"
      ]
     },
     "metadata": {},
     "output_type": "display_data"
    }
   ],
   "source": [
    "# fetch dataset \n",
    "student_performance_data = fetch_ucirepo(id=320) \n",
    "  \n",
    "# data (as pandas dataframes) \n",
    "student_performance_X = student_performance_data.data.features \n",
    "student_performance_y = student_performance_data.data.targets \n",
    "# delete targets 'G1' and 'G2'\n",
    "student_performance_y = student_performance_y.drop(columns=['G1', 'G2'])\n",
    "\n",
    "# make classes\n",
    "student_performance_y = student_performance_y['G3'].apply(\n",
    "    lambda x: 'low' if x < 10 else ('medium' if x < 14 else ('good' if x < 18 else 'very good'))\n",
    ")\n",
    "\n",
    "# metadata \n",
    "# print(student_performance_data.metadata) \n",
    "  \n",
    "# variable information \n",
    "# print(student_performance_data.variables) \n",
    "\n",
    "student_performance_y = pd.Series(student_performance_y)\n",
    "print(student_performance_y.value_counts())\n",
    "student_performance_y.hist()\n",
    "plt.xlabel('Class')\n",
    "plt.ylabel('Frequency')\n",
    "plt.title('Distribution of Class')\n",
    "\n",
    "\n",
    "# num of observations\n",
    "num_observations = len(student_performance_X)\n",
    "print(f'Number of observations: {num_observations}')\n",
    "\n",
    "# num of features\n",
    "num_features = len(student_performance_X.columns)\n",
    "print(f'Number of features: {num_features}')\n",
    "\n",
    "# number of target classes\n",
    "num_classes = len(student_performance_y.unique())\n",
    "print(f'Number of target classes: {num_classes}')"
   ]
  },
  {
   "cell_type": "code",
   "execution_count": null,
   "id": "4c907093",
   "metadata": {},
   "outputs": [],
   "source": [
    "categorical_columns = student_performance_X.select_dtypes(include=['object']).columns.tolist()\n",
    "print(\"categorical columns: \", categorical_columns)\n",
    "\n",
    "# encode categorical columns\n",
    "for col in categorical_columns:\n",
    "    student_performance_X.loc[:, col] = student_performance_X[col].astype('category').cat.codes.astype('int')\n",
    "    print(f\"Column {col} encoded as: {student_performance_X[col].unique()}\")\n",
    "    \n",
    "mapping = {'low': 0, 'medium': 1, 'good': 2, 'very good': 3}"
   ]
  },
  {
   "cell_type": "code",
   "execution_count": null,
   "id": "f73d9629",
   "metadata": {},
   "outputs": [],
   "source": [
    "start_time = time.time()\n",
    "\n",
    "scorecard = Scorecard()\n",
    "student_performance_caim_1ook_ml_model, student_performance_caim_1ook_ml_weights = scorecard.fit(\n",
    "                student_performance_X, student_performance_y, categorical_columns, \n",
    "                thresholds_method='CAIM',\n",
    "                encoding_method='1_OUT_OF_K', \n",
    "                model_method='ML',\n",
    "                use_sbc=True,\n",
    "                mapping=mapping)\n",
    "scorecard.evaluate()\n",
    "\n",
    "end_time = time.time()\n",
    "print(f\"Execution time: {end_time - start_time} seconds\")"
   ]
  },
  {
   "cell_type": "code",
   "execution_count": null,
   "id": "5af85e16",
   "metadata": {},
   "outputs": [],
   "source": [
    "num_nonzero_weights = scorecard.nonzero_weights.shape[0]\n",
    "print(f'Number of non-zero weights: {num_nonzero_weights}')"
   ]
  },
  {
   "cell_type": "code",
   "execution_count": null,
   "id": "f47f4bad",
   "metadata": {},
   "outputs": [],
   "source": [
    "start_time = time.time()\n",
    "\n",
    "scorecard = Scorecard()\n",
    "student_performance_infbins_1ook_ml_model, student_performance_infbins_1ook_ml_weights = scorecard.fit(student_performance_X, student_performance_y, categorical_columns,   \n",
    "                thresholds_method='INF_BINS',\n",
    "                encoding_method='1_OUT_OF_K', \n",
    "                model_method='ML',\n",
    "                use_sbc=True,\n",
    "                num_nonzero_weights=num_nonzero_weights)\n",
    "scorecard.evaluate()\n",
    "\n",
    "end_time = time.time()\n",
    "print(f\"Execution time: {end_time - start_time} seconds\")"
   ]
  },
  {
   "cell_type": "code",
   "execution_count": null,
   "id": "031ec90d",
   "metadata": {},
   "outputs": [],
   "source": [
    "start_time = time.time()\n",
    "\n",
    "scorecard = Scorecard()\n",
    "student_performance_caim_diffcoding_ml_model, student_performance_caim_diffcoding_ml_weights = scorecard.fit(student_performance_X, student_performance_y, categorical_columns,\n",
    "                thresholds_method='CAIM',\n",
    "                encoding_method='DIFF_CODING', \n",
    "                model_method='ML',\n",
    "                use_sbc=True)\n",
    "scorecard.evaluate()\n",
    "\n",
    "end_time = time.time()\n",
    "print(f\"Execution time: {end_time - start_time} seconds\")"
   ]
  },
  {
   "cell_type": "code",
   "execution_count": null,
   "id": "90014703",
   "metadata": {},
   "outputs": [],
   "source": [
    "num_nonzero_weights = scorecard.nonzero_weights.shape[0]\n",
    "print(f'Number of non-zero weights: {num_nonzero_weights}')"
   ]
  },
  {
   "cell_type": "code",
   "execution_count": null,
   "id": "e810b983",
   "metadata": {},
   "outputs": [],
   "source": [
    "start_time = time.time()\n",
    "\n",
    "scorecard = Scorecard()\n",
    "student_performance_infbins_diffcoding_ml_model, student_performance_infbins_diffcoding_ml_weights = scorecard.fit(student_performance_X, student_performance_y, categorical_columns,   \n",
    "                thresholds_method='INF_BINS',\n",
    "                encoding_method='DIFF_CODING', \n",
    "                model_method='ML',\n",
    "                use_sbc=True,\n",
    "                num_nonzero_weights=num_nonzero_weights)\n",
    "scorecard.evaluate()\n",
    "\n",
    "end_time = time.time()\n",
    "print(f\"Execution time: {end_time - start_time} seconds\")"
   ]
  }
 ],
 "metadata": {
  "kernelspec": {
   "display_name": "Python 3",
   "language": "python",
   "name": "python3"
  },
  "language_info": {
   "codemirror_mode": {
    "name": "ipython",
    "version": 3
   },
   "file_extension": ".py",
   "mimetype": "text/x-python",
   "name": "python",
   "nbconvert_exporter": "python",
   "pygments_lexer": "ipython3",
   "version": "3.11.12"
  }
 },
 "nbformat": 4,
 "nbformat_minor": 5
}
