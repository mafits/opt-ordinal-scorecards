{
 "cells": [
  {
   "cell_type": "markdown",
   "metadata": {},
   "source": [
    "## SBC (single binary classifier) reduction and classification"
   ]
  },
  {
   "cell_type": "code",
   "execution_count": 3,
   "metadata": {},
   "outputs": [],
   "source": [
    "import numpy as np\n",
    "import pandas as pd\n",
    "\n",
    "X = np.array([[1, 2], [3, 4], [5, 6], [7, 8]])\n",
    "X = pd.DataFrame(X)\n",
    "y = np.array([0, 1, 2, 3])\n",
    "y = pd.DataFrame(y)"
   ]
  },
  {
   "cell_type": "markdown",
   "metadata": {},
   "source": [
    "- for K classes\n",
    "- find K-1 parallel hyperplanes.\n",
    "- s is the number of classes to the left / right of the hyperplane.\n",
    "- for s = K-1,\n",
    "- an hyperplane separates 2 sets of classes.\n",
    "- each hyperplane is a binary classification problem, with the additional constraint of parallelism.\n",
    "- all these problems have to be solved simultaneously in an augmented feature space\n",
    "    - for x in R^d, the augmented feature space is R^(d+1)\n",
    "- for each x create (K-1) new points: (x, 0)(x,h1)...(x,hK-2), where h is a positive constant\n",
    "- define a binary training set\n",
    "    - (x1,0) belongs to C1, (x2,0)...(xK,0) belong to C2\n",
    "    - (x1,h1) (x2,h1) belongs to C1, (x3,h1)...(xK, h1) belong to C2\n",
    "    - ...\n",
    "    - (x1,hK-2)...(xK-1,hK-2) belong to C1, (xK,hK-2) belongs to C2"
   ]
  },
  {
   "cell_type": "code",
   "execution_count": 4,
   "metadata": {},
   "outputs": [
    {
     "name": "stdout",
     "output_type": "stream",
     "text": [
      "    0  1  2  0\n",
      "0   1  2  0  1\n",
      "1   1  2  1  1\n",
      "2   1  2  2  1\n",
      "3   3  4  0  0\n",
      "4   3  4  1  1\n",
      "5   3  4  2  1\n",
      "6   5  6  0  0\n",
      "7   5  6  1  0\n",
      "8   5  6  2  1\n",
      "9   7  8  0  0\n",
      "10  7  8  1  0\n",
      "11  7  8  2  0\n"
     ]
    }
   ],
   "source": [
    "def sbc_reduction(X, y, h=1):\n",
    "    # num of classes\n",
    "    K = len(np.unique(y))\n",
    "    \n",
    "    # num of parallel hyperplanes to be created (and replicas)\n",
    "    s = K-1\n",
    "    \n",
    "    # for each point, create s replicas each with a new feature in [0, h, h*2, ... h*(s-1)]\n",
    "    # the new label is a binary label\n",
    "    new_X = []\n",
    "    new_y = []\n",
    "    for i in range(X.shape[0]): # for each point\n",
    "        for j in range(s): # for each replica\n",
    "            new_X.append(np.append(X.iloc[i].values, h*j))\n",
    "            new_label = y.iloc[i] <= j\n",
    "            new_y.append(new_label.astype(int))\n",
    "    \n",
    "    new_X = pd.DataFrame(new_X).reset_index(drop=True)\n",
    "    new_y = pd.DataFrame(new_y).reset_index(drop=True)\n",
    "    new_data = pd.concat([new_X, new_y], axis=1)\n",
    "    \n",
    "    return new_X, new_y, new_data\n",
    "\n",
    "\n",
    "new_X, new_y, new_data = sbc_reduction(X, y)\n",
    "print(new_data)"
   ]
  },
  {
   "cell_type": "markdown",
   "metadata": {},
   "source": [
    "apply a linear two class classifier"
   ]
  },
  {
   "cell_type": "code",
   "execution_count": 5,
   "metadata": {},
   "outputs": [
    {
     "name": "stdout",
     "output_type": "stream",
     "text": [
      "[0 1 1 0 0 1 0 0 1 0 0 0]\n"
     ]
    }
   ],
   "source": [
    "from sklearn.linear_model import LogisticRegression\n",
    "\n",
    "logistic = LogisticRegression()\n",
    "logistic.solver = 'liblinear'\n",
    "logistic.penalty = 'l1'\n",
    "logistic.fit(new_X, new_y.values.ravel())  # convert y to 1d array\n",
    "pred_sbc_y = logistic.predict(new_X)\n",
    "print(pred_sbc_y)"
   ]
  },
  {
   "cell_type": "markdown",
   "metadata": {},
   "source": [
    "to classify an example\n",
    "- classify all its replicas\n",
    "- get a sequence of K-1 labels\n",
    "- from this sequence, infer the class of the original example following the rule:\n",
    "    (for K=3)\n",
    "    - if both are C1, then the class is C1\n",
    "    - if one is C1 and the other is C2, then the class is C2\n",
    "    - if both are C2, then the class is C3"
   ]
  },
  {
   "cell_type": "code",
   "execution_count": 6,
   "metadata": {},
   "outputs": [
    {
     "name": "stdout",
     "output_type": "stream",
     "text": [
      "[[0 1 1]\n",
      " [0 0 1]\n",
      " [0 0 1]\n",
      " [0 0 0]]\n",
      "[1 2 2 0]\n"
     ]
    }
   ],
   "source": [
    "def sbc_classif(og_X, og_y, sbc_X, pred_sbc_y):\n",
    "    K = len(np.unique(og_y)) # num of classes\n",
    "    s = K-1 # num of hyperplanes / replicas\n",
    "    \n",
    "    # get classification of all replicas of each point\n",
    "    all_labels = [pred_sbc_y[i:i + s] for i in range(0, len(pred_sbc_y), s)]\n",
    "    all_labels = np.array(all_labels)\n",
    "    print(all_labels)\n",
    "    \n",
    "    # get the class of the point\n",
    "    # if all replicas are 0, then the class is 0\n",
    "    # if one is 1 and the rest are 0, then the class is 1\n",
    "    # if two are 1 and the rest are 0, then the class is 2\n",
    "    # ...\n",
    "    # if all replicas are 1, then the class is K\n",
    "    final_labels = np.argmax(all_labels, axis=1)    \n",
    "    \n",
    "    return final_labels\n",
    "\n",
    "\n",
    "final_labels = sbc_classif(X, y, new_X, pred_sbc_y)\n",
    "print(final_labels)"
   ]
  }
 ],
 "metadata": {
  "kernelspec": {
   "display_name": "Python 3",
   "language": "python",
   "name": "python3"
  },
  "language_info": {
   "codemirror_mode": {
    "name": "ipython",
    "version": 3
   },
   "file_extension": ".py",
   "mimetype": "text/x-python",
   "name": "python",
   "nbconvert_exporter": "python",
   "pygments_lexer": "ipython3",
   "version": "3.11.6"
  }
 },
 "nbformat": 4,
 "nbformat_minor": 2
}
