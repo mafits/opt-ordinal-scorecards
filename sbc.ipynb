{
 "cells": [
  {
   "cell_type": "markdown",
   "metadata": {},
   "source": [
    "## SBC (single binary classifier) reduction and classification"
   ]
  },
  {
   "cell_type": "code",
   "execution_count": null,
   "metadata": {},
   "outputs": [],
   "source": [
    "import numpy as np\n",
    "import pandas as pd\n",
    "\n",
    "X = np.array([[1, 2], [3, 4], [5, 6], [7, 8]])\n",
    "X = pd.DataFrame(X)\n",
    "y = np.array([0, 1, 2, 3])\n",
    "y = pd.Series(y)"
   ]
  },
  {
   "cell_type": "markdown",
   "metadata": {},
   "source": [
    "- for $K$ classes\n",
    "- find $K-1$ parallel hyperplanes.\n",
    "- $s$ is the number of classes to the left / right of the hyperplane.\n",
    "- for $s = K-1$,\n",
    "- an hyperplane separates 2 sets of classes.\n",
    "- each hyperplane is a binary classification problem, with the additional constraint of parallelism.\n",
    "- all these problems have to be solved simultaneously in an augmented feature space\n",
    "    - for $x$ in $R^{d}$, the augmented feature space is $R^{d+1}$\n",
    "- for each $x$ create $(K-1)$ new points: $(x, 0)(x,h_{1})...(x,h_{K-2})$, where $h$ is a positive constant\n",
    "- define a binary training set\n",
    "    - $(x_1,0)$ belongs to $C_1$, $(x_2,0)..(x_K,0)$ belong to $C_2$\n",
    "    - $(x_1,h_1)$ and $(x_2,h_1)$ belongs to $C_1$, $(x_3,h_1)..(x_K, h_1)$ belong to $C_2$\n",
    "    - ...\n",
    "    - $(x_1,h_{K-2})..(x_{K-1},h_{K-2})$ belong to $C_1$, $(x_K,h_{K-2})$ belongs to $C_{K-1}$"
   ]
  },
  {
   "cell_type": "code",
   "execution_count": null,
   "metadata": {},
   "outputs": [],
   "source": [
    "def sbc_reduction(X, y, h=1):\n",
    "    # num of classes\n",
    "    K = len(np.unique(y))\n",
    "    \n",
    "    print(\"original num classes: \", K)\n",
    "    print(\"original num observations: \", X.shape[0])\n",
    "    \n",
    "    # num of parallel hyperplanes to be created (and replicas)\n",
    "    s = K-1\n",
    "    \n",
    "    # if class labels not integer, convert to integer\n",
    "    if not np.issubdtype(y.dtype, np.integer):\n",
    "        new_y = pd.Series(pd.factorize(y)[0])\n",
    "        # show the mapping\n",
    "        mapping = pd.Series(pd.factorize(y)[1], index=np.unique(new_y))\n",
    "        print(\"mapping: \", mapping)\n",
    "        y = new_y\n",
    "    \n",
    "    # for each point, create s replicas each with a new feature in [0, h, h*2, ... h*(s-1)]\n",
    "    # the new label is a binary label\n",
    "    new_X = []\n",
    "    new_y = []\n",
    "    for i in range(X.shape[0]): # for each point\n",
    "        for j in range(s): # for each replica\n",
    "            new_X.append(np.append(X.iloc[i].values, h*j))\n",
    "            new_label = y.iloc[i] <= j\n",
    "            new_y.append(new_label.astype(int))\n",
    "    \n",
    "    new_X = pd.DataFrame(new_X).reset_index(drop=True)\n",
    "    new_y = pd.DataFrame(new_y).reset_index(drop=True)\n",
    "    new_data = pd.concat([new_X, new_y], axis=1)\n",
    "    # rename binary label column\n",
    "    new_data.columns = list(new_X.columns) + ['binary_label']\n",
    "    \n",
    "    print(\"new num classes: \", len(np.unique(new_y)))\n",
    "    print(\"new num observations: \", new_X.shape[0], \" (original num observations *\", s, \")\")\n",
    "    \n",
    "    return new_X, new_y, new_data\n",
    "\n",
    "\n",
    "new_X, new_y, new_data = sbc_reduction(X, y)\n",
    "print(new_data)"
   ]
  },
  {
   "cell_type": "markdown",
   "metadata": {},
   "source": [
    "apply a linear two class classifier"
   ]
  },
  {
   "cell_type": "code",
   "execution_count": null,
   "metadata": {},
   "outputs": [],
   "source": [
    "from sklearn.linear_model import LogisticRegression\n",
    "\n",
    "logistic = LogisticRegression()\n",
    "logistic.solver = 'liblinear'\n",
    "logistic.penalty = 'l1'\n",
    "logistic.fit(new_X, new_y.values.ravel())  # convert y to 1d array\n",
    "pred_sbc_y = logistic.predict(new_X)\n",
    "print(pred_sbc_y)"
   ]
  },
  {
   "cell_type": "markdown",
   "metadata": {},
   "source": [
    "to classify an example\n",
    "- classify all its replicas\n",
    "- get a sequence of $K-1$ labels\n",
    "- from this sequence, infer the class of the original example following the rule:\n",
    "    (for $K=3$)\n",
    "    - if both are $C_1$, then the class is $C_1$\n",
    "    - if one is $C_1$ and the other is $C_2$, then the class is $C_2$\n",
    "    - if both are $C_2$, then the class is $C_3$"
   ]
  },
  {
   "cell_type": "code",
   "execution_count": null,
   "metadata": {},
   "outputs": [],
   "source": [
    "def sbc_classif(og_y, pred_sbc_y):\n",
    "    K = len(np.unique(og_y)) # num of classes\n",
    "    s = K-1 # num of hyperplanes / replicas\n",
    "    \n",
    "    # get classification of all replicas of each point\n",
    "    all_labels = [pred_sbc_y[i:i + s] for i in range(0, len(pred_sbc_y), s)]\n",
    "    all_labels = np.array(all_labels)\n",
    "    print(all_labels)\n",
    "    \n",
    "    # get the class of the point\n",
    "    # if all replicas are 0, then the class is 0\n",
    "    # if one is 1 and the rest are 0, then the class is 1\n",
    "    # if two are 1 and the rest are 0, then the class is 2\n",
    "    # ...\n",
    "    # if all replicas are 1, then the class is K\n",
    "    final_labels = np.argmax(all_labels, axis=1)    \n",
    "    \n",
    "    return final_labels\n",
    "\n",
    "\n",
    "final_labels = sbc_classif(y, pred_sbc_y)\n",
    "print(final_labels)"
   ]
  }
 ],
 "metadata": {
  "kernelspec": {
   "display_name": "Python 3",
   "language": "python",
   "name": "python3"
  },
  "language_info": {
   "codemirror_mode": {
    "name": "ipython",
    "version": 3
   },
   "file_extension": ".py",
   "mimetype": "text/x-python",
   "name": "python",
   "nbconvert_exporter": "python",
   "pygments_lexer": "ipython3",
   "version": "3.11.6"
  }
 },
 "nbformat": 4,
 "nbformat_minor": 2
}
