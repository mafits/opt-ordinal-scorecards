{
 "cells": [
  {
   "cell_type": "markdown",
   "metadata": {},
   "source": [
    "## Reduced Memory Multi-Pass (RMMP) Algorithm\n",
    "*\"Algorithms for Sparse Linear Classifiers in the Massive Data Setting\"*, 2008 "
   ]
  },
  {
   "cell_type": "markdown",
   "metadata": {},
   "source": [
    "![rmmp pseudocode](<images/rmmp-pseudocode.png>)"
   ]
  },
  {
   "cell_type": "markdown",
   "metadata": {},
   "source": [
    "**modified shooting algorithm**\n",
    "\n",
    "- goal: $\\beta$ that satisfies $ \\max_\\beta (\\beta ^ T \\Psi \\beta + \\beta ^ T \\theta - \\gamma ||\\beta||_1) $\n",
    "\n",
    "- \"The vector $\\Omega$ in the algorithm is defined as $\\Omega = 2 \\Psi ' \\beta + \\theta$, where $\\Psi '$ is the matrix $\\Psi$ with its diagonal entries set to zero. This vector is related to the gradient of the differentiable part of the objective function and consequently can be used for optimality checking.\"\n",
    "\n",
    "- \"While one can think of numerous stopping criteria for the algorithm, in this paper we stop when successive iterates are sufficiently close to each other (relatively, and with respect to the L2). \n",
    "More precisely, we declare convergence whenever\n",
    "$||\\beta_i - \\beta_{i-1}||_2 / ||\\beta_{i-1}||_2$\n",
    "is less than some user specified tolerance. Note that $\\beta_i$ is the parameter vector at iteration $i$, which is obtained after cycling through and updating all $d$ components once.\n",
    "\n",
    "\n",
    "![modified shooting pseudocode](images/shooting-pseudocode.png)"
   ]
  },
  {
   "cell_type": "markdown",
   "metadata": {},
   "source": [
    "for $y_i=1$\n",
    "\n",
    "![ai for yi=1](images/ai-for-yi-1.png)\n",
    "\n",
    "![bi for yi=1](images/bi-for-yi-1.png)\n",
    "\n",
    "for $y_i=0$\n",
    "\n",
    "![ai and bi for yi=0](images/ai-bi-for-yi-0.png)\n",
    "\n",
    "$c$^ $= \\beta_{i-1}^T x_i$\n",
    "\n",
    "$\\Phi$ is the link function, either logistic or probit."
   ]
  },
  {
   "cell_type": "code",
   "execution_count": null,
   "metadata": {},
   "outputs": [],
   "source": [
    "import numpy as np\n",
    "\n",
    "# TODO\n",
    "def quad_approximation(y, parameters, d):    \n",
    "    ai = 0 # scalar representing the quadratic weight\n",
    "    bi = np.zeros(d) # vector of size d representing the linear weight\n",
    "    return ai, bi\n",
    "\n",
    "\n",
    "# TODO\n",
    "def modified_shooting(hessian_approx, linear_term_sum, parameters, tolerance):\n",
    "    new_parameters = np.zeros_like(parameters)\n",
    "    return new_parameters\n",
    "\n",
    "\n",
    "def rmmp(X, y, selection_threshold, max_iters=1000, tolerance=1e-6):\n",
    "    # number of examples and dimension\n",
    "    t, d = X.shape\n",
    "    \n",
    "    parameters = np.zeros(d) # parameters of the regression model\n",
    "    active_set = set() # components that are either non-zero and optimal or not optimal\n",
    "    counter = 1 \n",
    "    \n",
    "    while counter <= max_iters:\n",
    "        linear_term_sum = np.zeros(d)\n",
    "        hessian_approx = np.zeros((d, d)) \n",
    "        \n",
    "        for i in range(t):\n",
    "            xi = X[i].reshape(-1, 1)\n",
    "            yi = y[i]\n",
    "            \n",
    "            ai, bi = quad_approximation(yi, parameters, d)\n",
    "            \n",
    "            linear_term_sum += ai * (xi @ xi.T)\n",
    "            hessian_approx += bi * xi\n",
    "            importance_scores = np.abs(xi.T @ parameters) # TODO\n",
    "            \n",
    "            \n",
    "        new_parameters = modified_shooting(hessian_approx, linear_term_sum, parameters, tolerance)\n",
    "        active_set = {j for j in range(d) if importance_scores[j] >= selection_threshold}\n",
    "        \n",
    "        # TODO: check for convergence\n",
    "        if np.linalg.norm(new_parameters - parameters) < tolerance:\n",
    "            break\n",
    "        \n",
    "        parameters = new_parameters\n",
    "        z += 1\n",
    "    \n",
    "    return parameters, active_set\n",
    "            \n",
    "   \n"
   ]
  }
 ],
 "metadata": {
  "kernelspec": {
   "display_name": "Python 3",
   "language": "python",
   "name": "python3"
  },
  "language_info": {
   "name": "python",
   "version": "3.11.6"
  }
 },
 "nbformat": 4,
 "nbformat_minor": 2
}
