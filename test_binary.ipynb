{
 "cells": [
  {
   "cell_type": "code",
   "execution_count": null,
   "id": "4dfbfbb9",
   "metadata": {},
   "outputs": [],
   "source": [
    "from scorecard import Scorecard\n",
    "import time\n",
    "from ucimlrepo import fetch_ucirepo\n",
    "import pandas as pd\n",
    "import matplotlib.pyplot as plt\n",
    "import pandas as pd\n",
    "from io import StringIO"
   ]
  },
  {
   "cell_type": "markdown",
   "id": "af25f72e",
   "metadata": {},
   "source": [
    "## appendicitis\n",
    "7 medical measures taken over 106 patients on which the class label represents if the patient has appendicitis (class label 1) or not (class label 0)."
   ]
  },
  {
   "cell_type": "code",
   "execution_count": null,
   "id": "23cc58d1",
   "metadata": {},
   "outputs": [],
   "source": [
    "with open('datasets/appendicitis.dat', \"r\") as file:\n",
    "    lines = file.readlines()\n",
    "\n",
    "data_start_ind = lines.index(\"@data\\n\") + 1\n",
    "app_data = lines[data_start_ind:]\n",
    "app_data = pd.read_csv(StringIO(\"\".join(app_data)), header=None)\n",
    "\n",
    "app_data.columns = [\"At1\", \"At2\", \"At3\", \"At4\", \"At5\", \"At6\", \"At7\", \"Class\"]\n",
    "\n",
    "app_X = app_data.iloc[:, :-1]\n",
    "app_y = app_data.iloc[:, -1]\n",
    "\n",
    "print(\"num observations: \", app_y.count())\n",
    "print(\"target distribution: \", app_y.value_counts())\n",
    "\n",
    "\n",
    "app_X.describe()\n"
   ]
  },
  {
   "cell_type": "code",
   "execution_count": null,
   "id": "986057d4",
   "metadata": {},
   "outputs": [],
   "source": [
    "'''from scorecard import Scorecard\n",
    "import time\n",
    "\n",
    "start_time = time.time()\n",
    "scorecard = Scorecard()\n",
    "app_caim_1ook_ml_model, app_caim_1ook_ml_weights = scorecard.fit(app_X, app_y, \n",
    "                thresholds_method='CAIM',\n",
    "                encoding_method='1_OUT_OF_K', \n",
    "                model_method='RSS')\n",
    "scorecard.cross_val_score()\n",
    "end_time = time.time()\n",
    "print(f\"Execution time: {end_time - start_time} seconds\")'''"
   ]
  },
  {
   "cell_type": "code",
   "execution_count": null,
   "id": "3eeeb468",
   "metadata": {},
   "outputs": [],
   "source": [
    "'''from scorecard import Scorecard\n",
    "import time\n",
    "\n",
    "start_time = time.time()\n",
    "scorecard = Scorecard()\n",
    "app_caim_1ook_ml_model, app_caim_1ook_ml_weights = scorecard.fit(app_X, app_y, \n",
    "                thresholds_method='CAIM',\n",
    "                encoding_method='1_OUT_OF_K', \n",
    "                model_method='MM')\n",
    "scorecard.cross_val_score()\n",
    "end_time = time.time()\n",
    "print(f\"Execution time: {end_time - start_time} seconds\")'''"
   ]
  },
  {
   "cell_type": "code",
   "execution_count": null,
   "id": "266854eb",
   "metadata": {},
   "outputs": [],
   "source": [
    "start_time = time.time()\n",
    "scorecard = Scorecard()\n",
    "app_caim_1ook_ml_model, app_caim_1ook_ml_weights = scorecard.fit(app_X, app_y, \n",
    "                thresholds_method='CAIM',\n",
    "                encoding_method='1_OUT_OF_K', \n",
    "                model_method='ML')\n",
    "scorecard.cross_val_score()\n",
    "end_time = time.time()\n",
    "print(f\"Execution time: {end_time - start_time} seconds\")"
   ]
  },
  {
   "cell_type": "code",
   "execution_count": null,
   "id": "3e0825ec",
   "metadata": {},
   "outputs": [],
   "source": [
    "num_nonzero_weights = scorecard.nonzero_weights.shape[0]\n",
    "print(f'Number of non-zero weights: {num_nonzero_weights}')"
   ]
  },
  {
   "cell_type": "code",
   "execution_count": null,
   "id": "b76a160f",
   "metadata": {},
   "outputs": [],
   "source": [
    "start_time = time.time()\n",
    "scorecard = Scorecard()\n",
    "app_infbins_1ook_ml_model, app_infbins_1ook_ml_weights = scorecard.fit(app_X, app_y, \n",
    "                thresholds_method='INF_BINS',\n",
    "                encoding_method='1_OUT_OF_K', \n",
    "                model_method='ML',\n",
    "                use_sbc=False,\n",
    "                num_nonzero_weights=13)\n",
    "scorecard.cross_val_score()\n",
    "end_time = time.time()\n",
    "print(f\"Execution time: {end_time - start_time} seconds\")"
   ]
  },
  {
   "cell_type": "code",
   "execution_count": null,
   "id": "cd8852d9",
   "metadata": {},
   "outputs": [],
   "source": [
    "start_time = time.time()\n",
    "scorecard = Scorecard()\n",
    "app_caim_diff_ml_model, app_caim_1ook_ml_weights = scorecard.fit(app_X, app_y, \n",
    "                thresholds_method='CAIM',\n",
    "                encoding_method='DIFF_CODING', \n",
    "                model_method='ML')\n",
    "scorecard.cross_val_score()\n",
    "end_time = time.time()\n",
    "print(f\"Execution time: {end_time - start_time} seconds\")"
   ]
  },
  {
   "cell_type": "code",
   "execution_count": null,
   "id": "1030ea99",
   "metadata": {},
   "outputs": [],
   "source": [
    "num_nonzero_weights = scorecard.nonzero_weights.shape[0]\n",
    "print(f'Number of non-zero weights: {num_nonzero_weights}')"
   ]
  },
  {
   "cell_type": "code",
   "execution_count": null,
   "id": "f902bd3a",
   "metadata": {},
   "outputs": [],
   "source": [
    "start_time = time.time()\n",
    "scorecard = Scorecard()\n",
    "app_infbins_diff_ml_model, app_caim_1ook_ml_weights = scorecard.fit(app_X, app_y, \n",
    "                thresholds_method='INF_BINS',\n",
    "                encoding_method='DIFF_CODING', \n",
    "                model_method='ML')\n",
    "scorecard.cross_val_score()\n",
    "end_time = time.time()\n",
    "print(f\"Execution time: {end_time - start_time} seconds\")"
   ]
  },
  {
   "cell_type": "markdown",
   "id": "1bd7cac9",
   "metadata": {},
   "source": [
    "## mammographic masses\n",
    "discrimination of benign and malignant mammographic masses based on BI-RADS attributes and the patient's age."
   ]
  },
  {
   "cell_type": "code",
   "execution_count": null,
   "id": "b80fc8c5",
   "metadata": {},
   "outputs": [],
   "source": [
    "# fetch dataset \n",
    "mammo_data = fetch_ucirepo(id=161) \n",
    "  \n",
    "# data (as pandas dataframes) \n",
    "mammo_X = mammo_data.data.features \n",
    "mammo_y = mammo_data.data.targets \n",
    "\n",
    "print(\"num observations: \", mammo_y.count())\n",
    "\n",
    "# drop rows with nulls\n",
    "mammo_combined = pd.concat([mammo_X, mammo_y], axis=1)\n",
    "print(\"num rows with nulls: \", mammo_combined.isnull().sum().sum())\n",
    "mammo_combined = mammo_combined.dropna()\n",
    "mammo_combined = mammo_combined.reset_index(drop=True)\n",
    "mammo_X = mammo_combined.iloc[:, :-1]\n",
    "mammo_y = mammo_combined.iloc[:, -1]\n",
    "\n",
    "\n",
    "# metadata \n",
    "# print(mammo_data.metadata) \n",
    "  \n",
    "# variable information \n",
    "# print(mammo_data.variables) \n",
    "\n",
    "print(\"num observations: \", mammo_y.count())\n",
    "print(\"target distribution: \", mammo_y.value_counts())\n",
    "\n",
    "mammo_X.describe()"
   ]
  },
  {
   "cell_type": "code",
   "execution_count": null,
   "id": "a12f489d",
   "metadata": {},
   "outputs": [],
   "source": [
    "start_time = time.time()\n",
    "scorecard = Scorecard()\n",
    "mammo_caim_1ook_ml_model, mammo_caim_1ook_ml_weights = scorecard.fit(mammo_X, mammo_y, \n",
    "                thresholds_method='CAIM',\n",
    "                encoding_method='1_OUT_OF_K', \n",
    "                model_method='ML')\n",
    "scorecard.cross_val_score()\n",
    "end_time = time.time()\n",
    "print(f\"Execution time: {end_time - start_time} seconds\")"
   ]
  },
  {
   "cell_type": "code",
   "execution_count": null,
   "id": "e2abdc3a",
   "metadata": {},
   "outputs": [],
   "source": [
    "num_nonzero_weights = scorecard.nonzero_weights.shape[0]\n",
    "print(f'Number of non-zero weights: {num_nonzero_weights}')"
   ]
  },
  {
   "cell_type": "code",
   "execution_count": null,
   "id": "60623d54",
   "metadata": {},
   "outputs": [],
   "source": [
    "from scorecard import Scorecard\n",
    "import time\n",
    "\n",
    "start_time = time.time()\n",
    "scorecard = Scorecard()\n",
    "mammo_infbins_1ook_ml_model, mammo_infbins_1ook_ml_weights = scorecard.fit(mammo_X, mammo_y, \n",
    "                thresholds_method='INF_BINS',\n",
    "                encoding_method='1_OUT_OF_K', \n",
    "                model_method='ML',\n",
    "                use_sbc=False,\n",
    "                num_nonzero_weights=num_nonzero_weights)\n",
    "scorecard.cross_val_score()\n",
    "end_time = time.time()\n",
    "print(f\"Execution time: {end_time - start_time} seconds\")"
   ]
  },
  {
   "cell_type": "code",
   "execution_count": null,
   "id": "0df41b53",
   "metadata": {},
   "outputs": [],
   "source": [
    "from scorecard import Scorecard\n",
    "import time\n",
    "\n",
    "start_time = time.time()\n",
    "scorecard = Scorecard()\n",
    "mammo_caim_diff_ml_model, mammo_caim_diff_ml_weights = scorecard.fit(mammo_X, mammo_y, \n",
    "                thresholds_method='CAIM',\n",
    "                encoding_method='DIFF_CODING', \n",
    "                model_method='ML')\n",
    "scorecard.cross_val_score()\n",
    "end_time = time.time()\n",
    "print(f\"Execution time: {end_time - start_time} seconds\")"
   ]
  },
  {
   "cell_type": "code",
   "execution_count": null,
   "id": "257f7194",
   "metadata": {},
   "outputs": [],
   "source": [
    "num_nonzero_weights = scorecard.nonzero_weights.shape[0]\n",
    "print(f'Number of non-zero weights: {num_nonzero_weights}')"
   ]
  },
  {
   "cell_type": "code",
   "execution_count": null,
   "id": "7dad8367",
   "metadata": {},
   "outputs": [],
   "source": [
    "from scorecard import Scorecard\n",
    "import time\n",
    "\n",
    "start_time = time.time()\n",
    "scorecard = Scorecard()\n",
    "mammo_infbins_diff_ml_model, mammo_infbins_diff_ml_weights = scorecard.fit(mammo_X, mammo_y, \n",
    "                thresholds_method='INF_BINS',\n",
    "                encoding_method='DIFF_CODING', \n",
    "                model_method='ML',\n",
    "                use_sbc=False,\n",
    "                num_nonzero_weights=num_nonzero_weights)\n",
    "scorecard.cross_val_score()\n",
    "end_time = time.time()\n",
    "print(f\"Execution time: {end_time - start_time} seconds\")"
   ]
  },
  {
   "cell_type": "markdown",
   "id": "bf025cb5",
   "metadata": {},
   "source": [
    "## aesthetic evaluation (binary version)"
   ]
  },
  {
   "cell_type": "code",
   "execution_count": null,
   "id": "eb723ac1",
   "metadata": {},
   "outputs": [],
   "source": [
    "import pandas as pd\n",
    "aesthetic_evaluation_data = pd.read_csv('datasets/aesthetic_evaluation_data.csv')\n",
    "aesthetic_evaluation_data = aesthetic_evaluation_data.drop(columns=['Image Filename','Author','Objective Evaluation', 'sX2L Value','sX2a Value','sX2b Value','sX2Lab Value','sEMDL Value','sEMDa Value','sEMDb Value','sEMDLab Value'])\n",
    "aesthetic_evaluation_X = aesthetic_evaluation_data.drop(columns='Subjective Evaluation')\n",
    "aesthetic_evaluation_y = aesthetic_evaluation_data['Subjective Evaluation']\n",
    "\n",
    "aesthetic_evaluation_data.head()"
   ]
  },
  {
   "cell_type": "code",
   "execution_count": null,
   "id": "49b93ebe",
   "metadata": {},
   "outputs": [],
   "source": [
    "aesthetic_evaluation_y.value_counts()"
   ]
  },
  {
   "cell_type": "code",
   "execution_count": null,
   "id": "a98672f4",
   "metadata": {},
   "outputs": [],
   "source": [
    "# create binary target from aesthetic evaluation, by joining good and excellent, and fair and poor\n",
    "aesthetic_evaluation_binary_y = aesthetic_evaluation_y.map({'Excellent': 1, 'Good': 1, 'Fair': 0, 'Poor': 0})\n",
    "\n",
    "# distribution\n",
    "aesthetic_evaluation_binary_y.value_counts()"
   ]
  },
  {
   "cell_type": "code",
   "execution_count": null,
   "id": "e9c10b14",
   "metadata": {},
   "outputs": [],
   "source": [
    "from scorecard import Scorecard\n",
    "import time\n",
    "\n",
    "start_time = time.time()\n",
    "scorecard = Scorecard()\n",
    "aesthetic_binary_caim_1ook_ml_model, aesthetic_binary_caim_1ook_ml_weights = scorecard.fit(aesthetic_evaluation_X, aesthetic_evaluation_binary_y,\n",
    "                thresholds_method='CAIM',\n",
    "                encoding_method='1_OUT_OF_K', \n",
    "                model_method='ML')\n",
    "scorecard.cross_val_score()\n",
    "end_time = time.time()\n",
    "print(f\"Execution time: {end_time - start_time} seconds\")"
   ]
  },
  {
   "cell_type": "code",
   "execution_count": null,
   "id": "013f424e",
   "metadata": {},
   "outputs": [],
   "source": [
    "num_nonzero_weights = scorecard.nonzero_weights.shape[0]\n",
    "print(f'Number of non-zero weights: {num_nonzero_weights}')"
   ]
  },
  {
   "cell_type": "code",
   "execution_count": null,
   "id": "84848ce0",
   "metadata": {},
   "outputs": [],
   "source": [
    "from scorecard import Scorecard\n",
    "import time\n",
    "\n",
    "start_time = time.time()\n",
    "scorecard = Scorecard()\n",
    "aesthetic_binary_infbins_1ook_ml_model, aesthetic_binary_infbins_1ook_ml_weights = scorecard.fit(aesthetic_evaluation_X, aesthetic_evaluation_binary_y,\n",
    "                thresholds_method='INF_BINS',\n",
    "                encoding_method='1_OUT_OF_K', \n",
    "                model_method='ML',\n",
    "                use_sbc=False,\n",
    "                num_nonzero_weights=num_nonzero_weights)\n",
    "scorecard.cross_val_score()\n",
    "end_time = time.time()\n",
    "print(f\"Execution time: {end_time - start_time} seconds\")"
   ]
  },
  {
   "cell_type": "code",
   "execution_count": null,
   "id": "de4b1128",
   "metadata": {},
   "outputs": [],
   "source": [
    "from scorecard import Scorecard\n",
    "import time\n",
    "\n",
    "start_time = time.time()\n",
    "scorecard = Scorecard()\n",
    "aesthetic_binary_caim_diff_ml_model, aesthetic_binary_caim_diff_ml_weights = scorecard.fit(aesthetic_evaluation_X, aesthetic_evaluation_binary_y,\n",
    "                thresholds_method='CAIM',\n",
    "                encoding_method='DIFF_CODING', \n",
    "                model_method='ML')\n",
    "scorecard.cross_val_score()\n",
    "end_time = time.time()\n",
    "print(f\"Execution time: {end_time - start_time} seconds\")"
   ]
  },
  {
   "cell_type": "code",
   "execution_count": null,
   "id": "412d8055",
   "metadata": {},
   "outputs": [],
   "source": [
    "num_nonzero_weights = scorecard.nonzero_weights.shape[0]\n",
    "print(f'Number of non-zero weights: {num_nonzero_weights}')"
   ]
  },
  {
   "cell_type": "code",
   "execution_count": null,
   "id": "414aff62",
   "metadata": {},
   "outputs": [],
   "source": [
    "from scorecard import Scorecard\n",
    "import time\n",
    "\n",
    "start_time = time.time()\n",
    "scorecard = Scorecard()\n",
    "aesthetic_binary_infbins_diff_ml_model, aesthetic_binary_infbins_diff_ml_weights = scorecard.fit(aesthetic_evaluation_X, aesthetic_evaluation_binary_y,\n",
    "                thresholds_method='INF_BINS',\n",
    "                encoding_method='DIFF_CODING', \n",
    "                model_method='ML')\n",
    "scorecard.cross_val_score()\n",
    "end_time = time.time()\n",
    "print(f\"Execution time: {end_time - start_time} seconds\")"
   ]
  },
  {
   "cell_type": "markdown",
   "id": "356c2e54",
   "metadata": {},
   "source": [
    "## adult\n",
    "predict whether annual income of an individual exceeds $50K/yr based on census data\n",
    "\n",
    "https://archive.ics.uci.edu/dataset/2/adult"
   ]
  },
  {
   "cell_type": "code",
   "execution_count": null,
   "id": "89ec00cc",
   "metadata": {},
   "outputs": [],
   "source": [
    "# fetch dataset \n",
    "adult_data = fetch_ucirepo(id=2) \n",
    "  \n",
    "# check for nulls\n",
    "\n",
    "# data (as pandas dataframes) \n",
    "adult_X = adult_data.data.features \n",
    "adult_y = adult_data.data.targets\n",
    "adult_y.loc[:,'income'] = adult_y['income'].map({'>50K': 1, '<=50K': 0})\n",
    "\n",
    "# substitute '?' with NaN\n",
    "adult_X = adult_X.replace('?', pd.NA)\n",
    "adult_y = adult_y.replace('?', pd.NA)\n",
    "\n",
    "# drop rows with nulls\n",
    "adult_combined = pd.concat([adult_X, adult_y], axis=1)\n",
    "print(\"num rows with nulls: \", adult_combined.isnull().sum().sum())\n",
    "adult_combined = adult_combined.dropna()\n",
    "adult_combined = adult_combined.reset_index(drop=True)\n",
    "adult_X = adult_combined.iloc[:, :-1]\n",
    "adult_y = adult_combined.iloc[:, -1]\n",
    "\n",
    "# metadata \n",
    "# print(adult_data.metadata) \n",
    "  \n",
    "# variable information \n",
    "# print(adult_data.variables) \n",
    "\n",
    "print(\"num observations: \", adult_y.count())\n",
    "print(\"num features: \", adult_X.shape[1])\n",
    "print(\"target distribution: \", adult_y.value_counts())\n",
    "adult_y.value_counts().plot(kind='bar')\n",
    "plt.title('target distribution')\n",
    "plt.xlabel('income')\n",
    "plt.ylabel('count')\n",
    "plt.xticks([0, 1], ['0 (<=50K)', '1 (>50K)'], rotation=0)\n",
    "plt.show()\n"
   ]
  },
  {
   "cell_type": "code",
   "execution_count": null,
   "id": "56073a97",
   "metadata": {},
   "outputs": [],
   "source": [
    "# get type of each column\n",
    "print(\"types: \", adult_X.dtypes)\n",
    "\n",
    "# show categorical columns\n",
    "print(\"\\nobject columns: \", adult_X.select_dtypes(include=['object']).columns)\n",
    "categorical_columns = adult_X.select_dtypes(include=['object']).columns\n",
    "\n",
    "# show number of unique values in each categorical column\n",
    "print(\"\\nnumber of unique values in each categorical column: \", adult_X.select_dtypes(include=['object']).nunique())\n",
    "\n",
    "# show values of all categorical columns\n",
    "print(\"\\nvalues of all categorical columns: \", adult_X.select_dtypes(include=['object']).apply(lambda x: x.unique()))"
   ]
  },
  {
   "cell_type": "code",
   "execution_count": null,
   "id": "6904bcb2",
   "metadata": {},
   "outputs": [],
   "source": [
    "# show occupation column\n",
    "print(\"\\noccupation column: \", adult_X['occupation'].unique())"
   ]
  },
  {
   "cell_type": "code",
   "execution_count": null,
   "id": "7384ed97",
   "metadata": {},
   "outputs": [],
   "source": [
    "start_time = time.time()\n",
    "scorecard = Scorecard()\n",
    "\n",
    "adult_caim_1ook_ml_model, adult_caim_1ook_ml_weights = scorecard.fit(adult_X, adult_y, \n",
    "                thresholds_method='CAIM',\n",
    "                encoding_method='1_OUT_OF_K', \n",
    "                model_method='ML')\n",
    "scorecard.cross_val_score()\n",
    "\n",
    "end_time = time.time()\n",
    "print(f\"Execution time: {end_time - start_time} seconds\")"
   ]
  },
  {
   "cell_type": "code",
   "execution_count": null,
   "id": "f8d8662e",
   "metadata": {},
   "outputs": [],
   "source": [
    "num_nonzero_weights = scorecard.nonzero_weights.shape[0]\n",
    "print(f'Number of non-zero weights: {num_nonzero_weights}')"
   ]
  },
  {
   "cell_type": "code",
   "execution_count": null,
   "id": "5e41154b",
   "metadata": {},
   "outputs": [],
   "source": [
    "start_time = time.time()\n",
    "num_nonzero_weights = 15\n",
    "scorecard = Scorecard()\n",
    "adult_infbins_1ook_ml_model, adult_infbins_1ook_ml_weights = scorecard.fit(adult_X, adult_y, \n",
    "                thresholds_method='INF_BINS',\n",
    "                encoding_method='1_OUT_OF_K', \n",
    "                model_method='ML',\n",
    "                use_sbc=False,\n",
    "                num_nonzero_weights=num_nonzero_weights)\n",
    "scorecard.cross_val_score()\n",
    "\n",
    "end_time = time.time()\n",
    "print(f\"Execution time: {end_time - start_time} seconds\")"
   ]
  },
  {
   "cell_type": "code",
   "execution_count": null,
   "id": "9132e584",
   "metadata": {},
   "outputs": [],
   "source": [
    "from scorecard import Scorecard\n",
    "import time\n",
    "\n",
    "start_time = time.time()\n",
    "scorecard = Scorecard()\n",
    "adult_caim_diff_ml_model, adult_caim_diff_ml_weights = scorecard.fit(adult_X, adult_y,\n",
    "                thresholds_method='CAIM',\n",
    "                encoding_method='DIFF_CODING', \n",
    "                model_method='ML')\n",
    "scorecard.cross_val_score()\n",
    "end_time = time.time()\n",
    "print(f\"Execution time: {end_time - start_time} seconds\")"
   ]
  },
  {
   "cell_type": "code",
   "execution_count": null,
   "id": "69a54efd",
   "metadata": {},
   "outputs": [],
   "source": [
    "num_nonzero_weights = scorecard.nonzero_weights.shape[0]\n",
    "print(f'Number of non-zero weights: {num_nonzero_weights}')"
   ]
  },
  {
   "cell_type": "code",
   "execution_count": null,
   "id": "d5cc020d",
   "metadata": {},
   "outputs": [],
   "source": [
    "from scorecard import Scorecard\n",
    "import time\n",
    "\n",
    "start_time = time.time()\n",
    "scorecard = Scorecard()\n",
    "adult_infbins_diff_ml_model, adult_infbins_diff_ml_weights = scorecard.fit(adult_X, adult_y,\n",
    "                thresholds_method='INF_BINS',\n",
    "                encoding_method='DIFF_CODING', \n",
    "                model_method='ML',\n",
    "                use_sbc=False,\n",
    "                num_nonzero_weights=num_nonzero_weights)\n",
    "scorecard.cross_val_score()\n",
    "end_time = time.time()\n",
    "print(f\"Execution time: {end_time - start_time} seconds\")"
   ]
  },
  {
   "cell_type": "markdown",
   "id": "6ef5254c",
   "metadata": {},
   "source": [
    "## mushroom\n",
    "mushrooms described in terms of physical characteristics; classification: poisonous or edible\n",
    "\n",
    "https://archive.ics.uci.edu/dataset/73/mushroom"
   ]
  },
  {
   "cell_type": "code",
   "execution_count": null,
   "id": "7590f0d9",
   "metadata": {},
   "outputs": [],
   "source": [
    "from ucimlrepo import fetch_ucirepo\n",
    "import pandas as pd\n",
    "import matplotlib.pyplot as plt\n",
    "\n",
    "# fetch dataset \n",
    "mushroom_data = fetch_ucirepo(id=73) \n",
    "\n",
    "# data (as pandas dataframes) \n",
    "mushroom_X = mushroom_data.data.features \n",
    "mushroom_y = mushroom_data.data.targets \n",
    "mushroom_y.loc[:, 'poisonous'] = mushroom_y['poisonous'].map({'p': 1, 'e': 0})\n",
    "  \n",
    "# metadata \n",
    "# print(mushroom_data.metadata) \n",
    "  \n",
    "# variable information \n",
    "# print(mushroom_data.variables) \n",
    "\n",
    "print(\"num observations: \", mushroom_y.count())\n",
    "print(\"num features: \", mushroom_X.shape[1])\n",
    "print(\"target distribution: \", mushroom_y.value_counts())\n",
    "# show target distribution\n",
    "mushroom_y['poisonous'].value_counts().plot(kind='bar')\n",
    "plt.title('Target Distribution')\n",
    "plt.xlabel('Mushroom')\n",
    "plt.ylabel('Count')\n",
    "plt.xticks([0, 1], ['Edible', 'Poisonous'], rotation=0)\n",
    "plt.show()"
   ]
  },
  {
   "cell_type": "code",
   "execution_count": null,
   "id": "08850345",
   "metadata": {},
   "outputs": [],
   "source": [
    "from scorecard import Scorecard\n",
    "import time\n",
    "\n",
    "start_time = time.time()\n",
    "scorecard = Scorecard()\n",
    "mushroom_caim_1ook_ml_model, mushroom_caim_1ook_ml_weights = scorecard.fit(mushroom_X, mushroom_y,\n",
    "                thresholds_method='CAIM',\n",
    "                encoding_method='1_OUT_OF_K', \n",
    "                model_method='ML')\n",
    "scorecard.cross_val_score()\n",
    "end_time = time.time()\n",
    "print(f\"Execution time: {end_time - start_time} seconds\")"
   ]
  },
  {
   "cell_type": "code",
   "execution_count": null,
   "id": "83e44aa1",
   "metadata": {},
   "outputs": [],
   "source": [
    "num_nonzero_weights = scorecard.nonzero_weights.shape[0]\n",
    "print(f'Number of non-zero weights: {num_nonzero_weights}')"
   ]
  },
  {
   "cell_type": "code",
   "execution_count": null,
   "id": "9141bec8",
   "metadata": {},
   "outputs": [],
   "source": [
    "from scorecard import Scorecard\n",
    "import time\n",
    "\n",
    "start_time = time.time()\n",
    "scorecard = Scorecard()\n",
    "mushroom_infbins_1ook_ml_model, mushroom_infbins_1ook_ml_weights = scorecard.fit(mushroom_X, mushroom_y,\n",
    "                thresholds_method='INF_BINS',\n",
    "                encoding_method='1_OUT_OF_K', \n",
    "                model_method='ML',\n",
    "                use_sbc=False,\n",
    "                num_nonzero_weights=num_nonzero_weights)\n",
    "scorecard.cross_val_score()\n",
    "end_time = time.time()\n",
    "print(f\"Execution time: {end_time - start_time} seconds\")"
   ]
  },
  {
   "cell_type": "code",
   "execution_count": null,
   "id": "6c8ab9f4",
   "metadata": {},
   "outputs": [],
   "source": [
    "from scorecard import Scorecard\n",
    "import time\n",
    "\n",
    "start_time = time.time()\n",
    "scorecard = Scorecard()\n",
    "mushroom_caim_diff_ml_model, mushroom_caim_diff_ml_weights = scorecard.fit(mushroom_X, mushroom_y,\n",
    "                thresholds_method='CAIM',\n",
    "                encoding_method='DIFF_CODING', \n",
    "                model_method='ML')\n",
    "scorecard.cross_val_score()\n",
    "end_time = time.time()\n",
    "print(f\"Execution time: {end_time - start_time} seconds\")"
   ]
  },
  {
   "cell_type": "code",
   "execution_count": null,
   "id": "459f893b",
   "metadata": {},
   "outputs": [],
   "source": [
    "num_nonzero_weights = scorecard.nonzero_weights.shape[0]\n",
    "print(f'Number of non-zero weights: {num_nonzero_weights}')"
   ]
  },
  {
   "cell_type": "code",
   "execution_count": null,
   "id": "14b494ed",
   "metadata": {},
   "outputs": [],
   "source": [
    "from scorecard import Scorecard\n",
    "import time\n",
    "\n",
    "start_time = time.time()\n",
    "scorecard = Scorecard()\n",
    "mushroom_infbins_diff_ml_model, mushroom_infbins_diff_ml_weights = scorecard.fit(mushroom_X, mushroom_y,\n",
    "                thresholds_method='INF_BINS',\n",
    "                encoding_method='DIFF_CODING', \n",
    "                model_method='ML',\n",
    "                use_sbc=False,\n",
    "                num_nonzero_weights=num_nonzero_weights)\n",
    "scorecard.cross_val_score()\n",
    "end_time = time.time()\n",
    "print(f\"Execution time: {end_time - start_time} seconds\")"
   ]
  },
  {
   "cell_type": "markdown",
   "id": "6dc93b06",
   "metadata": {},
   "source": [
    "## spambase\n",
    "classifying Email as Spam or Non-Spam\n",
    "\n",
    "https://archive.ics.uci.edu/dataset/94/spambase"
   ]
  },
  {
   "cell_type": "code",
   "execution_count": null,
   "id": "f014a12b",
   "metadata": {},
   "outputs": [],
   "source": [
    "# fetch dataset \n",
    "spambase_data = fetch_ucirepo(id=94) \n",
    "  \n",
    "# data (as pandas dataframes) \n",
    "spambase_X = spambase_data.data.features \n",
    "spambase_y = spambase_data.data.targets \n",
    "  \n",
    "# metadata \n",
    "# print(spambase_data.metadata) \n",
    "  \n",
    "# variable information \n",
    "# print(spambase_data.variables) \n",
    "\n",
    "print(\"num observations: \", spambase_y.count())\n",
    "print(\"num features: \", spambase_X.shape[1])\n",
    "print(\"target distribution: \", spambase_y.value_counts())\n",
    "# show target distribution\n",
    "spambase_y['Class'].value_counts().plot(kind='bar')\n",
    "plt.title('Target Distribution')\n",
    "plt.xlabel('Spam')\n",
    "plt.ylabel('Count')\n",
    "plt.xticks([0, 1], ['Not Spam', 'Spam'], rotation=0)\n",
    "plt.show()"
   ]
  },
  {
   "cell_type": "code",
   "execution_count": null,
   "id": "67b9a802",
   "metadata": {},
   "outputs": [],
   "source": [
    "start_time = time.time()\n",
    "scorecard = Scorecard()\n",
    "spambase_caim_1ook_ml_model, spambase_caim_1ook_ml_weights = scorecard.fit(spambase_X, spambase_y,\n",
    "                thresholds_method='CAIM',\n",
    "                encoding_method='1_OUT_OF_K', \n",
    "                model_method='ML')\n",
    "scorecard.cross_val_score()\n",
    "end_time = time.time()\n",
    "print(f\"Execution time: {end_time - start_time} seconds\")"
   ]
  },
  {
   "cell_type": "code",
   "execution_count": null,
   "id": "f25fdc9b",
   "metadata": {},
   "outputs": [],
   "source": [
    "num_nonzero_weights = scorecard.nonzero_weights.shape[0]\n",
    "print(f'Number of non-zero weights: {num_nonzero_weights}')"
   ]
  },
  {
   "cell_type": "code",
   "execution_count": null,
   "id": "8a4cd36e",
   "metadata": {},
   "outputs": [],
   "source": [
    "start_time = time.time()\n",
    "scorecard = Scorecard()\n",
    "spambase_infbins_1ook_ml_model, spambase_infbins_1ook_ml_weights = scorecard.fit(spambase_X, spambase_y,\n",
    "                thresholds_method='INF_BINS',\n",
    "                encoding_method='1_OUT_OF_K', \n",
    "                model_method='ML',\n",
    "                use_sbc=False,\n",
    "                num_nonzero_weights=num_nonzero_weights)\n",
    "scorecard.cross_val_score()\n",
    "end_time = time.time()\n",
    "print(f\"Execution time: {end_time - start_time} seconds\")"
   ]
  },
  {
   "cell_type": "code",
   "execution_count": null,
   "id": "c0e6550f",
   "metadata": {},
   "outputs": [],
   "source": [
    "start_time = time.time()\n",
    "scorecard = Scorecard()\n",
    "spambase_caim_diff_ml_model, spambase_caim_diff_ml_weights = scorecard.fit(spambase_X, spambase_y,\n",
    "                thresholds_method='CAIM',\n",
    "                encoding_method='DIFF_CODING', \n",
    "                model_method='ML')\n",
    "scorecard.cross_val_score()\n",
    "end_time = time.time()\n",
    "print(f\"Execution time: {end_time - start_time} seconds\")"
   ]
  },
  {
   "cell_type": "code",
   "execution_count": null,
   "id": "718d27e1",
   "metadata": {},
   "outputs": [],
   "source": [
    "num_nonzero_weights = scorecard.nonzero_weights.shape[0]\n",
    "print(f'Number of non-zero weights: {num_nonzero_weights}')"
   ]
  },
  {
   "cell_type": "code",
   "execution_count": null,
   "id": "b4668155",
   "metadata": {},
   "outputs": [],
   "source": [
    "start_time = time.time()\n",
    "\n",
    "scorecard = Scorecard()\n",
    "spambase_infbins_diff_ml_model, spambase_infbins_diff_ml_weights = scorecard.fit(spambase_X, spambase_y,\n",
    "                thresholds_method='INF_BINS',\n",
    "                encoding_method='DIFF_CODING', \n",
    "                model_method='ML',\n",
    "                use_sbc=False,\n",
    "                num_nonzero_weights=num_nonzero_weights)\n",
    "scorecard.cross_val_score()\n",
    "\n",
    "end_time = time.time()\n",
    "print(f\"Execution time: {end_time - start_time} seconds\")"
   ]
  },
  {
   "cell_type": "markdown",
   "id": "1a818af5",
   "metadata": {},
   "source": [
    "## telemarketing\n",
    "set of possible advertisements on Internet pages"
   ]
  },
  {
   "cell_type": "code",
   "execution_count": null,
   "id": "31c32c57",
   "metadata": {},
   "outputs": [],
   "source": [
    "# load dataset from file. target is last column\n",
    "telemarketing_data = pd.read_csv('datasets/internet+advertisements/ad.data', dtype=str)\n",
    "telemarketing_X = telemarketing_data.iloc[:, :-1]\n",
    "telemarketing_y = telemarketing_data.iloc[:, -1]\n",
    "\n",
    "telemarketing_y = telemarketing_y.map({'nonad.': 0, 'ad.': 1})\n",
    "\n",
    "print(\"num observations: \", telemarketing_y.count())\n",
    "print(\"num features: \", telemarketing_X.shape[1])\n",
    "print(\"target distribution: \", telemarketing_y.value_counts())\n",
    "# show target distribution\n",
    "telemarketing_y.value_counts().plot(kind='bar')\n",
    "plt.title('Target Distribution')\n",
    "plt.xlabel('Telemarketing')\n",
    "plt.ylabel('Count')\n",
    "plt.xticks([0, 1], ['Not Ad', 'Ad'], rotation=0)\n",
    "plt.show()"
   ]
  },
  {
   "cell_type": "code",
   "execution_count": null,
   "id": "4a4f0307",
   "metadata": {},
   "outputs": [],
   "source": [
    "start_time = time.time()\n",
    "\n",
    "scorecard = Scorecard()\n",
    "telemarketing_caim_1ook_ml_model, telemarketing_caim_1ook_ml_weights = scorecard.fit(telemarketing_X, telemarketing_y,\n",
    "                thresholds_method='CAIM',\n",
    "                encoding_method='1_OUT_OF_K', \n",
    "                model_method='ML')\n",
    "scorecard.cross_val_score()\n",
    "\n",
    "end_time = time.time()\n",
    "print(f\"Execution time: {end_time - start_time} seconds\")"
   ]
  },
  {
   "cell_type": "code",
   "execution_count": null,
   "id": "7f17c93b",
   "metadata": {},
   "outputs": [],
   "source": [
    "num_nonzero_weights = scorecard.nonzero_weights.shape[0]\n",
    "print(f'Number of non-zero weights: {num_nonzero_weights}')"
   ]
  },
  {
   "cell_type": "code",
   "execution_count": null,
   "id": "7c29b772",
   "metadata": {},
   "outputs": [],
   "source": [
    "start_time = time.time()\n",
    "\n",
    "scorecard = Scorecard()\n",
    "telemarketing_infbins_1ook_ml_model, telemarketing_infbins_1ook_ml_weights = scorecard.fit(telemarketing_X, telemarketing_y,\n",
    "                thresholds_method='INF_BINS',\n",
    "                encoding_method='1_OUT_OF_K', \n",
    "                model_method='ML',\n",
    "                use_sbc=False,\n",
    "                num_nonzero_weights=num_nonzero_weights)\n",
    "scorecard.cross_val_score()\n",
    "\n",
    "end_time = time.time()\n",
    "print(f\"Execution time: {end_time - start_time} seconds\")"
   ]
  },
  {
   "cell_type": "code",
   "execution_count": null,
   "id": "bb1a38d2",
   "metadata": {},
   "outputs": [],
   "source": [
    "start_time = time.time()\n",
    "\n",
    "scorecard = Scorecard()\n",
    "telemarketing_caim_diff_ml_model, telemarketing_caim_diff_ml_weights = scorecard.fit(telemarketing_X, telemarketing_y,\n",
    "                thresholds_method='CAIM',\n",
    "                encoding_method='DIFF_CODING', \n",
    "                model_method='ML')\n",
    "\n",
    "scorecard.cross_val_score()\n",
    "\n",
    "end_time = time.time()\n",
    "print(f\"Execution time: {end_time - start_time} seconds\")"
   ]
  },
  {
   "cell_type": "code",
   "execution_count": null,
   "id": "ac2ce2d5",
   "metadata": {},
   "outputs": [],
   "source": [
    "num_nonzero_weights = scorecard.nonzero_weights.shape[0]\n",
    "print(f'Number of non-zero weights: {num_nonzero_weights}')"
   ]
  },
  {
   "cell_type": "code",
   "execution_count": null,
   "id": "bd197482",
   "metadata": {},
   "outputs": [],
   "source": [
    "start_time = time.time()\n",
    "\n",
    "scorecard = Scorecard()\n",
    "telemarketing_infbins_diff_ml_model, telemarketing_infbins_diff_ml_weights = scorecard.fit(telemarketing_X, telemarketing_y,\n",
    "                thresholds_method='INF_BINS',\n",
    "                encoding_method='DIFF_CODING', \n",
    "                model_method='ML',\n",
    "                use_sbc=False,\n",
    "                num_nonzero_weights=num_nonzero_weights)\n",
    "scorecard.cross_val_score()\n",
    "\n",
    "end_time = time.time()\n",
    "print(f\"Execution time: {end_time - start_time} seconds\")"
   ]
  },
  {
   "cell_type": "markdown",
   "id": "e6059abe",
   "metadata": {},
   "source": [
    "## sleep apnea\n",
    "collection of clinical polysomnography (PSG) recordings. Beginning with PSG recordings from from ~19K patients evaluated at the Massachusetts General Hospital.\n",
    "\n",
    "https://bdsp.io/content/hsp/2.0/#files"
   ]
  },
  {
   "cell_type": "code",
   "execution_count": null,
   "id": "04d729e3",
   "metadata": {},
   "outputs": [],
   "source": [
    "sleep_apnea_data = pd.read_csv('../datasets/bdsp_psg_master_20231101.csv')\n",
    "\n",
    "sleep_apnea_X = sleep_apnea_data.iloc[:, :-1]\n",
    "sleep_apnea_y = sleep_apnea_data.iloc[:, -1]\n",
    "\n",
    "print(\"num observations: \", sleep_apnea_y.count())\n",
    "print(\"num features: \", sleep_apnea_X.shape[1])"
   ]
  }
 ],
 "metadata": {
  "kernelspec": {
   "display_name": "Python 3",
   "language": "python",
   "name": "python3"
  },
  "language_info": {
   "codemirror_mode": {
    "name": "ipython",
    "version": 3
   },
   "file_extension": ".py",
   "mimetype": "text/x-python",
   "name": "python",
   "nbconvert_exporter": "python",
   "pygments_lexer": "ipython3",
   "version": "3.11.6"
  }
 },
 "nbformat": 4,
 "nbformat_minor": 5
}
