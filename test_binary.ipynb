{
 "cells": [
  {
   "cell_type": "code",
   "execution_count": 2,
   "id": "4dfbfbb9",
   "metadata": {},
   "outputs": [],
   "source": [
    "from scorecard import Scorecard\n",
    "import time\n",
    "from ucimlrepo import fetch_ucirepo\n",
    "import pandas as pd\n",
    "import matplotlib.pyplot as plt\n",
    "import pandas as pd\n",
    "from io import StringIO"
   ]
  },
  {
   "cell_type": "markdown",
   "id": "af25f72e",
   "metadata": {},
   "source": [
    "## appendicitis\n",
    "7 medical measures taken over 106 patients on which the class label represents if the patient has appendicitis (class label 1) or not (class label 0)."
   ]
  },
  {
   "cell_type": "code",
   "execution_count": 2,
   "id": "23cc58d1",
   "metadata": {},
   "outputs": [
    {
     "name": "stdout",
     "output_type": "stream",
     "text": [
      "num observations:  106\n",
      "target distribution:  Class\n",
      "0    85\n",
      "1    21\n",
      "Name: count, dtype: int64\n"
     ]
    },
    {
     "data": {
      "text/html": [
       "<div>\n",
       "<style scoped>\n",
       "    .dataframe tbody tr th:only-of-type {\n",
       "        vertical-align: middle;\n",
       "    }\n",
       "\n",
       "    .dataframe tbody tr th {\n",
       "        vertical-align: top;\n",
       "    }\n",
       "\n",
       "    .dataframe thead th {\n",
       "        text-align: right;\n",
       "    }\n",
       "</style>\n",
       "<table border=\"1\" class=\"dataframe\">\n",
       "  <thead>\n",
       "    <tr style=\"text-align: right;\">\n",
       "      <th></th>\n",
       "      <th>At1</th>\n",
       "      <th>At2</th>\n",
       "      <th>At3</th>\n",
       "      <th>At4</th>\n",
       "      <th>At5</th>\n",
       "      <th>At6</th>\n",
       "      <th>At7</th>\n",
       "    </tr>\n",
       "  </thead>\n",
       "  <tbody>\n",
       "    <tr>\n",
       "      <th>count</th>\n",
       "      <td>106.000000</td>\n",
       "      <td>106.000000</td>\n",
       "      <td>106.000000</td>\n",
       "      <td>106.000000</td>\n",
       "      <td>106.000000</td>\n",
       "      <td>106.000000</td>\n",
       "      <td>106.000000</td>\n",
       "    </tr>\n",
       "    <tr>\n",
       "      <th>mean</th>\n",
       "      <td>0.398491</td>\n",
       "      <td>0.682104</td>\n",
       "      <td>0.415151</td>\n",
       "      <td>0.208745</td>\n",
       "      <td>0.169151</td>\n",
       "      <td>0.676349</td>\n",
       "      <td>0.375396</td>\n",
       "    </tr>\n",
       "    <tr>\n",
       "      <th>std</th>\n",
       "      <td>0.191452</td>\n",
       "      <td>0.207134</td>\n",
       "      <td>0.205799</td>\n",
       "      <td>0.199650</td>\n",
       "      <td>0.177329</td>\n",
       "      <td>0.218909</td>\n",
       "      <td>0.198132</td>\n",
       "    </tr>\n",
       "    <tr>\n",
       "      <th>min</th>\n",
       "      <td>0.000000</td>\n",
       "      <td>0.000000</td>\n",
       "      <td>0.000000</td>\n",
       "      <td>0.000000</td>\n",
       "      <td>0.000000</td>\n",
       "      <td>0.000000</td>\n",
       "      <td>0.000000</td>\n",
       "    </tr>\n",
       "    <tr>\n",
       "      <th>25%</th>\n",
       "      <td>0.244750</td>\n",
       "      <td>0.589000</td>\n",
       "      <td>0.277000</td>\n",
       "      <td>0.056000</td>\n",
       "      <td>0.049250</td>\n",
       "      <td>0.576000</td>\n",
       "      <td>0.238000</td>\n",
       "    </tr>\n",
       "    <tr>\n",
       "      <th>50%</th>\n",
       "      <td>0.413000</td>\n",
       "      <td>0.750000</td>\n",
       "      <td>0.442500</td>\n",
       "      <td>0.146000</td>\n",
       "      <td>0.113000</td>\n",
       "      <td>0.744000</td>\n",
       "      <td>0.397500</td>\n",
       "    </tr>\n",
       "    <tr>\n",
       "      <th>75%</th>\n",
       "      <td>0.505750</td>\n",
       "      <td>0.821000</td>\n",
       "      <td>0.545500</td>\n",
       "      <td>0.302500</td>\n",
       "      <td>0.226750</td>\n",
       "      <td>0.831250</td>\n",
       "      <td>0.486750</td>\n",
       "    </tr>\n",
       "    <tr>\n",
       "      <th>max</th>\n",
       "      <td>1.000000</td>\n",
       "      <td>1.000000</td>\n",
       "      <td>1.000000</td>\n",
       "      <td>1.000000</td>\n",
       "      <td>1.000000</td>\n",
       "      <td>1.000000</td>\n",
       "      <td>1.000000</td>\n",
       "    </tr>\n",
       "  </tbody>\n",
       "</table>\n",
       "</div>"
      ],
      "text/plain": [
       "              At1         At2         At3         At4         At5         At6  \\\n",
       "count  106.000000  106.000000  106.000000  106.000000  106.000000  106.000000   \n",
       "mean     0.398491    0.682104    0.415151    0.208745    0.169151    0.676349   \n",
       "std      0.191452    0.207134    0.205799    0.199650    0.177329    0.218909   \n",
       "min      0.000000    0.000000    0.000000    0.000000    0.000000    0.000000   \n",
       "25%      0.244750    0.589000    0.277000    0.056000    0.049250    0.576000   \n",
       "50%      0.413000    0.750000    0.442500    0.146000    0.113000    0.744000   \n",
       "75%      0.505750    0.821000    0.545500    0.302500    0.226750    0.831250   \n",
       "max      1.000000    1.000000    1.000000    1.000000    1.000000    1.000000   \n",
       "\n",
       "              At7  \n",
       "count  106.000000  \n",
       "mean     0.375396  \n",
       "std      0.198132  \n",
       "min      0.000000  \n",
       "25%      0.238000  \n",
       "50%      0.397500  \n",
       "75%      0.486750  \n",
       "max      1.000000  "
      ]
     },
     "execution_count": 2,
     "metadata": {},
     "output_type": "execute_result"
    }
   ],
   "source": [
    "with open('datasets/appendicitis.dat', \"r\") as file:\n",
    "    lines = file.readlines()\n",
    "\n",
    "data_start_ind = lines.index(\"@data\\n\") + 1\n",
    "app_data = lines[data_start_ind:]\n",
    "app_data = pd.read_csv(StringIO(\"\".join(app_data)), header=None)\n",
    "\n",
    "app_data.columns = [\"At1\", \"At2\", \"At3\", \"At4\", \"At5\", \"At6\", \"At7\", \"Class\"]\n",
    "\n",
    "app_X = app_data.iloc[:, :-1]\n",
    "app_y = app_data.iloc[:, -1]\n",
    "\n",
    "print(\"num observations: \", app_y.count())\n",
    "print(\"target distribution: \", app_y.value_counts())\n",
    "\n",
    "\n",
    "app_X.describe()\n"
   ]
  },
  {
   "cell_type": "code",
   "execution_count": null,
   "id": "986057d4",
   "metadata": {},
   "outputs": [],
   "source": [
    "'''from scorecard import Scorecard\n",
    "import time\n",
    "\n",
    "start_time = time.time()\n",
    "scorecard = Scorecard()\n",
    "app_caim_1ook_ml_model, app_caim_1ook_ml_weights = scorecard.fit(app_X, app_y, \n",
    "                thresholds_method='CAIM',\n",
    "                encoding_method='1_OUT_OF_K', \n",
    "                model_method='RSS')\n",
    "scorecard.cross_val_score()\n",
    "end_time = time.time()\n",
    "print(f\"Execution time: {end_time - start_time} seconds\")'''"
   ]
  },
  {
   "cell_type": "code",
   "execution_count": null,
   "id": "3eeeb468",
   "metadata": {},
   "outputs": [],
   "source": [
    "'''from scorecard import Scorecard\n",
    "import time\n",
    "\n",
    "start_time = time.time()\n",
    "scorecard = Scorecard()\n",
    "app_caim_1ook_ml_model, app_caim_1ook_ml_weights = scorecard.fit(app_X, app_y, \n",
    "                thresholds_method='CAIM',\n",
    "                encoding_method='1_OUT_OF_K', \n",
    "                model_method='MM')\n",
    "scorecard.cross_val_score()\n",
    "end_time = time.time()\n",
    "print(f\"Execution time: {end_time - start_time} seconds\")'''"
   ]
  },
  {
   "cell_type": "code",
   "execution_count": 3,
   "id": "ff913388",
   "metadata": {},
   "outputs": [
    {
     "name": "stdout",
     "output_type": "stream",
     "text": [
      "Categorical columns:  []\n"
     ]
    }
   ],
   "source": [
    "categorical_columns = app_X.select_dtypes(include=['object']).columns.to_list()\n",
    "print(\"Categorical columns: \", categorical_columns)\n",
    "\n",
    "# encode categorical columns\n",
    "for col in categorical_columns:\n",
    "    app_X[col] = app_X[col].astype('category').cat.codes.astype('int')\n",
    "    print(f\"Column {col} encoded as: {app_X[col].unique()}\")"
   ]
  },
  {
   "cell_type": "code",
   "execution_count": 5,
   "id": "266854eb",
   "metadata": {},
   "outputs": [
    {
     "name": "stdout",
     "output_type": "stream",
     "text": [
      "\n",
      "discretization thresholds\n",
      "num of features:  7\n",
      "categorical features:  []\n",
      "index_categorical:  []\n",
      "Feature non categorical  0\n",
      "# 0  GLOBAL CAIM  30.528645833333332\n",
      "Feature non categorical  1\n",
      "# 1  GLOBAL CAIM  31.055072463768116\n",
      "Feature non categorical  2\n",
      "# 2  GLOBAL CAIM  31.143656716417908\n",
      "Feature non categorical  3\n",
      "# 3  GLOBAL CAIM  26.656698564593302\n",
      "Feature non categorical  4\n",
      "# 4  GLOBAL CAIM  28.316964285714285\n",
      "Feature non categorical  5\n",
      "# 5  GLOBAL CAIM  30.528645833333332\n",
      "Feature non categorical  6\n",
      "# 6  GLOBAL CAIM  32.035547785547784\n",
      "\n",
      "thresholds  {'At1': [0.0, 0.204, 1.884], 'At2': [0.0, 0.411, 1.964], 'At3': [0.0, 0.153, 1.927], 'At4': [0.0, 0.056, 2.0], 'At5': [0.0, 0.033, 1.784], 'At6': [0.0, 0.506, 1.956], 'At7': [0.0, 0.145, 1.837]}\n",
      "num of bins: \n",
      "  At1: 4\n",
      "  At2: 4\n",
      "  At3: 4\n",
      "  At4: 4\n",
      "  At5: 4\n",
      "  At6: 4\n",
      "  At7: 4\n",
      "\n",
      "encoding\n",
      "X_disc shape:  (79, 21)\n",
      "X_disc columns:  Index(['featAt1-bin1', 'featAt1-bin2', 'featAt1-bin3', 'featAt2-bin1',\n",
      "       'featAt2-bin2', 'featAt2-bin3', 'featAt3-bin1', 'featAt3-bin2',\n",
      "       'featAt3-bin3', 'featAt4-bin1', 'featAt4-bin2', 'featAt4-bin3',\n",
      "       'featAt5-bin1', 'featAt5-bin2', 'featAt5-bin3', 'featAt6-bin1',\n",
      "       'featAt6-bin2', 'featAt6-bin3', 'featAt7-bin1', 'featAt7-bin2',\n",
      "       'featAt7-bin3'],\n",
      "      dtype='object')\n",
      "X_disc head:     featAt1-bin1  featAt1-bin2  featAt1-bin3  featAt2-bin1  featAt2-bin2  \\\n",
      "0             0             1             0             0             1   \n",
      "1             0             1             0             0             1   \n",
      "2             0             1             0             0             1   \n",
      "3             0             1             0             0             1   \n",
      "4             1             0             0             0             1   \n",
      "\n",
      "   featAt2-bin3  featAt3-bin1  featAt3-bin2  featAt3-bin3  featAt4-bin1  ...  \\\n",
      "0             0             0             1             0             0  ...   \n",
      "1             0             0             1             0             1  ...   \n",
      "2             0             0             1             0             0  ...   \n",
      "3             0             0             1             0             0  ...   \n",
      "4             0             1             0             0             0  ...   \n",
      "\n",
      "   featAt4-bin3  featAt5-bin1  featAt5-bin2  featAt5-bin3  featAt6-bin1  \\\n",
      "0             0             0             1             0             0   \n",
      "1             0             0             1             0             0   \n",
      "2             0             0             1             0             0   \n",
      "3             0             0             1             0             1   \n",
      "4             0             0             1             0             0   \n",
      "\n",
      "   featAt6-bin2  featAt6-bin3  featAt7-bin1  featAt7-bin2  featAt7-bin3  \n",
      "0             1             0             0             1             0  \n",
      "1             1             0             0             1             0  \n",
      "2             1             0             0             1             0  \n",
      "3             0             0             0             1             0  \n",
      "4             1             0             1             0             0  \n",
      "\n",
      "[5 rows x 21 columns]\n",
      "\n",
      "model\n",
      "ML best parameters:  {'C': 100.0}\n",
      "ML best alpha:  0.01\n",
      "ML weights:\n",
      "          Feature    Weight\n",
      "0   featAt1-bin1  0.226767\n",
      "1   featAt1-bin2 -0.788080\n",
      "2   featAt1-bin3  0.000000\n",
      "3   featAt2-bin1  1.098719\n",
      "4   featAt2-bin2 -0.122541\n",
      "5   featAt2-bin3  0.000000\n",
      "6   featAt3-bin1 -3.366537\n",
      "7   featAt3-bin2  0.000489\n",
      "8   featAt3-bin3  0.000000\n",
      "9   featAt4-bin1  0.749373\n",
      "10  featAt4-bin2 -0.423908\n",
      "11  featAt4-bin3  0.000000\n",
      "12  featAt5-bin1 -0.082995\n",
      "13  featAt5-bin2  0.000065\n",
      "14  featAt5-bin3  0.000000\n",
      "15  featAt6-bin1  0.559278\n",
      "16  featAt6-bin2 -0.497075\n",
      "17  featAt6-bin3  0.000000\n",
      "18  featAt7-bin1  3.679957\n",
      "19  featAt7-bin2 -0.993167\n",
      "20  featAt7-bin3  0.000000\n"
     ]
    },
    {
     "data": {
      "image/png": "[encoded data removed]",
      "text/plain": [
       "<Figure size 640x480 with 1 Axes>"
      ]
     },
     "metadata": {},
     "output_type": "display_data"
    },
    {
     "name": "stdout",
     "output_type": "stream",
     "text": [
      "num of zero weights:  7\n",
      "num of non-zero weights:  14\n",
      "         Feature    Weight\n",
      "0   featAt1-bin1  0.226767\n",
      "1   featAt1-bin2 -0.788080\n",
      "3   featAt2-bin1  1.098719\n",
      "4   featAt2-bin2 -0.122541\n",
      "6   featAt3-bin1 -3.366537\n",
      "7   featAt3-bin2  0.000489\n",
      "9   featAt4-bin1  0.749373\n",
      "10  featAt4-bin2 -0.423908\n",
      "12  featAt5-bin1 -0.082995\n",
      "13  featAt5-bin2  0.000065\n",
      "15  featAt6-bin1  0.559278\n",
      "16  featAt6-bin2 -0.497075\n",
      "18  featAt7-bin1  3.679957\n",
      "19  featAt7-bin2 -0.993167\n"
     ]
    },
    {
     "data": {
      "image/png": "[encoded data removed]",
      "text/plain": [
       "<Figure size 640x480 with 1 Axes>"
      ]
     },
     "metadata": {},
     "output_type": "display_data"
    },
    {
     "name": "stdout",
     "output_type": "stream",
     "text": [
      "\n",
      "evaluate\n",
      "encoding test set\n",
      "X_disc shape:  (27, 21)\n",
      "X_disc columns:  Index(['featAt1-bin1', 'featAt1-bin2', 'featAt1-bin3', 'featAt2-bin1',\n",
      "       'featAt2-bin2', 'featAt2-bin3', 'featAt3-bin1', 'featAt3-bin2',\n",
      "       'featAt3-bin3', 'featAt4-bin1', 'featAt4-bin2', 'featAt4-bin3',\n",
      "       'featAt5-bin1', 'featAt5-bin2', 'featAt5-bin3', 'featAt6-bin1',\n",
      "       'featAt6-bin2', 'featAt6-bin3', 'featAt7-bin1', 'featAt7-bin2',\n",
      "       'featAt7-bin3'],\n",
      "      dtype='object')\n",
      "X_disc head:     featAt1-bin1  featAt1-bin2  featAt1-bin3  featAt2-bin1  featAt2-bin2  \\\n",
      "0             0             1             0             0             1   \n",
      "1             1             0             0             0             1   \n",
      "2             0             1             0             0             1   \n",
      "3             0             1             0             0             1   \n",
      "4             0             1             0             0             1   \n",
      "\n",
      "   featAt2-bin3  featAt3-bin1  featAt3-bin2  featAt3-bin3  featAt4-bin1  ...  \\\n",
      "0             0             0             1             0             0  ...   \n",
      "1             0             1             0             0             0  ...   \n",
      "2             0             0             1             0             0  ...   \n",
      "3             0             0             1             0             0  ...   \n",
      "4             0             0             1             0             0  ...   \n",
      "\n",
      "   featAt4-bin3  featAt5-bin1  featAt5-bin2  featAt5-bin3  featAt6-bin1  \\\n",
      "0             0             0             1             0             1   \n",
      "1             0             0             1             0             0   \n",
      "2             0             0             1             0             0   \n",
      "3             0             0             1             0             0   \n",
      "4             0             0             1             0             1   \n",
      "\n",
      "   featAt6-bin2  featAt6-bin3  featAt7-bin1  featAt7-bin2  featAt7-bin3  \n",
      "0             0             0             0             1             0  \n",
      "1             1             0             1             0             0  \n",
      "2             1             0             0             1             0  \n",
      "3             1             0             0             1             0  \n",
      "4             0             0             0             1             0  \n",
      "\n",
      "[5 rows x 21 columns]\n",
      "     predictions  true values\n",
      "100            0            0\n",
      "10             0            1\n",
      "4              0            1\n",
      "81             0            0\n",
      "97             0            0\n",
      "65             0            0\n",
      "30             0            0\n",
      "33             0            0\n",
      "93             0            0\n",
      "11             1            1\n",
      "mse:  0.18518518518518517\n",
      "accuracy:  0.8148148148148148\n",
      "Execution time: 0.34784507751464844 seconds\n"
     ]
    }
   ],
   "source": [
    "start_time = time.time()\n",
    "scorecard = Scorecard()\n",
    "app_caim_1ook_ml_model, app_caim_1ook_ml_weights = scorecard.fit(app_X, app_y, categorical_columns,\n",
    "                thresholds_method='CAIM',\n",
    "                encoding_method='1_OUT_OF_K', \n",
    "                model_method='ML')\n",
    "_, caim_accuracy = scorecard.evaluate()\n",
    "end_time = time.time()\n",
    "print(f\"Execution time: {end_time - start_time} seconds\")"
   ]
  },
  {
   "cell_type": "code",
   "execution_count": null,
   "id": "3e0825ec",
   "metadata": {},
   "outputs": [],
   "source": [
    "num_nonzero_weights = scorecard.nonzero_weights.shape[0]\n",
    "print(f'Number of non-zero weights: {num_nonzero_weights}')"
   ]
  },
  {
   "cell_type": "code",
   "execution_count": null,
   "id": "b76a160f",
   "metadata": {},
   "outputs": [],
   "source": [
    "start_time = time.time()\n",
    "scorecard = Scorecard()\n",
    "app_infbins_1ook_ml_model, app_infbins_1ook_ml_weights = scorecard.fit(app_X, app_y, categorical_columns,\n",
    "                thresholds_method='INF_BINS',\n",
    "                encoding_method='1_OUT_OF_K', \n",
    "                model_method='ML',\n",
    "                use_sbc=False,\n",
    "                num_nonzero_weights=13)\n",
    "_, infbins_accuracy, _ = scorecard.evaluate()\n",
    "end_time = time.time()\n",
    "print(f\"Execution time: {end_time - start_time} seconds\")"
   ]
  },
  {
   "cell_type": "code",
   "execution_count": null,
   "id": "ee131887",
   "metadata": {},
   "outputs": [],
   "source": [
    "scorecard.plot_accuracy_vs_sparsity(caim_accuracy, num_nonzero_weights, infbins_accuracy, scorecard.nonzero_weights.shape[0])"
   ]
  },
  {
   "cell_type": "code",
   "execution_count": null,
   "id": "cd8852d9",
   "metadata": {},
   "outputs": [],
   "source": [
    "start_time = time.time()\n",
    "scorecard = Scorecard()\n",
    "app_caim_diff_ml_model, app_caim_1ook_ml_weights = scorecard.fit(app_X, app_y, categorical_columns,\n",
    "                thresholds_method='CAIM',\n",
    "                encoding_method='DIFF_CODING', \n",
    "                model_method='ML')\n",
    "scorecard.evaluate()\n",
    "end_time = time.time()\n",
    "print(f\"Execution time: {end_time - start_time} seconds\")"
   ]
  },
  {
   "cell_type": "code",
   "execution_count": null,
   "id": "1030ea99",
   "metadata": {},
   "outputs": [],
   "source": [
    "num_nonzero_weights = scorecard.nonzero_weights.shape[0]\n",
    "print(f'Number of non-zero weights: {num_nonzero_weights}')"
   ]
  },
  {
   "cell_type": "code",
   "execution_count": null,
   "id": "f902bd3a",
   "metadata": {},
   "outputs": [],
   "source": [
    "start_time = time.time()\n",
    "scorecard = Scorecard()\n",
    "app_infbins_diff_ml_model, app_caim_1ook_ml_weights = scorecard.fit(app_X, app_y, categorical_columns,\n",
    "                thresholds_method='INF_BINS',\n",
    "                encoding_method='DIFF_CODING', \n",
    "                model_method='ML')\n",
    "scorecard.evaluate()\n",
    "end_time = time.time()\n",
    "print(f\"Execution time: {end_time - start_time} seconds\")"
   ]
  },
  {
   "cell_type": "markdown",
   "id": "1bd7cac9",
   "metadata": {},
   "source": [
    "## mammographic masses\n",
    "discrimination of benign and malignant mammographic masses based on BI-RADS attributes and the patient's age.\n",
    "\n",
    "https://archive.ics.uci.edu/dataset/161/mammographic+mass"
   ]
  },
  {
   "cell_type": "code",
   "execution_count": null,
   "id": "b80fc8c5",
   "metadata": {},
   "outputs": [],
   "source": [
    "# fetch dataset \n",
    "mammo_data = fetch_ucirepo(id=161) \n",
    "  \n",
    "# data (as pandas dataframes) \n",
    "mammo_X = mammo_data.data.features \n",
    "mammo_y = mammo_data.data.targets \n",
    "\n",
    "print(\"num observations: \", mammo_y.count())\n",
    "\n",
    "# drop rows with nulls\n",
    "mammo_combined = pd.concat([mammo_X, mammo_y], axis=1)\n",
    "print(\"num rows with nulls: \", mammo_combined.isnull().sum().sum())\n",
    "mammo_combined = mammo_combined.dropna()\n",
    "mammo_combined = mammo_combined.reset_index(drop=True)\n",
    "mammo_X = mammo_combined.iloc[:, :-1]\n",
    "mammo_y = mammo_combined.iloc[:, -1]\n",
    "\n",
    "\n",
    "# metadata \n",
    "# print(mammo_data.metadata) \n",
    "  \n",
    "# variable information \n",
    "# print(mammo_data.variables) \n",
    "\n",
    "print(\"num observations: \", mammo_y.count())\n",
    "print(\"target distribution: \", mammo_y.value_counts())\n",
    "\n",
    "mammo_X.describe()"
   ]
  },
  {
   "cell_type": "code",
   "execution_count": null,
   "id": "5e4b2da4",
   "metadata": {},
   "outputs": [],
   "source": [
    "categorical_columns = mammo_X.select_dtypes(include=['object']).columns.tolist()\n",
    "print(\"Categorical columns: \", categorical_columns)\n",
    "\n",
    "# encode categorical columns\n",
    "for col in categorical_columns:\n",
    "    mammo_X[col] = mammo_X[col].astype('category').cat.codes.astype('int')\n",
    "    print(f\"Column {col} encoded as: {mammo_X[col].unique()}\")"
   ]
  },
  {
   "cell_type": "code",
   "execution_count": null,
   "id": "a12f489d",
   "metadata": {},
   "outputs": [],
   "source": [
    "start_time = time.time()\n",
    "scorecard = Scorecard()\n",
    "mammo_caim_1ook_ml_model, mammo_caim_1ook_ml_weights = scorecard.fit(mammo_X, mammo_y, categorical_columns,\n",
    "                thresholds_method='CAIM',\n",
    "                encoding_method='1_OUT_OF_K', \n",
    "                model_method='ML')\n",
    "scorecard.evaluate()\n",
    "end_time = time.time()\n",
    "print(f\"Execution time: {end_time - start_time} seconds\")"
   ]
  },
  {
   "cell_type": "code",
   "execution_count": null,
   "id": "e2abdc3a",
   "metadata": {},
   "outputs": [],
   "source": [
    "num_nonzero_weights = scorecard.nonzero_weights.shape[0]\n",
    "print(f'Number of non-zero weights: {num_nonzero_weights}')"
   ]
  },
  {
   "cell_type": "code",
   "execution_count": null,
   "id": "60623d54",
   "metadata": {},
   "outputs": [],
   "source": [
    "start_time = time.time()\n",
    "scorecard = Scorecard()\n",
    "mammo_infbins_1ook_ml_model, mammo_infbins_1ook_ml_weights = scorecard.fit(mammo_X, mammo_y, categorical_columns,\n",
    "                thresholds_method='INF_BINS',\n",
    "                encoding_method='1_OUT_OF_K', \n",
    "                model_method='ML',\n",
    "                use_sbc=False,\n",
    "                num_nonzero_weights=num_nonzero_weights)\n",
    "scorecard.evaluate()\n",
    "end_time = time.time()\n",
    "print(f\"Execution time: {end_time - start_time} seconds\")"
   ]
  },
  {
   "cell_type": "code",
   "execution_count": null,
   "id": "0df41b53",
   "metadata": {},
   "outputs": [],
   "source": [
    "start_time = time.time()\n",
    "scorecard = Scorecard()\n",
    "mammo_caim_diff_ml_model, mammo_caim_diff_ml_weights = scorecard.fit(mammo_X, mammo_y, categorical_columns,\n",
    "                thresholds_method='CAIM',\n",
    "                encoding_method='DIFF_CODING', \n",
    "                model_method='ML')\n",
    "scorecard.evaluate()\n",
    "end_time = time.time()\n",
    "print(f\"Execution time: {end_time - start_time} seconds\")"
   ]
  },
  {
   "cell_type": "code",
   "execution_count": null,
   "id": "257f7194",
   "metadata": {},
   "outputs": [],
   "source": [
    "num_nonzero_weights = scorecard.nonzero_weights.shape[0]\n",
    "print(f'Number of non-zero weights: {num_nonzero_weights}')"
   ]
  },
  {
   "cell_type": "code",
   "execution_count": null,
   "id": "7dad8367",
   "metadata": {},
   "outputs": [],
   "source": [
    "start_time = time.time()\n",
    "scorecard = Scorecard()\n",
    "mammo_infbins_diff_ml_model, mammo_infbins_diff_ml_weights = scorecard.fit(mammo_X, mammo_y, categorical_columns,\n",
    "                thresholds_method='INF_BINS',\n",
    "                encoding_method='DIFF_CODING', \n",
    "                model_method='ML',\n",
    "                use_sbc=False,\n",
    "                num_nonzero_weights=num_nonzero_weights)\n",
    "scorecard.evaluate()\n",
    "end_time = time.time()\n",
    "print(f\"Execution time: {end_time - start_time} seconds\")"
   ]
  },
  {
   "cell_type": "markdown",
   "id": "bf025cb5",
   "metadata": {},
   "source": [
    "## aesthetic evaluation (binary version)"
   ]
  },
  {
   "cell_type": "code",
   "execution_count": null,
   "id": "eb723ac1",
   "metadata": {},
   "outputs": [],
   "source": [
    "aesthetic_evaluation_data = pd.read_csv('datasets/aesthetic_evaluation_data.csv')\n",
    "aesthetic_evaluation_data = aesthetic_evaluation_data.drop(columns=['Image Filename','Author','Objective Evaluation', 'sX2L Value','sX2a Value','sX2b Value','sX2Lab Value','sEMDL Value','sEMDa Value','sEMDb Value','sEMDLab Value'])\n",
    "aesthetic_evaluation_X = aesthetic_evaluation_data.drop(columns='Subjective Evaluation')\n",
    "aesthetic_evaluation_y = aesthetic_evaluation_data['Subjective Evaluation']\n",
    "\n",
    "aesthetic_evaluation_data.head()"
   ]
  },
  {
   "cell_type": "code",
   "execution_count": null,
   "id": "49b93ebe",
   "metadata": {},
   "outputs": [],
   "source": [
    "aesthetic_evaluation_y.value_counts()"
   ]
  },
  {
   "cell_type": "code",
   "execution_count": null,
   "id": "a98672f4",
   "metadata": {},
   "outputs": [],
   "source": [
    "# create binary target from aesthetic evaluation, by joining good and excellent, and fair and poor\n",
    "aesthetic_evaluation_binary_y = aesthetic_evaluation_y.map({'Excellent': 1, 'Good': 1, 'Fair': 0, 'Poor': 0})\n",
    "\n",
    "# distribution\n",
    "aesthetic_evaluation_binary_y.value_counts()"
   ]
  },
  {
   "cell_type": "code",
   "execution_count": null,
   "id": "e8efe57d",
   "metadata": {},
   "outputs": [],
   "source": [
    "categorical_columns = aesthetic_evaluation_X.select_dtypes(include=['object']).columns.tolist()\n",
    "print(f'Categorical columns: {categorical_columns}')\n",
    "\n",
    "# encode categorical columns\n",
    "for col in categorical_columns:\n",
    "    aesthetic_evaluation_X[col] = aesthetic_evaluation_X[col].astype('category').cat.codes.astype('int')\n",
    "    print(f\"Column {col} encoded as: {aesthetic_evaluation_X[col].unique()}\")\n"
   ]
  },
  {
   "cell_type": "code",
   "execution_count": null,
   "id": "e9c10b14",
   "metadata": {},
   "outputs": [],
   "source": [
    "start_time = time.time()\n",
    "scorecard = Scorecard()\n",
    "aesthetic_binary_caim_1ook_ml_model, aesthetic_binary_caim_1ook_ml_weights = scorecard.fit(aesthetic_evaluation_X, aesthetic_evaluation_binary_y, categorical_columns,\n",
    "                thresholds_method='CAIM',\n",
    "                encoding_method='1_OUT_OF_K', \n",
    "                model_method='ML')\n",
    "scorecard.evaluate()\n",
    "end_time = time.time()\n",
    "print(f\"Execution time: {end_time - start_time} seconds\")"
   ]
  },
  {
   "cell_type": "code",
   "execution_count": null,
   "id": "013f424e",
   "metadata": {},
   "outputs": [],
   "source": [
    "num_nonzero_weights = scorecard.nonzero_weights.shape[0]\n",
    "print(f'Number of non-zero weights: {num_nonzero_weights}')"
   ]
  },
  {
   "cell_type": "code",
   "execution_count": null,
   "id": "84848ce0",
   "metadata": {},
   "outputs": [],
   "source": [
    "start_time = time.time()\n",
    "scorecard = Scorecard()\n",
    "aesthetic_binary_infbins_1ook_ml_model, aesthetic_binary_infbins_1ook_ml_weights = scorecard.fit(aesthetic_evaluation_X, aesthetic_evaluation_binary_y, categorical_columns,\n",
    "                thresholds_method='INF_BINS',\n",
    "                encoding_method='1_OUT_OF_K', \n",
    "                model_method='ML',\n",
    "                use_sbc=False,\n",
    "                num_nonzero_weights=num_nonzero_weights)\n",
    "scorecard.evaluate()\n",
    "end_time = time.time()\n",
    "print(f\"Execution time: {end_time - start_time} seconds\")"
   ]
  },
  {
   "cell_type": "code",
   "execution_count": null,
   "id": "de4b1128",
   "metadata": {},
   "outputs": [],
   "source": [
    "start_time = time.time()\n",
    "scorecard = Scorecard()\n",
    "aesthetic_binary_caim_diff_ml_model, aesthetic_binary_caim_diff_ml_weights = scorecard.fit(aesthetic_evaluation_X, aesthetic_evaluation_binary_y, categorical_columns,\n",
    "                thresholds_method='CAIM',\n",
    "                encoding_method='DIFF_CODING', \n",
    "                model_method='ML')\n",
    "scorecard.evaluate()\n",
    "end_time = time.time()\n",
    "print(f\"Execution time: {end_time - start_time} seconds\")"
   ]
  },
  {
   "cell_type": "code",
   "execution_count": null,
   "id": "412d8055",
   "metadata": {},
   "outputs": [],
   "source": [
    "num_nonzero_weights = scorecard.nonzero_weights.shape[0]\n",
    "print(f'Number of non-zero weights: {num_nonzero_weights}')"
   ]
  },
  {
   "cell_type": "code",
   "execution_count": null,
   "id": "414aff62",
   "metadata": {},
   "outputs": [],
   "source": [
    "start_time = time.time()\n",
    "scorecard = Scorecard()\n",
    "aesthetic_binary_infbins_diff_ml_model, aesthetic_binary_infbins_diff_ml_weights = scorecard.fit(aesthetic_evaluation_X, aesthetic_evaluation_binary_y, categorical_columns,\n",
    "                thresholds_method='INF_BINS',\n",
    "                encoding_method='DIFF_CODING', \n",
    "                model_method='ML')\n",
    "scorecard.evaluate()\n",
    "end_time = time.time()\n",
    "print(f\"Execution time: {end_time - start_time} seconds\")"
   ]
  },
  {
   "cell_type": "markdown",
   "id": "356c2e54",
   "metadata": {},
   "source": [
    "## adult\n",
    "predict whether annual income of an individual exceeds $50K/yr based on census data\n",
    "\n",
    "https://archive.ics.uci.edu/dataset/2/adult"
   ]
  },
  {
   "cell_type": "code",
   "execution_count": 3,
   "id": "89ec00cc",
   "metadata": {},
   "outputs": [
    {
     "name": "stdout",
     "output_type": "stream",
     "text": [
      "num rows with nulls:  22746\n",
      "num observations:  30162\n",
      "num features:  14\n",
      "target distribution:  income\n",
      "0    22654\n",
      "1     7508\n",
      "Name: count, dtype: int64\n"
     ]
    },
    {
     "data": {
      "image/png": "[encoded data removed]",
      "text/plain": [
       "<Figure size 640x480 with 1 Axes>"
      ]
     },
     "metadata": {},
     "output_type": "display_data"
    }
   ],
   "source": [
    "# fetch dataset \n",
    "adult_data = fetch_ucirepo(id=2) \n",
    "  \n",
    "# check for nulls\n",
    "\n",
    "# data (as pandas dataframes) \n",
    "adult_X = adult_data.data.features \n",
    "adult_y = adult_data.data.targets\n",
    "adult_y.loc[:,'income'] = adult_y['income'].map({'>50K': 1, '<=50K': 0})\n",
    "\n",
    "\n",
    "# substitute '?' with NaN\n",
    "adult_X = adult_X.replace('?', pd.NA)\n",
    "adult_y = adult_y.replace('?', pd.NA)\n",
    "\n",
    "# drop rows with nulls\n",
    "adult_combined = pd.concat([adult_X, adult_y], axis=1)\n",
    "print(\"num rows with nulls: \", adult_combined.isnull().sum().sum())\n",
    "adult_combined = adult_combined.dropna()\n",
    "adult_combined = adult_combined.reset_index(drop=True)\n",
    "adult_X = adult_combined.iloc[:, :-1]\n",
    "adult_y = adult_combined.iloc[:, -1]\n",
    "\n",
    "# metadata \n",
    "# print(adult_data.metadata) \n",
    "  \n",
    "# variable information \n",
    "# print(adult_data.variables) \n",
    "\n",
    "# make y be int\n",
    "adult_y = adult_y.astype(int)\n",
    "\n",
    "print(\"num observations: \", adult_y.count())\n",
    "print(\"num features: \", adult_X.shape[1])\n",
    "print(\"target distribution: \", adult_y.value_counts())\n",
    "adult_y.value_counts().plot(kind='bar')\n",
    "plt.title('target distribution')\n",
    "plt.xlabel('income')\n",
    "plt.ylabel('count')\n",
    "plt.xticks([0, 1], ['0 (<=50K)', '1 (>50K)'], rotation=0)\n",
    "plt.show()\n"
   ]
  },
  {
   "cell_type": "code",
   "execution_count": 4,
   "id": "56073a97",
   "metadata": {},
   "outputs": [
    {
     "name": "stdout",
     "output_type": "stream",
     "text": [
      "types:  age                int64\n",
      "workclass         object\n",
      "fnlwgt             int64\n",
      "education         object\n",
      "education-num      int64\n",
      "marital-status    object\n",
      "occupation        object\n",
      "relationship      object\n",
      "race              object\n",
      "sex               object\n",
      "capital-gain       int64\n",
      "capital-loss       int64\n",
      "hours-per-week     int64\n",
      "native-country    object\n",
      "dtype: object\n",
      "\n",
      "object columns:  Index(['workclass', 'education', 'marital-status', 'occupation',\n",
      "       'relationship', 'race', 'sex', 'native-country'],\n",
      "      dtype='object')\n",
      "\n",
      "number of unique values in each categorical column:  workclass          7\n",
      "education         16\n",
      "marital-status     7\n",
      "occupation        14\n",
      "relationship       6\n",
      "race               5\n",
      "sex                2\n",
      "native-country    41\n",
      "dtype: int64\n",
      "\n",
      "values of all categorical columns:  workclass         [State-gov, Self-emp-not-inc, Private, Federal...\n",
      "education         [Bachelors, HS-grad, 11th, Masters, 9th, Some-...\n",
      "marital-status    [Never-married, Married-civ-spouse, Divorced, ...\n",
      "occupation        [Adm-clerical, Exec-managerial, Handlers-clean...\n",
      "relationship      [Not-in-family, Husband, Wife, Own-child, Unma...\n",
      "race              [White, Black, Asian-Pac-Islander, Amer-Indian...\n",
      "sex                                                  [Male, Female]\n",
      "native-country    [United-States, Cuba, Jamaica, India, Mexico, ...\n",
      "dtype: object\n"
     ]
    }
   ],
   "source": [
    "# get type of each column\n",
    "print(\"types: \", adult_X.dtypes)\n",
    "\n",
    "# show categorical columns\n",
    "print(\"\\nobject columns: \", adult_X.select_dtypes(include=['object']).columns)\n",
    "categorical_columns = adult_X.select_dtypes(include=['object']).columns\n",
    "\n",
    "# show number of unique values in each categorical column\n",
    "print(\"\\nnumber of unique values in each categorical column: \", adult_X.select_dtypes(include=['object']).nunique())\n",
    "\n",
    "# show values of all categorical columns\n",
    "print(\"\\nvalues of all categorical columns: \", adult_X.select_dtypes(include=['object']).apply(lambda x: x.unique()))"
   ]
  },
  {
   "cell_type": "code",
   "execution_count": 5,
   "id": "6904bcb2",
   "metadata": {},
   "outputs": [
    {
     "name": "stdout",
     "output_type": "stream",
     "text": [
      "\n",
      "occupation column:  ['Adm-clerical' 'Exec-managerial' 'Handlers-cleaners' 'Prof-specialty'\n",
      " 'Other-service' 'Sales' 'Transport-moving' 'Farming-fishing'\n",
      " 'Machine-op-inspct' 'Tech-support' 'Craft-repair' 'Protective-serv'\n",
      " 'Armed-Forces' 'Priv-house-serv']\n"
     ]
    }
   ],
   "source": [
    "# show occupation column\n",
    "print(\"\\noccupation column: \", adult_X['occupation'].unique())"
   ]
  },
  {
   "cell_type": "code",
   "execution_count": 6,
   "id": "5f6d730b",
   "metadata": {},
   "outputs": [
    {
     "name": "stdout",
     "output_type": "stream",
     "text": [
      "categorical columns:  ['workclass', 'education', 'marital-status', 'occupation', 'relationship', 'race', 'sex', 'native-country']\n",
      "Column workclass encoded as: [5 4 2 0 1 3 6]\n",
      "Column education encoded as: [ 9 11  1 12  6 15  7  5 10  8 14  4  0 13  2  3]\n",
      "Column marital-status encoded as: [4 2 0 3 5 1 6]\n",
      "Column occupation encoded as: [ 0  3  5  9  7 11 13  4  6 12  2 10  1  8]\n",
      "Column relationship encoded as: [1 0 5 3 4 2]\n",
      "Column race encoded as: [4 2 1 0 3]\n",
      "Column sex encoded as: [1 0]\n",
      "Column native-country encoded as: [38  4 22 18 25 32 15  8  1 10 19 29 30  3  0 36  6 24 35 13 31  5  7  9\n",
      " 12 21  2 34 23 40 28 27 33 37 11 26 39 16 20 17 14]\n"
     ]
    }
   ],
   "source": [
    "categorical_columns = adult_X.select_dtypes(include=['object']).columns.tolist()\n",
    "print(\"categorical columns: \", categorical_columns)\n",
    "\n",
    "# encode categorical columns\n",
    "for col in categorical_columns:\n",
    "    adult_X[col] = adult_X[col].astype('category').cat.codes.astype('int')\n",
    "    print(f\"Column {col} encoded as: {adult_X[col].unique()}\")"
   ]
  },
  {
   "cell_type": "code",
   "execution_count": 7,
   "id": "7384ed97",
   "metadata": {},
   "outputs": [
    {
     "name": "stdout",
     "output_type": "stream",
     "text": [
      "\n",
      "discretization thresholds\n",
      "# 0  GLOBAL CAIM  6559.253885585048\n",
      "# 2  GLOBAL CAIM  6383.037253509981\n",
      "# 4  GLOBAL CAIM  6771.507791170422\n",
      "# 10  GLOBAL CAIM  7187.410120067854\n",
      "# 11  GLOBAL CAIM  6603.209044590975\n",
      "# 12  GLOBAL CAIM  6501.792701711587\n",
      "\n",
      "thresholds  {'age': [17.0, 31.0, 90.0], 'fnlwgt': [14878.0, 209280.0, 1484705.0], 'education-num': [1.0, 13.0, 16.0], 'capital-gain': [0.0, 5060.0, 99999.0], 'capital-loss': [0.0, 1816.0, 4356.0], 'hours-per-week': [1.0, 41.0, 99.0], 'workclass': ['0', '1', '2', '3', '4', '5', '6'], 'education': ['0', '1', '10', '11', '12', '13', '14', '15', '2', '3', '4', '5', '6', '7', '8', '9'], 'marital-status': ['0', '1', '2', '3', '4', '5', '6'], 'occupation': ['0', '1', '10', '11', '12', '13', '2', '3', '4', '5', '6', '7', '8', '9'], 'relationship': ['0', '1', '2', '3', '4', '5'], 'race': ['0', '1', '2', '3', '4'], 'sex': ['0', '1'], 'native-country': ['0', '1', '10', '11', '12', '13', '14', '15', '16', '17', '18', '19', '2', '20', '21', '22', '23', '24', '25', '26', '27', '28', '29', '3', '30', '31', '32', '33', '34', '35', '36', '37', '38', '39', '4', '40', '5', '6', '7', '8', '9']}\n",
      "num of bins: \n",
      "  age: 4\n",
      "  fnlwgt: 3\n",
      "  education-num: 4\n",
      "  capital-gain: 3\n",
      "  capital-loss: 4\n",
      "  hours-per-week: 3\n",
      "  workclass: 7\n",
      "  education: 16\n",
      "  marital-status: 7\n",
      "  occupation: 14\n",
      "  relationship: 7\n",
      "  race: 6\n",
      "  sex: 3\n",
      "  native-country: 41\n",
      "\n",
      "encoding\n"
     ]
    },
    {
     "ename": "TypeError",
     "evalue": "Cannot cast array data from dtype('<U1') to dtype('float64') according to the rule 'safe'",
     "output_type": "error",
     "traceback": [
      "\u001b[0;31m---------------------------------------------------------------------------\u001b[0m",
      "\u001b[0;31mTypeError\u001b[0m                                 Traceback (most recent call last)",
      "Cell \u001b[0;32mIn[7], line 4\u001b[0m\n\u001b[1;32m      1\u001b[0m start_time \u001b[38;5;241m=\u001b[39m time\u001b[38;5;241m.\u001b[39mtime()\n\u001b[1;32m      3\u001b[0m scorecard \u001b[38;5;241m=\u001b[39m Scorecard()\n\u001b[0;32m----> 4\u001b[0m adult_caim_1ook_ml_model, adult_caim_1ook_ml_weights \u001b[38;5;241m=\u001b[39m \u001b[43mscorecard\u001b[49m\u001b[38;5;241;43m.\u001b[39;49m\u001b[43mfit\u001b[49m\u001b[43m(\u001b[49m\u001b[43madult_X\u001b[49m\u001b[43m,\u001b[49m\u001b[43m \u001b[49m\u001b[43madult_y\u001b[49m\u001b[43m,\u001b[49m\u001b[43m \u001b[49m\u001b[43mcategorical_columns\u001b[49m\u001b[43m,\u001b[49m\n\u001b[1;32m      5\u001b[0m \u001b[43m                \u001b[49m\u001b[43mthresholds_method\u001b[49m\u001b[38;5;241;43m=\u001b[39;49m\u001b[38;5;124;43m'\u001b[39;49m\u001b[38;5;124;43mCAIM\u001b[39;49m\u001b[38;5;124;43m'\u001b[39;49m\u001b[43m,\u001b[49m\n\u001b[1;32m      6\u001b[0m \u001b[43m                \u001b[49m\u001b[43mencoding_method\u001b[49m\u001b[38;5;241;43m=\u001b[39;49m\u001b[38;5;124;43m'\u001b[39;49m\u001b[38;5;124;43m1_OUT_OF_K\u001b[39;49m\u001b[38;5;124;43m'\u001b[39;49m\u001b[43m,\u001b[49m\u001b[43m \u001b[49m\n\u001b[1;32m      7\u001b[0m \u001b[43m                \u001b[49m\u001b[43mmodel_method\u001b[49m\u001b[38;5;241;43m=\u001b[39;49m\u001b[38;5;124;43m'\u001b[39;49m\u001b[38;5;124;43mML\u001b[39;49m\u001b[38;5;124;43m'\u001b[39;49m\u001b[43m)\u001b[49m\n\u001b[1;32m      8\u001b[0m scorecard\u001b[38;5;241m.\u001b[39mevaluate()\n\u001b[1;32m     10\u001b[0m end_time \u001b[38;5;241m=\u001b[39m time\u001b[38;5;241m.\u001b[39mtime()\n",
      "File \u001b[0;32m~/Documents/opt-ordinal-scorecards/scorecard.py:102\u001b[0m, in \u001b[0;36mScorecard.fit\u001b[0;34m(self, X, y, categorical_columns, thresholds_method, encoding_method, model_method, use_sbc, mapping, num_nonzero_weights, show_prints)\u001b[0m\n\u001b[1;32m    100\u001b[0m \u001b[38;5;66;03m# encoding\u001b[39;00m\n\u001b[1;32m    101\u001b[0m \u001b[38;5;28mprint\u001b[39m(\u001b[38;5;124m'\u001b[39m\u001b[38;5;130;01m\\n\u001b[39;00m\u001b[38;5;124mencoding\u001b[39m\u001b[38;5;124m'\u001b[39m)\n\u001b[0;32m--> 102\u001b[0m \u001b[38;5;28;01mif\u001b[39;00m encoding_method \u001b[38;5;241m==\u001b[39m \u001b[38;5;124m\"\u001b[39m\u001b[38;5;124m1_OUT_OF_K\u001b[39m\u001b[38;5;124m\"\u001b[39m: \u001b[38;5;28mself\u001b[39m\u001b[38;5;241m.\u001b[39mX_disc \u001b[38;5;241m=\u001b[39m \u001b[38;5;28;43mself\u001b[39;49m\u001b[38;5;241;43m.\u001b[39;49m\u001b[43mdisc_1_out_of_k\u001b[49m\u001b[43m(\u001b[49m\u001b[38;5;28;43mself\u001b[39;49m\u001b[38;5;241;43m.\u001b[39;49m\u001b[43mtrain_X\u001b[49m\u001b[43m)\u001b[49m\n\u001b[1;32m    103\u001b[0m \u001b[38;5;28;01melif\u001b[39;00m encoding_method \u001b[38;5;241m==\u001b[39m \u001b[38;5;124m\"\u001b[39m\u001b[38;5;124mDIFF_CODING\u001b[39m\u001b[38;5;124m\"\u001b[39m: \u001b[38;5;28mself\u001b[39m\u001b[38;5;241m.\u001b[39mX_disc \u001b[38;5;241m=\u001b[39m \u001b[38;5;28mself\u001b[39m\u001b[38;5;241m.\u001b[39mdisc_diff_coding(\u001b[38;5;28mself\u001b[39m\u001b[38;5;241m.\u001b[39mtrain_X)\n\u001b[1;32m    105\u001b[0m \u001b[38;5;66;03m# model (get weights)\u001b[39;00m\n",
      "File \u001b[0;32m~/Documents/opt-ordinal-scorecards/scorecard.py:225\u001b[0m, in \u001b[0;36mScorecard.disc_1_out_of_k\u001b[0;34m(self, X_to_encode)\u001b[0m\n\u001b[1;32m    223\u001b[0m \u001b[38;5;66;03m# for each column in X_to_encode, create a one-hot encoding of the bins\u001b[39;00m\n\u001b[1;32m    224\u001b[0m \u001b[38;5;28;01mfor\u001b[39;00m col \u001b[38;5;129;01min\u001b[39;00m X_to_encode\u001b[38;5;241m.\u001b[39mcolumns:\n\u001b[0;32m--> 225\u001b[0m     \u001b[38;5;28mbin\u001b[39m \u001b[38;5;241m=\u001b[39m \u001b[43mnp\u001b[49m\u001b[38;5;241;43m.\u001b[39;49m\u001b[43mdigitize\u001b[49m\u001b[43m(\u001b[49m\u001b[43mX_to_encode\u001b[49m\u001b[43m[\u001b[49m\u001b[43mcol\u001b[49m\u001b[43m]\u001b[49m\u001b[43m,\u001b[49m\u001b[43m \u001b[49m\u001b[38;5;28;43mself\u001b[39;49m\u001b[38;5;241;43m.\u001b[39;49m\u001b[43mthresholds\u001b[49m\u001b[43m[\u001b[49m\u001b[43mcol\u001b[49m\u001b[43m]\u001b[49m\u001b[43m)\u001b[49m \u001b[38;5;66;03m# gets bin number of each row\u001b[39;00m\n\u001b[1;32m    226\u001b[0m     bins_df \u001b[38;5;241m=\u001b[39m pd\u001b[38;5;241m.\u001b[39mget_dummies(\u001b[38;5;28mbin\u001b[39m, prefix\u001b[38;5;241m=\u001b[39m\u001b[38;5;124mf\u001b[39m\u001b[38;5;124m'\u001b[39m\u001b[38;5;124mfeat\u001b[39m\u001b[38;5;132;01m{\u001b[39;00mcol\u001b[38;5;132;01m}\u001b[39;00m\u001b[38;5;124m-bin\u001b[39m\u001b[38;5;124m'\u001b[39m, prefix_sep\u001b[38;5;241m=\u001b[39m\u001b[38;5;124m'\u001b[39m\u001b[38;5;124m'\u001b[39m)\u001b[38;5;241m.\u001b[39mastype(\u001b[38;5;28mint\u001b[39m) \u001b[38;5;66;03m# one hot encoding\u001b[39;00m\n\u001b[1;32m    228\u001b[0m     \u001b[38;5;66;03m# add missing columns (if some bins are not present in the data)\u001b[39;00m\n",
      "File \u001b[0;32m/opt/homebrew/lib/python3.11/site-packages/numpy/lib/function_base.py:5722\u001b[0m, in \u001b[0;36mdigitize\u001b[0;34m(x, bins, right)\u001b[0m\n\u001b[1;32m   5719\u001b[0m \u001b[38;5;28;01mif\u001b[39;00m np\u001b[38;5;241m.\u001b[39missubdtype(x\u001b[38;5;241m.\u001b[39mdtype, _nx\u001b[38;5;241m.\u001b[39mcomplexfloating):\n\u001b[1;32m   5720\u001b[0m     \u001b[38;5;28;01mraise\u001b[39;00m \u001b[38;5;167;01mTypeError\u001b[39;00m(\u001b[38;5;124m\"\u001b[39m\u001b[38;5;124mx may not be complex\u001b[39m\u001b[38;5;124m\"\u001b[39m)\n\u001b[0;32m-> 5722\u001b[0m mono \u001b[38;5;241m=\u001b[39m \u001b[43m_monotonicity\u001b[49m\u001b[43m(\u001b[49m\u001b[43mbins\u001b[49m\u001b[43m)\u001b[49m\n\u001b[1;32m   5723\u001b[0m \u001b[38;5;28;01mif\u001b[39;00m mono \u001b[38;5;241m==\u001b[39m \u001b[38;5;241m0\u001b[39m:\n\u001b[1;32m   5724\u001b[0m     \u001b[38;5;28;01mraise\u001b[39;00m \u001b[38;5;167;01mValueError\u001b[39;00m(\u001b[38;5;124m\"\u001b[39m\u001b[38;5;124mbins must be monotonically increasing or decreasing\u001b[39m\u001b[38;5;124m\"\u001b[39m)\n",
      "\u001b[0;31mTypeError\u001b[0m: Cannot cast array data from dtype('<U1') to dtype('float64') according to the rule 'safe'"
     ]
    }
   ],
   "source": [
    "start_time = time.time()\n",
    "\n",
    "scorecard = Scorecard()\n",
    "adult_caim_1ook_ml_model, adult_caim_1ook_ml_weights = scorecard.fit(adult_X, adult_y, categorical_columns,\n",
    "                thresholds_method='CAIM',\n",
    "                encoding_method='1_OUT_OF_K', \n",
    "                model_method='ML')\n",
    "scorecard.evaluate()\n",
    "\n",
    "end_time = time.time()\n",
    "print(f\"Execution time: {end_time - start_time} seconds\")"
   ]
  },
  {
   "cell_type": "code",
   "execution_count": null,
   "id": "f8d8662e",
   "metadata": {},
   "outputs": [],
   "source": [
    "num_nonzero_weights = scorecard.nonzero_weights.shape[0]\n",
    "print(f'Number of non-zero weights: {num_nonzero_weights}')"
   ]
  },
  {
   "cell_type": "code",
   "execution_count": null,
   "id": "5e41154b",
   "metadata": {},
   "outputs": [],
   "source": [
    "start_time = time.time()\n",
    "\n",
    "scorecard = Scorecard()\n",
    "adult_infbins_1ook_ml_model, adult_infbins_1ook_ml_weights = scorecard.fit(adult_X, adult_y, categorical_columns,\n",
    "                thresholds_method='INF_BINS',\n",
    "                encoding_method='1_OUT_OF_K', \n",
    "                model_method='ML',\n",
    "                use_sbc=False,\n",
    "                num_nonzero_weights=num_nonzero_weights)\n",
    "scorecard.evaluate()\n",
    "\n",
    "end_time = time.time()\n",
    "print(f\"Execution time: {end_time - start_time} seconds\")"
   ]
  },
  {
   "cell_type": "code",
   "execution_count": null,
   "id": "9132e584",
   "metadata": {},
   "outputs": [],
   "source": [
    "start_time = time.time()\n",
    "scorecard = Scorecard()\n",
    "adult_caim_diff_ml_model, adult_caim_diff_ml_weights = scorecard.fit(adult_X, adult_y, categorical_columns,\n",
    "                thresholds_method='CAIM',\n",
    "                encoding_method='DIFF_CODING', \n",
    "                model_method='ML')\n",
    "scorecard.evaluate()\n",
    "end_time = time.time()\n",
    "print(f\"Execution time: {end_time - start_time} seconds\")"
   ]
  },
  {
   "cell_type": "code",
   "execution_count": null,
   "id": "69a54efd",
   "metadata": {},
   "outputs": [],
   "source": [
    "num_nonzero_weights = scorecard.nonzero_weights.shape[0]\n",
    "print(f'Number of non-zero weights: {num_nonzero_weights}')"
   ]
  },
  {
   "cell_type": "code",
   "execution_count": null,
   "id": "d5cc020d",
   "metadata": {},
   "outputs": [],
   "source": [
    "start_time = time.time()\n",
    "scorecard = Scorecard()\n",
    "adult_infbins_diff_ml_model, adult_infbins_diff_ml_weights = scorecard.fit(adult_X, adult_y, categorical_columns,\n",
    "                thresholds_method='INF_BINS',\n",
    "                encoding_method='DIFF_CODING', \n",
    "                model_method='ML',\n",
    "                use_sbc=False,\n",
    "                num_nonzero_weights=77)\n",
    "scorecard.evaluate()\n",
    "end_time = time.time() \n",
    "print(f\"Execution time: {end_time - start_time} seconds\")"
   ]
  },
  {
   "cell_type": "markdown",
   "id": "6ef5254c",
   "metadata": {},
   "source": [
    "## mushroom\n",
    "mushrooms described in terms of physical characteristics; classification: poisonous or edible\n",
    "\n",
    "https://archive.ics.uci.edu/dataset/73/mushroom"
   ]
  },
  {
   "cell_type": "code",
   "execution_count": null,
   "id": "7590f0d9",
   "metadata": {},
   "outputs": [],
   "source": [
    "# fetch dataset \n",
    "mushroom_data = fetch_ucirepo(id=73) \n",
    "\n",
    "# data (as pandas dataframes) \n",
    "mushroom_X = mushroom_data.data.features \n",
    "mushroom_y = mushroom_data.data.targets.squeeze().map({'p': 1, 'e': 0}).astype(int)\n",
    "  \n",
    "# metadata \n",
    "# print(mushroom_data.metadata) \n",
    "  \n",
    "# variable information \n",
    "# print(mushroom_data.variables) \n",
    "\n",
    "# substitute '?' with NaN and drop rows with nulls\n",
    "mushroom_combined = pd.concat([mushroom_X, mushroom_y], axis=1)\n",
    "mushroom_combined = mushroom_combined.replace('?', pd.NA)\n",
    "print(\"num rows with nulls: \", mushroom_combined.isnull().sum().sum())\n",
    "mushroom_combined = mushroom_combined.dropna().reset_index(drop=True)\n",
    "mushroom_X = mushroom_combined.iloc[:, :-1]\n",
    "mushroom_y = mushroom_combined.iloc[:, -1]\n",
    "\n",
    "print(\"num observations: \", mushroom_y.count())\n",
    "print(\"num features: \", mushroom_X.shape[1])\n",
    "print(\"target distribution: \", mushroom_y.value_counts())\n",
    "# show target distribution\n",
    "mushroom_y.value_counts().plot(kind='bar')\n",
    "plt.title('Target Distribution')\n",
    "plt.xlabel('Mushroom')\n",
    "plt.ylabel('Count')\n",
    "plt.xticks([0, 1], ['Edible', 'Poisonous'], rotation=0)\n",
    "plt.show()"
   ]
  },
  {
   "cell_type": "code",
   "execution_count": null,
   "id": "779101bd",
   "metadata": {},
   "outputs": [],
   "source": [
    "categorical_columns = mushroom_X.select_dtypes(include=['object']).columns.to_list()\n",
    "print(\"categorical columns: \", categorical_columns)\n",
    "\n",
    "# encode categorical columns\n",
    "for col in categorical_columns:\n",
    "    mushroom_X[col] = mushroom_X[col].astype('category').cat.codes.astype('int')\n",
    "    print(f\"Column {col} encoded as: {mushroom_X[col].unique()}\")"
   ]
  },
  {
   "cell_type": "code",
   "execution_count": null,
   "id": "08850345",
   "metadata": {},
   "outputs": [],
   "source": [
    "start_time = time.time()\n",
    "\n",
    "scorecard = Scorecard()\n",
    "mushroom_caim_1ook_ml_model, mushroom_caim_1ook_ml_weights = scorecard.fit(mushroom_X, mushroom_y, categorical_columns,\n",
    "                thresholds_method='CAIM',\n",
    "                encoding_method='1_OUT_OF_K', \n",
    "                model_method='ML')\n",
    "scorecard.evaluate()\n",
    "\n",
    "end_time = time.time()\n",
    "print(f\"Execution time: {end_time - start_time} seconds\")"
   ]
  },
  {
   "cell_type": "code",
   "execution_count": null,
   "id": "83e44aa1",
   "metadata": {},
   "outputs": [],
   "source": [
    "num_nonzero_weights = scorecard.nonzero_weights.shape[0]\n",
    "print(f'Number of non-zero weights: {num_nonzero_weights}')"
   ]
  },
  {
   "cell_type": "code",
   "execution_count": null,
   "id": "9141bec8",
   "metadata": {},
   "outputs": [],
   "source": [
    "start_time = time.time()\n",
    "\n",
    "scorecard = Scorecard()\n",
    "mushroom_infbins_1ook_ml_model, mushroom_infbins_1ook_ml_weights = scorecard.fit(mushroom_X, mushroom_y, categorical_columns,\n",
    "                thresholds_method='INF_BINS',\n",
    "                encoding_method='1_OUT_OF_K', \n",
    "                model_method='ML',\n",
    "                use_sbc=False,\n",
    "                num_nonzero_weights=num_nonzero_weights)\n",
    "scorecard.evaluate()\n",
    "\n",
    "end_time = time.time()\n",
    "print(f\"Execution time: {end_time - start_time} seconds\")"
   ]
  },
  {
   "cell_type": "code",
   "execution_count": null,
   "id": "6c8ab9f4",
   "metadata": {},
   "outputs": [],
   "source": [
    "start_time = time.time()\n",
    "\n",
    "scorecard = Scorecard()\n",
    "mushroom_caim_diff_ml_model, mushroom_caim_diff_ml_weights = scorecard.fit(mushroom_X, mushroom_y, categorical_columns,\n",
    "                thresholds_method='CAIM',\n",
    "                encoding_method='DIFF_CODING', \n",
    "                model_method='ML')\n",
    "scorecard.evaluate()\n",
    "\n",
    "end_time = time.time()\n",
    "print(f\"Execution time: {end_time - start_time} seconds\")"
   ]
  },
  {
   "cell_type": "code",
   "execution_count": null,
   "id": "459f893b",
   "metadata": {},
   "outputs": [],
   "source": [
    "num_nonzero_weights = scorecard.nonzero_weights.shape[0]\n",
    "print(f'Number of non-zero weights: {num_nonzero_weights}')"
   ]
  },
  {
   "cell_type": "code",
   "execution_count": null,
   "id": "14b494ed",
   "metadata": {},
   "outputs": [],
   "source": [
    "start_time = time.time()\n",
    "\n",
    "scorecard = Scorecard()\n",
    "mushroom_infbins_diff_ml_model, mushroom_infbins_diff_ml_weights = scorecard.fit(mushroom_X, mushroom_y, categorical_columns,\n",
    "                thresholds_method='INF_BINS',\n",
    "                encoding_method='DIFF_CODING', \n",
    "                model_method='ML',\n",
    "                use_sbc=False,\n",
    "                num_nonzero_weights=num_nonzero_weights)\n",
    "scorecard.evaluate()\n",
    "\n",
    "end_time = time.time()\n",
    "print(f\"Execution time: {end_time - start_time} seconds\")"
   ]
  },
  {
   "cell_type": "markdown",
   "id": "6dc93b06",
   "metadata": {},
   "source": [
    "## spambase\n",
    "classifying Email as Spam or Non-Spam\n",
    "\n",
    "https://archive.ics.uci.edu/dataset/94/spambase"
   ]
  },
  {
   "cell_type": "code",
   "execution_count": null,
   "id": "f014a12b",
   "metadata": {},
   "outputs": [],
   "source": [
    "# fetch dataset \n",
    "spambase_data = fetch_ucirepo(id=94) \n",
    "  \n",
    "# data (as pandas dataframes) \n",
    "spambase_X = spambase_data.data.features \n",
    "spambase_y = spambase_data.data.targets \n",
    "  \n",
    "# metadata \n",
    "# print(spambase_data.metadata) \n",
    "  \n",
    "# variable information \n",
    "# print(spambase_data.variables) \n",
    "\n",
    "print(\"num observations: \", spambase_y.count())\n",
    "print(\"num features: \", spambase_X.shape[1])\n",
    "print(\"target distribution: \", spambase_y.value_counts())\n",
    "# show target distribution\n",
    "spambase_y['Class'].value_counts().plot(kind='bar')\n",
    "plt.title('Target Distribution')\n",
    "plt.xlabel('Spam')\n",
    "plt.ylabel('Count')\n",
    "plt.xticks([0, 1], ['Not Spam', 'Spam'], rotation=0)\n",
    "plt.show()"
   ]
  },
  {
   "cell_type": "code",
   "execution_count": null,
   "id": "ad1d21d9",
   "metadata": {},
   "outputs": [],
   "source": [
    "categorical_columns = spambase_X.select_dtypes(include=['object']).columns.to_list()\n",
    "print(\"categorical columns: \", categorical_columns)\n",
    "\n",
    "# encode categorical columns\n",
    "for col in categorical_columns:\n",
    "    spambase_X[col] = spambase_X[col].astype('category').cat.codes.astype('int')\n",
    "    print(f\"Column {col} encoded as: {spambase_X[col].unique()}\")"
   ]
  },
  {
   "cell_type": "code",
   "execution_count": null,
   "id": "67b9a802",
   "metadata": {},
   "outputs": [],
   "source": [
    "start_time = time.time()\n",
    "\n",
    "scorecard = Scorecard()\n",
    "spambase_caim_1ook_ml_model, spambase_caim_1ook_ml_weights = scorecard.fit(spambase_X, spambase_y, categorical_columns,\n",
    "                thresholds_method='CAIM',\n",
    "                encoding_method='1_OUT_OF_K', \n",
    "                model_method='ML')\n",
    "scorecard.evaluate()\n",
    "\n",
    "end_time = time.time()\n",
    "print(f\"Execution time: {end_time - start_time} seconds\")"
   ]
  },
  {
   "cell_type": "code",
   "execution_count": null,
   "id": "f25fdc9b",
   "metadata": {},
   "outputs": [],
   "source": [
    "num_nonzero_weights = scorecard.nonzero_weights.shape[0]\n",
    "print(f'Number of non-zero weights: {num_nonzero_weights}')"
   ]
  },
  {
   "cell_type": "code",
   "execution_count": null,
   "id": "8a4cd36e",
   "metadata": {},
   "outputs": [],
   "source": [
    "start_time = time.time()\n",
    "scorecard = Scorecard()\n",
    "spambase_infbins_1ook_ml_model, spambase_infbins_1ook_ml_weights = scorecard.fit(spambase_X, spambase_y, categorical_columns,\n",
    "                thresholds_method='INF_BINS',\n",
    "                encoding_method='1_OUT_OF_K', \n",
    "                model_method='ML',\n",
    "                use_sbc=False,\n",
    "                num_nonzero_weights=num_nonzero_weights)\n",
    "scorecard.evaluate()\n",
    "end_time = time.time()\n",
    "print(f\"Execution time: {end_time - start_time} seconds\")"
   ]
  },
  {
   "cell_type": "code",
   "execution_count": null,
   "id": "c0e6550f",
   "metadata": {},
   "outputs": [],
   "source": [
    "start_time = time.time()\n",
    "scorecard = Scorecard()\n",
    "spambase_caim_diff_ml_model, spambase_caim_diff_ml_weights = scorecard.fit(spambase_X, spambase_y, categorical_columns,\n",
    "                thresholds_method='CAIM',\n",
    "                encoding_method='DIFF_CODING', \n",
    "                model_method='ML')\n",
    "scorecard.evaluate()\n",
    "end_time = time.time()\n",
    "print(f\"Execution time: {end_time - start_time} seconds\")"
   ]
  },
  {
   "cell_type": "code",
   "execution_count": null,
   "id": "718d27e1",
   "metadata": {},
   "outputs": [],
   "source": [
    "num_nonzero_weights = scorecard.nonzero_weights.shape[0]\n",
    "print(f'Number of non-zero weights: {num_nonzero_weights}')"
   ]
  },
  {
   "cell_type": "code",
   "execution_count": null,
   "id": "b4668155",
   "metadata": {},
   "outputs": [],
   "source": [
    "start_time = time.time()\n",
    "\n",
    "scorecard = Scorecard()\n",
    "spambase_infbins_diff_ml_model, spambase_infbins_diff_ml_weights = scorecard.fit(spambase_X, spambase_y, categorical_columns,\n",
    "                thresholds_method='INF_BINS',\n",
    "                encoding_method='DIFF_CODING', \n",
    "                model_method='ML',\n",
    "                use_sbc=False,\n",
    "                num_nonzero_weights=num_nonzero_weights)\n",
    "scorecard.evaluate()\n",
    "\n",
    "end_time = time.time()\n",
    "print(f\"Execution time: {end_time - start_time} seconds\")"
   ]
  },
  {
   "cell_type": "markdown",
   "id": "1a818af5",
   "metadata": {},
   "source": [
    "## telemarketing\n",
    "set of possible advertisements on Internet pages\n",
    "\n",
    "https://archive.ics.uci.edu/dataset/51/internet+advertisements"
   ]
  },
  {
   "cell_type": "code",
   "execution_count": null,
   "id": "31c32c57",
   "metadata": {},
   "outputs": [],
   "source": [
    "# load dataset from file. target is last column\n",
    "telemarketing_data = pd.read_csv('datasets/internet+advertisements/ad.data', dtype=str)\n",
    "telemarketing_X = telemarketing_data.iloc[:, :-1]\n",
    "telemarketing_y = telemarketing_data.iloc[:, -1]\n",
    "\n",
    "telemarketing_y = telemarketing_y.map({'nonad.': 0, 'ad.': 1})\n",
    "\n",
    "#  substitute '   ?' with NaN and drop rows with nulls\n",
    "telemarketing_combined = pd.concat([telemarketing_X, telemarketing_y], axis=1)\n",
    "telemarketing_combined = telemarketing_combined.replace('   ?', pd.NA)\n",
    "print(\"num rows with nulls: \", telemarketing_combined.isnull().sum().sum())\n",
    "telemarketing_combined = telemarketing_combined.dropna().reset_index(drop=True)\n",
    "telemarketing_X = telemarketing_combined.iloc[:, :-1]\n",
    "telemarketing_y = telemarketing_combined.iloc[:, -1]\n",
    "\n",
    "print(\"num observations: \", telemarketing_y.count())\n",
    "print(\"num features: \", telemarketing_X.shape[1])\n",
    "print(\"target distribution: \", telemarketing_y.value_counts())\n",
    "# show target distribution\n",
    "telemarketing_y.value_counts().plot(kind='bar')\n",
    "plt.title('Target Distribution')\n",
    "plt.xlabel('Telemarketing')\n",
    "plt.ylabel('Count')\n",
    "plt.xticks([0, 1], ['Not Ad', 'Ad'], rotation=0)\n",
    "plt.show()"
   ]
  },
  {
   "cell_type": "code",
   "execution_count": null,
   "id": "bea1d998",
   "metadata": {},
   "outputs": [],
   "source": [
    "categorical_columns = telemarketing_X.select_dtypes(include=['object']).columns.to_list()\n",
    "print(\"categorical columns: \", categorical_columns)\n",
    "\n",
    "# encode categorical columns\n",
    "for col in categorical_columns:\n",
    "    telemarketing_X[col] = telemarketing_X[col].astype('category').cat.codes.astype('int')\n",
    "    print(f\"Column {col} encoded as: {telemarketing_X[col].unique()}\")"
   ]
  },
  {
   "cell_type": "code",
   "execution_count": null,
   "id": "4a4f0307",
   "metadata": {},
   "outputs": [],
   "source": [
    "start_time = time.time()\n",
    "\n",
    "scorecard = Scorecard()\n",
    "telemarketing_caim_1ook_ml_model, telemarketing_caim_1ook_ml_weights = scorecard.fit(telemarketing_X, telemarketing_y, categorical_columns,\n",
    "                thresholds_method='CAIM',\n",
    "                encoding_method='1_OUT_OF_K', \n",
    "                model_method='ML')\n",
    "scorecard.evaluate()\n",
    "\n",
    "end_time = time.time()\n",
    "print(f\"Execution time: {end_time - start_time} seconds\")"
   ]
  },
  {
   "cell_type": "code",
   "execution_count": null,
   "id": "7f17c93b",
   "metadata": {},
   "outputs": [],
   "source": [
    "num_nonzero_weights = scorecard.nonzero_weights.shape[0]\n",
    "print(f'Number of non-zero weights: {num_nonzero_weights}')"
   ]
  },
  {
   "cell_type": "code",
   "execution_count": null,
   "id": "7c29b772",
   "metadata": {},
   "outputs": [],
   "source": [
    "start_time = time.time()\n",
    "\n",
    "scorecard = Scorecard()\n",
    "telemarketing_infbins_1ook_ml_model, telemarketing_infbins_1ook_ml_weights = scorecard.fit(telemarketing_X, telemarketing_y, categorical_columns,\n",
    "                thresholds_method='INF_BINS',\n",
    "                encoding_method='1_OUT_OF_K', \n",
    "                model_method='ML',\n",
    "                use_sbc=False,\n",
    "                num_nonzero_weights=num_nonzero_weights)\n",
    "scorecard.evaluate()\n",
    "\n",
    "end_time = time.time()\n",
    "print(f\"Execution time: {end_time - start_time} seconds\")"
   ]
  },
  {
   "cell_type": "code",
   "execution_count": null,
   "id": "bb1a38d2",
   "metadata": {},
   "outputs": [],
   "source": [
    "start_time = time.time()\n",
    "\n",
    "scorecard = Scorecard()\n",
    "telemarketing_caim_diff_ml_model, telemarketing_caim_diff_ml_weights = scorecard.fit(telemarketing_X, telemarketing_y, categorical_columns,\n",
    "                thresholds_method='CAIM',\n",
    "                encoding_method='DIFF_CODING', \n",
    "                model_method='ML')\n",
    "\n",
    "scorecard.evaluate()\n",
    "\n",
    "end_time = time.time()\n",
    "print(f\"Execution time: {end_time - start_time} seconds\")"
   ]
  },
  {
   "cell_type": "code",
   "execution_count": null,
   "id": "ac2ce2d5",
   "metadata": {},
   "outputs": [],
   "source": [
    "num_nonzero_weights = scorecard.nonzero_weights.shape[0]\n",
    "print(f'Number of non-zero weights: {num_nonzero_weights}')"
   ]
  },
  {
   "cell_type": "code",
   "execution_count": null,
   "id": "bd197482",
   "metadata": {},
   "outputs": [],
   "source": [
    "start_time = time.time()\n",
    "\n",
    "scorecard = Scorecard()\n",
    "telemarketing_infbins_diff_ml_model, telemarketing_infbins_diff_ml_weights = scorecard.fit(telemarketing_X, telemarketing_y, categorical_columns,\n",
    "                thresholds_method='INF_BINS',\n",
    "                encoding_method='DIFF_CODING', \n",
    "                model_method='ML',\n",
    "                use_sbc=False,\n",
    "                num_nonzero_weights=num_nonzero_weights)\n",
    "scorecard.evaluate()\n",
    "\n",
    "end_time = time.time()\n",
    "print(f\"Execution time: {end_time - start_time} seconds\")"
   ]
  },
  {
   "cell_type": "markdown",
   "id": "4107aa92",
   "metadata": {},
   "source": [
    "## breast cancer\n",
    "predict if a breast tumor is malignant or benign\n",
    "\n",
    "https://archive.ics.uci.edu/dataset/15/breast+cancer+wisconsin+original"
   ]
  },
  {
   "cell_type": "code",
   "execution_count": null,
   "id": "405ded32",
   "metadata": {},
   "outputs": [],
   "source": [
    "# fetch dataset \n",
    "breast_cancer_data = fetch_ucirepo(id=15) \n",
    "  \n",
    "# data (as pandas dataframes) \n",
    "breast_cancer_X = breast_cancer_data.data.features \n",
    "breast_cancer_y = breast_cancer_data.data.targets \n",
    "\n",
    "breast_cancer_y.loc[:,'Class'] = breast_cancer_y['Class'].map({4: 1, 2: 0})\n",
    "\n",
    "# drop rows with nulls\n",
    "breast_cancer_combined = pd.concat([breast_cancer_X, breast_cancer_y], axis=1)\n",
    "print(\"num rows with nulls: \", breast_cancer_combined.isnull().sum().sum())\n",
    "breast_cancer_combined = breast_cancer_combined.dropna()\n",
    "breast_cancer_combined = breast_cancer_combined.reset_index(drop=True)\n",
    "breast_cancer_X = breast_cancer_combined.iloc[:, :-1]\n",
    "breast_cancer_y = breast_cancer_combined.iloc[:, -1]\n",
    "\n",
    "# metadata \n",
    "# print(breast_cancer_data.metadata) \n",
    "  \n",
    "# variable information \n",
    "# print(breast_cancer_data.variables) \n",
    "\n",
    "print(\"num observations: \", breast_cancer_y.count())\n",
    "print(\"num features: \", breast_cancer_X.shape[1])\n",
    "print(\"target distribution: \", breast_cancer_y.value_counts())\n",
    "breast_cancer_y.value_counts().plot(kind='bar')\n",
    "plt.title('target distribution')\n",
    "plt.xlabel('income')\n",
    "plt.ylabel('count')\n",
    "plt.xticks([0, 1], ['0 (benign)', '1 (malignant)'], rotation=0)\n",
    "plt.show()\n"
   ]
  },
  {
   "cell_type": "code",
   "execution_count": null,
   "id": "5cae2282",
   "metadata": {},
   "outputs": [],
   "source": [
    "categorical_columns = breast_cancer_X.select_dtypes(include=['object']).columns.to_list()\n",
    "print(\"categorical columns: \", categorical_columns)\n",
    "\n",
    "# encode categorical columns\n",
    "for col in categorical_columns:\n",
    "    breast_cancer_X[col] = breast_cancer_X[col].astype('category').cat.codes.astype('int')\n",
    "    print(f\"Column {col} encoded as: {breast_cancer_X[col].unique()}\")"
   ]
  },
  {
   "cell_type": "code",
   "execution_count": null,
   "id": "2d08d8d7",
   "metadata": {},
   "outputs": [],
   "source": [
    "start_time = time.time()\n",
    "\n",
    "scorecard = Scorecard()\n",
    "breast_cancer_caim_1ook_ml_model, breast_cancer_caim_1ook_ml_weights = scorecard.fit(breast_cancer_X, breast_cancer_y, categorical_columns,\n",
    "                thresholds_method='CAIM',\n",
    "                encoding_method='1_OUT_OF_K', \n",
    "                model_method='ML')\n",
    "scorecard.evaluate()\n",
    "end_time = time.time()\n",
    "print(f\"Execution time: {end_time - start_time} seconds\")"
   ]
  },
  {
   "cell_type": "code",
   "execution_count": null,
   "id": "bf0efb0a",
   "metadata": {},
   "outputs": [],
   "source": [
    "num_nonzero_weights = scorecard.nonzero_weights.shape[0]\n",
    "print(f'Number of non-zero weights: {num_nonzero_weights}')"
   ]
  },
  {
   "cell_type": "code",
   "execution_count": null,
   "id": "7e2c8b11",
   "metadata": {},
   "outputs": [],
   "source": [
    "start_time = time.time()\n",
    "\n",
    "scorecard = Scorecard()\n",
    "breast_cancer_infbins_1ook_ml_model, breast_cancer_infbins_1ook_ml_weights = scorecard.fit(breast_cancer_X, breast_cancer_y, categorical_columns,\n",
    "                thresholds_method='INF_BINS',\n",
    "                encoding_method='1_OUT_OF_K', \n",
    "                model_method='ML',\n",
    "                use_sbc=False,\n",
    "                num_nonzero_weights=num_nonzero_weights)\n",
    "scorecard.evaluate()\n",
    "\n",
    "end_time = time.time()\n",
    "print(f\"Execution time: {end_time - start_time} seconds\")"
   ]
  },
  {
   "cell_type": "code",
   "execution_count": null,
   "id": "847fa9b4",
   "metadata": {},
   "outputs": [],
   "source": [
    "start_time = time.time()\n",
    "\n",
    "scorecard = Scorecard()\n",
    "breast_cancer_caim_diff_ml_model, breast_cancer_caim_diff_ml_weights = scorecard.fit(breast_cancer_X, breast_cancer_y, categorical_columns,\n",
    "                thresholds_method='CAIM',\n",
    "                encoding_method='DIFF_CODING', \n",
    "                model_method='ML')\n",
    "scorecard.evaluate()\n",
    "\n",
    "end_time = time.time()\n",
    "print(f\"Execution time: {end_time - start_time} seconds\")"
   ]
  },
  {
   "cell_type": "code",
   "execution_count": null,
   "id": "287b95d2",
   "metadata": {},
   "outputs": [],
   "source": [
    "num_nonzero_weights = scorecard.nonzero_weights.shape[0]\n",
    "print(f'Number of non-zero weights: {num_nonzero_weights}')"
   ]
  },
  {
   "cell_type": "code",
   "execution_count": null,
   "id": "0a29a3d1",
   "metadata": {},
   "outputs": [],
   "source": [
    "start_time = time.time()\n",
    "\n",
    "scorecard = Scorecard()\n",
    "breast_cancer_infbins_diff_ml_model, breast_cancer_infbins_diff_ml_weights = scorecard.fit(breast_cancer_X, breast_cancer_y, categorical_columns,\n",
    "                thresholds_method='INF_BINS',\n",
    "                encoding_method='DIFF_CODING', \n",
    "                model_method='ML',\n",
    "                use_sbc=False,\n",
    "                num_nonzero_weights=num_nonzero_weights)\n",
    "scorecard.evaluate()\n",
    "\n",
    "end_time = time.time()\n",
    "print(f\"Execution time: {end_time - start_time} seconds\")"
   ]
  },
  {
   "cell_type": "markdown",
   "id": "87b4b4da",
   "metadata": {},
   "source": [
    "## tic tac toe\n",
    "classify configurations of tic-tac-toe game as a win for \"x\" or not\n",
    "\n",
    "\n",
    "https://archive.ics.uci.edu/dataset/101/tic+tac+toe+endgame"
   ]
  },
  {
   "cell_type": "code",
   "execution_count": null,
   "id": "74898cab",
   "metadata": {},
   "outputs": [],
   "source": [
    "# fetch dataset \n",
    "tic_tac_toe_data = fetch_ucirepo(id=101) \n",
    "  \n",
    "# data (as pandas dataframes) \n",
    "tic_tac_toe_X = tic_tac_toe_data.data.features \n",
    "tic_tac_toe_y = tic_tac_toe_data.data.targets \n",
    "\n",
    "tic_tac_toe_y.loc[:,'class'] = tic_tac_toe_y['class'].map({'positive': 1, 'negative': 0})\n",
    "tic_tac_toe_y = tic_tac_toe_y.astype(int)\n",
    "\n",
    "# metadata \n",
    "# print(tic_tac_toe_data.metadata) \n",
    "  \n",
    "# variable information \n",
    "# print(tic_tac_toe_data.variables) \n",
    "\n",
    "print(\"num observations: \", tic_tac_toe_y.count())\n",
    "print(\"num features: \", tic_tac_toe_X.shape[1])\n",
    "print(\"target distribution: \", tic_tac_toe_y.value_counts())\n",
    "tic_tac_toe_y.value_counts().plot(kind='bar')\n",
    "plt.title('target distribution')\n",
    "plt.xlabel('tic tac toe')\n",
    "plt.ylabel('count')\n",
    "plt.xticks([0, 1], ['negative', 'positive'], rotation=0)\n",
    "plt.show()\n"
   ]
  },
  {
   "cell_type": "code",
   "execution_count": null,
   "id": "561de9fb",
   "metadata": {},
   "outputs": [],
   "source": [
    "categorical_columns = tic_tac_toe_X.select_dtypes(include=['object']).columns.to_list()\n",
    "print(\"categorical columns: \", categorical_columns)\n",
    "\n",
    "# encode categorical columns\n",
    "for col in categorical_columns:\n",
    "    tic_tac_toe_X.loc[:, col] = tic_tac_toe_X[col].astype('category').cat.codes.astype('int')\n",
    "    print(f\"Column {col} encoded as: {tic_tac_toe_X[col].unique()}\")"
   ]
  },
  {
   "cell_type": "code",
   "execution_count": null,
   "id": "fb8ca732",
   "metadata": {},
   "outputs": [],
   "source": [
    "start_time = time.time()\n",
    "\n",
    "scorecard = Scorecard()\n",
    "tic_tac_toe_caim_1ook_ml_model, tic_tac_toe_caim_1ook_ml_weights = scorecard.fit(tic_tac_toe_X, tic_tac_toe_y, categorical_columns,\n",
    "                thresholds_method='CAIM',\n",
    "                encoding_method='1_OUT_OF_K', \n",
    "                model_method='ML')\n",
    "scorecard.evaluate()\n",
    "\n",
    "end_time = time.time()\n",
    "print(f\"Execution time: {end_time - start_time} seconds\")"
   ]
  },
  {
   "cell_type": "code",
   "execution_count": null,
   "id": "8f3233d8",
   "metadata": {},
   "outputs": [],
   "source": [
    "num_nonzero_weights = scorecard.nonzero_weights.shape[0]\n",
    "print(f'Number of non-zero weights: {num_nonzero_weights}')"
   ]
  },
  {
   "cell_type": "code",
   "execution_count": null,
   "id": "d46bcee1",
   "metadata": {},
   "outputs": [],
   "source": [
    "start_time = time.time()\n",
    "\n",
    "scorecard = Scorecard()\n",
    "tic_tac_toe_infbins_1ook_ml_model, tic_tac_toe_infbins_1ook_ml_weights = scorecard.fit(tic_tac_toe_X, tic_tac_toe_y, categorical_columns,\n",
    "                thresholds_method='INF_BINS',\n",
    "                encoding_method='1_OUT_OF_K', \n",
    "                model_method='ML',\n",
    "                use_sbc=False,\n",
    "                num_nonzero_weights=num_nonzero_weights)\n",
    "scorecard.evaluate()\n",
    "end_time = time.time()\n",
    "print(f\"Execution time: {end_time - start_time} seconds\")"
   ]
  },
  {
   "cell_type": "code",
   "execution_count": null,
   "id": "e2eb1429",
   "metadata": {},
   "outputs": [],
   "source": [
    "start_time = time.time()\n",
    "\n",
    "scorecard = Scorecard()\n",
    "tic_tac_toe_caim_diff_ml_model, tic_tac_toe_caim_diff_ml_weights = scorecard.fit(tic_tac_toe_X, tic_tac_toe_y, categorical_columns,\n",
    "                thresholds_method='CAIM',\n",
    "                encoding_method='DIFF_CODING', \n",
    "                model_method='ML')\n",
    "scorecard.evaluate()\n",
    "\n",
    "end_time = time.time()\n",
    "print(f\"Execution time: {end_time - start_time} seconds\")"
   ]
  },
  {
   "cell_type": "code",
   "execution_count": null,
   "id": "e5565211",
   "metadata": {},
   "outputs": [],
   "source": [
    "num_nonzero_weights = scorecard.nonzero_weights.shape[0]\n",
    "print(f'Number of non-zero weights: {num_nonzero_weights}')"
   ]
  },
  {
   "cell_type": "code",
   "execution_count": null,
   "id": "1abb6f59",
   "metadata": {},
   "outputs": [],
   "source": [
    "start_time = time.time()\n",
    "\n",
    "scorecard = Scorecard()\n",
    "tic_tac_toe_infbins_diff_ml_model, tic_tac_toe_infbins_diff_ml_weights = scorecard.fit(tic_tac_toe_X, tic_tac_toe_y, categorical_columns,\n",
    "                thresholds_method='INF_BINS',\n",
    "                encoding_method='DIFF_CODING', \n",
    "                model_method='ML',\n",
    "                use_sbc=False,\n",
    "                num_nonzero_weights=num_nonzero_weights)\n",
    "scorecard.evaluate()\n",
    "\n",
    "end_time = time.time()\n",
    "print(f\"Execution time: {end_time - start_time} seconds\")"
   ]
  },
  {
   "cell_type": "markdown",
   "id": "e6059abe",
   "metadata": {},
   "source": [
    "## sleep apnea\n",
    "collection of clinical polysomnography (PSG) recordings. Beginning with PSG recordings from from ~19K patients evaluated at the Massachusetts General Hospital.\n",
    "\n",
    "https://bdsp.io/content/hsp/2.0/#files"
   ]
  },
  {
   "cell_type": "code",
   "execution_count": null,
   "id": "04d729e3",
   "metadata": {},
   "outputs": [],
   "source": [
    "sleep_apnea_data = pd.read_csv('../datasets/bdsp_psg_master_20231101.csv')\n",
    "\n",
    "sleep_apnea_X = sleep_apnea_data.iloc[:, :-1]\n",
    "sleep_apnea_y = sleep_apnea_data.iloc[:, -1]\n",
    "\n",
    "print(\"num observations: \", sleep_apnea_y.count())\n",
    "print(\"num features: \", sleep_apnea_X.shape[1])"
   ]
  }
 ],
 "metadata": {
  "kernelspec": {
   "display_name": "Python 3",
   "language": "python",
   "name": "python3"
  },
  "language_info": {
   "codemirror_mode": {
    "name": "ipython",
    "version": 3
   },
   "file_extension": ".py",
   "mimetype": "text/x-python",
   "name": "python",
   "nbconvert_exporter": "python",
   "pygments_lexer": "ipython3",
   "version": "3.11.12"
  }
 },
 "nbformat": 4,
 "nbformat_minor": 5
}
